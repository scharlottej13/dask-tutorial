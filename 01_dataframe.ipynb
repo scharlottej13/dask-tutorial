{
 "cells": [
  {
   "cell_type": "markdown",
   "metadata": {
    "tags": []
   },
   "source": [
    "<img src=\"http://dask.readthedocs.io/en/latest/_images/dask_horizontal.svg\"\n",
    "     align=\"right\"\n",
    "     width=\"30%\"\n",
    "     alt=\"Dask logo\\\">\n",
    "\n",
    "\n",
    "# Dask DataFrame - parallelized pandas\n",
    "\n",
    "Looks and feels like the pandas API, but for parallel and distributed workflows. \n",
    "\n",
    "At its core, the `dask.dataframe` module implements a \"blocked parallel\" `DataFrame` object that looks and feels like the pandas API, but for parallel and distributed workflows. One Dask `DataFrame` is comprised of many in-memory pandas `DataFrame`s separated along the index. One operation on a Dask `DataFrame` triggers many pandas operations on the constituent pandas `DataFrame`s in a way that is mindful of potential parallelism and memory constraints.\n"
   ]
  },
  {
   "cell_type": "markdown",
   "metadata": {
    "tags": []
   },
   "source": [
    "<img src=\"https://docs.dask.org/en/stable/_images/dask-dataframe.svg\"\n",
    "     align=\"right\"\n",
    "     width=\"30%\"\n",
    "     alt=\"Dask DataFrame is composed of pandas DataFrames\"/>\n",
    "\n",
    "**Related Documentation**\n",
    "\n",
    "* [DataFrame documentation](https://docs.dask.org/en/latest/dataframe.html)\n",
    "* [DataFrame screencast](https://youtu.be/AT2XtFehFSQ)\n",
    "* [DataFrame API](https://docs.dask.org/en/latest/dataframe-api.html)\n",
    "* [DataFrame examples](https://examples.dask.org/dataframe.html)\n",
    "* [pandas documentation](https://pandas.pydata.org/pandas-docs/stable/)\n",
    "\n",
    "## When to use `dask.dataframe`\n",
    "\n",
    "pandas is great for tabular datasets that fit in memory. A general rule of thumb for pandas is:\n",
    "\n",
    "> \"Have 5 to 10 times as much RAM as the size of your dataset\"\n",
    ">\n",
    "> ~ Wes McKinney (2017) in [10 things I hate about pandas](https://wesmckinney.com/blog/apache-arrow-pandas-internals/)\n",
    "\n",
    "Here \"size of dataset\" means dataset size on _the disk_.\n",
    "\n",
    "Dask becomes useful when the datasets exceed the above rule.\n",
    "\n",
    "In this notebook, you will be working with the New York City Airline data. This dataset is only ~200MB, so that you can download it in a reasonable time, but `dask.dataframe` will scale to  datasets **much** larger than memory.\n",
    "\n"
   ]
  },
  {
   "cell_type": "markdown",
   "metadata": {},
   "source": [
    "## Create datasets"
   ]
  },
  {
   "cell_type": "markdown",
   "metadata": {},
   "source": [
    "Create the datasets you will be using in this notebook:"
   ]
  },
  {
   "cell_type": "code",
   "execution_count": 1,
   "metadata": {
    "execution": {
     "iopub.execute_input": "2023-06-28T00:06:45.732463Z",
     "iopub.status.busy": "2023-06-28T00:06:45.731821Z",
     "iopub.status.idle": "2023-06-28T00:06:46.446684Z",
     "shell.execute_reply": "2023-06-28T00:06:46.445609Z"
    }
   },
   "outputs": [],
   "source": [
    "%run prep.py -d flights"
   ]
  },
  {
   "cell_type": "markdown",
   "metadata": {},
   "source": [
    "## Set up your local cluster"
   ]
  },
  {
   "cell_type": "markdown",
   "metadata": {},
   "source": [
    "Create a local Dask cluster and connect it to the client. Don't worry about this bit of code for now, you will learn more in the Distributed notebook."
   ]
  },
  {
   "cell_type": "code",
   "execution_count": 2,
   "metadata": {
    "execution": {
     "iopub.execute_input": "2023-06-28T00:06:46.451548Z",
     "iopub.status.busy": "2023-06-28T00:06:46.451003Z",
     "iopub.status.idle": "2023-06-28T00:06:49.340217Z",
     "shell.execute_reply": "2023-06-28T00:06:49.338110Z"
    }
   },
   "outputs": [
    {
     "data": {
      "text/html": [
       "<div>\n",
       "    <div style=\"width: 24px; height: 24px; background-color: #e1e1e1; border: 3px solid #9D9D9D; border-radius: 5px; position: absolute;\"> </div>\n",
       "    <div style=\"margin-left: 48px;\">\n",
       "        <h3 style=\"margin-bottom: 0px;\">Client</h3>\n",
       "        <p style=\"color: #9D9D9D; margin-bottom: 0px;\">Client-abf705a3-1547-11ee-9060-6045bd0552f5</p>\n",
       "        <table style=\"width: 100%; text-align: left;\">\n",
       "\n",
       "        <tr>\n",
       "        \n",
       "            <td style=\"text-align: left;\"><strong>Connection method:</strong> Cluster object</td>\n",
       "            <td style=\"text-align: left;\"><strong>Cluster type:</strong> distributed.LocalCluster</td>\n",
       "        \n",
       "        </tr>\n",
       "\n",
       "        \n",
       "            <tr>\n",
       "                <td style=\"text-align: left;\">\n",
       "                    <strong>Dashboard: </strong> <a href=\"http://127.0.0.1:8787/status\" target=\"_blank\">http://127.0.0.1:8787/status</a>\n",
       "                </td>\n",
       "                <td style=\"text-align: left;\"></td>\n",
       "            </tr>\n",
       "        \n",
       "\n",
       "        </table>\n",
       "\n",
       "        \n",
       "            <button style=\"margin-bottom: 12px;\" data-commandlinker-command=\"dask:populate-and-launch-layout\" data-commandlinker-args='{\"url\": \"http://127.0.0.1:8787/status\" }'>\n",
       "                Launch dashboard in JupyterLab\n",
       "            </button>\n",
       "        \n",
       "\n",
       "        \n",
       "            <details>\n",
       "            <summary style=\"margin-bottom: 20px;\"><h3 style=\"display: inline;\">Cluster Info</h3></summary>\n",
       "            <div class=\"jp-RenderedHTMLCommon jp-RenderedHTML jp-mod-trusted jp-OutputArea-output\">\n",
       "    <div style=\"width: 24px; height: 24px; background-color: #e1e1e1; border: 3px solid #9D9D9D; border-radius: 5px; position: absolute;\">\n",
       "    </div>\n",
       "    <div style=\"margin-left: 48px;\">\n",
       "        <h3 style=\"margin-bottom: 0px; margin-top: 0px;\">LocalCluster</h3>\n",
       "        <p style=\"color: #9D9D9D; margin-bottom: 0px;\">74eaef91</p>\n",
       "        <table style=\"width: 100%; text-align: left;\">\n",
       "            <tr>\n",
       "                <td style=\"text-align: left;\">\n",
       "                    <strong>Dashboard:</strong> <a href=\"http://127.0.0.1:8787/status\" target=\"_blank\">http://127.0.0.1:8787/status</a>\n",
       "                </td>\n",
       "                <td style=\"text-align: left;\">\n",
       "                    <strong>Workers:</strong> 4\n",
       "                </td>\n",
       "            </tr>\n",
       "            <tr>\n",
       "                <td style=\"text-align: left;\">\n",
       "                    <strong>Total threads:</strong> 4\n",
       "                </td>\n",
       "                <td style=\"text-align: left;\">\n",
       "                    <strong>Total memory:</strong> 6.77 GiB\n",
       "                </td>\n",
       "            </tr>\n",
       "            \n",
       "            <tr>\n",
       "    <td style=\"text-align: left;\"><strong>Status:</strong> running</td>\n",
       "    <td style=\"text-align: left;\"><strong>Using processes:</strong> True</td>\n",
       "</tr>\n",
       "\n",
       "            \n",
       "        </table>\n",
       "\n",
       "        <details>\n",
       "            <summary style=\"margin-bottom: 20px;\">\n",
       "                <h3 style=\"display: inline;\">Scheduler Info</h3>\n",
       "            </summary>\n",
       "\n",
       "            <div style=\"\">\n",
       "    <div>\n",
       "        <div style=\"width: 24px; height: 24px; background-color: #FFF7E5; border: 3px solid #FF6132; border-radius: 5px; position: absolute;\"> </div>\n",
       "        <div style=\"margin-left: 48px;\">\n",
       "            <h3 style=\"margin-bottom: 0px;\">Scheduler</h3>\n",
       "            <p style=\"color: #9D9D9D; margin-bottom: 0px;\">Scheduler-09e7dc16-cba3-47ea-ac58-19a9a7ff2a56</p>\n",
       "            <table style=\"width: 100%; text-align: left;\">\n",
       "                <tr>\n",
       "                    <td style=\"text-align: left;\">\n",
       "                        <strong>Comm:</strong> tcp://127.0.0.1:45975\n",
       "                    </td>\n",
       "                    <td style=\"text-align: left;\">\n",
       "                        <strong>Workers:</strong> 4\n",
       "                    </td>\n",
       "                </tr>\n",
       "                <tr>\n",
       "                    <td style=\"text-align: left;\">\n",
       "                        <strong>Dashboard:</strong> <a href=\"http://127.0.0.1:8787/status\" target=\"_blank\">http://127.0.0.1:8787/status</a>\n",
       "                    </td>\n",
       "                    <td style=\"text-align: left;\">\n",
       "                        <strong>Total threads:</strong> 4\n",
       "                    </td>\n",
       "                </tr>\n",
       "                <tr>\n",
       "                    <td style=\"text-align: left;\">\n",
       "                        <strong>Started:</strong> Just now\n",
       "                    </td>\n",
       "                    <td style=\"text-align: left;\">\n",
       "                        <strong>Total memory:</strong> 6.77 GiB\n",
       "                    </td>\n",
       "                </tr>\n",
       "            </table>\n",
       "        </div>\n",
       "    </div>\n",
       "\n",
       "    <details style=\"margin-left: 48px;\">\n",
       "        <summary style=\"margin-bottom: 20px;\">\n",
       "            <h3 style=\"display: inline;\">Workers</h3>\n",
       "        </summary>\n",
       "\n",
       "        \n",
       "        <div style=\"margin-bottom: 20px;\">\n",
       "            <div style=\"width: 24px; height: 24px; background-color: #DBF5FF; border: 3px solid #4CC9FF; border-radius: 5px; position: absolute;\"> </div>\n",
       "            <div style=\"margin-left: 48px;\">\n",
       "            <details>\n",
       "                <summary>\n",
       "                    <h4 style=\"margin-bottom: 0px; display: inline;\">Worker: 0</h4>\n",
       "                </summary>\n",
       "                <table style=\"width: 100%; text-align: left;\">\n",
       "                    <tr>\n",
       "                        <td style=\"text-align: left;\">\n",
       "                            <strong>Comm: </strong> tcp://127.0.0.1:42675\n",
       "                        </td>\n",
       "                        <td style=\"text-align: left;\">\n",
       "                            <strong>Total threads: </strong> 1\n",
       "                        </td>\n",
       "                    </tr>\n",
       "                    <tr>\n",
       "                        <td style=\"text-align: left;\">\n",
       "                            <strong>Dashboard: </strong> <a href=\"http://127.0.0.1:32975/status\" target=\"_blank\">http://127.0.0.1:32975/status</a>\n",
       "                        </td>\n",
       "                        <td style=\"text-align: left;\">\n",
       "                            <strong>Memory: </strong> 1.69 GiB\n",
       "                        </td>\n",
       "                    </tr>\n",
       "                    <tr>\n",
       "                        <td style=\"text-align: left;\">\n",
       "                            <strong>Nanny: </strong> tcp://127.0.0.1:41239\n",
       "                        </td>\n",
       "                        <td style=\"text-align: left;\"></td>\n",
       "                    </tr>\n",
       "                    <tr>\n",
       "                        <td colspan=\"2\" style=\"text-align: left;\">\n",
       "                            <strong>Local directory: </strong> /tmp/dask-worker-space/worker-ajiouic5\n",
       "                        </td>\n",
       "                    </tr>\n",
       "\n",
       "                    \n",
       "\n",
       "                    \n",
       "\n",
       "                </table>\n",
       "            </details>\n",
       "            </div>\n",
       "        </div>\n",
       "        \n",
       "        <div style=\"margin-bottom: 20px;\">\n",
       "            <div style=\"width: 24px; height: 24px; background-color: #DBF5FF; border: 3px solid #4CC9FF; border-radius: 5px; position: absolute;\"> </div>\n",
       "            <div style=\"margin-left: 48px;\">\n",
       "            <details>\n",
       "                <summary>\n",
       "                    <h4 style=\"margin-bottom: 0px; display: inline;\">Worker: 1</h4>\n",
       "                </summary>\n",
       "                <table style=\"width: 100%; text-align: left;\">\n",
       "                    <tr>\n",
       "                        <td style=\"text-align: left;\">\n",
       "                            <strong>Comm: </strong> tcp://127.0.0.1:38665\n",
       "                        </td>\n",
       "                        <td style=\"text-align: left;\">\n",
       "                            <strong>Total threads: </strong> 1\n",
       "                        </td>\n",
       "                    </tr>\n",
       "                    <tr>\n",
       "                        <td style=\"text-align: left;\">\n",
       "                            <strong>Dashboard: </strong> <a href=\"http://127.0.0.1:42387/status\" target=\"_blank\">http://127.0.0.1:42387/status</a>\n",
       "                        </td>\n",
       "                        <td style=\"text-align: left;\">\n",
       "                            <strong>Memory: </strong> 1.69 GiB\n",
       "                        </td>\n",
       "                    </tr>\n",
       "                    <tr>\n",
       "                        <td style=\"text-align: left;\">\n",
       "                            <strong>Nanny: </strong> tcp://127.0.0.1:38701\n",
       "                        </td>\n",
       "                        <td style=\"text-align: left;\"></td>\n",
       "                    </tr>\n",
       "                    <tr>\n",
       "                        <td colspan=\"2\" style=\"text-align: left;\">\n",
       "                            <strong>Local directory: </strong> /tmp/dask-worker-space/worker-ottpxyer\n",
       "                        </td>\n",
       "                    </tr>\n",
       "\n",
       "                    \n",
       "\n",
       "                    \n",
       "\n",
       "                </table>\n",
       "            </details>\n",
       "            </div>\n",
       "        </div>\n",
       "        \n",
       "        <div style=\"margin-bottom: 20px;\">\n",
       "            <div style=\"width: 24px; height: 24px; background-color: #DBF5FF; border: 3px solid #4CC9FF; border-radius: 5px; position: absolute;\"> </div>\n",
       "            <div style=\"margin-left: 48px;\">\n",
       "            <details>\n",
       "                <summary>\n",
       "                    <h4 style=\"margin-bottom: 0px; display: inline;\">Worker: 2</h4>\n",
       "                </summary>\n",
       "                <table style=\"width: 100%; text-align: left;\">\n",
       "                    <tr>\n",
       "                        <td style=\"text-align: left;\">\n",
       "                            <strong>Comm: </strong> tcp://127.0.0.1:39863\n",
       "                        </td>\n",
       "                        <td style=\"text-align: left;\">\n",
       "                            <strong>Total threads: </strong> 1\n",
       "                        </td>\n",
       "                    </tr>\n",
       "                    <tr>\n",
       "                        <td style=\"text-align: left;\">\n",
       "                            <strong>Dashboard: </strong> <a href=\"http://127.0.0.1:37353/status\" target=\"_blank\">http://127.0.0.1:37353/status</a>\n",
       "                        </td>\n",
       "                        <td style=\"text-align: left;\">\n",
       "                            <strong>Memory: </strong> 1.69 GiB\n",
       "                        </td>\n",
       "                    </tr>\n",
       "                    <tr>\n",
       "                        <td style=\"text-align: left;\">\n",
       "                            <strong>Nanny: </strong> tcp://127.0.0.1:34491\n",
       "                        </td>\n",
       "                        <td style=\"text-align: left;\"></td>\n",
       "                    </tr>\n",
       "                    <tr>\n",
       "                        <td colspan=\"2\" style=\"text-align: left;\">\n",
       "                            <strong>Local directory: </strong> /tmp/dask-worker-space/worker-ww7c7hb8\n",
       "                        </td>\n",
       "                    </tr>\n",
       "\n",
       "                    \n",
       "\n",
       "                    \n",
       "\n",
       "                </table>\n",
       "            </details>\n",
       "            </div>\n",
       "        </div>\n",
       "        \n",
       "        <div style=\"margin-bottom: 20px;\">\n",
       "            <div style=\"width: 24px; height: 24px; background-color: #DBF5FF; border: 3px solid #4CC9FF; border-radius: 5px; position: absolute;\"> </div>\n",
       "            <div style=\"margin-left: 48px;\">\n",
       "            <details>\n",
       "                <summary>\n",
       "                    <h4 style=\"margin-bottom: 0px; display: inline;\">Worker: 3</h4>\n",
       "                </summary>\n",
       "                <table style=\"width: 100%; text-align: left;\">\n",
       "                    <tr>\n",
       "                        <td style=\"text-align: left;\">\n",
       "                            <strong>Comm: </strong> tcp://127.0.0.1:44873\n",
       "                        </td>\n",
       "                        <td style=\"text-align: left;\">\n",
       "                            <strong>Total threads: </strong> 1\n",
       "                        </td>\n",
       "                    </tr>\n",
       "                    <tr>\n",
       "                        <td style=\"text-align: left;\">\n",
       "                            <strong>Dashboard: </strong> <a href=\"http://127.0.0.1:34905/status\" target=\"_blank\">http://127.0.0.1:34905/status</a>\n",
       "                        </td>\n",
       "                        <td style=\"text-align: left;\">\n",
       "                            <strong>Memory: </strong> 1.69 GiB\n",
       "                        </td>\n",
       "                    </tr>\n",
       "                    <tr>\n",
       "                        <td style=\"text-align: left;\">\n",
       "                            <strong>Nanny: </strong> tcp://127.0.0.1:36401\n",
       "                        </td>\n",
       "                        <td style=\"text-align: left;\"></td>\n",
       "                    </tr>\n",
       "                    <tr>\n",
       "                        <td colspan=\"2\" style=\"text-align: left;\">\n",
       "                            <strong>Local directory: </strong> /tmp/dask-worker-space/worker-5nq876m6\n",
       "                        </td>\n",
       "                    </tr>\n",
       "\n",
       "                    \n",
       "\n",
       "                    \n",
       "\n",
       "                </table>\n",
       "            </details>\n",
       "            </div>\n",
       "        </div>\n",
       "        \n",
       "\n",
       "    </details>\n",
       "</div>\n",
       "\n",
       "        </details>\n",
       "    </div>\n",
       "</div>\n",
       "            </details>\n",
       "        \n",
       "\n",
       "    </div>\n",
       "</div>"
      ],
      "text/plain": [
       "<Client: 'tcp://127.0.0.1:45975' processes=4 threads=4, memory=6.77 GiB>"
      ]
     },
     "execution_count": 2,
     "metadata": {},
     "output_type": "execute_result"
    }
   ],
   "source": [
    "from dask.distributed import Client\n",
    "\n",
    "client = Client(n_workers=4)\n",
    "client"
   ]
  },
  {
   "cell_type": "markdown",
   "metadata": {},
   "source": [
    "### Dask Diagnostic Dashboard\n",
    "\n",
    "Dask Distributed provides a useful Dashboard to visualize the state of your cluster and computations.\n",
    "\n",
    "If you're on **JupyterLab or Binder**, you can use the [Dask JupyterLab extension](https://github.com/dask/dask-labextension) (which should be already installed in your environment) to open the dashboard plots:\n",
    "* Click on the Dask logo in the left sidebar\n",
    "* Click on the magnifying glass icon, which will automatically connect to the active dashboard (if that doesn't work, you can type/paste the dashboard link http://127.0.0.1:8787 in the field)\n",
    "* Click on **\"Task Stream\"**, **\"Progress Bar\"**, and **\"Worker Memory\"**, which will open these plots in new tabs\n",
    "* Re-organize the tabs to suit your workflow!\n",
    "\n",
    "Alternatively, click on the dashboard link displayed in the Client details above: http://127.0.0.1:8787/status. It will open a new browser tab with the Dashboard."
   ]
  },
  {
   "cell_type": "markdown",
   "metadata": {
    "tags": []
   },
   "source": [
    "## Reading and working with datasets\n",
    "\n",
    "Let's read an extract of flights in the USA across several years. This data is specific to flights out of the three airports in the New York City area."
   ]
  },
  {
   "cell_type": "code",
   "execution_count": 3,
   "metadata": {
    "execution": {
     "iopub.execute_input": "2023-06-28T00:06:49.344632Z",
     "iopub.status.busy": "2023-06-28T00:06:49.344338Z",
     "iopub.status.idle": "2023-06-28T00:06:49.349571Z",
     "shell.execute_reply": "2023-06-28T00:06:49.348300Z"
    }
   },
   "outputs": [],
   "source": [
    "import os\n",
    "import dask"
   ]
  },
  {
   "cell_type": "markdown",
   "metadata": {},
   "source": [
    "By convention, we import the module `dask.dataframe` as `dd`, and call the corresponding `DataFrame` object `ddf`.\n",
    "\n",
    "**Note**: The term \"Dask DataFrame\" is slightly overloaded. Depending on the context, it can refer to the module or the DataFrame object. To avoid confusion, throughout this notebook:\n",
    "- `dask.dataframe` (note the all lowercase) refers to the API, and\n",
    "- `DataFrame` (note the CamelCase) refers to the object.\n",
    "\n",
    "The following filename includes a glob pattern `*`, so all files in the path matching that pattern will be read into the same `DataFrame`."
   ]
  },
  {
   "cell_type": "code",
   "execution_count": 4,
   "metadata": {
    "execution": {
     "iopub.execute_input": "2023-06-28T00:06:49.353463Z",
     "iopub.status.busy": "2023-06-28T00:06:49.353163Z",
     "iopub.status.idle": "2023-06-28T00:06:49.551063Z",
     "shell.execute_reply": "2023-06-28T00:06:49.550203Z"
    }
   },
   "outputs": [
    {
     "data": {
      "text/html": [
       "<div><strong>Dask DataFrame Structure:</strong></div>\n",
       "<div>\n",
       "<style scoped>\n",
       "    .dataframe tbody tr th:only-of-type {\n",
       "        vertical-align: middle;\n",
       "    }\n",
       "\n",
       "    .dataframe tbody tr th {\n",
       "        vertical-align: top;\n",
       "    }\n",
       "\n",
       "    .dataframe thead th {\n",
       "        text-align: right;\n",
       "    }\n",
       "</style>\n",
       "<table border=\"1\" class=\"dataframe\">\n",
       "  <thead>\n",
       "    <tr style=\"text-align: right;\">\n",
       "      <th></th>\n",
       "      <th>Date</th>\n",
       "      <th>DayOfWeek</th>\n",
       "      <th>DepTime</th>\n",
       "      <th>CRSDepTime</th>\n",
       "      <th>ArrTime</th>\n",
       "      <th>CRSArrTime</th>\n",
       "      <th>UniqueCarrier</th>\n",
       "      <th>FlightNum</th>\n",
       "      <th>TailNum</th>\n",
       "      <th>ActualElapsedTime</th>\n",
       "      <th>CRSElapsedTime</th>\n",
       "      <th>AirTime</th>\n",
       "      <th>ArrDelay</th>\n",
       "      <th>DepDelay</th>\n",
       "      <th>Origin</th>\n",
       "      <th>Dest</th>\n",
       "      <th>Distance</th>\n",
       "      <th>TaxiIn</th>\n",
       "      <th>TaxiOut</th>\n",
       "      <th>Cancelled</th>\n",
       "      <th>Diverted</th>\n",
       "    </tr>\n",
       "    <tr>\n",
       "      <th>npartitions=10</th>\n",
       "      <th></th>\n",
       "      <th></th>\n",
       "      <th></th>\n",
       "      <th></th>\n",
       "      <th></th>\n",
       "      <th></th>\n",
       "      <th></th>\n",
       "      <th></th>\n",
       "      <th></th>\n",
       "      <th></th>\n",
       "      <th></th>\n",
       "      <th></th>\n",
       "      <th></th>\n",
       "      <th></th>\n",
       "      <th></th>\n",
       "      <th></th>\n",
       "      <th></th>\n",
       "      <th></th>\n",
       "      <th></th>\n",
       "      <th></th>\n",
       "      <th></th>\n",
       "    </tr>\n",
       "  </thead>\n",
       "  <tbody>\n",
       "    <tr>\n",
       "      <th></th>\n",
       "      <td>datetime64[ns]</td>\n",
       "      <td>int64</td>\n",
       "      <td>float64</td>\n",
       "      <td>int64</td>\n",
       "      <td>float64</td>\n",
       "      <td>int64</td>\n",
       "      <td>object</td>\n",
       "      <td>int64</td>\n",
       "      <td>float64</td>\n",
       "      <td>float64</td>\n",
       "      <td>int64</td>\n",
       "      <td>float64</td>\n",
       "      <td>float64</td>\n",
       "      <td>float64</td>\n",
       "      <td>object</td>\n",
       "      <td>object</td>\n",
       "      <td>float64</td>\n",
       "      <td>float64</td>\n",
       "      <td>float64</td>\n",
       "      <td>int64</td>\n",
       "      <td>int64</td>\n",
       "    </tr>\n",
       "    <tr>\n",
       "      <th></th>\n",
       "      <td>...</td>\n",
       "      <td>...</td>\n",
       "      <td>...</td>\n",
       "      <td>...</td>\n",
       "      <td>...</td>\n",
       "      <td>...</td>\n",
       "      <td>...</td>\n",
       "      <td>...</td>\n",
       "      <td>...</td>\n",
       "      <td>...</td>\n",
       "      <td>...</td>\n",
       "      <td>...</td>\n",
       "      <td>...</td>\n",
       "      <td>...</td>\n",
       "      <td>...</td>\n",
       "      <td>...</td>\n",
       "      <td>...</td>\n",
       "      <td>...</td>\n",
       "      <td>...</td>\n",
       "      <td>...</td>\n",
       "      <td>...</td>\n",
       "    </tr>\n",
       "    <tr>\n",
       "      <th>...</th>\n",
       "      <td>...</td>\n",
       "      <td>...</td>\n",
       "      <td>...</td>\n",
       "      <td>...</td>\n",
       "      <td>...</td>\n",
       "      <td>...</td>\n",
       "      <td>...</td>\n",
       "      <td>...</td>\n",
       "      <td>...</td>\n",
       "      <td>...</td>\n",
       "      <td>...</td>\n",
       "      <td>...</td>\n",
       "      <td>...</td>\n",
       "      <td>...</td>\n",
       "      <td>...</td>\n",
       "      <td>...</td>\n",
       "      <td>...</td>\n",
       "      <td>...</td>\n",
       "      <td>...</td>\n",
       "      <td>...</td>\n",
       "      <td>...</td>\n",
       "    </tr>\n",
       "    <tr>\n",
       "      <th></th>\n",
       "      <td>...</td>\n",
       "      <td>...</td>\n",
       "      <td>...</td>\n",
       "      <td>...</td>\n",
       "      <td>...</td>\n",
       "      <td>...</td>\n",
       "      <td>...</td>\n",
       "      <td>...</td>\n",
       "      <td>...</td>\n",
       "      <td>...</td>\n",
       "      <td>...</td>\n",
       "      <td>...</td>\n",
       "      <td>...</td>\n",
       "      <td>...</td>\n",
       "      <td>...</td>\n",
       "      <td>...</td>\n",
       "      <td>...</td>\n",
       "      <td>...</td>\n",
       "      <td>...</td>\n",
       "      <td>...</td>\n",
       "      <td>...</td>\n",
       "    </tr>\n",
       "    <tr>\n",
       "      <th></th>\n",
       "      <td>...</td>\n",
       "      <td>...</td>\n",
       "      <td>...</td>\n",
       "      <td>...</td>\n",
       "      <td>...</td>\n",
       "      <td>...</td>\n",
       "      <td>...</td>\n",
       "      <td>...</td>\n",
       "      <td>...</td>\n",
       "      <td>...</td>\n",
       "      <td>...</td>\n",
       "      <td>...</td>\n",
       "      <td>...</td>\n",
       "      <td>...</td>\n",
       "      <td>...</td>\n",
       "      <td>...</td>\n",
       "      <td>...</td>\n",
       "      <td>...</td>\n",
       "      <td>...</td>\n",
       "      <td>...</td>\n",
       "      <td>...</td>\n",
       "    </tr>\n",
       "  </tbody>\n",
       "</table>\n",
       "</div>\n",
       "<div>Dask Name: read-csv, 1 graph layer</div>"
      ],
      "text/plain": [
       "Dask DataFrame Structure:\n",
       "                          Date DayOfWeek  DepTime CRSDepTime  ArrTime CRSArrTime UniqueCarrier FlightNum  TailNum ActualElapsedTime CRSElapsedTime  AirTime ArrDelay DepDelay  Origin    Dest Distance   TaxiIn  TaxiOut Cancelled Diverted\n",
       "npartitions=10                                                                                                                                                                                                                             \n",
       "                datetime64[ns]     int64  float64      int64  float64      int64        object     int64  float64           float64          int64  float64  float64  float64  object  object  float64  float64  float64     int64    int64\n",
       "                           ...       ...      ...        ...      ...        ...           ...       ...      ...               ...            ...      ...      ...      ...     ...     ...      ...      ...      ...       ...      ...\n",
       "...                        ...       ...      ...        ...      ...        ...           ...       ...      ...               ...            ...      ...      ...      ...     ...     ...      ...      ...      ...       ...      ...\n",
       "                           ...       ...      ...        ...      ...        ...           ...       ...      ...               ...            ...      ...      ...      ...     ...     ...      ...      ...      ...       ...      ...\n",
       "                           ...       ...      ...        ...      ...        ...           ...       ...      ...               ...            ...      ...      ...      ...     ...     ...      ...      ...      ...       ...      ...\n",
       "Dask Name: read-csv, 1 graph layer"
      ]
     },
     "execution_count": 4,
     "metadata": {},
     "output_type": "execute_result"
    }
   ],
   "source": [
    "import dask.dataframe as dd\n",
    "\n",
    "ddf = dd.read_csv(\n",
    "    os.path.join(\"data\", \"nycflights\", \"*.csv\"), parse_dates={\"Date\": [0, 1, 2]}\n",
    ")\n",
    "ddf"
   ]
  },
  {
   "cell_type": "markdown",
   "metadata": {},
   "source": [
    "Dask has not loaded the data yet, it has:\n",
    "- investigated the input path and found that there are ten matching files\n",
    "- intelligently created a set of jobs for each chunk -- one per original CSV file in this case"
   ]
  },
  {
   "cell_type": "markdown",
   "metadata": {},
   "source": [
    "Notice that the representation of the `DataFrame` object contains no data - Dask has just done enough to read the start of the first file, and infer the column names and dtypes."
   ]
  },
  {
   "cell_type": "markdown",
   "metadata": {},
   "source": [
    "### Lazy Evaluation\n",
    "\n",
    "Most Dask Collections, including Dask `DataFrame` are evaluated lazily, which means Dask constructs the logic (called task graph) of your computation immediately but \"evaluates\" them  only when necessary. You can view this task graph using `.visualize()`.\n",
    "\n",
    "You will learn more about this in the Delayed notebook, but for now, note that we need to call `.compute()` to trigger actual computations."
   ]
  },
  {
   "cell_type": "code",
   "execution_count": 5,
   "metadata": {
    "execution": {
     "iopub.execute_input": "2023-06-28T00:06:49.555074Z",
     "iopub.status.busy": "2023-06-28T00:06:49.554670Z",
     "iopub.status.idle": "2023-06-28T00:06:49.764364Z",
     "shell.execute_reply": "2023-06-28T00:06:49.763419Z"
    }
   },
   "outputs": [
    {
     "data": {
      "image/png": "[encoded data removed]",
      "text/plain": [
       "<IPython.core.display.Image object>"
      ]
     },
     "execution_count": 5,
     "metadata": {},
     "output_type": "execute_result"
    }
   ],
   "source": [
    "ddf.visualize()"
   ]
  },
  {
   "cell_type": "markdown",
   "metadata": {},
   "source": [
    "Some functions like `len` and `head` also trigger a computation. Specifically, calling `len` will:\n",
    "- load actual data, (that is, load each file into a pandas DataFrame)\n",
    "- then apply the corresponding functions to each pandas DataFrame (also known as a partition)\n",
    "- combine the subtotals to give you the final grand total"
   ]
  },
  {
   "cell_type": "code",
   "execution_count": 6,
   "metadata": {
    "execution": {
     "iopub.execute_input": "2023-06-28T00:06:49.768944Z",
     "iopub.status.busy": "2023-06-28T00:06:49.768123Z",
     "iopub.status.idle": "2023-06-28T00:06:50.820597Z",
     "shell.execute_reply": "2023-06-28T00:06:50.819826Z"
    }
   },
   "outputs": [
    {
     "data": {
      "text/plain": [
       "9990"
      ]
     },
     "execution_count": 6,
     "metadata": {},
     "output_type": "execute_result"
    }
   ],
   "source": [
    "# load and count number of rows\n",
    "len(ddf)"
   ]
  },
  {
   "cell_type": "markdown",
   "metadata": {},
   "source": [
    "You can view the start and end of the data as you would in pandas:"
   ]
  },
  {
   "cell_type": "code",
   "execution_count": 7,
   "metadata": {
    "execution": {
     "iopub.execute_input": "2023-06-28T00:06:50.824809Z",
     "iopub.status.busy": "2023-06-28T00:06:50.824518Z",
     "iopub.status.idle": "2023-06-28T00:06:50.908074Z",
     "shell.execute_reply": "2023-06-28T00:06:50.907033Z"
    }
   },
   "outputs": [
    {
     "data": {
      "text/html": [
       "<div>\n",
       "<style scoped>\n",
       "    .dataframe tbody tr th:only-of-type {\n",
       "        vertical-align: middle;\n",
       "    }\n",
       "\n",
       "    .dataframe tbody tr th {\n",
       "        vertical-align: top;\n",
       "    }\n",
       "\n",
       "    .dataframe thead th {\n",
       "        text-align: right;\n",
       "    }\n",
       "</style>\n",
       "<table border=\"1\" class=\"dataframe\">\n",
       "  <thead>\n",
       "    <tr style=\"text-align: right;\">\n",
       "      <th></th>\n",
       "      <th>Date</th>\n",
       "      <th>DayOfWeek</th>\n",
       "      <th>DepTime</th>\n",
       "      <th>CRSDepTime</th>\n",
       "      <th>ArrTime</th>\n",
       "      <th>CRSArrTime</th>\n",
       "      <th>UniqueCarrier</th>\n",
       "      <th>FlightNum</th>\n",
       "      <th>TailNum</th>\n",
       "      <th>ActualElapsedTime</th>\n",
       "      <th>...</th>\n",
       "      <th>AirTime</th>\n",
       "      <th>ArrDelay</th>\n",
       "      <th>DepDelay</th>\n",
       "      <th>Origin</th>\n",
       "      <th>Dest</th>\n",
       "      <th>Distance</th>\n",
       "      <th>TaxiIn</th>\n",
       "      <th>TaxiOut</th>\n",
       "      <th>Cancelled</th>\n",
       "      <th>Diverted</th>\n",
       "    </tr>\n",
       "  </thead>\n",
       "  <tbody>\n",
       "    <tr>\n",
       "      <th>0</th>\n",
       "      <td>1990-01-01</td>\n",
       "      <td>1</td>\n",
       "      <td>1621.0</td>\n",
       "      <td>1540</td>\n",
       "      <td>1747.0</td>\n",
       "      <td>1701</td>\n",
       "      <td>US</td>\n",
       "      <td>33</td>\n",
       "      <td>NaN</td>\n",
       "      <td>86.0</td>\n",
       "      <td>...</td>\n",
       "      <td>NaN</td>\n",
       "      <td>46.0</td>\n",
       "      <td>41.0</td>\n",
       "      <td>EWR</td>\n",
       "      <td>PIT</td>\n",
       "      <td>319.0</td>\n",
       "      <td>NaN</td>\n",
       "      <td>NaN</td>\n",
       "      <td>0</td>\n",
       "      <td>0</td>\n",
       "    </tr>\n",
       "    <tr>\n",
       "      <th>1</th>\n",
       "      <td>1990-01-02</td>\n",
       "      <td>2</td>\n",
       "      <td>1547.0</td>\n",
       "      <td>1540</td>\n",
       "      <td>1700.0</td>\n",
       "      <td>1701</td>\n",
       "      <td>US</td>\n",
       "      <td>33</td>\n",
       "      <td>NaN</td>\n",
       "      <td>73.0</td>\n",
       "      <td>...</td>\n",
       "      <td>NaN</td>\n",
       "      <td>-1.0</td>\n",
       "      <td>7.0</td>\n",
       "      <td>EWR</td>\n",
       "      <td>PIT</td>\n",
       "      <td>319.0</td>\n",
       "      <td>NaN</td>\n",
       "      <td>NaN</td>\n",
       "      <td>0</td>\n",
       "      <td>0</td>\n",
       "    </tr>\n",
       "    <tr>\n",
       "      <th>2</th>\n",
       "      <td>1990-01-03</td>\n",
       "      <td>3</td>\n",
       "      <td>1546.0</td>\n",
       "      <td>1540</td>\n",
       "      <td>1710.0</td>\n",
       "      <td>1701</td>\n",
       "      <td>US</td>\n",
       "      <td>33</td>\n",
       "      <td>NaN</td>\n",
       "      <td>84.0</td>\n",
       "      <td>...</td>\n",
       "      <td>NaN</td>\n",
       "      <td>9.0</td>\n",
       "      <td>6.0</td>\n",
       "      <td>EWR</td>\n",
       "      <td>PIT</td>\n",
       "      <td>319.0</td>\n",
       "      <td>NaN</td>\n",
       "      <td>NaN</td>\n",
       "      <td>0</td>\n",
       "      <td>0</td>\n",
       "    </tr>\n",
       "    <tr>\n",
       "      <th>3</th>\n",
       "      <td>1990-01-04</td>\n",
       "      <td>4</td>\n",
       "      <td>1542.0</td>\n",
       "      <td>1540</td>\n",
       "      <td>1710.0</td>\n",
       "      <td>1701</td>\n",
       "      <td>US</td>\n",
       "      <td>33</td>\n",
       "      <td>NaN</td>\n",
       "      <td>88.0</td>\n",
       "      <td>...</td>\n",
       "      <td>NaN</td>\n",
       "      <td>9.0</td>\n",
       "      <td>2.0</td>\n",
       "      <td>EWR</td>\n",
       "      <td>PIT</td>\n",
       "      <td>319.0</td>\n",
       "      <td>NaN</td>\n",
       "      <td>NaN</td>\n",
       "      <td>0</td>\n",
       "      <td>0</td>\n",
       "    </tr>\n",
       "    <tr>\n",
       "      <th>4</th>\n",
       "      <td>1990-01-05</td>\n",
       "      <td>5</td>\n",
       "      <td>1549.0</td>\n",
       "      <td>1540</td>\n",
       "      <td>1706.0</td>\n",
       "      <td>1701</td>\n",
       "      <td>US</td>\n",
       "      <td>33</td>\n",
       "      <td>NaN</td>\n",
       "      <td>77.0</td>\n",
       "      <td>...</td>\n",
       "      <td>NaN</td>\n",
       "      <td>5.0</td>\n",
       "      <td>9.0</td>\n",
       "      <td>EWR</td>\n",
       "      <td>PIT</td>\n",
       "      <td>319.0</td>\n",
       "      <td>NaN</td>\n",
       "      <td>NaN</td>\n",
       "      <td>0</td>\n",
       "      <td>0</td>\n",
       "    </tr>\n",
       "  </tbody>\n",
       "</table>\n",
       "<p>5 rows × 21 columns</p>\n",
       "</div>"
      ],
      "text/plain": [
       "        Date  DayOfWeek  DepTime  CRSDepTime  ArrTime  CRSArrTime  \\\n",
       "0 1990-01-01          1   1621.0        1540   1747.0        1701   \n",
       "1 1990-01-02          2   1547.0        1540   1700.0        1701   \n",
       "2 1990-01-03          3   1546.0        1540   1710.0        1701   \n",
       "3 1990-01-04          4   1542.0        1540   1710.0        1701   \n",
       "4 1990-01-05          5   1549.0        1540   1706.0        1701   \n",
       "\n",
       "  UniqueCarrier  FlightNum  TailNum  ActualElapsedTime  ...  AirTime  \\\n",
       "0            US         33      NaN               86.0  ...      NaN   \n",
       "1            US         33      NaN               73.0  ...      NaN   \n",
       "2            US         33      NaN               84.0  ...      NaN   \n",
       "3            US         33      NaN               88.0  ...      NaN   \n",
       "4            US         33      NaN               77.0  ...      NaN   \n",
       "\n",
       "   ArrDelay  DepDelay  Origin Dest Distance  TaxiIn  TaxiOut  Cancelled  \\\n",
       "0      46.0      41.0     EWR  PIT    319.0     NaN      NaN          0   \n",
       "1      -1.0       7.0     EWR  PIT    319.0     NaN      NaN          0   \n",
       "2       9.0       6.0     EWR  PIT    319.0     NaN      NaN          0   \n",
       "3       9.0       2.0     EWR  PIT    319.0     NaN      NaN          0   \n",
       "4       5.0       9.0     EWR  PIT    319.0     NaN      NaN          0   \n",
       "\n",
       "   Diverted  \n",
       "0         0  \n",
       "1         0  \n",
       "2         0  \n",
       "3         0  \n",
       "4         0  \n",
       "\n",
       "[5 rows x 21 columns]"
      ]
     },
     "execution_count": 7,
     "metadata": {},
     "output_type": "execute_result"
    }
   ],
   "source": [
    "ddf.head()"
   ]
  },
  {
   "cell_type": "markdown",
   "metadata": {
    "tags": [
     "raises-exception"
    ]
   },
   "source": [
    "```python\n",
    "ddf.tail()\n",
    "\n",
    "# ValueError: Mismatched dtypes found in `pd.read_csv`/`pd.read_table`.\n",
    "\n",
    "# +----------------+---------+----------+\n",
    "# | Column         | Found   | Expected |\n",
    "# +----------------+---------+----------+\n",
    "# | CRSElapsedTime | float64 | int64    |\n",
    "# | TailNum        | object  | float64  |\n",
    "# +----------------+---------+----------+\n",
    "\n",
    "# The following columns also raised exceptions on conversion:\n",
    "\n",
    "# - TailNum\n",
    "#   ValueError(\"could not convert string to float: 'N54711'\")\n",
    "\n",
    "# Usually this is due to dask's dtype inference failing, and\n",
    "# *may* be fixed by specifying dtypes manually by adding:\n",
    "\n",
    "# dtype={'CRSElapsedTime': 'float64',\n",
    "#        'TailNum': 'object'}\n",
    "\n",
    "# to the call to `read_csv`/`read_table`.\n",
    "\n",
    "```"
   ]
  },
  {
   "cell_type": "markdown",
   "metadata": {},
   "source": [
    "Unlike `pandas.read_csv` which reads in the entire file before inferring datatypes, `dask.dataframe.read_csv` only reads in a sample from the beginning of the file (or first file if using a glob). These inferred datatypes are then enforced when reading all partitions.\n",
    "\n",
    "In this case, the datatypes inferred in the sample are incorrect. The first `n` rows have no value for `CRSElapsedTime` (which pandas infers as a `float`), and later on turn out to be strings (`object` dtype). Note that Dask gives an informative error message about the mismatch. When this happens you have a few options:\n",
    "\n",
    "- Specify dtypes directly using the `dtype` keyword. This is the recommended solution, as it's the least error prone (better to be explicit than implicit) and also the most performant.\n",
    "- Increase the size of the `sample` keyword (in bytes)\n",
    "- Use `assume_missing` to make `dask` assume that columns inferred to be `int` (which don't allow missing values) are actually `floats` (which do allow missing values). In our particular case this doesn't apply.\n",
    "\n",
    "In our case we'll use the first option and directly specify the `dtypes` of the offending columns. "
   ]
  },
  {
   "cell_type": "code",
   "execution_count": 8,
   "metadata": {
    "execution": {
     "iopub.execute_input": "2023-06-28T00:06:50.912796Z",
     "iopub.status.busy": "2023-06-28T00:06:50.912073Z",
     "iopub.status.idle": "2023-06-28T00:06:50.929341Z",
     "shell.execute_reply": "2023-06-28T00:06:50.928465Z"
    }
   },
   "outputs": [],
   "source": [
    "ddf = dd.read_csv(\n",
    "    os.path.join(\"data\", \"nycflights\", \"*.csv\"),\n",
    "    parse_dates={\"Date\": [0, 1, 2]},\n",
    "    dtype={\"TailNum\": str, \"CRSElapsedTime\": float, \"Cancelled\": bool},\n",
    ")"
   ]
  },
  {
   "cell_type": "code",
   "execution_count": 9,
   "metadata": {
    "execution": {
     "iopub.execute_input": "2023-06-28T00:06:50.934065Z",
     "iopub.status.busy": "2023-06-28T00:06:50.933278Z",
     "iopub.status.idle": "2023-06-28T00:06:51.003638Z",
     "shell.execute_reply": "2023-06-28T00:06:51.002541Z"
    }
   },
   "outputs": [
    {
     "data": {
      "text/html": [
       "<div>\n",
       "<style scoped>\n",
       "    .dataframe tbody tr th:only-of-type {\n",
       "        vertical-align: middle;\n",
       "    }\n",
       "\n",
       "    .dataframe tbody tr th {\n",
       "        vertical-align: top;\n",
       "    }\n",
       "\n",
       "    .dataframe thead th {\n",
       "        text-align: right;\n",
       "    }\n",
       "</style>\n",
       "<table border=\"1\" class=\"dataframe\">\n",
       "  <thead>\n",
       "    <tr style=\"text-align: right;\">\n",
       "      <th></th>\n",
       "      <th>Date</th>\n",
       "      <th>DayOfWeek</th>\n",
       "      <th>DepTime</th>\n",
       "      <th>CRSDepTime</th>\n",
       "      <th>ArrTime</th>\n",
       "      <th>CRSArrTime</th>\n",
       "      <th>UniqueCarrier</th>\n",
       "      <th>FlightNum</th>\n",
       "      <th>TailNum</th>\n",
       "      <th>ActualElapsedTime</th>\n",
       "      <th>...</th>\n",
       "      <th>AirTime</th>\n",
       "      <th>ArrDelay</th>\n",
       "      <th>DepDelay</th>\n",
       "      <th>Origin</th>\n",
       "      <th>Dest</th>\n",
       "      <th>Distance</th>\n",
       "      <th>TaxiIn</th>\n",
       "      <th>TaxiOut</th>\n",
       "      <th>Cancelled</th>\n",
       "      <th>Diverted</th>\n",
       "    </tr>\n",
       "  </thead>\n",
       "  <tbody>\n",
       "    <tr>\n",
       "      <th>994</th>\n",
       "      <td>1999-01-25</td>\n",
       "      <td>1</td>\n",
       "      <td>632.0</td>\n",
       "      <td>635</td>\n",
       "      <td>803.0</td>\n",
       "      <td>817</td>\n",
       "      <td>CO</td>\n",
       "      <td>437</td>\n",
       "      <td>N27213</td>\n",
       "      <td>91.0</td>\n",
       "      <td>...</td>\n",
       "      <td>68.0</td>\n",
       "      <td>-14.0</td>\n",
       "      <td>-3.0</td>\n",
       "      <td>EWR</td>\n",
       "      <td>RDU</td>\n",
       "      <td>416.0</td>\n",
       "      <td>4.0</td>\n",
       "      <td>19.0</td>\n",
       "      <td>False</td>\n",
       "      <td>0</td>\n",
       "    </tr>\n",
       "    <tr>\n",
       "      <th>995</th>\n",
       "      <td>1999-01-26</td>\n",
       "      <td>2</td>\n",
       "      <td>632.0</td>\n",
       "      <td>635</td>\n",
       "      <td>751.0</td>\n",
       "      <td>817</td>\n",
       "      <td>CO</td>\n",
       "      <td>437</td>\n",
       "      <td>N16217</td>\n",
       "      <td>79.0</td>\n",
       "      <td>...</td>\n",
       "      <td>62.0</td>\n",
       "      <td>-26.0</td>\n",
       "      <td>-3.0</td>\n",
       "      <td>EWR</td>\n",
       "      <td>RDU</td>\n",
       "      <td>416.0</td>\n",
       "      <td>3.0</td>\n",
       "      <td>14.0</td>\n",
       "      <td>False</td>\n",
       "      <td>0</td>\n",
       "    </tr>\n",
       "    <tr>\n",
       "      <th>996</th>\n",
       "      <td>1999-01-27</td>\n",
       "      <td>3</td>\n",
       "      <td>631.0</td>\n",
       "      <td>635</td>\n",
       "      <td>756.0</td>\n",
       "      <td>817</td>\n",
       "      <td>CO</td>\n",
       "      <td>437</td>\n",
       "      <td>N12216</td>\n",
       "      <td>85.0</td>\n",
       "      <td>...</td>\n",
       "      <td>66.0</td>\n",
       "      <td>-21.0</td>\n",
       "      <td>-4.0</td>\n",
       "      <td>EWR</td>\n",
       "      <td>RDU</td>\n",
       "      <td>416.0</td>\n",
       "      <td>4.0</td>\n",
       "      <td>15.0</td>\n",
       "      <td>False</td>\n",
       "      <td>0</td>\n",
       "    </tr>\n",
       "    <tr>\n",
       "      <th>997</th>\n",
       "      <td>1999-01-28</td>\n",
       "      <td>4</td>\n",
       "      <td>629.0</td>\n",
       "      <td>635</td>\n",
       "      <td>803.0</td>\n",
       "      <td>817</td>\n",
       "      <td>CO</td>\n",
       "      <td>437</td>\n",
       "      <td>N26210</td>\n",
       "      <td>94.0</td>\n",
       "      <td>...</td>\n",
       "      <td>69.0</td>\n",
       "      <td>-14.0</td>\n",
       "      <td>-6.0</td>\n",
       "      <td>EWR</td>\n",
       "      <td>RDU</td>\n",
       "      <td>416.0</td>\n",
       "      <td>5.0</td>\n",
       "      <td>20.0</td>\n",
       "      <td>False</td>\n",
       "      <td>0</td>\n",
       "    </tr>\n",
       "    <tr>\n",
       "      <th>998</th>\n",
       "      <td>1999-01-29</td>\n",
       "      <td>5</td>\n",
       "      <td>632.0</td>\n",
       "      <td>635</td>\n",
       "      <td>802.0</td>\n",
       "      <td>817</td>\n",
       "      <td>CO</td>\n",
       "      <td>437</td>\n",
       "      <td>N12225</td>\n",
       "      <td>90.0</td>\n",
       "      <td>...</td>\n",
       "      <td>67.0</td>\n",
       "      <td>-15.0</td>\n",
       "      <td>-3.0</td>\n",
       "      <td>EWR</td>\n",
       "      <td>RDU</td>\n",
       "      <td>416.0</td>\n",
       "      <td>5.0</td>\n",
       "      <td>18.0</td>\n",
       "      <td>False</td>\n",
       "      <td>0</td>\n",
       "    </tr>\n",
       "  </tbody>\n",
       "</table>\n",
       "<p>5 rows × 21 columns</p>\n",
       "</div>"
      ],
      "text/plain": [
       "          Date  DayOfWeek  DepTime  CRSDepTime  ArrTime  CRSArrTime  \\\n",
       "994 1999-01-25          1    632.0         635    803.0         817   \n",
       "995 1999-01-26          2    632.0         635    751.0         817   \n",
       "996 1999-01-27          3    631.0         635    756.0         817   \n",
       "997 1999-01-28          4    629.0         635    803.0         817   \n",
       "998 1999-01-29          5    632.0         635    802.0         817   \n",
       "\n",
       "    UniqueCarrier  FlightNum TailNum  ActualElapsedTime  ...  AirTime  \\\n",
       "994            CO        437  N27213               91.0  ...     68.0   \n",
       "995            CO        437  N16217               79.0  ...     62.0   \n",
       "996            CO        437  N12216               85.0  ...     66.0   \n",
       "997            CO        437  N26210               94.0  ...     69.0   \n",
       "998            CO        437  N12225               90.0  ...     67.0   \n",
       "\n",
       "     ArrDelay  DepDelay  Origin Dest Distance  TaxiIn  TaxiOut  Cancelled  \\\n",
       "994     -14.0      -3.0     EWR  RDU    416.0     4.0     19.0      False   \n",
       "995     -26.0      -3.0     EWR  RDU    416.0     3.0     14.0      False   \n",
       "996     -21.0      -4.0     EWR  RDU    416.0     4.0     15.0      False   \n",
       "997     -14.0      -6.0     EWR  RDU    416.0     5.0     20.0      False   \n",
       "998     -15.0      -3.0     EWR  RDU    416.0     5.0     18.0      False   \n",
       "\n",
       "     Diverted  \n",
       "994         0  \n",
       "995         0  \n",
       "996         0  \n",
       "997         0  \n",
       "998         0  \n",
       "\n",
       "[5 rows x 21 columns]"
      ]
     },
     "execution_count": 9,
     "metadata": {},
     "output_type": "execute_result"
    }
   ],
   "source": [
    "ddf.tail()  # now works"
   ]
  },
  {
   "cell_type": "markdown",
   "metadata": {},
   "source": [
    "### Reading from remote storage\n",
    "\n",
    "If you're thinking about distributed computing, your data is probably stored remotely on services (like Amazon's S3 or Google's cloud storage) and is in a friendlier format (like Parquet). Dask can read data in various formats directly from these remote locations **lazily** and **in parallel**.\n",
    "\n",
    "Here's how you can read the NYC taxi cab data from Amazon S3:\n",
    "\n",
    "```python\n",
    "ddf = dd.read_parquet(\n",
    "    \"s3://nyc-tlc/trip data/yellow_tripdata_2012-*.parquet\",\n",
    ")\n",
    "```\n",
    "\n",
    "You can also leverage Parquet-specific optimizations like column selection and metadata handling, learn more in [the Dask documentation on working with Parquet files](https://docs.dask.org/en/stable/dataframe-parquet.html)."
   ]
  },
  {
   "cell_type": "markdown",
   "metadata": {
    "tags": []
   },
   "source": [
    "## Computations with `dask.dataframe`\n",
    "\n",
    "Let's compute the maximum of the flight delay.\n",
    "\n",
    "With just pandas, we would loop over each file to find the individual maximums, then find the final maximum over all the individual maximums.\n",
    "\n",
    "```python\n",
    "import pandas as pd\n",
    "\n",
    "files = os.listdir(os.path.join('data', 'nycflights'))\n",
    "\n",
    "maxes = []\n",
    "\n",
    "for file in files:\n",
    "    df = pd.read_csv(os.path.join('data', 'nycflights', file))\n",
    "    maxes.append(df.DepDelay.max())\n",
    "    \n",
    "final_max = max(maxes)\n",
    "```\n",
    "\n",
    "`dask.dataframe` lets us write pandas-like code, that operates on larger-than-memory datasets in parallel."
   ]
  },
  {
   "cell_type": "code",
   "execution_count": 10,
   "metadata": {
    "execution": {
     "iopub.execute_input": "2023-06-28T00:06:51.008297Z",
     "iopub.status.busy": "2023-06-28T00:06:51.007210Z",
     "iopub.status.idle": "2023-06-28T00:06:51.146042Z",
     "shell.execute_reply": "2023-06-28T00:06:51.145033Z"
    }
   },
   "outputs": [
    {
     "name": "stdout",
     "output_type": "stream",
     "text": [
      "CPU times: user 36 ms, sys: 417 µs, total: 36.4 ms\n",
      "Wall time: 128 ms\n"
     ]
    },
    {
     "data": {
      "text/plain": [
       "409.0"
      ]
     },
     "execution_count": 10,
     "metadata": {},
     "output_type": "execute_result"
    }
   ],
   "source": [
    "%%time\n",
    "result = ddf.DepDelay.max()\n",
    "result.compute()"
   ]
  },
  {
   "cell_type": "markdown",
   "metadata": {},
   "source": [
    "This creates the lazy computation for us and then runs it.  "
   ]
  },
  {
   "cell_type": "markdown",
   "metadata": {},
   "source": [
    "**Note:** Dask will delete intermediate results (like the full pandas DataFrame for each file) as soon as possible. This means you can handle datasets that are larger than memory but, repeated computations will have to load all of the data in each time. (Run the code above again, is it faster or slower than you would expect?)"
   ]
  },
  {
   "cell_type": "markdown",
   "metadata": {},
   "source": [
    "You can view the underlying task graph using `.visualize()`:"
   ]
  },
  {
   "cell_type": "code",
   "execution_count": 11,
   "metadata": {
    "execution": {
     "iopub.execute_input": "2023-06-28T00:06:51.150341Z",
     "iopub.status.busy": "2023-06-28T00:06:51.149784Z",
     "iopub.status.idle": "2023-06-28T00:06:51.528545Z",
     "shell.execute_reply": "2023-06-28T00:06:51.527753Z"
    }
   },
   "outputs": [
    {
     "data": {
      "image/png": "[encoded data removed]",
      "text/plain": [
       "<IPython.core.display.Image object>"
      ]
     },
     "execution_count": 11,
     "metadata": {},
     "output_type": "execute_result"
    }
   ],
   "source": [
    "# notice the parallelism\n",
    "result.visualize()"
   ]
  },
  {
   "cell_type": "markdown",
   "metadata": {},
   "source": [
    "## Exercises\n",
    "\n",
    "In this section you will do a few `dask.dataframe` computations. If you are comfortable with pandas then these should be familiar. You will have to think about when to call `.compute()`."
   ]
  },
  {
   "cell_type": "markdown",
   "metadata": {},
   "source": [
    "### 1. How many rows are in our dataset?\n",
    "\n",
    "_Hint_: how would you check how many items are in a list?"
   ]
  },
  {
   "cell_type": "code",
   "execution_count": 12,
   "metadata": {
    "execution": {
     "iopub.execute_input": "2023-06-28T00:06:51.532390Z",
     "iopub.status.busy": "2023-06-28T00:06:51.532131Z",
     "iopub.status.idle": "2023-06-28T00:06:51.535737Z",
     "shell.execute_reply": "2023-06-28T00:06:51.535021Z"
    }
   },
   "outputs": [],
   "source": [
    "# Your code here"
   ]
  },
  {
   "cell_type": "code",
   "execution_count": 13,
   "metadata": {
    "execution": {
     "iopub.execute_input": "2023-06-28T00:06:51.538994Z",
     "iopub.status.busy": "2023-06-28T00:06:51.538684Z",
     "iopub.status.idle": "2023-06-28T00:06:51.660793Z",
     "shell.execute_reply": "2023-06-28T00:06:51.659939Z"
    },
    "jupyter": {
     "source_hidden": true
    },
    "tags": []
   },
   "outputs": [
    {
     "data": {
      "text/plain": [
       "9990"
      ]
     },
     "execution_count": 13,
     "metadata": {},
     "output_type": "execute_result"
    }
   ],
   "source": [
    "len(ddf)"
   ]
  },
  {
   "cell_type": "markdown",
   "metadata": {},
   "source": [
    "### 2. In total, how many non-canceled flights were taken?\n",
    "\n",
    "_Hint_: use [boolean indexing](https://pandas.pydata.org/pandas-docs/stable/indexing.html#boolean-indexing)."
   ]
  },
  {
   "cell_type": "code",
   "execution_count": 14,
   "metadata": {
    "execution": {
     "iopub.execute_input": "2023-06-28T00:06:51.667027Z",
     "iopub.status.busy": "2023-06-28T00:06:51.666442Z",
     "iopub.status.idle": "2023-06-28T00:06:51.672187Z",
     "shell.execute_reply": "2023-06-28T00:06:51.671327Z"
    }
   },
   "outputs": [],
   "source": [
    "# Your code here"
   ]
  },
  {
   "cell_type": "code",
   "execution_count": 15,
   "metadata": {
    "execution": {
     "iopub.execute_input": "2023-06-28T00:06:51.677317Z",
     "iopub.status.busy": "2023-06-28T00:06:51.676792Z",
     "iopub.status.idle": "2023-06-28T00:06:51.822271Z",
     "shell.execute_reply": "2023-06-28T00:06:51.821354Z"
    },
    "jupyter": {
     "source_hidden": true
    },
    "tags": []
   },
   "outputs": [
    {
     "data": {
      "text/plain": [
       "9383"
      ]
     },
     "execution_count": 15,
     "metadata": {},
     "output_type": "execute_result"
    }
   ],
   "source": [
    "len(ddf[~ddf.Cancelled])"
   ]
  },
  {
   "cell_type": "markdown",
   "metadata": {},
   "source": [
    "### 3. In total, how many non-canceled flights were taken from each airport?\n",
    "\n",
    "*Hint*: use [groupby](https://pandas.pydata.org/pandas-docs/stable/groupby.html)."
   ]
  },
  {
   "cell_type": "code",
   "execution_count": 16,
   "metadata": {
    "execution": {
     "iopub.execute_input": "2023-06-28T00:06:51.826539Z",
     "iopub.status.busy": "2023-06-28T00:06:51.826273Z",
     "iopub.status.idle": "2023-06-28T00:06:51.831648Z",
     "shell.execute_reply": "2023-06-28T00:06:51.830206Z"
    }
   },
   "outputs": [],
   "source": [
    "# Your code here"
   ]
  },
  {
   "cell_type": "code",
   "execution_count": 17,
   "metadata": {
    "execution": {
     "iopub.execute_input": "2023-06-28T00:06:51.835494Z",
     "iopub.status.busy": "2023-06-28T00:06:51.835062Z",
     "iopub.status.idle": "2023-06-28T00:06:51.991934Z",
     "shell.execute_reply": "2023-06-28T00:06:51.990650Z"
    },
    "jupyter": {
     "source_hidden": true
    },
    "tags": []
   },
   "outputs": [
    {
     "data": {
      "text/plain": [
       "Origin\n",
       "EWR    4132\n",
       "JFK    1085\n",
       "LGA    4166\n",
       "Name: Origin, dtype: int64"
      ]
     },
     "execution_count": 17,
     "metadata": {},
     "output_type": "execute_result"
    }
   ],
   "source": [
    "ddf[~ddf.Cancelled].groupby(\"Origin\").Origin.count().compute()"
   ]
  },
  {
   "cell_type": "markdown",
   "metadata": {},
   "source": [
    "### 4. What was the average departure delay from each airport?"
   ]
  },
  {
   "cell_type": "code",
   "execution_count": 18,
   "metadata": {
    "execution": {
     "iopub.execute_input": "2023-06-28T00:06:51.995792Z",
     "iopub.status.busy": "2023-06-28T00:06:51.995512Z",
     "iopub.status.idle": "2023-06-28T00:06:52.001488Z",
     "shell.execute_reply": "2023-06-28T00:06:52.000601Z"
    }
   },
   "outputs": [],
   "source": [
    "# Your code here"
   ]
  },
  {
   "cell_type": "code",
   "execution_count": 19,
   "metadata": {
    "execution": {
     "iopub.execute_input": "2023-06-28T00:06:52.005363Z",
     "iopub.status.busy": "2023-06-28T00:06:52.005059Z",
     "iopub.status.idle": "2023-06-28T00:06:52.234794Z",
     "shell.execute_reply": "2023-06-28T00:06:52.233798Z"
    },
    "jupyter": {
     "source_hidden": true
    },
    "tags": []
   },
   "outputs": [
    {
     "data": {
      "text/plain": [
       "Origin\n",
       "EWR    12.500968\n",
       "JFK    17.053456\n",
       "LGA    10.169227\n",
       "Name: DepDelay, dtype: float64"
      ]
     },
     "execution_count": 19,
     "metadata": {},
     "output_type": "execute_result"
    }
   ],
   "source": [
    "ddf.groupby(\"Origin\").DepDelay.mean().compute()"
   ]
  },
  {
   "cell_type": "markdown",
   "metadata": {},
   "source": [
    "### 5. What day of the week has the worst average departure delay?"
   ]
  },
  {
   "cell_type": "code",
   "execution_count": 20,
   "metadata": {
    "execution": {
     "iopub.execute_input": "2023-06-28T00:06:52.239456Z",
     "iopub.status.busy": "2023-06-28T00:06:52.239162Z",
     "iopub.status.idle": "2023-06-28T00:06:52.243626Z",
     "shell.execute_reply": "2023-06-28T00:06:52.242042Z"
    }
   },
   "outputs": [],
   "source": [
    "# Your code here"
   ]
  },
  {
   "cell_type": "code",
   "execution_count": 21,
   "metadata": {
    "execution": {
     "iopub.execute_input": "2023-06-28T00:06:52.247790Z",
     "iopub.status.busy": "2023-06-28T00:06:52.246999Z",
     "iopub.status.idle": "2023-06-28T00:06:52.471152Z",
     "shell.execute_reply": "2023-06-28T00:06:52.470095Z"
    },
    "jupyter": {
     "source_hidden": true
    },
    "tags": []
   },
   "outputs": [
    {
     "data": {
      "text/plain": [
       "5"
      ]
     },
     "execution_count": 21,
     "metadata": {},
     "output_type": "execute_result"
    }
   ],
   "source": [
    "ddf.groupby(\"DayOfWeek\").DepDelay.mean().idxmax().compute()"
   ]
  },
  {
   "cell_type": "markdown",
   "metadata": {},
   "source": [
    "### 6. Let's say the distance column is erroneous and you need to add 1 to all values, how would you do this?"
   ]
  },
  {
   "cell_type": "code",
   "execution_count": 22,
   "metadata": {
    "execution": {
     "iopub.execute_input": "2023-06-28T00:06:52.474887Z",
     "iopub.status.busy": "2023-06-28T00:06:52.474558Z",
     "iopub.status.idle": "2023-06-28T00:06:52.479604Z",
     "shell.execute_reply": "2023-06-28T00:06:52.478117Z"
    }
   },
   "outputs": [],
   "source": [
    "# Your code here"
   ]
  },
  {
   "cell_type": "code",
   "execution_count": 23,
   "metadata": {
    "execution": {
     "iopub.execute_input": "2023-06-28T00:06:52.483579Z",
     "iopub.status.busy": "2023-06-28T00:06:52.482981Z",
     "iopub.status.idle": "2023-06-28T00:06:52.721774Z",
     "shell.execute_reply": "2023-06-28T00:06:52.720630Z"
    },
    "jupyter": {
     "source_hidden": true
    },
    "tags": []
   },
   "outputs": [
    {
     "name": "stderr",
     "output_type": "stream",
     "text": [
      "/usr/share/miniconda3/envs/dask-tutorial/lib/python3.10/site-packages/dask/dataframe/core.py:4139: UserWarning: \n",
      "You did not provide metadata, so Dask is running your function on a small dataset to guess output types. It is possible that Dask will guess incorrectly.\n",
      "To provide an explicit output types or to silence this message, please provide the `meta=` keyword, as described in the map or apply function that you are using.\n",
      "  Before: .apply(func)\n",
      "  After:  .apply(func, meta=('Distance', 'float64'))\n",
      "\n",
      "  warnings.warn(meta_warning(meta))\n"
     ]
    },
    {
     "data": {
      "text/plain": [
       "0      320.0\n",
       "1      320.0\n",
       "2      320.0\n",
       "3      320.0\n",
       "4      320.0\n",
       "       ...  \n",
       "994    417.0\n",
       "995    417.0\n",
       "996    417.0\n",
       "997    417.0\n",
       "998    417.0\n",
       "Name: Distance, Length: 9990, dtype: float64"
      ]
     },
     "execution_count": 23,
     "metadata": {},
     "output_type": "execute_result"
    }
   ],
   "source": [
    "ddf[\"Distance\"].apply(\n",
    "    lambda x: x + 1\n",
    ").compute()  # don't worry about the warning, we'll discuss in the next sections\n",
    "\n",
    "# OR\n",
    "\n",
    "(ddf[\"Distance\"] + 1).compute()"
   ]
  },
  {
   "cell_type": "markdown",
   "metadata": {},
   "source": [
    "## Sharing Intermediate Results\n",
    "\n",
    "When computing all of the above, we sometimes did the same operation more than once. For most operations, `dask.dataframe` stores the arguments, allowing duplicate computations to be shared and only computed once.\n",
    "\n",
    "For example, let's compute the mean and standard deviation for departure delay of all non-canceled flights. Since Dask operations are lazy, those values aren't the final results yet. They're just the steps required to get the result.\n",
    "\n",
    "If you compute them with two calls to compute, there is no sharing of intermediate computations."
   ]
  },
  {
   "cell_type": "code",
   "execution_count": 24,
   "metadata": {
    "execution": {
     "iopub.execute_input": "2023-06-28T00:06:52.729486Z",
     "iopub.status.busy": "2023-06-28T00:06:52.727461Z",
     "iopub.status.idle": "2023-06-28T00:06:52.747460Z",
     "shell.execute_reply": "2023-06-28T00:06:52.746186Z"
    }
   },
   "outputs": [],
   "source": [
    "non_canceled = ddf[~ddf.Cancelled]\n",
    "mean_delay = non_canceled.DepDelay.mean()\n",
    "std_delay = non_canceled.DepDelay.std()"
   ]
  },
  {
   "cell_type": "code",
   "execution_count": 25,
   "metadata": {
    "execution": {
     "iopub.execute_input": "2023-06-28T00:06:52.751670Z",
     "iopub.status.busy": "2023-06-28T00:06:52.751279Z",
     "iopub.status.idle": "2023-06-28T00:06:53.086247Z",
     "shell.execute_reply": "2023-06-28T00:06:53.084265Z"
    },
    "tags": []
   },
   "outputs": [
    {
     "name": "stdout",
     "output_type": "stream",
     "text": [
      "CPU times: user 106 ms, sys: 14.8 ms, total: 121 ms\n",
      "Wall time: 328 ms\n"
     ]
    }
   ],
   "source": [
    "%%time\n",
    "\n",
    "mean_delay_res = mean_delay.compute()\n",
    "std_delay_res = std_delay.compute()"
   ]
  },
  {
   "cell_type": "markdown",
   "metadata": {},
   "source": [
    "### `dask.compute`"
   ]
  },
  {
   "cell_type": "markdown",
   "metadata": {},
   "source": [
    "But let's try by passing both to a single `compute` call."
   ]
  },
  {
   "cell_type": "code",
   "execution_count": 26,
   "metadata": {
    "execution": {
     "iopub.execute_input": "2023-06-28T00:06:53.091540Z",
     "iopub.status.busy": "2023-06-28T00:06:53.091250Z",
     "iopub.status.idle": "2023-06-28T00:06:53.310760Z",
     "shell.execute_reply": "2023-06-28T00:06:53.308602Z"
    },
    "tags": []
   },
   "outputs": [
    {
     "name": "stdout",
     "output_type": "stream",
     "text": [
      "CPU times: user 89.3 ms, sys: 539 µs, total: 89.8 ms\n",
      "Wall time: 208 ms\n"
     ]
    }
   ],
   "source": [
    "%%time\n",
    "\n",
    "mean_delay_res, std_delay_res = dask.compute(mean_delay, std_delay)"
   ]
  },
  {
   "cell_type": "markdown",
   "metadata": {},
   "source": [
    "Using `dask.compute` takes roughly 1/2 the time. This is because the task graphs for both results are merged when calling `dask.compute`, allowing shared operations to only be done once instead of twice. In particular, using `dask.compute` only does the following once:\n",
    "\n",
    "- the calls to `read_csv`\n",
    "- the filter (`df[~df.Cancelled]`)\n",
    "- some of the necessary reductions (`sum`, `count`)"
   ]
  },
  {
   "cell_type": "markdown",
   "metadata": {},
   "source": [
    "To see what the merged task graphs between multiple results look like (and what's shared), you can use the `dask.visualize` function (you might want to use `filename='graph.pdf'` to save the graph to disk so that you can zoom in more easily):"
   ]
  },
  {
   "cell_type": "code",
   "execution_count": 27,
   "metadata": {
    "execution": {
     "iopub.execute_input": "2023-06-28T00:06:53.314925Z",
     "iopub.status.busy": "2023-06-28T00:06:53.314621Z",
     "iopub.status.idle": "2023-06-28T00:06:54.137511Z",
     "shell.execute_reply": "2023-06-28T00:06:54.136748Z"
    }
   },
   "outputs": [
    {
     "data": {
      "application/vnd.jupyter.widget-view+json": {
       "model_id": "bb2337a4220a401eadce626ee19d21dc",
       "version_major": 2,
       "version_minor": 0
      },
      "text/plain": [
       "CytoscapeWidget(cytoscape_layout={'name': 'dagre', 'rankDir': 'BT', 'nodeSep': 10, 'edgeSep': 10, 'spacingFact…"
      ]
     },
     "execution_count": 27,
     "metadata": {},
     "output_type": "execute_result"
    }
   ],
   "source": [
    "dask.visualize(mean_delay, std_delay, engine=\"cytoscape\")"
   ]
  },
  {
   "cell_type": "markdown",
   "metadata": {
    "tags": []
   },
   "source": [
    "### `.persist()`\n",
    "\n",
    "While using a distributed scheduler (you will learn more about schedulers in the upcoming notebooks), you can keep some _data that you want to use often_ in the _distributed memory_. \n",
    "\n",
    "`persist` generates \"Futures\" (more on this later as well) and stores them in the same structure as your output. You can use `persist` with any data or computation that fits in memory."
   ]
  },
  {
   "cell_type": "markdown",
   "metadata": {},
   "source": [
    "If you want to analyze data only for non-canceled flights departing from JFK airport, you can either have two compute calls like in the previous section:"
   ]
  },
  {
   "cell_type": "code",
   "execution_count": 28,
   "metadata": {
    "execution": {
     "iopub.execute_input": "2023-06-28T00:06:54.525259Z",
     "iopub.status.busy": "2023-06-28T00:06:54.524309Z",
     "iopub.status.idle": "2023-06-28T00:06:54.533035Z",
     "shell.execute_reply": "2023-06-28T00:06:54.531984Z"
    }
   },
   "outputs": [],
   "source": [
    "non_cancelled = ddf[~ddf.Cancelled]\n",
    "ddf_jfk = non_cancelled[non_cancelled.Origin == \"JFK\"]"
   ]
  },
  {
   "cell_type": "code",
   "execution_count": 29,
   "metadata": {
    "execution": {
     "iopub.execute_input": "2023-06-28T00:06:54.536370Z",
     "iopub.status.busy": "2023-06-28T00:06:54.536091Z",
     "iopub.status.idle": "2023-06-28T00:06:54.878004Z",
     "shell.execute_reply": "2023-06-28T00:06:54.877240Z"
    }
   },
   "outputs": [
    {
     "name": "stdout",
     "output_type": "stream",
     "text": [
      "CPU times: user 101 ms, sys: 12.1 ms, total: 113 ms\n",
      "Wall time: 332 ms\n"
     ]
    },
    {
     "data": {
      "text/plain": [
       "18503.0"
      ]
     },
     "execution_count": 29,
     "metadata": {},
     "output_type": "execute_result"
    }
   ],
   "source": [
    "%%time\n",
    "ddf_jfk.DepDelay.mean().compute()\n",
    "ddf_jfk.DepDelay.sum().compute()"
   ]
  },
  {
   "cell_type": "markdown",
   "metadata": {},
   "source": [
    "Or, consider persisting that subset of data in memory.\n",
    "\n",
    "See the \"Graph\" dashboard plot, the red squares indicate persisted data stored as Futures in memory. You will also notice an increase in Worker Memory (another dashboard plot) consumption."
   ]
  },
  {
   "cell_type": "code",
   "execution_count": 30,
   "metadata": {
    "execution": {
     "iopub.execute_input": "2023-06-28T00:06:54.882889Z",
     "iopub.status.busy": "2023-06-28T00:06:54.882068Z",
     "iopub.status.idle": "2023-06-28T00:06:54.907071Z",
     "shell.execute_reply": "2023-06-28T00:06:54.899160Z"
    }
   },
   "outputs": [],
   "source": [
    "ddf_jfk = ddf_jfk.persist()  # returns back control immediately"
   ]
  },
  {
   "cell_type": "code",
   "execution_count": 31,
   "metadata": {
    "execution": {
     "iopub.execute_input": "2023-06-28T00:06:54.918038Z",
     "iopub.status.busy": "2023-06-28T00:06:54.915928Z",
     "iopub.status.idle": "2023-06-28T00:06:55.195154Z",
     "shell.execute_reply": "2023-06-28T00:06:55.194313Z"
    }
   },
   "outputs": [
    {
     "name": "stdout",
     "output_type": "stream",
     "text": [
      "CPU times: user 116 ms, sys: 4.48 ms, total: 120 ms\n",
      "Wall time: 269 ms\n"
     ]
    },
    {
     "data": {
      "text/plain": [
       "36.85799641792652"
      ]
     },
     "execution_count": 31,
     "metadata": {},
     "output_type": "execute_result"
    }
   ],
   "source": [
    "%%time\n",
    "ddf_jfk.DepDelay.mean().compute()\n",
    "ddf_jfk.DepDelay.std().compute()"
   ]
  },
  {
   "cell_type": "markdown",
   "metadata": {},
   "source": [
    "Analyses on this persisted data is faster because we are not repeating the loading and selecting (non-canceled, JFK departure) operations."
   ]
  },
  {
   "cell_type": "markdown",
   "metadata": {},
   "source": [
    "## Custom code with Dask DataFrame\n",
    "\n",
    "`dask.dataframe` only covers a small but well-used portion of the pandas API.\n",
    "\n",
    "This limitation is for two reasons:\n",
    "\n",
    "1.  The Pandas API is *huge*\n",
    "2.  Some operations are genuinely hard to do in parallel, e.g, sorting.\n",
    "\n",
    "Additionally, some important operations like `set_index` work, but are slower than in pandas because they include substantial shuffling of data, and may write out to disk.\n",
    "\n",
    "**What if you want to use some custom functions that aren't (or can't be) implemented for Dask DataFrame yet?**\n",
    "\n",
    "You can open an issue on the [Dask issue tracker](https://github.com/dask/dask/issues) to check how feasible the function could be to implement, and you can consider contributing this function to Dask.\n",
    "\n",
    "In case it's a custom function or tricky to implement, `dask.dataframe` provides a few methods to make applying custom functions to Dask DataFrames easier:\n",
    "\n",
    "- [`map_partitions`](https://docs.dask.org/en/latest/generated/dask.dataframe.DataFrame.map_partitions.html): to run a function on each partition (each pandas DataFrame) of the Dask DataFrame\n",
    "- [`map_overlap`](https://docs.dask.org/en/latest/generated/dask.dataframe.rolling.map_overlap.html): to run a function on each partition (each pandas DataFrame) of the Dask DataFrame, with some rows shared between neighboring partitions\n",
    "- [`reduction`](https://docs.dask.org/en/latest/generated/dask.dataframe.Series.reduction.html): for custom row-wise reduction operations."
   ]
  },
  {
   "cell_type": "markdown",
   "metadata": {},
   "source": [
    "Let's take a quick look at the `map_partitions()` function:"
   ]
  },
  {
   "cell_type": "code",
   "execution_count": 32,
   "metadata": {
    "execution": {
     "iopub.execute_input": "2023-06-28T00:06:55.198783Z",
     "iopub.status.busy": "2023-06-28T00:06:55.198272Z",
     "iopub.status.idle": "2023-06-28T00:06:55.205287Z",
     "shell.execute_reply": "2023-06-28T00:06:55.204583Z"
    },
    "tags": []
   },
   "outputs": [
    {
     "name": "stdout",
     "output_type": "stream",
     "text": [
      "Help on method map_partitions in module dask.dataframe.core:\n",
      "\n",
      "map_partitions(func, *args, **kwargs) method of dask.dataframe.core.DataFrame instance\n",
      "    Apply Python function on each DataFrame partition.\n",
      "    \n",
      "    Note that the index and divisions are assumed to remain unchanged.\n",
      "    \n",
      "    Parameters\n",
      "    ----------\n",
      "    func : function\n",
      "        The function applied to each partition. If this function accepts\n",
      "        the special ``partition_info`` keyword argument, it will receive\n",
      "        information on the partition's relative location within the\n",
      "        dataframe.\n",
      "    args, kwargs :\n",
      "        Positional and keyword arguments to pass to the function.\n",
      "        Positional arguments are computed on a per-partition basis, while\n",
      "        keyword arguments are shared across all partitions. The partition\n",
      "        itself will be the first positional argument, with all other\n",
      "        arguments passed *after*. Arguments can be ``Scalar``, ``Delayed``,\n",
      "        or regular Python objects. DataFrame-like args (both dask and\n",
      "        pandas) will be repartitioned to align (if necessary) before\n",
      "        applying the function; see ``align_dataframes`` to control this\n",
      "        behavior.\n",
      "    enforce_metadata : bool, default True\n",
      "        Whether to enforce at runtime that the structure of the DataFrame\n",
      "        produced by ``func`` actually matches the structure of ``meta``.\n",
      "        This will rename and reorder columns for each partition,\n",
      "        and will raise an error if this doesn't work,\n",
      "        but it won't raise if dtypes don't match.\n",
      "    transform_divisions : bool, default True\n",
      "        Whether to apply the function onto the divisions and apply those\n",
      "        transformed divisions to the output.\n",
      "    align_dataframes : bool, default True\n",
      "        Whether to repartition DataFrame- or Series-like args\n",
      "        (both dask and pandas) so their divisions align before applying\n",
      "        the function. This requires all inputs to have known divisions.\n",
      "        Single-partition inputs will be split into multiple partitions.\n",
      "    \n",
      "        If False, all inputs must have either the same number of partitions\n",
      "        or a single partition. Single-partition inputs will be broadcast to\n",
      "        every partition of multi-partition inputs.\n",
      "    meta : pd.DataFrame, pd.Series, dict, iterable, tuple, optional\n",
      "        An empty ``pd.DataFrame`` or ``pd.Series`` that matches the dtypes\n",
      "        and column names of the output. This metadata is necessary for\n",
      "        many algorithms in dask dataframe to work.  For ease of use, some\n",
      "        alternative inputs are also available. Instead of a ``DataFrame``,\n",
      "        a ``dict`` of ``{name: dtype}`` or iterable of ``(name, dtype)``\n",
      "        can be provided (note that the order of the names should match the\n",
      "        order of the columns). Instead of a series, a tuple of ``(name,\n",
      "        dtype)`` can be used. If not provided, dask will try to infer the\n",
      "        metadata. This may lead to unexpected results, so providing\n",
      "        ``meta`` is recommended. For more information, see\n",
      "        ``dask.dataframe.utils.make_meta``.\n",
      "    \n",
      "    Examples\n",
      "    --------\n",
      "    Given a DataFrame, Series, or Index, such as:\n",
      "    \n",
      "    >>> import pandas as pd\n",
      "    >>> import dask.dataframe as dd\n",
      "    >>> df = pd.DataFrame({'x': [1, 2, 3, 4, 5],\n",
      "    ...                    'y': [1., 2., 3., 4., 5.]})\n",
      "    >>> ddf = dd.from_pandas(df, npartitions=2)\n",
      "    \n",
      "    One can use ``map_partitions`` to apply a function on each partition.\n",
      "    Extra arguments and keywords can optionally be provided, and will be\n",
      "    passed to the function after the partition.\n",
      "    \n",
      "    Here we apply a function with arguments and keywords to a DataFrame,\n",
      "    resulting in a Series:\n",
      "    \n",
      "    >>> def myadd(df, a, b=1):\n",
      "    ...     return df.x + df.y + a + b\n",
      "    >>> res = ddf.map_partitions(myadd, 1, b=2)\n",
      "    >>> res.dtype\n",
      "    dtype('float64')\n",
      "    \n",
      "    Here we apply a function to a Series resulting in a Series:\n",
      "    \n",
      "    >>> res = ddf.x.map_partitions(lambda x: len(x)) # ddf.x is a Dask Series Structure\n",
      "    >>> res.dtype\n",
      "    dtype('int64')\n",
      "    \n",
      "    By default, dask tries to infer the output metadata by running your\n",
      "    provided function on some fake data. This works well in many cases, but\n",
      "    can sometimes be expensive, or even fail. To avoid this, you can\n",
      "    manually specify the output metadata with the ``meta`` keyword. This\n",
      "    can be specified in many forms, for more information see\n",
      "    ``dask.dataframe.utils.make_meta``.\n",
      "    \n",
      "    Here we specify the output is a Series with no name, and dtype\n",
      "    ``float64``:\n",
      "    \n",
      "    >>> res = ddf.map_partitions(myadd, 1, b=2, meta=(None, 'f8'))\n",
      "    \n",
      "    Here we map a function that takes in a DataFrame, and returns a\n",
      "    DataFrame with a new column:\n",
      "    \n",
      "    >>> res = ddf.map_partitions(lambda df: df.assign(z=df.x * df.y))\n",
      "    >>> res.dtypes\n",
      "    x      int64\n",
      "    y    float64\n",
      "    z    float64\n",
      "    dtype: object\n",
      "    \n",
      "    As before, the output metadata can also be specified manually. This\n",
      "    time we pass in a ``dict``, as the output is a DataFrame:\n",
      "    \n",
      "    >>> res = ddf.map_partitions(lambda df: df.assign(z=df.x * df.y),\n",
      "    ...                          meta={'x': 'i8', 'y': 'f8', 'z': 'f8'})\n",
      "    \n",
      "    In the case where the metadata doesn't change, you can also pass in\n",
      "    the object itself directly:\n",
      "    \n",
      "    >>> res = ddf.map_partitions(lambda df: df.head(), meta=ddf)\n",
      "    \n",
      "    Also note that the index and divisions are assumed to remain unchanged.\n",
      "    If the function you're mapping changes the index/divisions, you'll need\n",
      "    to clear them afterwards:\n",
      "    \n",
      "    >>> ddf.map_partitions(func).clear_divisions()  # doctest: +SKIP\n",
      "    \n",
      "    Your map function gets information about where it is in the dataframe by\n",
      "    accepting a special ``partition_info`` keyword argument.\n",
      "    \n",
      "    >>> def func(partition, partition_info=None):\n",
      "    ...     pass\n",
      "    \n",
      "    This will receive the following information:\n",
      "    \n",
      "    >>> partition_info  # doctest: +SKIP\n",
      "    {'number': 1, 'division': 3}\n",
      "    \n",
      "    For each argument and keyword arguments that are dask dataframes you will\n",
      "    receive the number (n) which represents the nth partition of the dataframe\n",
      "    and the division (the first index value in the partition). If divisions\n",
      "    are not known (for instance if the index is not sorted) then you will get\n",
      "    None as the division.\n",
      "\n"
     ]
    }
   ],
   "source": [
    "help(ddf.map_partitions)"
   ]
  },
  {
   "cell_type": "markdown",
   "metadata": {},
   "source": [
    "The \"Distance\" column in `ddf` is currently in miles. Let's say we want to convert the units to kilometers and we have a general helper function as shown below. In this case, we can use `map_partitions` to apply this function across each of the internal pandas `DataFrame`s in parallel. "
   ]
  },
  {
   "cell_type": "code",
   "execution_count": 33,
   "metadata": {
    "execution": {
     "iopub.execute_input": "2023-06-28T00:06:55.209319Z",
     "iopub.status.busy": "2023-06-28T00:06:55.208870Z",
     "iopub.status.idle": "2023-06-28T00:06:55.216550Z",
     "shell.execute_reply": "2023-06-28T00:06:55.215842Z"
    }
   },
   "outputs": [],
   "source": [
    "def my_custom_converter(df, multiplier=1):\n",
    "    return df * multiplier\n",
    "\n",
    "\n",
    "meta = pd.Series(name=\"Distance\", dtype=\"float64\")\n",
    "\n",
    "distance_km = ddf.Distance.map_partitions(\n",
    "    my_custom_converter, multiplier=0.6, meta=meta\n",
    ")"
   ]
  },
  {
   "cell_type": "code",
   "execution_count": 34,
   "metadata": {
    "execution": {
     "iopub.execute_input": "2023-06-28T00:06:55.220134Z",
     "iopub.status.busy": "2023-06-28T00:06:55.219621Z",
     "iopub.status.idle": "2023-06-28T00:06:55.529632Z",
     "shell.execute_reply": "2023-06-28T00:06:55.528341Z"
    }
   },
   "outputs": [
    {
     "data": {
      "image/png": "[encoded data removed]",
      "text/plain": [
       "<IPython.core.display.Image object>"
      ]
     },
     "execution_count": 34,
     "metadata": {},
     "output_type": "execute_result"
    }
   ],
   "source": [
    "distance_km.visualize()"
   ]
  },
  {
   "cell_type": "code",
   "execution_count": 35,
   "metadata": {
    "execution": {
     "iopub.execute_input": "2023-06-28T00:06:55.533276Z",
     "iopub.status.busy": "2023-06-28T00:06:55.532913Z",
     "iopub.status.idle": "2023-06-28T00:06:55.575608Z",
     "shell.execute_reply": "2023-06-28T00:06:55.574751Z"
    }
   },
   "outputs": [
    {
     "data": {
      "text/plain": [
       "0    191.4\n",
       "1    191.4\n",
       "2    191.4\n",
       "3    191.4\n",
       "4    191.4\n",
       "Name: Distance, dtype: float64"
      ]
     },
     "execution_count": 35,
     "metadata": {},
     "output_type": "execute_result"
    }
   ],
   "source": [
    "distance_km.head()"
   ]
  },
  {
   "cell_type": "markdown",
   "metadata": {},
   "source": [
    "### What is `meta`?\n",
    "\n",
    "Since Dask operates lazily, it doesn't always have enough information to infer the output structure (which includes datatypes) of certain operations.\n",
    "\n",
    "`meta` is a _suggestion_ to Dask about the output of your computation. Importantly, `meta` _never infers with the output structure_. Dask uses this `meta` until it can determine the actual output structure.\n",
    "\n",
    "Even though there are many ways to define `meta`, we suggest using a small pandas Series or DataFrame that matches the structure of your final output."
   ]
  },
  {
   "cell_type": "markdown",
   "metadata": {
    "tags": []
   },
   "source": [
    "## Close you local Dask Cluster"
   ]
  },
  {
   "cell_type": "markdown",
   "metadata": {},
   "source": [
    "It's good practice to always close any Dask cluster you create:"
   ]
  },
  {
   "cell_type": "code",
   "execution_count": 36,
   "metadata": {
    "execution": {
     "iopub.execute_input": "2023-06-28T00:06:55.579796Z",
     "iopub.status.busy": "2023-06-28T00:06:55.579331Z",
     "iopub.status.idle": "2023-06-28T00:06:56.225481Z",
     "shell.execute_reply": "2023-06-28T00:06:56.224690Z"
    }
   },
   "outputs": [],
   "source": [
    "client.shutdown()"
   ]
  }
 ],
 "metadata": {
  "anaconda-cloud": {},
  "kernelspec": {
   "display_name": "Python 3 (ipykernel)",
   "language": "python",
   "name": "python3"
  },
  "language_info": {
   "codemirror_mode": {
    "name": "ipython",
    "version": 3
   },
   "file_extension": ".py",
   "mimetype": "text/x-python",
   "name": "python",
   "nbconvert_exporter": "python",
   "pygments_lexer": "ipython3",
   "version": "3.10.12"
  },
  "widgets": {
   "application/vnd.jupyter.widget-state+json": {
    "state": {
     "0233f3c77e92400f99bb4ee199512ace": {
      "model_module": "jupyter-cytoscape",
      "model_module_version": "^1.3.3",
      "model_name": "EdgeModel",
      "state": {
       "_model_module": "jupyter-cytoscape",
       "_model_module_version": "^1.3.3",
       "_model_name": "EdgeModel",
       "_view_count": null,
       "_view_module": "jupyter-cytoscape",
       "_view_module_version": "^1.3.3",
       "_view_name": "EdgeView",
       "classes": " directed ",
       "data": {
        "source": "298775349366692788",
        "target": "-8767852684321957812"
       },
       "pannable": true,
       "removed": false,
       "selectable": false,
       "selected": false
      }
     },
     "0282ee4b1717406c8991dee4d16717e7": {
      "model_module": "jupyter-cytoscape",
      "model_module_version": "^1.3.3",
      "model_name": "NodeModel",
      "state": {
       "_model_module": "jupyter-cytoscape",
       "_model_module_version": "^1.3.3",
       "_model_name": "NodeModel",
       "_view_count": null,
       "_view_module": "jupyter-cytoscape",
       "_view_module_version": "^1.3.3",
       "_view_name": "NodeView",
       "classes": "",
       "data": {
        "color": "gray",
        "id": "3146456546281949965",
        "label": "values",
        "shape": "ellipse"
       },
       "grabbable": true,
       "grabbed": false,
       "locked": false,
       "pannable": false,
       "position": {},
       "removed": false,
       "selectable": false,
       "selected": false
      }
     },
     "02b6b2ea21cd4075b01f484910fd0d11": {
      "model_module": "jupyter-cytoscape",
      "model_module_version": "^1.3.3",
      "model_name": "EdgeModel",
      "state": {
       "_model_module": "jupyter-cytoscape",
       "_model_module_version": "^1.3.3",
       "_model_name": "EdgeModel",
       "_view_count": null,
       "_view_module": "jupyter-cytoscape",
       "_view_module_version": "^1.3.3",
       "_view_name": "EdgeView",
       "classes": " directed ",
       "data": {
        "source": "1556683906156293320",
        "target": "2170496124601861621"
       },
       "pannable": true,
       "removed": false,
       "selectable": false,
       "selected": false
      }
     },
     "032d41ae1c4b4fb18526cbab9044a463": {
      "model_module": "jupyter-cytoscape",
      "model_module_version": "^1.3.3",
      "model_name": "NodeModel",
      "state": {
       "_model_module": "jupyter-cytoscape",
       "_model_module_version": "^1.3.3",
       "_model_name": "NodeModel",
       "_view_count": null,
       "_view_module": "jupyter-cytoscape",
       "_view_module_version": "^1.3.3",
       "_view_name": "NodeView",
       "classes": "",
       "data": {
        "color": "gray",
        "id": "9064713225004241636",
        "label": "read-csv",
        "shape": "ellipse"
       },
       "grabbable": true,
       "grabbed": false,
       "locked": false,
       "pannable": false,
       "position": {},
       "removed": false,
       "selectable": false,
       "selected": false
      }
     },
     "0385e997720542ad86e062d33b51a22d": {
      "model_module": "jupyter-cytoscape",
      "model_module_version": "^1.3.3",
      "model_name": "NodeModel",
      "state": {
       "_model_module": "jupyter-cytoscape",
       "_model_module_version": "^1.3.3",
       "_model_name": "NodeModel",
       "_view_count": null,
       "_view_module": "jupyter-cytoscape",
       "_view_module_version": "^1.3.3",
       "_view_name": "NodeView",
       "classes": "",
       "data": {
        "color": "gray",
        "id": "3863947793272323334",
        "label": "6",
        "shape": "rectangle"
       },
       "grabbable": true,
       "grabbed": false,
       "locked": false,
       "pannable": false,
       "position": {},
       "removed": false,
       "selectable": false,
       "selected": false
      }
     },
     "0485c1972d9a44ab8d770495ab1be95f": {
      "model_module": "jupyter-cytoscape",
      "model_module_version": "^1.3.3",
      "model_name": "EdgeModel",
      "state": {
       "_model_module": "jupyter-cytoscape",
       "_model_module_version": "^1.3.3",
       "_model_name": "EdgeModel",
       "_view_count": null,
       "_view_module": "jupyter-cytoscape",
       "_view_module_version": "^1.3.3",
       "_view_name": "EdgeView",
       "classes": " directed ",
       "data": {
        "source": "6320236779472689472",
        "target": "585440491428929027"
       },
       "pannable": true,
       "removed": false,
       "selectable": false,
       "selected": false
      }
     },
     "057d47daceb1494287fb46bd9acef7c1": {
      "model_module": "jupyter-cytoscape",
      "model_module_version": "^1.3.3",
      "model_name": "NodeModel",
      "state": {
       "_model_module": "jupyter-cytoscape",
       "_model_module_version": "^1.3.3",
       "_model_name": "NodeModel",
       "_view_count": null,
       "_view_module": "jupyter-cytoscape",
       "_view_module_version": "^1.3.3",
       "_view_name": "NodeView",
       "classes": "",
       "data": {
        "color": "gray",
        "id": "-2167166194090639036",
        "label": "1",
        "shape": "rectangle"
       },
       "grabbable": true,
       "grabbed": false,
       "locked": false,
       "pannable": false,
       "position": {},
       "removed": false,
       "selectable": false,
       "selected": false
      }
     },
     "05b1efd6c4fd4394add43ca4b493e189": {
      "model_module": "jupyter-cytoscape",
      "model_module_version": "^1.3.3",
      "model_name": "NodeModel",
      "state": {
       "_model_module": "jupyter-cytoscape",
       "_model_module_version": "^1.3.3",
       "_model_name": "NodeModel",
       "_view_count": null,
       "_view_module": "jupyter-cytoscape",
       "_view_module_version": "^1.3.3",
       "_view_name": "NodeView",
       "classes": "",
       "data": {
        "color": "gray",
        "id": "-6019310918816192303",
        "label": "values",
        "shape": "ellipse"
       },
       "grabbable": true,
       "grabbed": false,
       "locked": false,
       "pannable": false,
       "position": {},
       "removed": false,
       "selectable": false,
       "selected": false
      }
     },
     "066fd2b0bccb4745adda791ea8e3a3f8": {
      "model_module": "jupyter-cytoscape",
      "model_module_version": "^1.3.3",
      "model_name": "EdgeModel",
      "state": {
       "_model_module": "jupyter-cytoscape",
       "_model_module_version": "^1.3.3",
       "_model_name": "EdgeModel",
       "_view_count": null,
       "_view_module": "jupyter-cytoscape",
       "_view_module_version": "^1.3.3",
       "_view_name": "EdgeView",
       "classes": " directed ",
       "data": {
        "source": "3072646841705359155",
        "target": "4401439780889061662"
       },
       "pannable": true,
       "removed": false,
       "selectable": false,
       "selected": false
      }
     },
     "06b105e253af46d29aeda8644df8e26a": {
      "model_module": "jupyter-cytoscape",
      "model_module_version": "^1.3.3",
      "model_name": "EdgeModel",
      "state": {
       "_model_module": "jupyter-cytoscape",
       "_model_module_version": "^1.3.3",
       "_model_name": "EdgeModel",
       "_view_count": null,
       "_view_module": "jupyter-cytoscape",
       "_view_module_version": "^1.3.3",
       "_view_name": "EdgeView",
       "classes": " directed ",
       "data": {
        "source": "4874920237189417090",
        "target": "677589680642129306"
       },
       "pannable": true,
       "removed": false,
       "selectable": false,
       "selected": false
      }
     },
     "074b30d4aeed4c5588ce9a5e1d797492": {
      "model_module": "jupyter-cytoscape",
      "model_module_version": "^1.3.3",
      "model_name": "NodeModel",
      "state": {
       "_model_module": "jupyter-cytoscape",
       "_model_module_version": "^1.3.3",
       "_model_name": "NodeModel",
       "_view_count": null,
       "_view_module": "jupyter-cytoscape",
       "_view_module_version": "^1.3.3",
       "_view_name": "NodeView",
       "classes": "",
       "data": {
        "color": "gray",
        "id": "-8877053739325490542",
        "label": "5",
        "shape": "rectangle"
       },
       "grabbable": true,
       "grabbed": false,
       "locked": false,
       "pannable": false,
       "position": {},
       "removed": false,
       "selectable": false,
       "selected": false
      }
     },
     "0788feffed17415492ef051de2bdd6d5": {
      "model_module": "jupyter-cytoscape",
      "model_module_version": "^1.3.3",
      "model_name": "NodeModel",
      "state": {
       "_model_module": "jupyter-cytoscape",
       "_model_module_version": "^1.3.3",
       "_model_name": "NodeModel",
       "_view_count": null,
       "_view_module": "jupyter-cytoscape",
       "_view_module_version": "^1.3.3",
       "_view_name": "NodeView",
       "classes": "",
       "data": {
        "color": "gray",
        "id": "-3654832407565304126",
        "label": "6",
        "shape": "rectangle"
       },
       "grabbable": true,
       "grabbed": false,
       "locked": false,
       "pannable": false,
       "position": {},
       "removed": false,
       "selectable": false,
       "selected": false
      }
     },
     "08c7658136a949e194e26907b8b2c3e9": {
      "model_module": "jupyter-cytoscape",
      "model_module_version": "^1.3.3",
      "model_name": "EdgeModel",
      "state": {
       "_model_module": "jupyter-cytoscape",
       "_model_module_version": "^1.3.3",
       "_model_name": "EdgeModel",
       "_view_count": null,
       "_view_module": "jupyter-cytoscape",
       "_view_module_version": "^1.3.3",
       "_view_name": "EdgeView",
       "classes": " directed ",
       "data": {
        "source": "3171250633285595379",
        "target": "1680519348814215424"
       },
       "pannable": true,
       "removed": false,
       "selectable": false,
       "selected": false
      }
     },
     "09810434d62e4d20850d1ca9d24a7a8f": {
      "model_module": "jupyter-cytoscape",
      "model_module_version": "^1.3.3",
      "model_name": "EdgeModel",
      "state": {
       "_model_module": "jupyter-cytoscape",
       "_model_module_version": "^1.3.3",
       "_model_name": "EdgeModel",
       "_view_count": null,
       "_view_module": "jupyter-cytoscape",
       "_view_module_version": "^1.3.3",
       "_view_name": "EdgeView",
       "classes": " directed ",
       "data": {
        "source": "7262439829520183701",
        "target": "3171250633285595379"
       },
       "pannable": true,
       "removed": false,
       "selectable": false,
       "selected": false
      }
     },
     "09deb57f00ce427babcd1a36e6d3acee": {
      "model_module": "jupyter-cytoscape",
      "model_module_version": "^1.3.3",
      "model_name": "EdgeModel",
      "state": {
       "_model_module": "jupyter-cytoscape",
       "_model_module_version": "^1.3.3",
       "_model_name": "EdgeModel",
       "_view_count": null,
       "_view_module": "jupyter-cytoscape",
       "_view_module_version": "^1.3.3",
       "_view_name": "EdgeView",
       "classes": " directed ",
       "data": {
        "source": "6835517238617097832",
        "target": "-7378682507812236482"
       },
       "pannable": true,
       "removed": false,
       "selectable": false,
       "selected": false
      }
     },
     "09e6712f2530418698736073deb1ea24": {
      "model_module": "jupyter-cytoscape",
      "model_module_version": "^1.3.3",
      "model_name": "NodeModel",
      "state": {
       "_model_module": "jupyter-cytoscape",
       "_model_module_version": "^1.3.3",
       "_model_name": "NodeModel",
       "_view_count": null,
       "_view_module": "jupyter-cytoscape",
       "_view_module_version": "^1.3.3",
       "_view_name": "NodeView",
       "classes": "",
       "data": {
        "color": "gray",
        "id": "-51528055469832570",
        "label": "getitem",
        "shape": "ellipse"
       },
       "grabbable": true,
       "grabbed": false,
       "locked": false,
       "pannable": false,
       "position": {},
       "removed": false,
       "selectable": false,
       "selected": false
      }
     },
     "0abf4640e4af4d92b0cc04098db1a532": {
      "model_module": "jupyter-cytoscape",
      "model_module_version": "^1.3.3",
      "model_name": "EdgeModel",
      "state": {
       "_model_module": "jupyter-cytoscape",
       "_model_module_version": "^1.3.3",
       "_model_name": "EdgeModel",
       "_view_count": null,
       "_view_module": "jupyter-cytoscape",
       "_view_module_version": "^1.3.3",
       "_view_name": "EdgeView",
       "classes": " directed ",
       "data": {
        "source": "2671302283885776569",
        "target": "184982761892287133"
       },
       "pannable": true,
       "removed": false,
       "selectable": false,
       "selected": false
      }
     },
     "0b56af8e639649efb16bb476aaec1749": {
      "model_module": "jupyter-cytoscape",
      "model_module_version": "^1.3.3",
      "model_name": "NodeModel",
      "state": {
       "_model_module": "jupyter-cytoscape",
       "_model_module_version": "^1.3.3",
       "_model_name": "NodeModel",
       "_view_count": null,
       "_view_module": "jupyter-cytoscape",
       "_view_module_version": "^1.3.3",
       "_view_name": "NodeView",
       "classes": "",
       "data": {
        "color": "gray",
        "id": "6785899678528995005",
        "label": "7",
        "shape": "rectangle"
       },
       "grabbable": true,
       "grabbed": false,
       "locked": false,
       "pannable": false,
       "position": {},
       "removed": false,
       "selectable": false,
       "selected": false
      }
     },
     "0b99eed5871d4b12aa5ae0d9902f6d4d": {
      "model_module": "jupyter-cytoscape",
      "model_module_version": "^1.3.3",
      "model_name": "EdgeModel",
      "state": {
       "_model_module": "jupyter-cytoscape",
       "_model_module_version": "^1.3.3",
       "_model_name": "EdgeModel",
       "_view_count": null,
       "_view_module": "jupyter-cytoscape",
       "_view_module_version": "^1.3.3",
       "_view_name": "EdgeView",
       "classes": " directed ",
       "data": {
        "source": "-4989332580531334731",
        "target": "711310910071224246"
       },
       "pannable": true,
       "removed": false,
       "selectable": false,
       "selected": false
      }
     },
     "0d0e544d9cda4248be9ae77474813570": {
      "model_module": "jupyter-cytoscape",
      "model_module_version": "^1.3.3",
      "model_name": "EdgeModel",
      "state": {
       "_model_module": "jupyter-cytoscape",
       "_model_module_version": "^1.3.3",
       "_model_name": "EdgeModel",
       "_view_count": null,
       "_view_module": "jupyter-cytoscape",
       "_view_module_version": "^1.3.3",
       "_view_name": "EdgeView",
       "classes": " directed ",
       "data": {
        "source": "2616648285761045021",
        "target": "-37228599785387356"
       },
       "pannable": true,
       "removed": false,
       "selectable": false,
       "selected": false
      }
     },
     "0d73f41ed7824313a399d2e8efabf5c3": {
      "model_module": "jupyter-cytoscape",
      "model_module_version": "^1.3.3",
      "model_name": "NodeModel",
      "state": {
       "_model_module": "jupyter-cytoscape",
       "_model_module_version": "^1.3.3",
       "_model_name": "NodeModel",
       "_view_count": null,
       "_view_module": "jupyter-cytoscape",
       "_view_module_version": "^1.3.3",
       "_view_name": "NodeView",
       "classes": "",
       "data": {
        "color": "gray",
        "id": "-5117866887741123363",
        "label": "moment_chunk",
        "shape": "ellipse"
       },
       "grabbable": true,
       "grabbed": false,
       "locked": false,
       "pannable": false,
       "position": {},
       "removed": false,
       "selectable": false,
       "selected": false
      }
     },
     "0d9d122bdb25485dbcf8cb7ddc9b410f": {
      "model_module": "jupyter-cytoscape",
      "model_module_version": "^1.3.3",
      "model_name": "NodeModel",
      "state": {
       "_model_module": "jupyter-cytoscape",
       "_model_module_version": "^1.3.3",
       "_model_name": "NodeModel",
       "_view_count": null,
       "_view_module": "jupyter-cytoscape",
       "_view_module_version": "^1.3.3",
       "_view_name": "NodeView",
       "classes": "",
       "data": {
        "color": "gray",
        "id": "-1281712300695053510",
        "label": "7",
        "shape": "rectangle"
       },
       "grabbable": true,
       "grabbed": false,
       "locked": false,
       "pannable": false,
       "position": {},
       "removed": false,
       "selectable": false,
       "selected": false
      }
     },
     "0dab5490aed04b5c86a1e65cd98d2a78": {
      "model_module": "jupyter-cytoscape",
      "model_module_version": "^1.3.3",
      "model_name": "EdgeModel",
      "state": {
       "_model_module": "jupyter-cytoscape",
       "_model_module_version": "^1.3.3",
       "_model_name": "EdgeModel",
       "_view_count": null,
       "_view_module": "jupyter-cytoscape",
       "_view_module_version": "^1.3.3",
       "_view_name": "EdgeView",
       "classes": " directed ",
       "data": {
        "source": "-112488371969289500",
        "target": "184982761892287133"
       },
       "pannable": true,
       "removed": false,
       "selectable": false,
       "selected": false
      }
     },
     "0e09f164485e46f887e43b1b7fbd67e3": {
      "model_module": "jupyter-cytoscape",
      "model_module_version": "^1.3.3",
      "model_name": "EdgeModel",
      "state": {
       "_model_module": "jupyter-cytoscape",
       "_model_module_version": "^1.3.3",
       "_model_name": "EdgeModel",
       "_view_count": null,
       "_view_module": "jupyter-cytoscape",
       "_view_module_version": "^1.3.3",
       "_view_name": "EdgeView",
       "classes": " directed ",
       "data": {
        "source": "3195865210526650060",
        "target": "1502078355160012559"
       },
       "pannable": true,
       "removed": false,
       "selectable": false,
       "selected": false
      }
     },
     "0edfd4b883a3439eb8e1e3f99456609c": {
      "model_module": "jupyter-cytoscape",
      "model_module_version": "^1.3.3",
      "model_name": "NodeModel",
      "state": {
       "_model_module": "jupyter-cytoscape",
       "_model_module_version": "^1.3.3",
       "_model_name": "NodeModel",
       "_view_count": null,
       "_view_module": "jupyter-cytoscape",
       "_view_module_version": "^1.3.3",
       "_view_name": "NodeView",
       "classes": "",
       "data": {
        "color": "gray",
        "id": "1447482851152760590",
        "label": "2",
        "shape": "rectangle"
       },
       "grabbable": true,
       "grabbed": false,
       "locked": false,
       "pannable": false,
       "position": {},
       "removed": false,
       "selectable": false,
       "selected": false
      }
     },
     "10155049b278482385503c9b0805b1fe": {
      "model_module": "jupyter-cytoscape",
      "model_module_version": "^1.3.3",
      "model_name": "NodeModel",
      "state": {
       "_model_module": "jupyter-cytoscape",
       "_model_module_version": "^1.3.3",
       "_model_name": "NodeModel",
       "_view_count": null,
       "_view_module": "jupyter-cytoscape",
       "_view_module_version": "^1.3.3",
       "_view_name": "NodeView",
       "classes": "",
       "data": {
        "color": "gray",
        "id": "4340474562011359389",
        "label": "2",
        "shape": "rectangle"
       },
       "grabbable": true,
       "grabbed": false,
       "locked": false,
       "pannable": false,
       "position": {},
       "removed": false,
       "selectable": false,
       "selected": false
      }
     },
     "11267b177bec4e4397e98ed45ca41b31": {
      "model_module": "jupyter-cytoscape",
      "model_module_version": "^1.3.3",
      "model_name": "EdgeModel",
      "state": {
       "_model_module": "jupyter-cytoscape",
       "_model_module_version": "^1.3.3",
       "_model_name": "EdgeModel",
       "_view_count": null,
       "_view_module": "jupyter-cytoscape",
       "_view_module_version": "^1.3.3",
       "_view_name": "EdgeView",
       "classes": " directed ",
       "data": {
        "source": "-2167166194090639036",
        "target": "3972769520085919556"
       },
       "pannable": true,
       "removed": false,
       "selectable": false,
       "selected": false
      }
     },
     "11565f3cad114bc3b4909666a1c32563": {
      "model_module": "jupyter-cytoscape",
      "model_module_version": "^1.3.3",
      "model_name": "NodeModel",
      "state": {
       "_model_module": "jupyter-cytoscape",
       "_model_module_version": "^1.3.3",
       "_model_name": "NodeModel",
       "_view_count": null,
       "_view_module": "jupyter-cytoscape",
       "_view_module_version": "^1.3.3",
       "_view_name": "NodeView",
       "classes": "",
       "data": {
        "color": "gray",
        "id": "8400466405658297064",
        "label": "9",
        "shape": "rectangle"
       },
       "grabbable": true,
       "grabbed": false,
       "locked": false,
       "pannable": false,
       "position": {},
       "removed": false,
       "selectable": false,
       "selected": false
      }
     },
     "116da7bae6084c5781a79267f10ef8c4": {
      "model_module": "jupyter-cytoscape",
      "model_module_version": "^1.3.3",
      "model_name": "NodeModel",
      "state": {
       "_model_module": "jupyter-cytoscape",
       "_model_module_version": "^1.3.3",
       "_model_name": "NodeModel",
       "_view_count": null,
       "_view_module": "jupyter-cytoscape",
       "_view_module_version": "^1.3.3",
       "_view_name": "NodeView",
       "classes": "",
       "data": {
        "color": "gray",
        "id": "-5611019528098606558",
        "label": "8",
        "shape": "rectangle"
       },
       "grabbable": true,
       "grabbed": false,
       "locked": false,
       "pannable": false,
       "position": {},
       "removed": false,
       "selectable": false,
       "selected": false
      }
     },
     "1195714d868b4f0390eb1833b275360f": {
      "model_module": "jupyter-cytoscape",
      "model_module_version": "^1.3.3",
      "model_name": "EdgeModel",
      "state": {
       "_model_module": "jupyter-cytoscape",
       "_model_module_version": "^1.3.3",
       "_model_name": "EdgeModel",
       "_view_count": null,
       "_view_module": "jupyter-cytoscape",
       "_view_module_version": "^1.3.3",
       "_view_name": "EdgeView",
       "classes": " directed ",
       "data": {
        "source": "-1029126235700373032",
        "target": "-7269518694555023247"
       },
       "pannable": true,
       "removed": false,
       "selectable": false,
       "selected": false
      }
     },
     "132bb33ed9844895985b1d782f9d871f": {
      "model_module": "jupyter-cytoscape",
      "model_module_version": "^1.3.3",
      "model_name": "NodeModel",
      "state": {
       "_model_module": "jupyter-cytoscape",
       "_model_module_version": "^1.3.3",
       "_model_name": "NodeModel",
       "_view_count": null,
       "_view_module": "jupyter-cytoscape",
       "_view_module_version": "^1.3.3",
       "_view_name": "NodeView",
       "classes": "",
       "data": {
        "color": "gray",
        "id": "-5153203639078558186",
        "label": "8",
        "shape": "rectangle"
       },
       "grabbable": true,
       "grabbed": false,
       "locked": false,
       "pannable": false,
       "position": {},
       "removed": false,
       "selectable": false,
       "selected": false
      }
     },
     "13ee6973f3d1405cabde858bf2d0175d": {
      "model_module": "jupyter-cytoscape",
      "model_module_version": "^1.3.3",
      "model_name": "EdgeModel",
      "state": {
       "_model_module": "jupyter-cytoscape",
       "_model_module_version": "^1.3.3",
       "_model_name": "EdgeModel",
       "_view_count": null,
       "_view_module": "jupyter-cytoscape",
       "_view_module_version": "^1.3.3",
       "_view_name": "EdgeView",
       "classes": " directed ",
       "data": {
        "source": "-4217037523332134368",
        "target": "3225920636829286104"
       },
       "pannable": true,
       "removed": false,
       "selectable": false,
       "selected": false
      }
     },
     "14355836fbe245baa091578dcc175e29": {
      "model_module": "jupyter-cytoscape",
      "model_module_version": "^1.3.3",
      "model_name": "EdgeModel",
      "state": {
       "_model_module": "jupyter-cytoscape",
       "_model_module_version": "^1.3.3",
       "_model_name": "EdgeModel",
       "_view_count": null,
       "_view_module": "jupyter-cytoscape",
       "_view_module_version": "^1.3.3",
       "_view_name": "EdgeView",
       "classes": " directed ",
       "data": {
        "source": "3876773746853932197",
        "target": "-2106200975212936763"
       },
       "pannable": true,
       "removed": false,
       "selectable": false,
       "selected": false
      }
     },
     "1455814afc55455e979d3a949b15f4a2": {
      "model_module": "jupyter-cytoscape",
      "model_module_version": "^1.3.3",
      "model_name": "EdgeModel",
      "state": {
       "_model_module": "jupyter-cytoscape",
       "_model_module_version": "^1.3.3",
       "_model_name": "EdgeModel",
       "_view_count": null,
       "_view_module": "jupyter-cytoscape",
       "_view_module_version": "^1.3.3",
       "_view_name": "EdgeView",
       "classes": " directed ",
       "data": {
        "source": "-5005562400941985866",
        "target": "184982761892287133"
       },
       "pannable": true,
       "removed": false,
       "selectable": false,
       "selected": false
      }
     },
     "15904a1fa4b9483e8a299f53a420f365": {
      "model_module": "jupyter-cytoscape",
      "model_module_version": "^1.3.3",
      "model_name": "NodeModel",
      "state": {
       "_model_module": "jupyter-cytoscape",
       "_model_module_version": "^1.3.3",
       "_model_name": "NodeModel",
       "_view_count": null,
       "_view_module": "jupyter-cytoscape",
       "_view_module_version": "^1.3.3",
       "_view_name": "NodeView",
       "classes": "",
       "data": {
        "color": "gray",
        "id": "3972769520085919556",
        "label": "getitem",
        "shape": "ellipse"
       },
       "grabbable": true,
       "grabbed": false,
       "locked": false,
       "pannable": false,
       "position": {},
       "removed": false,
       "selectable": false,
       "selected": false
      }
     },
     "16a47feebae84fdcac2e631ac6c66b66": {
      "model_module": "jupyter-cytoscape",
      "model_module_version": "^1.3.3",
      "model_name": "EdgeModel",
      "state": {
       "_model_module": "jupyter-cytoscape",
       "_model_module_version": "^1.3.3",
       "_model_name": "EdgeModel",
       "_view_count": null,
       "_view_module": "jupyter-cytoscape",
       "_view_module_version": "^1.3.3",
       "_view_name": "EdgeView",
       "classes": " directed ",
       "data": {
        "source": "4955096143212573041",
        "target": "-6287209855063041438"
       },
       "pannable": true,
       "removed": false,
       "selectable": false,
       "selected": false
      }
     },
     "171a3de0252e4457a7417c51fd16ae09": {
      "model_module": "jupyter-cytoscape",
      "model_module_version": "^1.3.3",
      "model_name": "NodeModel",
      "state": {
       "_model_module": "jupyter-cytoscape",
       "_model_module_version": "^1.3.3",
       "_model_name": "NodeModel",
       "_view_count": null,
       "_view_module": "jupyter-cytoscape",
       "_view_module_version": "^1.3.3",
       "_view_name": "NodeView",
       "classes": "",
       "data": {
        "color": "gray",
        "id": "1807335509999612026",
        "label": "0",
        "shape": "rectangle"
       },
       "grabbable": true,
       "grabbed": false,
       "locked": false,
       "pannable": false,
       "position": {},
       "removed": false,
       "selectable": false,
       "selected": false
      }
     },
     "1771e319f0f049e38cb8d45932b4248c": {
      "model_module": "jupyter-cytoscape",
      "model_module_version": "^1.3.3",
      "model_name": "EdgeModel",
      "state": {
       "_model_module": "jupyter-cytoscape",
       "_model_module_version": "^1.3.3",
       "_model_name": "EdgeModel",
       "_view_count": null,
       "_view_module": "jupyter-cytoscape",
       "_view_module_version": "^1.3.3",
       "_view_name": "EdgeView",
       "classes": " directed ",
       "data": {
        "source": "-7968941290167611916",
        "target": "-6367543063076607447"
       },
       "pannable": true,
       "removed": false,
       "selectable": false,
       "selected": false
      }
     },
     "18494875585948d0b941fd135d388171": {
      "model_module": "jupyter-cytoscape",
      "model_module_version": "^1.3.3",
      "model_name": "NodeModel",
      "state": {
       "_model_module": "jupyter-cytoscape",
       "_model_module_version": "^1.3.3",
       "_model_name": "NodeModel",
       "_view_count": null,
       "_view_module": "jupyter-cytoscape",
       "_view_module_version": "^1.3.3",
       "_view_name": "NodeView",
       "classes": "",
       "data": {
        "color": "gray",
        "id": "1037914120085441318",
        "label": "0",
        "shape": "rectangle"
       },
       "grabbable": true,
       "grabbed": false,
       "locked": false,
       "pannable": false,
       "position": {},
       "removed": false,
       "selectable": false,
       "selected": false
      }
     },
     "19d1ab61948842c1a8b0199b8bde7b83": {
      "model_module": "jupyter-cytoscape",
      "model_module_version": "^1.3.3",
      "model_name": "NodeModel",
      "state": {
       "_model_module": "jupyter-cytoscape",
       "_model_module_version": "^1.3.3",
       "_model_name": "NodeModel",
       "_view_count": null,
       "_view_module": "jupyter-cytoscape",
       "_view_module_version": "^1.3.3",
       "_view_name": "NodeView",
       "classes": "",
       "data": {
        "color": "gray",
        "id": "-8547906436538000492",
        "label": "7",
        "shape": "rectangle"
       },
       "grabbable": true,
       "grabbed": false,
       "locked": false,
       "pannable": false,
       "position": {},
       "removed": false,
       "selectable": false,
       "selected": false
      }
     },
     "19f72c54a8264c29a73ae56d2ade8438": {
      "model_module": "jupyter-cytoscape",
      "model_module_version": "^1.3.3",
      "model_name": "NodeModel",
      "state": {
       "_model_module": "jupyter-cytoscape",
       "_model_module_version": "^1.3.3",
       "_model_name": "NodeModel",
       "_view_count": null,
       "_view_module": "jupyter-cytoscape",
       "_view_module_version": "^1.3.3",
       "_view_name": "NodeView",
       "classes": "",
       "data": {
        "color": "gray",
        "id": "2923888348880457047",
        "label": "1",
        "shape": "rectangle"
       },
       "grabbable": true,
       "grabbed": false,
       "locked": false,
       "pannable": false,
       "position": {},
       "removed": false,
       "selectable": false,
       "selected": false
      }
     },
     "1aad81b125a244698e953094a8b3bb0a": {
      "model_module": "jupyter-cytoscape",
      "model_module_version": "^1.3.3",
      "model_name": "NodeModel",
      "state": {
       "_model_module": "jupyter-cytoscape",
       "_model_module_version": "^1.3.3",
       "_model_name": "NodeModel",
       "_view_count": null,
       "_view_module": "jupyter-cytoscape",
       "_view_module_version": "^1.3.3",
       "_view_name": "NodeView",
       "classes": "",
       "data": {
        "color": "gray",
        "id": "6949770737076218460",
        "label": "7",
        "shape": "rectangle"
       },
       "grabbable": true,
       "grabbed": false,
       "locked": false,
       "pannable": false,
       "position": {},
       "removed": false,
       "selectable": false,
       "selected": false
      }
     },
     "1ba6220c227c4c4c806a4ea4460fd492": {
      "model_module": "jupyter-cytoscape",
      "model_module_version": "^1.3.3",
      "model_name": "EdgeModel",
      "state": {
       "_model_module": "jupyter-cytoscape",
       "_model_module_version": "^1.3.3",
       "_model_name": "EdgeModel",
       "_view_count": null,
       "_view_module": "jupyter-cytoscape",
       "_view_module_version": "^1.3.3",
       "_view_name": "EdgeView",
       "classes": " directed ",
       "data": {
        "source": "-2221771745086919797",
        "target": "184982761892287133"
       },
       "pannable": true,
       "removed": false,
       "selectable": false,
       "selected": false
      }
     },
     "1fc1cc44e07f41aaacb58107108def04": {
      "model_module": "jupyter-cytoscape",
      "model_module_version": "^1.3.3",
      "model_name": "EdgeModel",
      "state": {
       "_model_module": "jupyter-cytoscape",
       "_model_module_version": "^1.3.3",
       "_model_name": "EdgeModel",
       "_view_count": null,
       "_view_module": "jupyter-cytoscape",
       "_view_module_version": "^1.3.3",
       "_view_name": "EdgeView",
       "classes": " directed ",
       "data": {
        "source": "8564337464205520519",
        "target": "-5117866887741123363"
       },
       "pannable": true,
       "removed": false,
       "selectable": false,
       "selected": false
      }
     },
     "1feeeae27f4a4280aae49134426ce933": {
      "model_module": "jupyter-cytoscape",
      "model_module_version": "^1.3.3",
      "model_name": "NodeModel",
      "state": {
       "_model_module": "jupyter-cytoscape",
       "_model_module_version": "^1.3.3",
       "_model_name": "NodeModel",
       "_view_count": null,
       "_view_module": "jupyter-cytoscape",
       "_view_module_version": "^1.3.3",
       "_view_name": "NodeView",
       "classes": "",
       "data": {
        "color": "gray",
        "id": "6409815297040754229",
        "label": "getitem",
        "shape": "ellipse"
       },
       "grabbable": true,
       "grabbed": false,
       "locked": false,
       "pannable": false,
       "position": {},
       "removed": false,
       "selectable": false,
       "selected": false
      }
     },
     "2009a4184ce14a8dbe6f5239951a69bf": {
      "model_module": "jupyter-cytoscape",
      "model_module_version": "^1.3.3",
      "model_name": "EdgeModel",
      "state": {
       "_model_module": "jupyter-cytoscape",
       "_model_module_version": "^1.3.3",
       "_model_name": "EdgeModel",
       "_view_count": null,
       "_view_module": "jupyter-cytoscape",
       "_view_module_version": "^1.3.3",
       "_view_name": "EdgeView",
       "classes": " directed ",
       "data": {
        "source": "9111874445364012702",
        "target": "1701414004694109400"
       },
       "pannable": true,
       "removed": false,
       "selectable": false,
       "selected": false
      }
     },
     "2066e7d04b8b4e78b2a6fc9dd8f199e0": {
      "model_module": "jupyter-cytoscape",
      "model_module_version": "^1.3.3",
      "model_name": "NodeModel",
      "state": {
       "_model_module": "jupyter-cytoscape",
       "_model_module_version": "^1.3.3",
       "_model_name": "NodeModel",
       "_view_count": null,
       "_view_module": "jupyter-cytoscape",
       "_view_module_version": "^1.3.3",
       "_view_name": "NodeView",
       "classes": "",
       "data": {
        "color": "gray",
        "id": "-552599466961336977",
        "label": "3",
        "shape": "rectangle"
       },
       "grabbable": true,
       "grabbed": false,
       "locked": false,
       "pannable": false,
       "position": {},
       "removed": false,
       "selectable": false,
       "selected": false
      }
     },
     "21561e77956743f2a10f67c781437f23": {
      "model_module": "jupyter-cytoscape",
      "model_module_version": "^1.3.3",
      "model_name": "NodeModel",
      "state": {
       "_model_module": "jupyter-cytoscape",
       "_model_module_version": "^1.3.3",
       "_model_name": "NodeModel",
       "_view_count": null,
       "_view_module": "jupyter-cytoscape",
       "_view_module_version": "^1.3.3",
       "_view_name": "NodeView",
       "classes": "",
       "data": {
        "color": "gray",
        "id": "1443086363873903966",
        "label": "0",
        "shape": "rectangle"
       },
       "grabbable": true,
       "grabbed": false,
       "locked": false,
       "pannable": false,
       "position": {},
       "removed": false,
       "selectable": false,
       "selected": false
      }
     },
     "21b559de010b4abb9ea3974655c4b165": {
      "model_module": "jupyter-cytoscape",
      "model_module_version": "^1.3.3",
      "model_name": "EdgeModel",
      "state": {
       "_model_module": "jupyter-cytoscape",
       "_model_module_version": "^1.3.3",
       "_model_name": "EdgeModel",
       "_view_count": null,
       "_view_module": "jupyter-cytoscape",
       "_view_module_version": "^1.3.3",
       "_view_name": "EdgeView",
       "classes": " directed ",
       "data": {
        "source": "-7378682507812236482",
        "target": "6152432435034735939"
       },
       "pannable": true,
       "removed": false,
       "selectable": false,
       "selected": false
      }
     },
     "2282b3d8a7aa42e9b7255f0255e23941": {
      "model_module": "jupyter-cytoscape",
      "model_module_version": "^1.3.3",
      "model_name": "NodeModel",
      "state": {
       "_model_module": "jupyter-cytoscape",
       "_model_module_version": "^1.3.3",
       "_model_name": "NodeModel",
       "_view_count": null,
       "_view_module": "jupyter-cytoscape",
       "_view_module_version": "^1.3.3",
       "_view_name": "NodeView",
       "classes": "",
       "data": {
        "color": "gray",
        "id": "6152432435034735939",
        "label": "series-count-agg",
        "shape": "ellipse"
       },
       "grabbable": true,
       "grabbed": false,
       "locked": false,
       "pannable": false,
       "position": {},
       "removed": false,
       "selectable": false,
       "selected": false
      }
     },
     "22959cbb4a9c4fd7b2e56d2bc504c860": {
      "model_module": "jupyter-cytoscape",
      "model_module_version": "^1.3.3",
      "model_name": "NodeModel",
      "state": {
       "_model_module": "jupyter-cytoscape",
       "_model_module_version": "^1.3.3",
       "_model_name": "NodeModel",
       "_view_count": null,
       "_view_module": "jupyter-cytoscape",
       "_view_module_version": "^1.3.3",
       "_view_name": "NodeView",
       "classes": "",
       "data": {
        "color": "gray",
        "id": "-3725739394849979632",
        "label": "moment_chunk",
        "shape": "ellipse"
       },
       "grabbable": true,
       "grabbed": false,
       "locked": false,
       "pannable": false,
       "position": {},
       "removed": false,
       "selectable": false,
       "selected": false
      }
     },
     "240ac5f52c414f57a4f73e5c82b7d263": {
      "model_module": "jupyter-cytoscape",
      "model_module_version": "^1.3.3",
      "model_name": "EdgeModel",
      "state": {
       "_model_module": "jupyter-cytoscape",
       "_model_module_version": "^1.3.3",
       "_model_name": "EdgeModel",
       "_view_count": null,
       "_view_module": "jupyter-cytoscape",
       "_view_module_version": "^1.3.3",
       "_view_name": "EdgeView",
       "classes": " directed ",
       "data": {
        "source": "4955096143212573041",
        "target": "8676483556037991517"
       },
       "pannable": true,
       "removed": false,
       "selectable": false,
       "selected": false
      }
     },
     "252372410a3645449f02804888346545": {
      "model_module": "jupyter-cytoscape",
      "model_module_version": "^1.3.3",
      "model_name": "EdgeModel",
      "state": {
       "_model_module": "jupyter-cytoscape",
       "_model_module_version": "^1.3.3",
       "_model_name": "EdgeModel",
       "_view_count": null,
       "_view_module": "jupyter-cytoscape",
       "_view_module_version": "^1.3.3",
       "_view_name": "EdgeView",
       "classes": " directed ",
       "data": {
        "source": "4401439780889061662",
        "target": "-8734375273379349208"
       },
       "pannable": true,
       "removed": false,
       "selectable": false,
       "selected": false
      }
     },
     "2596b1f7e65248d8bea0c5f3ccd8834e": {
      "model_module": "jupyter-cytoscape",
      "model_module_version": "^1.3.3",
      "model_name": "EdgeModel",
      "state": {
       "_model_module": "jupyter-cytoscape",
       "_model_module_version": "^1.3.3",
       "_model_name": "EdgeModel",
       "_view_count": null,
       "_view_module": "jupyter-cytoscape",
       "_view_module_version": "^1.3.3",
       "_view_name": "EdgeView",
       "classes": " directed ",
       "data": {
        "source": "-5369440447265678091",
        "target": "-4526504624520761209"
       },
       "pannable": true,
       "removed": false,
       "selectable": false,
       "selected": false
      }
     },
     "2676b41892164b5583e192149e1f4b0c": {
      "model_module": "jupyter-cytoscape",
      "model_module_version": "^1.3.3",
      "model_name": "EdgeModel",
      "state": {
       "_model_module": "jupyter-cytoscape",
       "_model_module_version": "^1.3.3",
       "_model_name": "EdgeModel",
       "_view_count": null,
       "_view_module": "jupyter-cytoscape",
       "_view_module_version": "^1.3.3",
       "_view_name": "EdgeView",
       "classes": " directed ",
       "data": {
        "source": "677589680642129306",
        "target": "-6932101877895291273"
       },
       "pannable": true,
       "removed": false,
       "selectable": false,
       "selected": false
      }
     },
     "27382a9a0d7e4d9388bc7dcadf803525": {
      "model_module": "jupyter-cytoscape",
      "model_module_version": "^1.3.3",
      "model_name": "EdgeModel",
      "state": {
       "_model_module": "jupyter-cytoscape",
       "_model_module_version": "^1.3.3",
       "_model_name": "EdgeModel",
       "_view_count": null,
       "_view_module": "jupyter-cytoscape",
       "_view_module_version": "^1.3.3",
       "_view_name": "EdgeView",
       "classes": " directed ",
       "data": {
        "source": "-1338044094704372978",
        "target": "4231273507007826659"
       },
       "pannable": true,
       "removed": false,
       "selectable": false,
       "selected": false
      }
     },
     "27e2a89de8794af8bb54b31e9eabe415": {
      "model_module": "jupyter-cytoscape",
      "model_module_version": "^1.3.3",
      "model_name": "EdgeModel",
      "state": {
       "_model_module": "jupyter-cytoscape",
       "_model_module_version": "^1.3.3",
       "_model_name": "EdgeModel",
       "_view_count": null,
       "_view_module": "jupyter-cytoscape",
       "_view_module_version": "^1.3.3",
       "_view_name": "EdgeView",
       "classes": " directed ",
       "data": {
        "source": "-3583752407221541378",
        "target": "-8842527888293595721"
       },
       "pannable": true,
       "removed": false,
       "selectable": false,
       "selected": false
      }
     },
     "283c2c8c1f01425db30d06f81903edbb": {
      "model_module": "jupyter-cytoscape",
      "model_module_version": "^1.3.3",
      "model_name": "EdgeModel",
      "state": {
       "_model_module": "jupyter-cytoscape",
       "_model_module_version": "^1.3.3",
       "_model_name": "EdgeModel",
       "_view_count": null,
       "_view_module": "jupyter-cytoscape",
       "_view_module_version": "^1.3.3",
       "_view_name": "EdgeView",
       "classes": " directed ",
       "data": {
        "source": "6895100733532527735",
        "target": "-319485179152153781"
       },
       "pannable": true,
       "removed": false,
       "selectable": false,
       "selected": false
      }
     },
     "28f703a6f38f47a78f9905bb12e7accf": {
      "model_module": "jupyter-cytoscape",
      "model_module_version": "^1.3.3",
      "model_name": "EdgeModel",
      "state": {
       "_model_module": "jupyter-cytoscape",
       "_model_module_version": "^1.3.3",
       "_model_name": "EdgeModel",
       "_view_count": null,
       "_view_module": "jupyter-cytoscape",
       "_view_module_version": "^1.3.3",
       "_view_name": "EdgeView",
       "classes": " directed ",
       "data": {
        "source": "-2515710812898797486",
        "target": "6464479394430704800"
       },
       "pannable": true,
       "removed": false,
       "selectable": false,
       "selected": false
      }
     },
     "291fbb6ecca4490091927939efaac6ba": {
      "model_module": "jupyter-cytoscape",
      "model_module_version": "^1.3.3",
      "model_name": "EdgeModel",
      "state": {
       "_model_module": "jupyter-cytoscape",
       "_model_module_version": "^1.3.3",
       "_model_name": "EdgeModel",
       "_view_count": null,
       "_view_module": "jupyter-cytoscape",
       "_view_module_version": "^1.3.3",
       "_view_name": "EdgeView",
       "classes": " directed ",
       "data": {
        "source": "-5003804603537895711",
        "target": "-1029126235700373032"
       },
       "pannable": true,
       "removed": false,
       "selectable": false,
       "selected": false
      }
     },
     "29751ed638414ae9abcfe87d84ab63e2": {
      "model_module": "jupyter-cytoscape",
      "model_module_version": "^1.3.3",
      "model_name": "NodeModel",
      "state": {
       "_model_module": "jupyter-cytoscape",
       "_model_module_version": "^1.3.3",
       "_model_name": "NodeModel",
       "_view_count": null,
       "_view_module": "jupyter-cytoscape",
       "_view_module_version": "^1.3.3",
       "_view_name": "NodeView",
       "classes": "",
       "data": {
        "color": "gray",
        "id": "-5003804603537895711",
        "label": "inv",
        "shape": "ellipse"
       },
       "grabbable": true,
       "grabbed": false,
       "locked": false,
       "pannable": false,
       "position": {},
       "removed": false,
       "selectable": false,
       "selected": false
      }
     },
     "298d6d7ce4ee4188af79c14e4b8bf7e1": {
      "model_module": "jupyter-cytoscape",
      "model_module_version": "^1.3.3",
      "model_name": "NodeModel",
      "state": {
       "_model_module": "jupyter-cytoscape",
       "_model_module_version": "^1.3.3",
       "_model_name": "NodeModel",
       "_view_count": null,
       "_view_module": "jupyter-cytoscape",
       "_view_module_version": "^1.3.3",
       "_view_name": "NodeView",
       "classes": "",
       "data": {
        "color": "gray",
        "id": "-4057999312786658848",
        "label": "values",
        "shape": "ellipse"
       },
       "grabbable": true,
       "grabbed": false,
       "locked": false,
       "pannable": false,
       "position": {},
       "removed": false,
       "selectable": false,
       "selected": false
      }
     },
     "29aca003f4c64ddf8440f26ef1be3e57": {
      "model_module": "jupyter-cytoscape",
      "model_module_version": "^1.3.3",
      "model_name": "EdgeModel",
      "state": {
       "_model_module": "jupyter-cytoscape",
       "_model_module_version": "^1.3.3",
       "_model_name": "EdgeModel",
       "_view_count": null,
       "_view_module": "jupyter-cytoscape",
       "_view_module_version": "^1.3.3",
       "_view_name": "EdgeView",
       "classes": " directed ",
       "data": {
        "source": "-3275424903938700773",
        "target": "-5003804603537895711"
       },
       "pannable": true,
       "removed": false,
       "selectable": false,
       "selected": false
      }
     },
     "29ae55109f03438fa0e4acf7230792bc": {
      "model_module": "jupyter-cytoscape",
      "model_module_version": "^1.3.3",
      "model_name": "EdgeModel",
      "state": {
       "_model_module": "jupyter-cytoscape",
       "_model_module_version": "^1.3.3",
       "_model_name": "EdgeModel",
       "_view_count": null,
       "_view_module": "jupyter-cytoscape",
       "_view_module_version": "^1.3.3",
       "_view_name": "EdgeView",
       "classes": " directed ",
       "data": {
        "source": "-7720302901216236855",
        "target": "-7579562603917299948"
       },
       "pannable": true,
       "removed": false,
       "selectable": false,
       "selected": false
      }
     },
     "29c93ab94643463f99e40ac270968469": {
      "model_module": "jupyter-cytoscape",
      "model_module_version": "^1.3.3",
      "model_name": "EdgeModel",
      "state": {
       "_model_module": "jupyter-cytoscape",
       "_model_module_version": "^1.3.3",
       "_model_name": "EdgeModel",
       "_view_count": null,
       "_view_module": "jupyter-cytoscape",
       "_view_module_version": "^1.3.3",
       "_view_name": "EdgeView",
       "classes": " directed ",
       "data": {
        "source": "-3725739394849979632",
        "target": "6785899678528995005"
       },
       "pannable": true,
       "removed": false,
       "selectable": false,
       "selected": false
      }
     },
     "2ac435df75644fdd9a75905002b475a1": {
      "model_module": "jupyter-cytoscape",
      "model_module_version": "^1.3.3",
      "model_name": "EdgeModel",
      "state": {
       "_model_module": "jupyter-cytoscape",
       "_model_module_version": "^1.3.3",
       "_model_name": "EdgeModel",
       "_view_count": null,
       "_view_module": "jupyter-cytoscape",
       "_view_module_version": "^1.3.3",
       "_view_name": "EdgeView",
       "classes": " directed ",
       "data": {
        "source": "4340474562011359389",
        "target": "4715882026643941570"
       },
       "pannable": true,
       "removed": false,
       "selectable": false,
       "selected": false
      }
     },
     "2ae973bd5f37486190de77c3f5c75459": {
      "model_module": "jupyter-cytoscape",
      "model_module_version": "^1.3.3",
      "model_name": "NodeModel",
      "state": {
       "_model_module": "jupyter-cytoscape",
       "_model_module_version": "^1.3.3",
       "_model_name": "NodeModel",
       "_view_count": null,
       "_view_module": "jupyter-cytoscape",
       "_view_module_version": "^1.3.3",
       "_view_name": "NodeView",
       "classes": "",
       "data": {
        "color": "gray",
        "id": "-4215484348330567060",
        "label": "2",
        "shape": "rectangle"
       },
       "grabbable": true,
       "grabbed": false,
       "locked": false,
       "pannable": false,
       "position": {},
       "removed": false,
       "selectable": false,
       "selected": false
      }
     },
     "2b4e83c008b5459e899767c35f641a0f": {
      "model_module": "jupyter-cytoscape",
      "model_module_version": "^1.3.3",
      "model_name": "EdgeModel",
      "state": {
       "_model_module": "jupyter-cytoscape",
       "_model_module_version": "^1.3.3",
       "_model_name": "EdgeModel",
       "_view_count": null,
       "_view_module": "jupyter-cytoscape",
       "_view_module_version": "^1.3.3",
       "_view_name": "EdgeView",
       "classes": " directed ",
       "data": {
        "source": "-2167166194090639036",
        "target": "4874920237189417090"
       },
       "pannable": true,
       "removed": false,
       "selectable": false,
       "selected": false
      }
     },
     "2b9924dcf00e467199d7b86650d5ff52": {
      "model_module": "jupyter-cytoscape",
      "model_module_version": "^1.3.3",
      "model_name": "NodeModel",
      "state": {
       "_model_module": "jupyter-cytoscape",
       "_model_module_version": "^1.3.3",
       "_model_name": "NodeModel",
       "_view_count": null,
       "_view_module": "jupyter-cytoscape",
       "_view_module_version": "^1.3.3",
       "_view_name": "NodeView",
       "classes": "",
       "data": {
        "color": "gray",
        "id": "2596198066178205224",
        "label": "series-count-chunk",
        "shape": "ellipse"
       },
       "grabbable": true,
       "grabbed": false,
       "locked": false,
       "pannable": false,
       "position": {},
       "removed": false,
       "selectable": false,
       "selected": false
      }
     },
     "2c68e011dc814466bae4b679ca1ad35f": {
      "model_module": "jupyter-cytoscape",
      "model_module_version": "^1.3.3",
      "model_name": "NodeModel",
      "state": {
       "_model_module": "jupyter-cytoscape",
       "_model_module_version": "^1.3.3",
       "_model_name": "NodeModel",
       "_view_count": null,
       "_view_module": "jupyter-cytoscape",
       "_view_module_version": "^1.3.3",
       "_view_name": "NodeView",
       "classes": "",
       "data": {
        "color": "gray",
        "id": "62022114239876675",
        "label": "2",
        "shape": "rectangle"
       },
       "grabbable": true,
       "grabbed": false,
       "locked": false,
       "pannable": false,
       "position": {},
       "removed": false,
       "selectable": false,
       "selected": false
      }
     },
     "2cdf2a307ce04d76b75994bd5a22c14e": {
      "model_module": "jupyter-cytoscape",
      "model_module_version": "^1.3.3",
      "model_name": "EdgeModel",
      "state": {
       "_model_module": "jupyter-cytoscape",
       "_model_module_version": "^1.3.3",
       "_model_name": "EdgeModel",
       "_view_count": null,
       "_view_module": "jupyter-cytoscape",
       "_view_module_version": "^1.3.3",
       "_view_name": "EdgeView",
       "classes": " directed ",
       "data": {
        "source": "7311966014144251763",
        "target": "-491634248083634704"
       },
       "pannable": true,
       "removed": false,
       "selectable": false,
       "selected": false
      }
     },
     "2d4394dcb41d442b8fa0b9c9f5f44e8e": {
      "model_module": "jupyter-cytoscape",
      "model_module_version": "^1.3.3",
      "model_name": "EdgeModel",
      "state": {
       "_model_module": "jupyter-cytoscape",
       "_model_module_version": "^1.3.3",
       "_model_name": "EdgeModel",
       "_view_count": null,
       "_view_module": "jupyter-cytoscape",
       "_view_module_version": "^1.3.3",
       "_view_name": "EdgeView",
       "classes": " directed ",
       "data": {
        "source": "-2793559756972020483",
        "target": "69607321029797140"
       },
       "pannable": true,
       "removed": false,
       "selectable": false,
       "selected": false
      }
     },
     "2df5ed53869f40d9a48a2bf8da653aa8": {
      "model_module": "jupyter-cytoscape",
      "model_module_version": "^1.3.3",
      "model_name": "NodeModel",
      "state": {
       "_model_module": "jupyter-cytoscape",
       "_model_module_version": "^1.3.3",
       "_model_name": "NodeModel",
       "_view_count": null,
       "_view_module": "jupyter-cytoscape",
       "_view_module_version": "^1.3.3",
       "_view_name": "NodeView",
       "classes": "",
       "data": {
        "color": "gray",
        "id": "57983970451574888",
        "label": "read-csv",
        "shape": "ellipse"
       },
       "grabbable": true,
       "grabbed": false,
       "locked": false,
       "pannable": false,
       "position": {},
       "removed": false,
       "selectable": false,
       "selected": false
      }
     },
     "2e2e88f558f844f9bab3f3e67875e4e0": {
      "model_module": "jupyter-cytoscape",
      "model_module_version": "^1.3.3",
      "model_name": "NodeModel",
      "state": {
       "_model_module": "jupyter-cytoscape",
       "_model_module_version": "^1.3.3",
       "_model_name": "NodeModel",
       "_view_count": null,
       "_view_module": "jupyter-cytoscape",
       "_view_module_version": "^1.3.3",
       "_view_name": "NodeView",
       "classes": "",
       "data": {
        "color": "gray",
        "id": "-8734375273379349208",
        "label": "inv",
        "shape": "ellipse"
       },
       "grabbable": true,
       "grabbed": false,
       "locked": false,
       "pannable": false,
       "position": {},
       "removed": false,
       "selectable": false,
       "selected": false
      }
     },
     "2e77183e92b84bb983741b0442a5dcab": {
      "model_module": "jupyter-cytoscape",
      "model_module_version": "^1.3.3",
      "model_name": "NodeModel",
      "state": {
       "_model_module": "jupyter-cytoscape",
       "_model_module_version": "^1.3.3",
       "_model_name": "NodeModel",
       "_view_count": null,
       "_view_module": "jupyter-cytoscape",
       "_view_module_version": "^1.3.3",
       "_view_name": "NodeView",
       "classes": "",
       "data": {
        "color": "gray",
        "id": "-4441795599372842548",
        "label": "4",
        "shape": "rectangle"
       },
       "grabbable": true,
       "grabbed": false,
       "locked": false,
       "pannable": false,
       "position": {},
       "removed": false,
       "selectable": false,
       "selected": false
      }
     },
     "2e86d8d30dc04cb8afd5ec5301515fe7": {
      "model_module": "jupyter-cytoscape",
      "model_module_version": "^1.3.3",
      "model_name": "EdgeModel",
      "state": {
       "_model_module": "jupyter-cytoscape",
       "_model_module_version": "^1.3.3",
       "_model_name": "EdgeModel",
       "_view_count": null,
       "_view_module": "jupyter-cytoscape",
       "_view_module_version": "^1.3.3",
       "_view_name": "EdgeView",
       "classes": " directed ",
       "data": {
        "source": "-7543958752052503077",
        "target": "-6969490760034409317"
       },
       "pannable": true,
       "removed": false,
       "selectable": false,
       "selected": false
      }
     },
     "2f64ce9321f649b1b4e1d2a01a17451c": {
      "model_module": "jupyter-cytoscape",
      "model_module_version": "^1.3.3",
      "model_name": "EdgeModel",
      "state": {
       "_model_module": "jupyter-cytoscape",
       "_model_module_version": "^1.3.3",
       "_model_name": "EdgeModel",
       "_view_count": null,
       "_view_module": "jupyter-cytoscape",
       "_view_module_version": "^1.3.3",
       "_view_name": "EdgeView",
       "classes": " directed ",
       "data": {
        "source": "-3566701184304504112",
        "target": "-6767770366207860245"
       },
       "pannable": true,
       "removed": false,
       "selectable": false,
       "selected": false
      }
     },
     "2fc2b2a090094b3a89a2a97977d3876a": {
      "model_module": "jupyter-cytoscape",
      "model_module_version": "^1.3.3",
      "model_name": "EdgeModel",
      "state": {
       "_model_module": "jupyter-cytoscape",
       "_model_module_version": "^1.3.3",
       "_model_name": "EdgeModel",
       "_view_count": null,
       "_view_module": "jupyter-cytoscape",
       "_view_module_version": "^1.3.3",
       "_view_name": "EdgeView",
       "classes": " directed ",
       "data": {
        "source": "3146456546281949965",
        "target": "8564337464205520519"
       },
       "pannable": true,
       "removed": false,
       "selectable": false,
       "selected": false
      }
     },
     "3025f4dc764d41e2b592821ebd4fe7df": {
      "model_module": "jupyter-cytoscape",
      "model_module_version": "^1.3.3",
      "model_name": "NodeModel",
      "state": {
       "_model_module": "jupyter-cytoscape",
       "_model_module_version": "^1.3.3",
       "_model_name": "NodeModel",
       "_view_count": null,
       "_view_module": "jupyter-cytoscape",
       "_view_module_version": "^1.3.3",
       "_view_name": "NodeView",
       "classes": "",
       "data": {
        "color": "gray",
        "id": "2513584305555282181",
        "label": "moment_chunk",
        "shape": "ellipse"
       },
       "grabbable": true,
       "grabbed": false,
       "locked": false,
       "pannable": false,
       "position": {},
       "removed": false,
       "selectable": false,
       "selected": false
      }
     },
     "305edfb97cb142d5bb76ea052343a170": {
      "model_module": "jupyter-cytoscape",
      "model_module_version": "^1.3.3",
      "model_name": "NodeModel",
      "state": {
       "_model_module": "jupyter-cytoscape",
       "_model_module_version": "^1.3.3",
       "_model_name": "NodeModel",
       "_view_count": null,
       "_view_module": "jupyter-cytoscape",
       "_view_module_version": "^1.3.3",
       "_view_name": "NodeView",
       "classes": "",
       "data": {
        "color": "gray",
        "id": "5605688391892181187",
        "label": "getitem",
        "shape": "ellipse"
       },
       "grabbable": true,
       "grabbed": false,
       "locked": false,
       "pannable": false,
       "position": {},
       "removed": false,
       "selectable": false,
       "selected": false
      }
     },
     "3102058868d14aa4b82affdff7579513": {
      "model_module": "jupyter-cytoscape",
      "model_module_version": "^1.3.3",
      "model_name": "NodeModel",
      "state": {
       "_model_module": "jupyter-cytoscape",
       "_model_module_version": "^1.3.3",
       "_model_name": "NodeModel",
       "_view_count": null,
       "_view_module": "jupyter-cytoscape",
       "_view_module_version": "^1.3.3",
       "_view_name": "NodeView",
       "classes": "",
       "data": {
        "color": "gray",
        "id": "-2485608478839540116",
        "label": "2",
        "shape": "rectangle"
       },
       "grabbable": true,
       "grabbed": false,
       "locked": false,
       "pannable": false,
       "position": {},
       "removed": false,
       "selectable": false,
       "selected": false
      }
     },
     "3121e3c3c9dd49aeb3c8dd9405511ff7": {
      "model_module": "jupyter-cytoscape",
      "model_module_version": "^1.3.3",
      "model_name": "EdgeModel",
      "state": {
       "_model_module": "jupyter-cytoscape",
       "_model_module_version": "^1.3.3",
       "_model_name": "EdgeModel",
       "_view_count": null,
       "_view_module": "jupyter-cytoscape",
       "_view_module_version": "^1.3.3",
       "_view_name": "EdgeView",
       "classes": " directed ",
       "data": {
        "source": "-6603899307660636790",
        "target": "-3566701184304504112"
       },
       "pannable": true,
       "removed": false,
       "selectable": false,
       "selected": false
      }
     },
     "3157cf84863448a5b467d3df0f25ab8c": {
      "model_module": "jupyter-cytoscape",
      "model_module_version": "^1.3.3",
      "model_name": "NodeModel",
      "state": {
       "_model_module": "jupyter-cytoscape",
       "_model_module_version": "^1.3.3",
       "_model_name": "NodeModel",
       "_view_count": null,
       "_view_module": "jupyter-cytoscape",
       "_view_module_version": "^1.3.3",
       "_view_name": "NodeView",
       "classes": "",
       "data": {
        "color": "gray",
        "id": "-3542341888456689490",
        "label": "getitem",
        "shape": "ellipse"
       },
       "grabbable": true,
       "grabbed": false,
       "locked": false,
       "pannable": false,
       "position": {},
       "removed": false,
       "selectable": false,
       "selected": false
      }
     },
     "320d211f5ab1470db4522d120b0667d8": {
      "model_module": "jupyter-cytoscape",
      "model_module_version": "^1.3.3",
      "model_name": "EdgeModel",
      "state": {
       "_model_module": "jupyter-cytoscape",
       "_model_module_version": "^1.3.3",
       "_model_name": "EdgeModel",
       "_view_count": null,
       "_view_module": "jupyter-cytoscape",
       "_view_module_version": "^1.3.3",
       "_view_name": "EdgeView",
       "classes": " directed ",
       "data": {
        "source": "2513584305555282181",
        "target": "-8877053739325490542"
       },
       "pannable": true,
       "removed": false,
       "selectable": false,
       "selected": false
      }
     },
     "3441e860265e41beb9283414b7f5159c": {
      "model_module": "jupyter-cytoscape",
      "model_module_version": "^1.3.3",
      "model_name": "NodeModel",
      "state": {
       "_model_module": "jupyter-cytoscape",
       "_model_module_version": "^1.3.3",
       "_model_name": "NodeModel",
       "_view_count": null,
       "_view_module": "jupyter-cytoscape",
       "_view_module_version": "^1.3.3",
       "_view_name": "NodeView",
       "classes": "",
       "data": {
        "color": "gray",
        "id": "8064324662258291745",
        "label": "5",
        "shape": "rectangle"
       },
       "grabbable": true,
       "grabbed": false,
       "locked": false,
       "pannable": false,
       "position": {},
       "removed": false,
       "selectable": false,
       "selected": false
      }
     },
     "35638a968aca4d2799f7fef121a5cc6e": {
      "model_module": "jupyter-cytoscape",
      "model_module_version": "^1.3.3",
      "model_name": "EdgeModel",
      "state": {
       "_model_module": "jupyter-cytoscape",
       "_model_module_version": "^1.3.3",
       "_model_name": "EdgeModel",
       "_view_count": null,
       "_view_module": "jupyter-cytoscape",
       "_view_module_version": "^1.3.3",
       "_view_name": "EdgeView",
       "classes": " directed ",
       "data": {
        "source": "-6932101877895291273",
        "target": "2923888348880457047"
       },
       "pannable": true,
       "removed": false,
       "selectable": false,
       "selected": false
      }
     },
     "382626b1b0824713833a4181739a3d27": {
      "model_module": "jupyter-cytoscape",
      "model_module_version": "^1.3.3",
      "model_name": "NodeModel",
      "state": {
       "_model_module": "jupyter-cytoscape",
       "_model_module_version": "^1.3.3",
       "_model_name": "NodeModel",
       "_view_count": null,
       "_view_module": "jupyter-cytoscape",
       "_view_module_version": "^1.3.3",
       "_view_name": "NodeView",
       "classes": "",
       "data": {
        "color": "gray",
        "id": "-7707829810599726532",
        "label": "1",
        "shape": "rectangle"
       },
       "grabbable": true,
       "grabbed": false,
       "locked": false,
       "pannable": false,
       "position": {},
       "removed": false,
       "selectable": false,
       "selected": false
      }
     },
     "3869df191ca84e36a7b6c858b1057263": {
      "model_module": "jupyter-cytoscape",
      "model_module_version": "^1.3.3",
      "model_name": "NodeModel",
      "state": {
       "_model_module": "jupyter-cytoscape",
       "_model_module_version": "^1.3.3",
       "_model_name": "NodeModel",
       "_view_count": null,
       "_view_module": "jupyter-cytoscape",
       "_view_module_version": "^1.3.3",
       "_view_name": "NodeView",
       "classes": "",
       "data": {
        "color": "gray",
        "id": "-6551078972490472845",
        "label": "3",
        "shape": "rectangle"
       },
       "grabbable": true,
       "grabbed": false,
       "locked": false,
       "pannable": false,
       "position": {},
       "removed": false,
       "selectable": false,
       "selected": false
      }
     },
     "38c7099e6f7049b68b338ff671fc1a9e": {
      "model_module": "jupyter-cytoscape",
      "model_module_version": "^1.3.3",
      "model_name": "NodeModel",
      "state": {
       "_model_module": "jupyter-cytoscape",
       "_model_module_version": "^1.3.3",
       "_model_name": "NodeModel",
       "_view_count": null,
       "_view_module": "jupyter-cytoscape",
       "_view_module_version": "^1.3.3",
       "_view_name": "NodeView",
       "classes": "",
       "data": {
        "color": "gray",
        "id": "5388024345117080346",
        "label": "2",
        "shape": "rectangle"
       },
       "grabbable": true,
       "grabbed": false,
       "locked": false,
       "pannable": false,
       "position": {},
       "removed": false,
       "selectable": false,
       "selected": false
      }
     },
     "393842acbe294ae9a033124b154a90bc": {
      "model_module": "jupyter-cytoscape",
      "model_module_version": "^1.3.3",
      "model_name": "NodeModel",
      "state": {
       "_model_module": "jupyter-cytoscape",
       "_model_module_version": "^1.3.3",
       "_model_name": "NodeModel",
       "_view_count": null,
       "_view_module": "jupyter-cytoscape",
       "_view_module_version": "^1.3.3",
       "_view_name": "NodeView",
       "classes": "",
       "data": {
        "color": "gray",
        "id": "4395144565555050114",
        "label": "0",
        "shape": "rectangle"
       },
       "grabbable": true,
       "grabbed": false,
       "locked": false,
       "pannable": false,
       "position": {},
       "removed": false,
       "selectable": false,
       "selected": false
      }
     },
     "39ae372be5ee45f798be3bc3ce6b9620": {
      "model_module": "jupyter-cytoscape",
      "model_module_version": "^1.3.3",
      "model_name": "NodeModel",
      "state": {
       "_model_module": "jupyter-cytoscape",
       "_model_module_version": "^1.3.3",
       "_model_name": "NodeModel",
       "_view_count": null,
       "_view_module": "jupyter-cytoscape",
       "_view_module_version": "^1.3.3",
       "_view_name": "NodeView",
       "classes": "",
       "data": {
        "color": "gray",
        "id": "-6367470941941654894",
        "label": "series-count-chunk",
        "shape": "ellipse"
       },
       "grabbable": true,
       "grabbed": false,
       "locked": false,
       "pannable": false,
       "position": {},
       "removed": false,
       "selectable": false,
       "selected": false
      }
     },
     "3ab33e631cc746b39d1028ec5eaf038f": {
      "model_module": "jupyter-cytoscape",
      "model_module_version": "^1.3.3",
      "model_name": "NodeModel",
      "state": {
       "_model_module": "jupyter-cytoscape",
       "_model_module_version": "^1.3.3",
       "_model_name": "NodeModel",
       "_view_count": null,
       "_view_module": "jupyter-cytoscape",
       "_view_module_version": "^1.3.3",
       "_view_name": "NodeView",
       "classes": "",
       "data": {
        "color": "gray",
        "id": "-1338044094704372978",
        "label": "moment_chunk",
        "shape": "ellipse"
       },
       "grabbable": true,
       "grabbed": false,
       "locked": false,
       "pannable": false,
       "position": {},
       "removed": false,
       "selectable": false,
       "selected": false
      }
     },
     "3b007e822da24bd38cfea8ce2a9a4473": {
      "model_module": "jupyter-cytoscape",
      "model_module_version": "^1.3.3",
      "model_name": "EdgeModel",
      "state": {
       "_model_module": "jupyter-cytoscape",
       "_model_module_version": "^1.3.3",
       "_model_name": "EdgeModel",
       "_view_count": null,
       "_view_module": "jupyter-cytoscape",
       "_view_module_version": "^1.3.3",
       "_view_name": "EdgeView",
       "classes": " directed ",
       "data": {
        "source": "-8810457077455303002",
        "target": "7955123607254759015"
       },
       "pannable": true,
       "removed": false,
       "selectable": false,
       "selected": false
      }
     },
     "3c2f9051d8d842559f1318b1e5534b73": {
      "model_module": "jupyter-cytoscape",
      "model_module_version": "^1.3.3",
      "model_name": "NodeModel",
      "state": {
       "_model_module": "jupyter-cytoscape",
       "_model_module_version": "^1.3.3",
       "_model_name": "NodeModel",
       "_view_count": null,
       "_view_module": "jupyter-cytoscape",
       "_view_module_version": "^1.3.3",
       "_view_name": "NodeView",
       "classes": "",
       "data": {
        "color": "gray",
        "id": "-7540869681980464198",
        "label": "getitem",
        "shape": "ellipse"
       },
       "grabbable": true,
       "grabbed": false,
       "locked": false,
       "pannable": false,
       "position": {},
       "removed": false,
       "selectable": false,
       "selected": false
      }
     },
     "3d02551628d54b548316cf4153664f3f": {
      "model_module": "jupyter-cytoscape",
      "model_module_version": "^1.3.3",
      "model_name": "EdgeModel",
      "state": {
       "_model_module": "jupyter-cytoscape",
       "_model_module_version": "^1.3.3",
       "_model_name": "EdgeModel",
       "_view_count": null,
       "_view_module": "jupyter-cytoscape",
       "_view_module_version": "^1.3.3",
       "_view_name": "EdgeView",
       "classes": " directed ",
       "data": {
        "source": "4709838703594998954",
        "target": "1447482851152760590"
       },
       "pannable": true,
       "removed": false,
       "selectable": false,
       "selected": false
      }
     },
     "3de04bb989e44e559023f066d6a66fd0": {
      "model_module": "jupyter-cytoscape",
      "model_module_version": "^1.3.3",
      "model_name": "NodeModel",
      "state": {
       "_model_module": "jupyter-cytoscape",
       "_model_module_version": "^1.3.3",
       "_model_name": "NodeModel",
       "_view_count": null,
       "_view_module": "jupyter-cytoscape",
       "_view_module_version": "^1.3.3",
       "_view_name": "NodeView",
       "classes": "",
       "data": {
        "color": "gray",
        "id": "4746631484787725750",
        "label": "values",
        "shape": "ellipse"
       },
       "grabbable": true,
       "grabbed": false,
       "locked": false,
       "pannable": false,
       "position": {},
       "removed": false,
       "selectable": false,
       "selected": false
      }
     },
     "3f14fa1de1194bb4b064bf8fee9fa3de": {
      "model_module": "jupyter-cytoscape",
      "model_module_version": "^1.3.3",
      "model_name": "NodeModel",
      "state": {
       "_model_module": "jupyter-cytoscape",
       "_model_module_version": "^1.3.3",
       "_model_name": "NodeModel",
       "_view_count": null,
       "_view_module": "jupyter-cytoscape",
       "_view_module_version": "^1.3.3",
       "_view_name": "NodeView",
       "classes": "",
       "data": {
        "color": "gray",
        "id": "1701414004694109400",
        "label": "getitem",
        "shape": "ellipse"
       },
       "grabbable": true,
       "grabbed": false,
       "locked": false,
       "pannable": false,
       "position": {},
       "removed": false,
       "selectable": false,
       "selected": false
      }
     },
     "3f1eb30a35144918b78d99c27447dbcb": {
      "model_module": "jupyter-cytoscape",
      "model_module_version": "^1.3.3",
      "model_name": "EdgeModel",
      "state": {
       "_model_module": "jupyter-cytoscape",
       "_model_module_version": "^1.3.3",
       "_model_name": "EdgeModel",
       "_view_count": null,
       "_view_module": "jupyter-cytoscape",
       "_view_module_version": "^1.3.3",
       "_view_name": "EdgeView",
       "classes": " directed ",
       "data": {
        "source": "-7707829810599726532",
        "target": "-5761322068268675630"
       },
       "pannable": true,
       "removed": false,
       "selectable": false,
       "selected": false
      }
     },
     "3f547609c40f4ba5b43e5552ee1612d7": {
      "model_module": "jupyter-cytoscape",
      "model_module_version": "^1.3.3",
      "model_name": "EdgeModel",
      "state": {
       "_model_module": "jupyter-cytoscape",
       "_model_module_version": "^1.3.3",
       "_model_name": "EdgeModel",
       "_view_count": null,
       "_view_module": "jupyter-cytoscape",
       "_view_module_version": "^1.3.3",
       "_view_name": "EdgeView",
       "classes": " directed ",
       "data": {
        "source": "-6526509152487130414",
        "target": "-8547906436538000492"
       },
       "pannable": true,
       "removed": false,
       "selectable": false,
       "selected": false
      }
     },
     "3f94924aee3e4035b77215440d8ec9db": {
      "model_module": "jupyter-cytoscape",
      "model_module_version": "^1.3.3",
      "model_name": "EdgeModel",
      "state": {
       "_model_module": "jupyter-cytoscape",
       "_model_module_version": "^1.3.3",
       "_model_name": "EdgeModel",
       "_view_count": null,
       "_view_module": "jupyter-cytoscape",
       "_view_module_version": "^1.3.3",
       "_view_name": "EdgeView",
       "classes": " directed ",
       "data": {
        "source": "2905665167366832065",
        "target": "1611353909699984045"
       },
       "pannable": true,
       "removed": false,
       "selectable": false,
       "selected": false
      }
     },
     "3fa5038fe9594f049aec6dd340674995": {
      "model_module": "jupyter-cytoscape",
      "model_module_version": "^1.3.3",
      "model_name": "EdgeModel",
      "state": {
       "_model_module": "jupyter-cytoscape",
       "_model_module_version": "^1.3.3",
       "_model_name": "EdgeModel",
       "_view_count": null,
       "_view_module": "jupyter-cytoscape",
       "_view_module_version": "^1.3.3",
       "_view_name": "EdgeView",
       "classes": " directed ",
       "data": {
        "source": "2725907834882057330",
        "target": "-8842527888293595721"
       },
       "pannable": true,
       "removed": false,
       "selectable": false,
       "selected": false
      }
     },
     "3fc5789c4d75427d80a1b35ef3296291": {
      "model_module": "jupyter-cytoscape",
      "model_module_version": "^1.3.3",
      "model_name": "NodeModel",
      "state": {
       "_model_module": "jupyter-cytoscape",
       "_model_module_version": "^1.3.3",
       "_model_name": "NodeModel",
       "_view_count": null,
       "_view_module": "jupyter-cytoscape",
       "_view_module_version": "^1.3.3",
       "_view_name": "NodeView",
       "classes": "",
       "data": {
        "color": "gray",
        "id": "6016006508018363721",
        "label": "6",
        "shape": "rectangle"
       },
       "grabbable": true,
       "grabbed": false,
       "locked": false,
       "pannable": false,
       "position": {},
       "removed": false,
       "selectable": false,
       "selected": false
      }
     },
     "400e29474a184961b2b3a4c05cb1a2fc": {
      "model_module": "jupyter-cytoscape",
      "model_module_version": "^1.3.3",
      "model_name": "NodeModel",
      "state": {
       "_model_module": "jupyter-cytoscape",
       "_model_module_version": "^1.3.3",
       "_model_name": "NodeModel",
       "_view_count": null,
       "_view_module": "jupyter-cytoscape",
       "_view_module_version": "^1.3.3",
       "_view_name": "NodeView",
       "classes": "",
       "data": {
        "color": "gray",
        "id": "2725907834882057330",
        "label": "0",
        "shape": "rectangle"
       },
       "grabbable": true,
       "grabbed": false,
       "locked": false,
       "pannable": false,
       "position": {},
       "removed": false,
       "selectable": false,
       "selected": false
      }
     },
     "4030013fdc6948f59a5f5643fdaf38e0": {
      "model_module": "jupyter-cytoscape",
      "model_module_version": "^1.3.3",
      "model_name": "NodeModel",
      "state": {
       "_model_module": "jupyter-cytoscape",
       "_model_module_version": "^1.3.3",
       "_model_name": "NodeModel",
       "_view_count": null,
       "_view_module": "jupyter-cytoscape",
       "_view_module_version": "^1.3.3",
       "_view_name": "NodeView",
       "classes": "",
       "data": {
        "color": "gray",
        "id": "3876773746853932197",
        "label": "getitem",
        "shape": "ellipse"
       },
       "grabbable": true,
       "grabbed": false,
       "locked": false,
       "pannable": false,
       "position": {},
       "removed": false,
       "selectable": false,
       "selected": false
      }
     },
     "40720beb8fbd47b997f0d26f1bd84b54": {
      "model_module": "jupyter-cytoscape",
      "model_module_version": "^1.3.3",
      "model_name": "EdgeModel",
      "state": {
       "_model_module": "jupyter-cytoscape",
       "_model_module_version": "^1.3.3",
       "_model_name": "EdgeModel",
       "_view_count": null,
       "_view_module": "jupyter-cytoscape",
       "_view_module_version": "^1.3.3",
       "_view_name": "EdgeView",
       "classes": " directed ",
       "data": {
        "source": "7344211465650382778",
        "target": "6152432435034735939"
       },
       "pannable": true,
       "removed": false,
       "selectable": false,
       "selected": false
      }
     },
     "41024dcc895b4456951932dd070d1f2a": {
      "model_module": "jupyter-cytoscape",
      "model_module_version": "^1.3.3",
      "model_name": "NodeModel",
      "state": {
       "_model_module": "jupyter-cytoscape",
       "_model_module_version": "^1.3.3",
       "_model_name": "NodeModel",
       "_view_count": null,
       "_view_module": "jupyter-cytoscape",
       "_view_module_version": "^1.3.3",
       "_view_name": "NodeView",
       "classes": "",
       "data": {
        "color": "gray",
        "id": "-5940548351038569025",
        "label": "read-csv",
        "shape": "ellipse"
       },
       "grabbable": true,
       "grabbed": false,
       "locked": false,
       "pannable": false,
       "position": {},
       "removed": false,
       "selectable": false,
       "selected": false
      }
     },
     "4169a3b752b948b19024730d12df0291": {
      "model_module": "jupyter-cytoscape",
      "model_module_version": "^1.3.3",
      "model_name": "EdgeModel",
      "state": {
       "_model_module": "jupyter-cytoscape",
       "_model_module_version": "^1.3.3",
       "_model_name": "EdgeModel",
       "_view_count": null,
       "_view_module": "jupyter-cytoscape",
       "_view_module_version": "^1.3.3",
       "_view_name": "EdgeView",
       "classes": " directed ",
       "data": {
        "source": "57983970451574888",
        "target": "2725907834882057330"
       },
       "pannable": true,
       "removed": false,
       "selectable": false,
       "selected": false
      }
     },
     "41b54c44b0f143aa862dadcfeef3caa4": {
      "model_module": "jupyter-cytoscape",
      "model_module_version": "^1.3.3",
      "model_name": "NodeModel",
      "state": {
       "_model_module": "jupyter-cytoscape",
       "_model_module_version": "^1.3.3",
       "_model_name": "NodeModel",
       "_view_count": null,
       "_view_module": "jupyter-cytoscape",
       "_view_module_version": "^1.3.3",
       "_view_name": "NodeView",
       "classes": "",
       "data": {
        "color": "gray",
        "id": "-4685542835066236729",
        "label": "series-count-chunk",
        "shape": "ellipse"
       },
       "grabbable": true,
       "grabbed": false,
       "locked": false,
       "pannable": false,
       "position": {},
       "removed": false,
       "selectable": false,
       "selected": false
      }
     },
     "421e0af9f86c4c358008314074e58482": {
      "model_module": "jupyter-cytoscape",
      "model_module_version": "^1.3.3",
      "model_name": "EdgeModel",
      "state": {
       "_model_module": "jupyter-cytoscape",
       "_model_module_version": "^1.3.3",
       "_model_name": "EdgeModel",
       "_view_count": null,
       "_view_module": "jupyter-cytoscape",
       "_view_module_version": "^1.3.3",
       "_view_name": "EdgeView",
       "classes": " directed ",
       "data": {
        "source": "2616648285761045021",
        "target": "3146456546281949965"
       },
       "pannable": true,
       "removed": false,
       "selectable": false,
       "selected": false
      }
     },
     "42ea84a9d9264f00b8b06aae149ea809": {
      "model_module": "jupyter-cytoscape",
      "model_module_version": "^1.3.3",
      "model_name": "EdgeModel",
      "state": {
       "_model_module": "jupyter-cytoscape",
       "_model_module_version": "^1.3.3",
       "_model_name": "EdgeModel",
       "_view_count": null,
       "_view_module": "jupyter-cytoscape",
       "_view_module_version": "^1.3.3",
       "_view_name": "EdgeView",
       "classes": " directed ",
       "data": {
        "source": "-5086895261265927921",
        "target": "-3275424903938700773"
       },
       "pannable": true,
       "removed": false,
       "selectable": false,
       "selected": false
      }
     },
     "43d3831e755149249516559a875c96a8": {
      "model_module": "jupyter-cytoscape",
      "model_module_version": "^1.3.3",
      "model_name": "NodeModel",
      "state": {
       "_model_module": "jupyter-cytoscape",
       "_model_module_version": "^1.3.3",
       "_model_name": "NodeModel",
       "_view_count": null,
       "_view_module": "jupyter-cytoscape",
       "_view_module_version": "^1.3.3",
       "_view_name": "NodeView",
       "classes": "",
       "data": {
        "color": "gray",
        "id": "-1029126235700373032",
        "label": "7",
        "shape": "rectangle"
       },
       "grabbable": true,
       "grabbed": false,
       "locked": false,
       "pannable": false,
       "position": {},
       "removed": false,
       "selectable": false,
       "selected": false
      }
     },
     "46bdf7bbbd78466c94b1057f4e661eb8": {
      "model_module": "jupyter-cytoscape",
      "model_module_version": "^1.3.3",
      "model_name": "NodeModel",
      "state": {
       "_model_module": "jupyter-cytoscape",
       "_model_module_version": "^1.3.3",
       "_model_name": "NodeModel",
       "_view_count": null,
       "_view_module": "jupyter-cytoscape",
       "_view_module_version": "^1.3.3",
       "_view_name": "NodeView",
       "classes": "",
       "data": {
        "color": "gray",
        "id": "1393591815042592125",
        "label": "series-sum-chunk",
        "shape": "ellipse"
       },
       "grabbable": true,
       "grabbed": false,
       "locked": false,
       "pannable": false,
       "position": {},
       "removed": false,
       "selectable": false,
       "selected": false
      }
     },
     "48b6d5b220c14677b99b7a5bef945321": {
      "model_module": "jupyter-cytoscape",
      "model_module_version": "^1.3.3",
      "model_name": "NodeModel",
      "state": {
       "_model_module": "jupyter-cytoscape",
       "_model_module_version": "^1.3.3",
       "_model_name": "NodeModel",
       "_view_count": null,
       "_view_module": "jupyter-cytoscape",
       "_view_module_version": "^1.3.3",
       "_view_name": "NodeView",
       "classes": "",
       "data": {
        "color": "gray",
        "id": "5478514520401625393",
        "label": "8",
        "shape": "rectangle"
       },
       "grabbable": true,
       "grabbed": false,
       "locked": false,
       "pannable": false,
       "position": {},
       "removed": false,
       "selectable": false,
       "selected": false
      }
     },
     "4a3ab472ed094ec6b72588b93c845390": {
      "model_module": "jupyter-cytoscape",
      "model_module_version": "^1.3.3",
      "model_name": "NodeModel",
      "state": {
       "_model_module": "jupyter-cytoscape",
       "_model_module_version": "^1.3.3",
       "_model_name": "NodeModel",
       "_view_count": null,
       "_view_module": "jupyter-cytoscape",
       "_view_module_version": "^1.3.3",
       "_view_name": "NodeView",
       "classes": "",
       "data": {
        "color": "gray",
        "id": "-7720302901216236855",
        "label": "7",
        "shape": "rectangle"
       },
       "grabbable": true,
       "grabbed": false,
       "locked": false,
       "pannable": false,
       "position": {},
       "removed": false,
       "selectable": false,
       "selected": false
      }
     },
     "4a4e60dd6a8048849cd5c9eb6c7ed130": {
      "model_module": "jupyter-cytoscape",
      "model_module_version": "^1.3.3",
      "model_name": "EdgeModel",
      "state": {
       "_model_module": "jupyter-cytoscape",
       "_model_module_version": "^1.3.3",
       "_model_name": "EdgeModel",
       "_view_count": null,
       "_view_module": "jupyter-cytoscape",
       "_view_module_version": "^1.3.3",
       "_view_name": "EdgeView",
       "classes": " directed ",
       "data": {
        "source": "6288788255892384863",
        "target": "-2040265680436002067"
       },
       "pannable": true,
       "removed": false,
       "selectable": false,
       "selected": false
      }
     },
     "4a527edc71d547078c31349b9edecb2b": {
      "model_module": "jupyter-cytoscape",
      "model_module_version": "^1.3.3",
      "model_name": "NodeModel",
      "state": {
       "_model_module": "jupyter-cytoscape",
       "_model_module_version": "^1.3.3",
       "_model_name": "NodeModel",
       "_view_count": null,
       "_view_module": "jupyter-cytoscape",
       "_view_module_version": "^1.3.3",
       "_view_name": "NodeView",
       "classes": "",
       "data": {
        "color": "gray",
        "id": "1754664420154693037",
        "label": "5",
        "shape": "rectangle"
       },
       "grabbable": true,
       "grabbed": false,
       "locked": false,
       "pannable": false,
       "position": {},
       "removed": false,
       "selectable": false,
       "selected": false
      }
     },
     "4bec7f4a61d24b5c9066ad1fa037cce2": {
      "model_module": "jupyter-cytoscape",
      "model_module_version": "^1.3.3",
      "model_name": "NodeModel",
      "state": {
       "_model_module": "jupyter-cytoscape",
       "_model_module_version": "^1.3.3",
       "_model_name": "NodeModel",
       "_view_count": null,
       "_view_module": "jupyter-cytoscape",
       "_view_module_version": "^1.3.3",
       "_view_name": "NodeView",
       "classes": "",
       "data": {
        "color": "gray",
        "id": "298775349366692788",
        "label": "read-csv",
        "shape": "ellipse"
       },
       "grabbable": true,
       "grabbed": false,
       "locked": false,
       "pannable": false,
       "position": {},
       "removed": false,
       "selectable": false,
       "selected": false
      }
     },
     "4c7d1b6b98bc412794eb34687a18f34b": {
      "model_module": "jupyter-cytoscape",
      "model_module_version": "^1.3.3",
      "model_name": "NodeModel",
      "state": {
       "_model_module": "jupyter-cytoscape",
       "_model_module_version": "^1.3.3",
       "_model_name": "NodeModel",
       "_view_count": null,
       "_view_module": "jupyter-cytoscape",
       "_view_module_version": "^1.3.3",
       "_view_name": "NodeView",
       "classes": "",
       "data": {
        "color": "gray",
        "id": "4138459781648944073",
        "label": "getitem",
        "shape": "ellipse"
       },
       "grabbable": true,
       "grabbed": false,
       "locked": false,
       "pannable": false,
       "position": {},
       "removed": false,
       "selectable": false,
       "selected": false
      }
     },
     "4cc5fd5617d5442d83fc7c1a82382fd9": {
      "model_module": "jupyter-cytoscape",
      "model_module_version": "^1.3.3",
      "model_name": "EdgeModel",
      "state": {
       "_model_module": "jupyter-cytoscape",
       "_model_module_version": "^1.3.3",
       "_model_name": "EdgeModel",
       "_view_count": null,
       "_view_module": "jupyter-cytoscape",
       "_view_module_version": "^1.3.3",
       "_view_name": "EdgeView",
       "classes": " directed ",
       "data": {
        "source": "140097693025390978",
        "target": "361932498741382297"
       },
       "pannable": true,
       "removed": false,
       "selectable": false,
       "selected": false
      }
     },
     "51388c7f843e4235b4220588a33f5422": {
      "model_module": "jupyter-cytoscape",
      "model_module_version": "^1.3.3",
      "model_name": "EdgeModel",
      "state": {
       "_model_module": "jupyter-cytoscape",
       "_model_module_version": "^1.3.3",
       "_model_name": "EdgeModel",
       "_view_count": null,
       "_view_module": "jupyter-cytoscape",
       "_view_module_version": "^1.3.3",
       "_view_name": "EdgeView",
       "classes": " directed ",
       "data": {
        "source": "2725907834882057330",
        "target": "-51528055469832570"
       },
       "pannable": true,
       "removed": false,
       "selectable": false,
       "selected": false
      }
     },
     "51ab0871bc1d4e4d86cdddd35c6d06ac": {
      "model_module": "jupyter-cytoscape",
      "model_module_version": "^1.3.3",
      "model_name": "NodeModel",
      "state": {
       "_model_module": "jupyter-cytoscape",
       "_model_module_version": "^1.3.3",
       "_model_name": "NodeModel",
       "_view_count": null,
       "_view_module": "jupyter-cytoscape",
       "_view_module_version": "^1.3.3",
       "_view_name": "NodeView",
       "classes": "",
       "data": {
        "color": "gray",
        "id": "1611353909699984045",
        "label": "2",
        "shape": "rectangle"
       },
       "grabbable": true,
       "grabbed": false,
       "locked": false,
       "pannable": false,
       "position": {},
       "removed": false,
       "selectable": false,
       "selected": false
      }
     },
     "5237be2fa23e451c9261b47b55976837": {
      "model_module": "jupyter-cytoscape",
      "model_module_version": "^1.3.3",
      "model_name": "NodeModel",
      "state": {
       "_model_module": "jupyter-cytoscape",
       "_model_module_version": "^1.3.3",
       "_model_name": "NodeModel",
       "_view_count": null,
       "_view_module": "jupyter-cytoscape",
       "_view_module_version": "^1.3.3",
       "_view_name": "NodeView",
       "classes": "",
       "data": {
        "color": "gray",
        "id": "-7968941290167611916",
        "label": "inv",
        "shape": "ellipse"
       },
       "grabbable": true,
       "grabbed": false,
       "locked": false,
       "pannable": false,
       "position": {},
       "removed": false,
       "selectable": false,
       "selected": false
      }
     },
     "5242d092cad049abb7815f258946cd76": {
      "model_module": "jupyter-cytoscape",
      "model_module_version": "^1.3.3",
      "model_name": "EdgeModel",
      "state": {
       "_model_module": "jupyter-cytoscape",
       "_model_module_version": "^1.3.3",
       "_model_name": "EdgeModel",
       "_view_count": null,
       "_view_module": "jupyter-cytoscape",
       "_view_module_version": "^1.3.3",
       "_view_name": "EdgeView",
       "classes": " directed ",
       "data": {
        "source": "4340474562011359389",
        "target": "8212088692524812164"
       },
       "pannable": true,
       "removed": false,
       "selectable": false,
       "selected": false
      }
     },
     "5462280cfb16451d90fce21785df3d08": {
      "model_module": "jupyter-cytoscape",
      "model_module_version": "^1.3.3",
      "model_name": "NodeModel",
      "state": {
       "_model_module": "jupyter-cytoscape",
       "_model_module_version": "^1.3.3",
       "_model_name": "NodeModel",
       "_view_count": null,
       "_view_module": "jupyter-cytoscape",
       "_view_module_version": "^1.3.3",
       "_view_name": "NodeView",
       "classes": "",
       "data": {
        "color": "gray",
        "id": "2845812770094942744",
        "label": "0",
        "shape": "rectangle"
       },
       "grabbable": true,
       "grabbed": false,
       "locked": false,
       "pannable": false,
       "position": {},
       "removed": false,
       "selectable": false,
       "selected": false
      }
     },
     "54b76c2678914a3db4163c2b981af488": {
      "model_module": "jupyter-cytoscape",
      "model_module_version": "^1.3.3",
      "model_name": "NodeModel",
      "state": {
       "_model_module": "jupyter-cytoscape",
       "_model_module_version": "^1.3.3",
       "_model_name": "NodeModel",
       "_view_count": null,
       "_view_module": "jupyter-cytoscape",
       "_view_module_version": "^1.3.3",
       "_view_name": "NodeView",
       "classes": "",
       "data": {
        "color": "gray",
        "id": "4231273507007826659",
        "label": "0",
        "shape": "rectangle"
       },
       "grabbable": true,
       "grabbed": false,
       "locked": false,
       "pannable": false,
       "position": {},
       "removed": false,
       "selectable": false,
       "selected": false
      }
     },
     "5541fd6e00b84c778e0c36aaec9da989": {
      "model_module": "jupyter-cytoscape",
      "model_module_version": "^1.3.3",
      "model_name": "EdgeModel",
      "state": {
       "_model_module": "jupyter-cytoscape",
       "_model_module_version": "^1.3.3",
       "_model_name": "EdgeModel",
       "_view_count": null,
       "_view_module": "jupyter-cytoscape",
       "_view_module_version": "^1.3.3",
       "_view_name": "EdgeView",
       "classes": " directed ",
       "data": {
        "source": "-5830051075459869119",
        "target": "31562602258199640"
       },
       "pannable": true,
       "removed": false,
       "selectable": false,
       "selected": false
      }
     },
     "55588bab99f2493fa1c578424d5fd2cc": {
      "model_module": "jupyter-cytoscape",
      "model_module_version": "^1.3.3",
      "model_name": "NodeModel",
      "state": {
       "_model_module": "jupyter-cytoscape",
       "_model_module_version": "^1.3.3",
       "_model_name": "NodeModel",
       "_view_count": null,
       "_view_module": "jupyter-cytoscape",
       "_view_module_version": "^1.3.3",
       "_view_name": "NodeView",
       "classes": "",
       "data": {
        "color": "gray",
        "id": "8676483556037991517",
        "label": "series-count-chunk",
        "shape": "ellipse"
       },
       "grabbable": true,
       "grabbed": false,
       "locked": false,
       "pannable": false,
       "position": {},
       "removed": false,
       "selectable": false,
       "selected": false
      }
     },
     "560ab4d86f5347db9978365a1fe0b70d": {
      "model_module": "jupyter-cytoscape",
      "model_module_version": "^1.3.3",
      "model_name": "EdgeModel",
      "state": {
       "_model_module": "jupyter-cytoscape",
       "_model_module_version": "^1.3.3",
       "_model_name": "EdgeModel",
       "_view_count": null,
       "_view_module": "jupyter-cytoscape",
       "_view_module_version": "^1.3.3",
       "_view_name": "EdgeView",
       "classes": " directed ",
       "data": {
        "source": "3863947793272323334",
        "target": "5605688391892181187"
       },
       "pannable": true,
       "removed": false,
       "selectable": false,
       "selected": false
      }
     },
     "561969f2cd5f45d6af3913fb11d158e8": {
      "model_module": "jupyter-cytoscape",
      "model_module_version": "^1.3.3",
      "model_name": "NodeModel",
      "state": {
       "_model_module": "jupyter-cytoscape",
       "_model_module_version": "^1.3.3",
       "_model_name": "NodeModel",
       "_view_count": null,
       "_view_module": "jupyter-cytoscape",
       "_view_module_version": "^1.3.3",
       "_view_name": "NodeView",
       "classes": "",
       "data": {
        "color": "gray",
        "id": "31562602258199640",
        "label": "inv",
        "shape": "ellipse"
       },
       "grabbable": true,
       "grabbed": false,
       "locked": false,
       "pannable": false,
       "position": {},
       "removed": false,
       "selectable": false,
       "selected": false
      }
     },
     "575cbe5c632b4c438e17990e11c936ec": {
      "model_module": "jupyter-cytoscape",
      "model_module_version": "^1.3.3",
      "model_name": "EdgeModel",
      "state": {
       "_model_module": "jupyter-cytoscape",
       "_model_module_version": "^1.3.3",
       "_model_name": "EdgeModel",
       "_view_count": null,
       "_view_module": "jupyter-cytoscape",
       "_view_module_version": "^1.3.3",
       "_view_name": "EdgeView",
       "classes": " directed ",
       "data": {
        "source": "8676483556037991517",
        "target": "-4594891851957170413"
       },
       "pannable": true,
       "removed": false,
       "selectable": false,
       "selected": false
      }
     },
     "580570b94f8e48e290291969f4983623": {
      "model_module": "jupyter-cytoscape",
      "model_module_version": "^1.3.3",
      "model_name": "NodeModel",
      "state": {
       "_model_module": "jupyter-cytoscape",
       "_model_module_version": "^1.3.3",
       "_model_name": "NodeModel",
       "_view_count": null,
       "_view_module": "jupyter-cytoscape",
       "_view_module_version": "^1.3.3",
       "_view_name": "NodeView",
       "classes": "",
       "data": {
        "color": "gray",
        "id": "8118994665801982470",
        "label": "3",
        "shape": "rectangle"
       },
       "grabbable": true,
       "grabbed": false,
       "locked": false,
       "pannable": false,
       "position": {},
       "removed": false,
       "selectable": false,
       "selected": false
      }
     },
     "5868a24ff8384492b98536ec2c60e8a7": {
      "model_module": "jupyter-cytoscape",
      "model_module_version": "^1.3.3",
      "model_name": "EdgeModel",
      "state": {
       "_model_module": "jupyter-cytoscape",
       "_model_module_version": "^1.3.3",
       "_model_name": "EdgeModel",
       "_view_count": null,
       "_view_module": "jupyter-cytoscape",
       "_view_module_version": "^1.3.3",
       "_view_name": "EdgeView",
       "classes": " directed ",
       "data": {
        "source": "4138459781648944073",
        "target": "2616648285761045021"
       },
       "pannable": true,
       "removed": false,
       "selectable": false,
       "selected": false
      }
     },
     "58720694c0874e94b10089b8de620270": {
      "model_module": "jupyter-cytoscape",
      "model_module_version": "^1.3.3",
      "model_name": "NodeModel",
      "state": {
       "_model_module": "jupyter-cytoscape",
       "_model_module_version": "^1.3.3",
       "_model_name": "NodeModel",
       "_view_count": null,
       "_view_module": "jupyter-cytoscape",
       "_view_module_version": "^1.3.3",
       "_view_name": "NodeView",
       "classes": "",
       "data": {
        "color": "gray",
        "id": "-8810457077455303002",
        "label": "moment_chunk",
        "shape": "ellipse"
       },
       "grabbable": true,
       "grabbed": false,
       "locked": false,
       "pannable": false,
       "position": {},
       "removed": false,
       "selectable": false,
       "selected": false
      }
     },
     "5a15b382a6244476a00b01c96ebead22": {
      "model_module": "jupyter-cytoscape",
      "model_module_version": "^1.3.3",
      "model_name": "EdgeModel",
      "state": {
       "_model_module": "jupyter-cytoscape",
       "_model_module_version": "^1.3.3",
       "_model_name": "EdgeModel",
       "_view_count": null,
       "_view_module": "jupyter-cytoscape",
       "_view_module_version": "^1.3.3",
       "_view_name": "EdgeView",
       "classes": " directed ",
       "data": {
        "source": "4715882026643941570",
        "target": "-4215484348330567060"
       },
       "pannable": true,
       "removed": false,
       "selectable": false,
       "selected": false
      }
     },
     "5a7ddc193a86427ab9a3dc0d8a3ffa42": {
      "model_module": "jupyter-cytoscape",
      "model_module_version": "^1.3.3",
      "model_name": "EdgeModel",
      "state": {
       "_model_module": "jupyter-cytoscape",
       "_model_module_version": "^1.3.3",
       "_model_name": "EdgeModel",
       "_view_count": null,
       "_view_module": "jupyter-cytoscape",
       "_view_module_version": "^1.3.3",
       "_view_name": "EdgeView",
       "classes": " directed ",
       "data": {
        "source": "6569662870341875100",
        "target": "6835517238617097832"
       },
       "pannable": true,
       "removed": false,
       "selectable": false,
       "selected": false
      }
     },
     "5a9930c2bc7e4c6bacf8b915a9f6b211": {
      "model_module": "jupyter-cytoscape",
      "model_module_version": "^1.3.3",
      "model_name": "NodeModel",
      "state": {
       "_model_module": "jupyter-cytoscape",
       "_model_module_version": "^1.3.3",
       "_model_name": "NodeModel",
       "_view_count": null,
       "_view_module": "jupyter-cytoscape",
       "_view_module_version": "^1.3.3",
       "_view_name": "NodeView",
       "classes": "",
       "data": {
        "color": "gray",
        "id": "2738253416966430043",
        "label": "getitem",
        "shape": "ellipse"
       },
       "grabbable": true,
       "grabbed": false,
       "locked": false,
       "pannable": false,
       "position": {},
       "removed": false,
       "selectable": false,
       "selected": false
      }
     },
     "5b082481b2b64d3bb8d4096ea3f31e76": {
      "model_module": "jupyter-cytoscape",
      "model_module_version": "^1.3.3",
      "model_name": "EdgeModel",
      "state": {
       "_model_module": "jupyter-cytoscape",
       "_model_module_version": "^1.3.3",
       "_model_name": "EdgeModel",
       "_view_count": null,
       "_view_module": "jupyter-cytoscape",
       "_view_module_version": "^1.3.3",
       "_view_name": "EdgeView",
       "classes": " directed ",
       "data": {
        "source": "5400438941616111090",
        "target": "-6019310918816192303"
       },
       "pannable": true,
       "removed": false,
       "selectable": false,
       "selected": false
      }
     },
     "5b3ab44f9d6b443f947fee58012706a1": {
      "model_module": "jupyter-cytoscape",
      "model_module_version": "^1.3.3",
      "model_name": "NodeModel",
      "state": {
       "_model_module": "jupyter-cytoscape",
       "_model_module_version": "^1.3.3",
       "_model_name": "NodeModel",
       "_view_count": null,
       "_view_module": "jupyter-cytoscape",
       "_view_module_version": "^1.3.3",
       "_view_name": "NodeView",
       "classes": "",
       "data": {
        "color": "gray",
        "id": "7955123607254759015",
        "label": "3",
        "shape": "rectangle"
       },
       "grabbable": true,
       "grabbed": false,
       "locked": false,
       "pannable": false,
       "position": {},
       "removed": false,
       "selectable": false,
       "selected": false
      }
     },
     "5ba8b46631c041adb4875cd08dd4869a": {
      "model_module": "jupyter-cytoscape",
      "model_module_version": "^1.3.3",
      "model_name": "NodeModel",
      "state": {
       "_model_module": "jupyter-cytoscape",
       "_model_module_version": "^1.3.3",
       "_model_name": "NodeModel",
       "_view_count": null,
       "_view_module": "jupyter-cytoscape",
       "_view_module_version": "^1.3.3",
       "_view_name": "NodeView",
       "classes": "",
       "data": {
        "color": "gray",
        "id": "7421478040065659221",
        "label": "read-csv",
        "shape": "ellipse"
       },
       "grabbable": true,
       "grabbed": false,
       "locked": false,
       "pannable": false,
       "position": {},
       "removed": false,
       "selectable": false,
       "selected": false
      }
     },
     "5c731f53b2bb4641a54d62a7334a381f": {
      "model_module": "jupyter-cytoscape",
      "model_module_version": "^1.3.3",
      "model_name": "EdgeModel",
      "state": {
       "_model_module": "jupyter-cytoscape",
       "_model_module_version": "^1.3.3",
       "_model_name": "EdgeModel",
       "_view_count": null,
       "_view_module": "jupyter-cytoscape",
       "_view_module_version": "^1.3.3",
       "_view_name": "EdgeView",
       "classes": " directed ",
       "data": {
        "source": "-8153231103120744160",
        "target": "7435184382965542668"
       },
       "pannable": true,
       "removed": false,
       "selectable": false,
       "selected": false
      }
     },
     "5ca5afe0f5ef4d86ad326ec964b60247": {
      "model_module": "jupyter-cytoscape",
      "model_module_version": "^1.3.3",
      "model_name": "NodeModel",
      "state": {
       "_model_module": "jupyter-cytoscape",
       "_model_module_version": "^1.3.3",
       "_model_name": "NodeModel",
       "_view_count": null,
       "_view_module": "jupyter-cytoscape",
       "_view_module_version": "^1.3.3",
       "_view_name": "NodeView",
       "classes": "",
       "data": {
        "color": "gray",
        "id": "-112488371969289500",
        "label": "3",
        "shape": "rectangle"
       },
       "grabbable": true,
       "grabbed": false,
       "locked": false,
       "pannable": false,
       "position": {},
       "removed": false,
       "selectable": false,
       "selected": false
      }
     },
     "5d07f7eb602d464abebc9f7527bd9bd2": {
      "model_module": "jupyter-cytoscape",
      "model_module_version": "^1.3.3",
      "model_name": "EdgeModel",
      "state": {
       "_model_module": "jupyter-cytoscape",
       "_model_module_version": "^1.3.3",
       "_model_name": "EdgeModel",
       "_view_count": null,
       "_view_module": "jupyter-cytoscape",
       "_view_module_version": "^1.3.3",
       "_view_name": "EdgeView",
       "classes": " directed ",
       "data": {
        "source": "31562602258199640",
        "target": "-3583752407221541378"
       },
       "pannable": true,
       "removed": false,
       "selectable": false,
       "selected": false
      }
     },
     "5d3ae9e85ce2441baa6dd5c9602e6acc": {
      "model_module": "jupyter-cytoscape",
      "model_module_version": "^1.3.3",
      "model_name": "EdgeModel",
      "state": {
       "_model_module": "jupyter-cytoscape",
       "_model_module_version": "^1.3.3",
       "_model_name": "EdgeModel",
       "_view_count": null,
       "_view_module": "jupyter-cytoscape",
       "_view_module_version": "^1.3.3",
       "_view_name": "EdgeView",
       "classes": " directed ",
       "data": {
        "source": "361932498741382297",
        "target": "-6551078972490472845"
       },
       "pannable": true,
       "removed": false,
       "selectable": false,
       "selected": false
      }
     },
     "5e94d37386ec4d08890429fe461ebc94": {
      "model_module": "jupyter-cytoscape",
      "model_module_version": "^1.3.3",
      "model_name": "EdgeModel",
      "state": {
       "_model_module": "jupyter-cytoscape",
       "_model_module_version": "^1.3.3",
       "_model_name": "EdgeModel",
       "_view_count": null,
       "_view_module": "jupyter-cytoscape",
       "_view_module_version": "^1.3.3",
       "_view_name": "EdgeView",
       "classes": " directed ",
       "data": {
        "source": "6895100733532527735",
        "target": "3605683863925811982"
       },
       "pannable": true,
       "removed": false,
       "selectable": false,
       "selected": false
      }
     },
     "5f5b37acf0994deeb53fd32969daa4b0": {
      "model_module": "jupyter-cytoscape",
      "model_module_version": "^1.3.3",
      "model_name": "NodeModel",
      "state": {
       "_model_module": "jupyter-cytoscape",
       "_model_module_version": "^1.3.3",
       "_model_name": "NodeModel",
       "_view_count": null,
       "_view_module": "jupyter-cytoscape",
       "_view_module_version": "^1.3.3",
       "_view_name": "NodeView",
       "classes": "",
       "data": {
        "color": "gray",
        "id": "-3583752407221541378",
        "label": "0",
        "shape": "rectangle"
       },
       "grabbable": true,
       "grabbed": false,
       "locked": false,
       "pannable": false,
       "position": {},
       "removed": false,
       "selectable": false,
       "selected": false
      }
     },
     "5fb8920b43e14420850a9a313947e267": {
      "model_module": "jupyter-cytoscape",
      "model_module_version": "^1.3.3",
      "model_name": "EdgeModel",
      "state": {
       "_model_module": "jupyter-cytoscape",
       "_model_module_version": "^1.3.3",
       "_model_name": "EdgeModel",
       "_view_count": null,
       "_view_module": "jupyter-cytoscape",
       "_view_module_version": "^1.3.3",
       "_view_name": "EdgeView",
       "classes": " directed ",
       "data": {
        "source": "-8128176172483935123",
        "target": "-112488371969289500"
       },
       "pannable": true,
       "removed": false,
       "selectable": false,
       "selected": false
      }
     },
     "5fef0391c6864331bbda1bd014fac8c8": {
      "model_module": "jupyter-cytoscape",
      "model_module_version": "^1.3.3",
      "model_name": "NodeModel",
      "state": {
       "_model_module": "jupyter-cytoscape",
       "_model_module_version": "^1.3.3",
       "_model_name": "NodeModel",
       "_view_count": null,
       "_view_module": "jupyter-cytoscape",
       "_view_module_version": "^1.3.3",
       "_view_name": "NodeView",
       "classes": "",
       "data": {
        "color": "gray",
        "id": "-3390995673812683807",
        "label": "6",
        "shape": "rectangle"
       },
       "grabbable": true,
       "grabbed": false,
       "locked": false,
       "pannable": false,
       "position": {},
       "removed": false,
       "selectable": false,
       "selected": false
      }
     },
     "600b517417c84cd7ad1033db9c47c1fa": {
      "model_module": "jupyter-cytoscape",
      "model_module_version": "^1.3.3",
      "model_name": "GraphModel",
      "state": {
       "_adj": {},
       "_model_module": "jupyter-cytoscape",
       "_model_module_version": "^1.3.3",
       "_model_name": "GraphModel",
       "_view_count": null,
       "_view_module": "jupyter-cytoscape",
       "_view_module_version": "^1.3.3",
       "_view_name": null,
       "edges": [],
       "nodes": []
      }
     },
     "6029ce911acf42f9b56ad55c3e971fdd": {
      "model_module": "jupyter-cytoscape",
      "model_module_version": "^1.3.3",
      "model_name": "NodeModel",
      "state": {
       "_model_module": "jupyter-cytoscape",
       "_model_module_version": "^1.3.3",
       "_model_name": "NodeModel",
       "_view_count": null,
       "_view_module": "jupyter-cytoscape",
       "_view_module_version": "^1.3.3",
       "_view_name": "NodeView",
       "classes": "",
       "data": {
        "color": "gray",
        "id": "-4470595765935890453",
        "label": "()",
        "shape": "rectangle"
       },
       "grabbable": true,
       "grabbed": false,
       "locked": false,
       "pannable": false,
       "position": {},
       "removed": false,
       "selectable": false,
       "selected": false
      }
     },
     "60a7e841b738467cbdfa6937933e93e6": {
      "model_module": "jupyter-cytoscape",
      "model_module_version": "^1.3.3",
      "model_name": "EdgeModel",
      "state": {
       "_model_module": "jupyter-cytoscape",
       "_model_module_version": "^1.3.3",
       "_model_name": "EdgeModel",
       "_view_count": null,
       "_view_module": "jupyter-cytoscape",
       "_view_module_version": "^1.3.3",
       "_view_name": "EdgeView",
       "classes": " directed ",
       "data": {
        "source": "-4594891851957170413",
        "target": "6152432435034735939"
       },
       "pannable": true,
       "removed": false,
       "selectable": false,
       "selected": false
      }
     },
     "611237d3771e48b18d9d2ee7387943a6": {
      "model_module": "jupyter-cytoscape",
      "model_module_version": "^1.3.3",
      "model_name": "NodeModel",
      "state": {
       "_model_module": "jupyter-cytoscape",
       "_model_module_version": "^1.3.3",
       "_model_name": "NodeModel",
       "_view_count": null,
       "_view_module": "jupyter-cytoscape",
       "_view_module_version": "^1.3.3",
       "_view_name": "NodeView",
       "classes": "",
       "data": {
        "color": "gray",
        "id": "-2047890682624148830",
        "label": "series-sum-chunk",
        "shape": "ellipse"
       },
       "grabbable": true,
       "grabbed": false,
       "locked": false,
       "pannable": false,
       "position": {},
       "removed": false,
       "selectable": false,
       "selected": false
      }
     },
     "6153c3fc1b3c45599784f7cbd0e8169d": {
      "model_module": "jupyter-cytoscape",
      "model_module_version": "^1.3.3",
      "model_name": "NodeModel",
      "state": {
       "_model_module": "jupyter-cytoscape",
       "_model_module_version": "^1.3.3",
       "_model_name": "NodeModel",
       "_view_count": null,
       "_view_module": "jupyter-cytoscape",
       "_view_module_version": "^1.3.3",
       "_view_name": "NodeView",
       "classes": "",
       "data": {
        "color": "gray",
        "id": "5953166662477914182",
        "label": "values",
        "shape": "ellipse"
       },
       "grabbable": true,
       "grabbed": false,
       "locked": false,
       "pannable": false,
       "position": {},
       "removed": false,
       "selectable": false,
       "selected": false
      }
     },
     "627d4fce9c9441d99ead97fdfc51aff8": {
      "model_module": "jupyter-cytoscape",
      "model_module_version": "^1.3.3",
      "model_name": "EdgeModel",
      "state": {
       "_model_module": "jupyter-cytoscape",
       "_model_module_version": "^1.3.3",
       "_model_name": "EdgeModel",
       "_view_count": null,
       "_view_module": "jupyter-cytoscape",
       "_view_module_version": "^1.3.3",
       "_view_name": "EdgeView",
       "classes": " directed ",
       "data": {
        "source": "1680519348814215424",
        "target": "6016006508018363721"
       },
       "pannable": true,
       "removed": false,
       "selectable": false,
       "selected": false
      }
     },
     "6329d51eea3c4743ba297d459899a604": {
      "model_module": "jupyter-cytoscape",
      "model_module_version": "^1.3.3",
      "model_name": "EdgeModel",
      "state": {
       "_model_module": "jupyter-cytoscape",
       "_model_module_version": "^1.3.3",
       "_model_name": "EdgeModel",
       "_view_count": null,
       "_view_module": "jupyter-cytoscape",
       "_view_module_version": "^1.3.3",
       "_view_name": "EdgeView",
       "classes": " directed ",
       "data": {
        "source": "-7579562603917299948",
        "target": "5400438941616111090"
       },
       "pannable": true,
       "removed": false,
       "selectable": false,
       "selected": false
      }
     },
     "636b92ffff3444c6a42970d113320df4": {
      "model_module": "jupyter-cytoscape",
      "model_module_version": "^1.3.3",
      "model_name": "NodeModel",
      "state": {
       "_model_module": "jupyter-cytoscape",
       "_model_module_version": "^1.3.3",
       "_model_name": "NodeModel",
       "_view_count": null,
       "_view_module": "jupyter-cytoscape",
       "_view_module_version": "^1.3.3",
       "_view_name": "NodeView",
       "classes": "",
       "data": {
        "color": "gray",
        "id": "-5369440447265678091",
        "label": "4",
        "shape": "rectangle"
       },
       "grabbable": true,
       "grabbed": false,
       "locked": false,
       "pannable": false,
       "position": {},
       "removed": false,
       "selectable": false,
       "selected": false
      }
     },
     "63c19791e8ea4102a87753ecf1103d0e": {
      "model_module": "jupyter-cytoscape",
      "model_module_version": "^1.3.3",
      "model_name": "EdgeModel",
      "state": {
       "_model_module": "jupyter-cytoscape",
       "_model_module_version": "^1.3.3",
       "_model_name": "EdgeModel",
       "_view_count": null,
       "_view_module": "jupyter-cytoscape",
       "_view_module_version": "^1.3.3",
       "_view_name": "EdgeView",
       "classes": " directed ",
       "data": {
        "source": "-5117866887741123363",
        "target": "8400466405658297064"
       },
       "pannable": true,
       "removed": false,
       "selectable": false,
       "selected": false
      }
     },
     "6444d867405249a4856f9e007cbaacb6": {
      "model_module": "jupyter-cytoscape",
      "model_module_version": "^1.3.3",
      "model_name": "EdgeModel",
      "state": {
       "_model_module": "jupyter-cytoscape",
       "_model_module_version": "^1.3.3",
       "_model_name": "EdgeModel",
       "_view_count": null,
       "_view_module": "jupyter-cytoscape",
       "_view_module_version": "^1.3.3",
       "_view_name": "EdgeView",
       "classes": " directed ",
       "data": {
        "source": "-1281712300695053510",
        "target": "184982761892287133"
       },
       "pannable": true,
       "removed": false,
       "selectable": false,
       "selected": false
      }
     },
     "65b0ddcc46744cb787ddd3bb3b54de0c": {
      "model_module": "jupyter-cytoscape",
      "model_module_version": "^1.3.3",
      "model_name": "NodeModel",
      "state": {
       "_model_module": "jupyter-cytoscape",
       "_model_module_version": "^1.3.3",
       "_model_name": "NodeModel",
       "_view_count": null,
       "_view_module": "jupyter-cytoscape",
       "_view_module_version": "^1.3.3",
       "_view_name": "NodeView",
       "classes": "",
       "data": {
        "color": "gray",
        "id": "3773457617987778287",
        "label": "0",
        "shape": "rectangle"
       },
       "grabbable": true,
       "grabbed": false,
       "locked": false,
       "pannable": false,
       "position": {},
       "removed": false,
       "selectable": false,
       "selected": false
      }
     },
     "65feca3b51704a42bd1eb80a399fb9f7": {
      "model_module": "jupyter-cytoscape",
      "model_module_version": "^1.3.3",
      "model_name": "NodeModel",
      "state": {
       "_model_module": "jupyter-cytoscape",
       "_model_module_version": "^1.3.3",
       "_model_name": "NodeModel",
       "_view_count": null,
       "_view_module": "jupyter-cytoscape",
       "_view_module_version": "^1.3.3",
       "_view_name": "NodeView",
       "classes": "",
       "data": {
        "color": "gray",
        "id": "7435184382965542668",
        "label": "series-sum-chunk",
        "shape": "ellipse"
       },
       "grabbable": true,
       "grabbed": false,
       "locked": false,
       "pannable": false,
       "position": {},
       "removed": false,
       "selectable": false,
       "selected": false
      }
     },
     "6843e0c64a854f01903e419ffb85efa6": {
      "model_module": "jupyter-cytoscape",
      "model_module_version": "^1.3.3",
      "model_name": "NodeModel",
      "state": {
       "_model_module": "jupyter-cytoscape",
       "_model_module_version": "^1.3.3",
       "_model_name": "NodeModel",
       "_view_count": null,
       "_view_module": "jupyter-cytoscape",
       "_view_module_version": "^1.3.3",
       "_view_name": "NodeView",
       "classes": "",
       "data": {
        "color": "gray",
        "id": "-6969490760034409317",
        "label": "moment_chunk",
        "shape": "ellipse"
       },
       "grabbable": true,
       "grabbed": false,
       "locked": false,
       "pannable": false,
       "position": {},
       "removed": false,
       "selectable": false,
       "selected": false
      }
     },
     "6a6a7b6921d84868958f28a67b81c504": {
      "model_module": "jupyter-cytoscape",
      "model_module_version": "^1.3.3",
      "model_name": "EdgeModel",
      "state": {
       "_model_module": "jupyter-cytoscape",
       "_model_module_version": "^1.3.3",
       "_model_name": "EdgeModel",
       "_view_count": null,
       "_view_module": "jupyter-cytoscape",
       "_view_module_version": "^1.3.3",
       "_view_name": "EdgeView",
       "classes": " directed ",
       "data": {
        "source": "-6538664375991442101",
        "target": "1393591815042592125"
       },
       "pannable": true,
       "removed": false,
       "selectable": false,
       "selected": false
      }
     },
     "6af429705847477380869a0bcd4ec531": {
      "model_module": "jupyter-cytoscape",
      "model_module_version": "^1.3.3",
      "model_name": "EdgeModel",
      "state": {
       "_model_module": "jupyter-cytoscape",
       "_model_module_version": "^1.3.3",
       "_model_name": "EdgeModel",
       "_view_count": null,
       "_view_module": "jupyter-cytoscape",
       "_view_module_version": "^1.3.3",
       "_view_name": "EdgeView",
       "classes": " directed ",
       "data": {
        "source": "-3542341888456689490",
        "target": "62022114239876675"
       },
       "pannable": true,
       "removed": false,
       "selectable": false,
       "selected": false
      }
     },
     "6bc241b2e9744fdfb8cf36284ba1e55e": {
      "model_module": "jupyter-cytoscape",
      "model_module_version": "^1.3.3",
      "model_name": "EdgeModel",
      "state": {
       "_model_module": "jupyter-cytoscape",
       "_model_module_version": "^1.3.3",
       "_model_name": "EdgeModel",
       "_view_count": null,
       "_view_module": "jupyter-cytoscape",
       "_view_module_version": "^1.3.3",
       "_view_name": "EdgeView",
       "classes": " directed ",
       "data": {
        "source": "3605683863925811982",
        "target": "7942650516638248692"
       },
       "pannable": true,
       "removed": false,
       "selectable": false,
       "selected": false
      }
     },
     "6d2f1596df9a4fc6a3300220dc883f2e": {
      "model_module": "jupyter-cytoscape",
      "model_module_version": "^1.3.3",
      "model_name": "EdgeModel",
      "state": {
       "_model_module": "jupyter-cytoscape",
       "_model_module_version": "^1.3.3",
       "_model_name": "EdgeModel",
       "_view_count": null,
       "_view_module": "jupyter-cytoscape",
       "_view_module_version": "^1.3.3",
       "_view_name": "EdgeView",
       "classes": " directed ",
       "data": {
        "source": "9064713225004241636",
        "target": "-552599466961336977"
       },
       "pannable": true,
       "removed": false,
       "selectable": false,
       "selected": false
      }
     },
     "6e0a2445fe174dc99892ff1b451c0351": {
      "model_module": "jupyter-cytoscape",
      "model_module_version": "^1.3.3",
      "model_name": "NodeModel",
      "state": {
       "_model_module": "jupyter-cytoscape",
       "_model_module_version": "^1.3.3",
       "_model_name": "NodeModel",
       "_view_count": null,
       "_view_module": "jupyter-cytoscape",
       "_view_module_version": "^1.3.3",
       "_view_name": "NodeView",
       "classes": "",
       "data": {
        "color": "gray",
        "id": "-8713182680778267087",
        "label": "5",
        "shape": "rectangle"
       },
       "grabbable": true,
       "grabbed": false,
       "locked": false,
       "pannable": false,
       "position": {},
       "removed": false,
       "selectable": false,
       "selected": false
      }
     },
     "6e330e06935d4321a2296d710d3faca6": {
      "model_module": "jupyter-cytoscape",
      "model_module_version": "^1.3.3",
      "model_name": "EdgeModel",
      "state": {
       "_model_module": "jupyter-cytoscape",
       "_model_module_version": "^1.3.3",
       "_model_name": "EdgeModel",
       "_view_count": null,
       "_view_module": "jupyter-cytoscape",
       "_view_module_version": "^1.3.3",
       "_view_name": "EdgeView",
       "classes": " directed ",
       "data": {
        "source": "-1660858176809398714",
        "target": "6320236779472689472"
       },
       "pannable": true,
       "removed": false,
       "selectable": false,
       "selected": false
      }
     },
     "716e71a9bb984dbc976b1999ff3f9433": {
      "model_module": "jupyter-cytoscape",
      "model_module_version": "^1.3.3",
      "model_name": "NodeModel",
      "state": {
       "_model_module": "jupyter-cytoscape",
       "_model_module_version": "^1.3.3",
       "_model_name": "NodeModel",
       "_view_count": null,
       "_view_module": "jupyter-cytoscape",
       "_view_module_version": "^1.3.3",
       "_view_name": "NodeView",
       "classes": "",
       "data": {
        "color": "gray",
        "id": "-3836338472216221856",
        "label": "0",
        "shape": "rectangle"
       },
       "grabbable": true,
       "grabbed": false,
       "locked": false,
       "pannable": false,
       "position": {},
       "removed": false,
       "selectable": false,
       "selected": false
      }
     },
     "725dc975d6ed41b2b1730280f1c8fe7d": {
      "model_module": "jupyter-cytoscape",
      "model_module_version": "^1.3.3",
      "model_name": "EdgeModel",
      "state": {
       "_model_module": "jupyter-cytoscape",
       "_model_module_version": "^1.3.3",
       "_model_name": "EdgeModel",
       "_view_count": null,
       "_view_module": "jupyter-cytoscape",
       "_view_module_version": "^1.3.3",
       "_view_name": "EdgeView",
       "classes": " directed ",
       "data": {
        "source": "5225928455406944915",
        "target": "184982761892287133"
       },
       "pannable": true,
       "removed": false,
       "selectable": false,
       "selected": false
      }
     },
     "7268e1f09b854b9cb13bef14a932b348": {
      "model_module": "jupyter-cytoscape",
      "model_module_version": "^1.3.3",
      "model_name": "EdgeModel",
      "state": {
       "_model_module": "jupyter-cytoscape",
       "_model_module_version": "^1.3.3",
       "_model_name": "EdgeModel",
       "_view_count": null,
       "_view_module": "jupyter-cytoscape",
       "_view_module_version": "^1.3.3",
       "_view_name": "EdgeView",
       "classes": " directed ",
       "data": {
        "source": "3785872214486809031",
        "target": "-5021164428480707410"
       },
       "pannable": true,
       "removed": false,
       "selectable": false,
       "selected": false
      }
     },
     "729b7d1198834fffab47aaf1df6419d3": {
      "model_module": "jupyter-cytoscape",
      "model_module_version": "^1.3.3",
      "model_name": "EdgeModel",
      "state": {
       "_model_module": "jupyter-cytoscape",
       "_model_module_version": "^1.3.3",
       "_model_name": "EdgeModel",
       "_view_count": null,
       "_view_module": "jupyter-cytoscape",
       "_view_module_version": "^1.3.3",
       "_view_name": "EdgeView",
       "classes": " directed ",
       "data": {
        "source": "-8153231103120744160",
        "target": "-6367470941941654894"
       },
       "pannable": true,
       "removed": false,
       "selectable": false,
       "selected": false
      }
     },
     "72b4775d6f5a4c5ba1c13814300a9c94": {
      "model_module": "jupyter-cytoscape",
      "model_module_version": "^1.3.3",
      "model_name": "NodeModel",
      "state": {
       "_model_module": "jupyter-cytoscape",
       "_model_module_version": "^1.3.3",
       "_model_name": "NodeModel",
       "_view_count": null,
       "_view_module": "jupyter-cytoscape",
       "_view_module_version": "^1.3.3",
       "_view_name": "NodeView",
       "classes": "",
       "data": {
        "color": "gray",
        "id": "711310910071224246",
        "label": "moment_chunk",
        "shape": "ellipse"
       },
       "grabbable": true,
       "grabbed": false,
       "locked": false,
       "pannable": false,
       "position": {},
       "removed": false,
       "selectable": false,
       "selected": false
      }
     },
     "73a12c5665654125a8084de52cc484ac": {
      "model_module": "jupyter-cytoscape",
      "model_module_version": "^1.3.3",
      "model_name": "EdgeModel",
      "state": {
       "_model_module": "jupyter-cytoscape",
       "_model_module_version": "^1.3.3",
       "_model_name": "EdgeModel",
       "_view_count": null,
       "_view_module": "jupyter-cytoscape",
       "_view_module_version": "^1.3.3",
       "_view_name": "EdgeView",
       "classes": " directed ",
       "data": {
        "source": "-3390995673812683807",
        "target": "184982761892287133"
       },
       "pannable": true,
       "removed": false,
       "selectable": false,
       "selected": false
      }
     },
     "7513d92067d24f00923dbda769a18fd5": {
      "model_module": "jupyter-cytoscape",
      "model_module_version": "^1.3.3",
      "model_name": "EdgeModel",
      "state": {
       "_model_module": "jupyter-cytoscape",
       "_model_module_version": "^1.3.3",
       "_model_name": "EdgeModel",
       "_view_count": null,
       "_view_module": "jupyter-cytoscape",
       "_view_module_version": "^1.3.3",
       "_view_name": "EdgeView",
       "classes": " directed ",
       "data": {
        "source": "4955096143212573041",
        "target": "3942504579639152708"
       },
       "pannable": true,
       "removed": false,
       "selectable": false,
       "selected": false
      }
     },
     "755f67308d8d46eaa0214f2c853b9ea7": {
      "model_module": "jupyter-cytoscape",
      "model_module_version": "^1.3.3",
      "model_name": "EdgeModel",
      "state": {
       "_model_module": "jupyter-cytoscape",
       "_model_module_version": "^1.3.3",
       "_model_name": "EdgeModel",
       "_view_count": null,
       "_view_module": "jupyter-cytoscape",
       "_view_module_version": "^1.3.3",
       "_view_name": "EdgeView",
       "classes": " directed ",
       "data": {
        "source": "8400466405658297064",
        "target": "-2326129800978356064"
       },
       "pannable": true,
       "removed": false,
       "selectable": false,
       "selected": false
      }
     },
     "75c53debe9b14c53920875999f95621f": {
      "model_module": "jupyter-cytoscape",
      "model_module_version": "^1.3.3",
      "model_name": "EdgeModel",
      "state": {
       "_model_module": "jupyter-cytoscape",
       "_model_module_version": "^1.3.3",
       "_model_name": "EdgeModel",
       "_view_count": null,
       "_view_module": "jupyter-cytoscape",
       "_view_module_version": "^1.3.3",
       "_view_name": "EdgeView",
       "classes": " directed ",
       "data": {
        "source": "-3654832407565304126",
        "target": "6152432435034735939"
       },
       "pannable": true,
       "removed": false,
       "selectable": false,
       "selected": false
      }
     },
     "75cfaa32fb12454781dd282240f1d77a": {
      "model_module": "jupyter-cytoscape",
      "model_module_version": "^1.3.3",
      "model_name": "EdgeModel",
      "state": {
       "_model_module": "jupyter-cytoscape",
       "_model_module_version": "^1.3.3",
       "_model_name": "EdgeModel",
       "_view_count": null,
       "_view_module": "jupyter-cytoscape",
       "_view_module_version": "^1.3.3",
       "_view_name": "EdgeView",
       "classes": " directed ",
       "data": {
        "source": "62022114239876675",
        "target": "2596198066178205224"
       },
       "pannable": true,
       "removed": false,
       "selectable": false,
       "selected": false
      }
     },
     "75d21b822b9b49c1ac7a028874cf29bc": {
      "model_module": "jupyter-cytoscape",
      "model_module_version": "^1.3.3",
      "model_name": "NodeModel",
      "state": {
       "_model_module": "jupyter-cytoscape",
       "_model_module_version": "^1.3.3",
       "_model_name": "NodeModel",
       "_view_count": null,
       "_view_module": "jupyter-cytoscape",
       "_view_module_version": "^1.3.3",
       "_view_name": "NodeView",
       "classes": "",
       "data": {
        "color": "gray",
        "id": "-2326129800978356064",
        "label": "moment_combine-partial",
        "shape": "ellipse"
       },
       "grabbable": true,
       "grabbed": false,
       "locked": false,
       "pannable": false,
       "position": {},
       "removed": false,
       "selectable": false,
       "selected": false
      }
     },
     "760732281562426097901b634deb364a": {
      "model_module": "jupyter-cytoscape",
      "model_module_version": "^1.3.3",
      "model_name": "EdgeModel",
      "state": {
       "_model_module": "jupyter-cytoscape",
       "_model_module_version": "^1.3.3",
       "_model_name": "EdgeModel",
       "_view_count": null,
       "_view_module": "jupyter-cytoscape",
       "_view_module_version": "^1.3.3",
       "_view_name": "EdgeView",
       "classes": " directed ",
       "data": {
        "source": "-6969490760034409317",
        "target": "-7707829810599726532"
       },
       "pannable": true,
       "removed": false,
       "selectable": false,
       "selected": false
      }
     },
     "7861d5c77cb64ba0aff97ec219a36576": {
      "model_module": "jupyter-cytoscape",
      "model_module_version": "^1.3.3",
      "model_name": "EdgeModel",
      "state": {
       "_model_module": "jupyter-cytoscape",
       "_model_module_version": "^1.3.3",
       "_model_name": "EdgeModel",
       "_view_count": null,
       "_view_module": "jupyter-cytoscape",
       "_view_module_version": "^1.3.3",
       "_view_name": "EdgeView",
       "classes": " directed ",
       "data": {
        "source": "-5611019528098606558",
        "target": "-7540869681980464198"
       },
       "pannable": true,
       "removed": false,
       "selectable": false,
       "selected": false
      }
     },
     "78a9e85376a141d29352e45389c3a14b": {
      "model_module": "jupyter-cytoscape",
      "model_module_version": "^1.3.3",
      "model_name": "EdgeModel",
      "state": {
       "_model_module": "jupyter-cytoscape",
       "_model_module_version": "^1.3.3",
       "_model_name": "EdgeModel",
       "_view_count": null,
       "_view_module": "jupyter-cytoscape",
       "_view_module_version": "^1.3.3",
       "_view_name": "EdgeView",
       "classes": " directed ",
       "data": {
        "source": "1393591815042592125",
        "target": "5225928455406944915"
       },
       "pannable": true,
       "removed": false,
       "selectable": false,
       "selected": false
      }
     },
     "797d6cfaf0774ac0a65a4bf29272b163": {
      "model_module": "jupyter-cytoscape",
      "model_module_version": "^1.3.3",
      "model_name": "NodeModel",
      "state": {
       "_model_module": "jupyter-cytoscape",
       "_model_module_version": "^1.3.3",
       "_model_name": "NodeModel",
       "_view_count": null,
       "_view_module": "jupyter-cytoscape",
       "_view_module_version": "^1.3.3",
       "_view_name": "NodeView",
       "classes": "",
       "data": {
        "color": "gray",
        "id": "-8966133612522987057",
        "label": "series-count-chunk",
        "shape": "ellipse"
       },
       "grabbable": true,
       "grabbed": false,
       "locked": false,
       "pannable": false,
       "position": {},
       "removed": false,
       "selectable": false,
       "selected": false
      }
     },
     "79d56ddd89b448c584f1ddf8c2dae1ef": {
      "model_module": "jupyter-cytoscape",
      "model_module_version": "^1.3.3",
      "model_name": "EdgeModel",
      "state": {
       "_model_module": "jupyter-cytoscape",
       "_model_module_version": "^1.3.3",
       "_model_name": "EdgeModel",
       "_view_count": null,
       "_view_module": "jupyter-cytoscape",
       "_view_module_version": "^1.3.3",
       "_view_name": "EdgeView",
       "classes": " directed ",
       "data": {
        "source": "2616648285761045021",
        "target": "-1561367937891045004"
       },
       "pannable": true,
       "removed": false,
       "selectable": false,
       "selected": false
      }
     },
     "7af4dba69a3e4f85ba1cecb72e6c3561": {
      "model_module": "jupyter-cytoscape",
      "model_module_version": "^1.3.3",
      "model_name": "EdgeModel",
      "state": {
       "_model_module": "jupyter-cytoscape",
       "_model_module_version": "^1.3.3",
       "_model_name": "EdgeModel",
       "_view_count": null,
       "_view_module": "jupyter-cytoscape",
       "_view_module_version": "^1.3.3",
       "_view_name": "EdgeView",
       "classes": " directed ",
       "data": {
        "source": "-655763189733005099",
        "target": "-3836338472216221856"
       },
       "pannable": true,
       "removed": false,
       "selectable": false,
       "selected": false
      }
     },
     "7af9ffe6644540c8ad7ae4e86da5e535": {
      "model_module": "jupyter-cytoscape",
      "model_module_version": "^1.3.3",
      "model_name": "NodeModel",
      "state": {
       "_model_module": "jupyter-cytoscape",
       "_model_module_version": "^1.3.3",
       "_model_name": "NodeModel",
       "_view_count": null,
       "_view_module": "jupyter-cytoscape",
       "_view_module_version": "^1.3.3",
       "_view_name": "NodeView",
       "classes": "",
       "data": {
        "color": "gray",
        "id": "3785872214486809031",
        "label": "5",
        "shape": "rectangle"
       },
       "grabbable": true,
       "grabbed": false,
       "locked": false,
       "pannable": false,
       "position": {},
       "removed": false,
       "selectable": false,
       "selected": false
      }
     },
     "7b6201ac5b63413ab7762859d88302b9": {
      "model_module": "jupyter-cytoscape",
      "model_module_version": "^1.3.3",
      "model_name": "EdgeModel",
      "state": {
       "_model_module": "jupyter-cytoscape",
       "_model_module_version": "^1.3.3",
       "_model_name": "EdgeModel",
       "_view_count": null,
       "_view_module": "jupyter-cytoscape",
       "_view_module_version": "^1.3.3",
       "_view_name": "EdgeView",
       "classes": " directed ",
       "data": {
        "source": "-491634248083634704",
        "target": "-3162838286117002026"
       },
       "pannable": true,
       "removed": false,
       "selectable": false,
       "selected": false
      }
     },
     "7b943670e48a44719b1b7166e6d295a7": {
      "model_module": "jupyter-cytoscape",
      "model_module_version": "^1.3.3",
      "model_name": "EdgeModel",
      "state": {
       "_model_module": "jupyter-cytoscape",
       "_model_module_version": "^1.3.3",
       "_model_name": "EdgeModel",
       "_view_count": null,
       "_view_module": "jupyter-cytoscape",
       "_view_module_version": "^1.3.3",
       "_view_name": "EdgeView",
       "classes": " directed ",
       "data": {
        "source": "-3888857000045042515",
        "target": "-5005562400941985866"
       },
       "pannable": true,
       "removed": false,
       "selectable": false,
       "selected": false
      }
     },
     "7c3f4702462f4ee489a8ce345af92c53": {
      "model_module": "jupyter-cytoscape",
      "model_module_version": "^1.3.3",
      "model_name": "EdgeModel",
      "state": {
       "_model_module": "jupyter-cytoscape",
       "_model_module_version": "^1.3.3",
       "_model_name": "EdgeModel",
       "_view_count": null,
       "_view_module": "jupyter-cytoscape",
       "_view_module_version": "^1.3.3",
       "_view_name": "EdgeView",
       "classes": " directed ",
       "data": {
        "source": "-8767852684321957812",
        "target": "-5086895261265927921"
       },
       "pannable": true,
       "removed": false,
       "selectable": false,
       "selected": false
      }
     },
     "7c75f9b8c21149edb52daa57e3290bac": {
      "model_module": "jupyter-cytoscape",
      "model_module_version": "^1.3.3",
      "model_name": "EdgeModel",
      "state": {
       "_model_module": "jupyter-cytoscape",
       "_model_module_version": "^1.3.3",
       "_model_name": "EdgeModel",
       "_view_count": null,
       "_view_module": "jupyter-cytoscape",
       "_view_module_version": "^1.3.3",
       "_view_name": "EdgeView",
       "classes": " directed ",
       "data": {
        "source": "2845812770094942744",
        "target": "4746631484787725750"
       },
       "pannable": true,
       "removed": false,
       "selectable": false,
       "selected": false
      }
     },
     "7ce152fbc5e948aa80448a476dbf8af2": {
      "model_module": "jupyter-cytoscape",
      "model_module_version": "^1.3.3",
      "model_name": "EdgeModel",
      "state": {
       "_model_module": "jupyter-cytoscape",
       "_model_module_version": "^1.3.3",
       "_model_name": "EdgeModel",
       "_view_count": null,
       "_view_module": "jupyter-cytoscape",
       "_view_module_version": "^1.3.3",
       "_view_name": "EdgeView",
       "classes": " directed ",
       "data": {
        "source": "-4057999312786658848",
        "target": "8118994665801982470"
       },
       "pannable": true,
       "removed": false,
       "selectable": false,
       "selected": false
      }
     },
     "7f52468329a247a49f56304037ca3750": {
      "model_module": "jupyter-cytoscape",
      "model_module_version": "^1.3.3",
      "model_name": "NodeModel",
      "state": {
       "_model_module": "jupyter-cytoscape",
       "_model_module_version": "^1.3.3",
       "_model_name": "NodeModel",
       "_view_count": null,
       "_view_module": "jupyter-cytoscape",
       "_view_module_version": "^1.3.3",
       "_view_name": "NodeView",
       "classes": "",
       "data": {
        "color": "gray",
        "id": "1680519348814215424",
        "label": "getitem",
        "shape": "ellipse"
       },
       "grabbable": true,
       "grabbed": false,
       "locked": false,
       "pannable": false,
       "position": {},
       "removed": false,
       "selectable": false,
       "selected": false
      }
     },
     "7fddd3eed9a543a38b2fc27df28bb9e7": {
      "model_module": "jupyter-cytoscape",
      "model_module_version": "^1.3.3",
      "model_name": "NodeModel",
      "state": {
       "_model_module": "jupyter-cytoscape",
       "_model_module_version": "^1.3.3",
       "_model_name": "NodeModel",
       "_view_count": null,
       "_view_module": "jupyter-cytoscape",
       "_view_module_version": "^1.3.3",
       "_view_name": "NodeView",
       "classes": "",
       "data": {
        "color": "gray",
        "id": "6835517238617097832",
        "label": "series-count-chunk",
        "shape": "ellipse"
       },
       "grabbable": true,
       "grabbed": false,
       "locked": false,
       "pannable": false,
       "position": {},
       "removed": false,
       "selectable": false,
       "selected": false
      }
     },
     "80dfaf9e902a47ce9e88e7984f13ee2f": {
      "model_module": "jupyter-cytoscape",
      "model_module_version": "^1.3.3",
      "model_name": "NodeModel",
      "state": {
       "_model_module": "jupyter-cytoscape",
       "_model_module_version": "^1.3.3",
       "_model_name": "NodeModel",
       "_view_count": null,
       "_view_module": "jupyter-cytoscape",
       "_view_module_version": "^1.3.3",
       "_view_name": "NodeView",
       "classes": "",
       "data": {
        "color": "gray",
        "id": "585440491428929027",
        "label": "9",
        "shape": "rectangle"
       },
       "grabbable": true,
       "grabbed": false,
       "locked": false,
       "pannable": false,
       "position": {},
       "removed": false,
       "selectable": false,
       "selected": false
      }
     },
     "80e425fa86564666a82e8ba8e253ef52": {
      "model_module": "jupyter-cytoscape",
      "model_module_version": "^1.3.3",
      "model_name": "NodeModel",
      "state": {
       "_model_module": "jupyter-cytoscape",
       "_model_module_version": "^1.3.3",
       "_model_name": "NodeModel",
       "_view_count": null,
       "_view_module": "jupyter-cytoscape",
       "_view_module_version": "^1.3.3",
       "_view_name": "NodeView",
       "classes": "",
       "data": {
        "color": "gray",
        "id": "1502078355160012559",
        "label": "5",
        "shape": "rectangle"
       },
       "grabbable": true,
       "grabbed": false,
       "locked": false,
       "pannable": false,
       "position": {},
       "removed": false,
       "selectable": false,
       "selected": false
      }
     },
     "8110fdab6b4743e2803f66fc5be48756": {
      "model_module": "jupyter-cytoscape",
      "model_module_version": "^1.3.3",
      "model_name": "NodeModel",
      "state": {
       "_model_module": "jupyter-cytoscape",
       "_model_module_version": "^1.3.3",
       "_model_name": "NodeModel",
       "_view_count": null,
       "_view_module": "jupyter-cytoscape",
       "_view_module_version": "^1.3.3",
       "_view_name": "NodeView",
       "classes": "",
       "data": {
        "color": "gray",
        "id": "-5764115780682934423",
        "label": "5",
        "shape": "rectangle"
       },
       "grabbable": true,
       "grabbed": false,
       "locked": false,
       "pannable": false,
       "position": {},
       "removed": false,
       "selectable": false,
       "selected": false
      }
     },
     "81c54a1926ee4195bd006a9d36f91117": {
      "model_module": "jupyter-cytoscape",
      "model_module_version": "^1.3.3",
      "model_name": "NodeModel",
      "state": {
       "_model_module": "jupyter-cytoscape",
       "_model_module_version": "^1.3.3",
       "_model_name": "NodeModel",
       "_view_count": null,
       "_view_module": "jupyter-cytoscape",
       "_view_module_version": "^1.3.3",
       "_view_name": "NodeView",
       "classes": "",
       "data": {
        "color": "gray",
        "id": "-5005562400941985866",
        "label": "4",
        "shape": "rectangle"
       },
       "grabbable": true,
       "grabbed": false,
       "locked": false,
       "pannable": false,
       "position": {},
       "removed": false,
       "selectable": false,
       "selected": false
      }
     },
     "82903be71c6d4ab3bb6c500e006871df": {
      "model_module": "jupyter-cytoscape",
      "model_module_version": "^1.3.3",
      "model_name": "NodeModel",
      "state": {
       "_model_module": "jupyter-cytoscape",
       "_model_module_version": "^1.3.3",
       "_model_name": "NodeModel",
       "_view_count": null,
       "_view_module": "jupyter-cytoscape",
       "_view_module_version": "^1.3.3",
       "_view_name": "NodeView",
       "classes": "",
       "data": {
        "color": "gray",
        "id": "9111874445364012702",
        "label": "5",
        "shape": "rectangle"
       },
       "grabbable": true,
       "grabbed": false,
       "locked": false,
       "pannable": false,
       "position": {},
       "removed": false,
       "selectable": false,
       "selected": false
      }
     },
     "8300af85c9cc4675ba1fc3c8ff460301": {
      "model_module": "jupyter-cytoscape",
      "model_module_version": "^1.3.3",
      "model_name": "NodeModel",
      "state": {
       "_model_module": "jupyter-cytoscape",
       "_model_module_version": "^1.3.3",
       "_model_name": "NodeModel",
       "_view_count": null,
       "_view_module": "jupyter-cytoscape",
       "_view_module_version": "^1.3.3",
       "_view_name": "NodeView",
       "classes": "",
       "data": {
        "color": "gray",
        "id": "-1701375571035795805",
        "label": "getitem",
        "shape": "ellipse"
       },
       "grabbable": true,
       "grabbed": false,
       "locked": false,
       "pannable": false,
       "position": {},
       "removed": false,
       "selectable": false,
       "selected": false
      }
     },
     "83014e47e0e44e0d92d763950e6112b0": {
      "model_module": "jupyter-cytoscape",
      "model_module_version": "^1.3.3",
      "model_name": "NodeModel",
      "state": {
       "_model_module": "jupyter-cytoscape",
       "_model_module_version": "^1.3.3",
       "_model_name": "NodeModel",
       "_view_count": null,
       "_view_module": "jupyter-cytoscape",
       "_view_module_version": "^1.3.3",
       "_view_name": "NodeView",
       "classes": "",
       "data": {
        "color": "gray",
        "id": "-1881083558898401690",
        "label": "series-var",
        "shape": "ellipse"
       },
       "grabbable": true,
       "grabbed": false,
       "locked": false,
       "pannable": false,
       "position": {},
       "removed": false,
       "selectable": false,
       "selected": false
      }
     },
     "83e2d531bb0044c19cab56d734363341": {
      "model_module": "jupyter-cytoscape",
      "model_module_version": "^1.3.3",
      "model_name": "NodeModel",
      "state": {
       "_model_module": "jupyter-cytoscape",
       "_model_module_version": "^1.3.3",
       "_model_name": "NodeModel",
       "_view_count": null,
       "_view_module": "jupyter-cytoscape",
       "_view_module_version": "^1.3.3",
       "_view_name": "NodeView",
       "classes": "",
       "data": {
        "color": "gray",
        "id": "8212088692524812164",
        "label": "getitem",
        "shape": "ellipse"
       },
       "grabbable": true,
       "grabbed": false,
       "locked": false,
       "pannable": false,
       "position": {},
       "removed": false,
       "selectable": false,
       "selected": false
      }
     },
     "83e55f2d1a2b4e09b203865b2be5e696": {
      "model_module": "jupyter-cytoscape",
      "model_module_version": "^1.3.3",
      "model_name": "NodeModel",
      "state": {
       "_model_module": "jupyter-cytoscape",
       "_model_module_version": "^1.3.3",
       "_model_name": "NodeModel",
       "_view_count": null,
       "_view_module": "jupyter-cytoscape",
       "_view_module_version": "^1.3.3",
       "_view_name": "NodeView",
       "classes": "",
       "data": {
        "color": "gray",
        "id": "4955096143212573041",
        "label": "1",
        "shape": "rectangle"
       },
       "grabbable": true,
       "grabbed": false,
       "locked": false,
       "pannable": false,
       "position": {},
       "removed": false,
       "selectable": false,
       "selected": false
      }
     },
     "848e2c87b4774624bb3f397b067fd00c": {
      "model_module": "jupyter-cytoscape",
      "model_module_version": "^1.3.3",
      "model_name": "NodeModel",
      "state": {
       "_model_module": "jupyter-cytoscape",
       "_model_module_version": "^1.3.3",
       "_model_name": "NodeModel",
       "_view_count": null,
       "_view_module": "jupyter-cytoscape",
       "_view_module_version": "^1.3.3",
       "_view_name": "NodeView",
       "classes": "",
       "data": {
        "color": "gray",
        "id": "5400438941616111090",
        "label": "7",
        "shape": "rectangle"
       },
       "grabbable": true,
       "grabbed": false,
       "locked": false,
       "pannable": false,
       "position": {},
       "removed": false,
       "selectable": false,
       "selected": false
      }
     },
     "853303016252421ab5d6b65332960f2c": {
      "model_module": "jupyter-cytoscape",
      "model_module_version": "^1.3.3",
      "model_name": "NodeModel",
      "state": {
       "_model_module": "jupyter-cytoscape",
       "_model_module_version": "^1.3.3",
       "_model_name": "NodeModel",
       "_view_count": null,
       "_view_module": "jupyter-cytoscape",
       "_view_module_version": "^1.3.3",
       "_view_name": "NodeView",
       "classes": "",
       "data": {
        "color": "gray",
        "id": "-3275424903938700773",
        "label": "7",
        "shape": "rectangle"
       },
       "grabbable": true,
       "grabbed": false,
       "locked": false,
       "pannable": false,
       "position": {},
       "removed": false,
       "selectable": false,
       "selected": false
      }
     },
     "8568fc2e6d35494abe795cf27a371c37": {
      "model_module": "jupyter-cytoscape",
      "model_module_version": "^1.3.3",
      "model_name": "NodeModel",
      "state": {
       "_model_module": "jupyter-cytoscape",
       "_model_module_version": "^1.3.3",
       "_model_name": "NodeModel",
       "_view_count": null,
       "_view_module": "jupyter-cytoscape",
       "_view_module_version": "^1.3.3",
       "_view_name": "NodeView",
       "classes": "",
       "data": {
        "color": "gray",
        "id": "3072646841705359155",
        "label": "getitem",
        "shape": "ellipse"
       },
       "grabbable": true,
       "grabbed": false,
       "locked": false,
       "pannable": false,
       "position": {},
       "removed": false,
       "selectable": false,
       "selected": false
      }
     },
     "88454af835ff45faad790be56a09af58": {
      "model_module": "jupyter-cytoscape",
      "model_module_version": "^1.3.3",
      "model_name": "NodeModel",
      "state": {
       "_model_module": "jupyter-cytoscape",
       "_model_module_version": "^1.3.3",
       "_model_name": "NodeModel",
       "_view_count": null,
       "_view_module": "jupyter-cytoscape",
       "_view_module_version": "^1.3.3",
       "_view_name": "NodeView",
       "classes": "",
       "data": {
        "color": "gray",
        "id": "6288788255892384863",
        "label": "series-count-chunk",
        "shape": "ellipse"
       },
       "grabbable": true,
       "grabbed": false,
       "locked": false,
       "pannable": false,
       "position": {},
       "removed": false,
       "selectable": false,
       "selected": false
      }
     },
     "88814f724a714f6898f6ad3c87bb00ef": {
      "model_module": "jupyter-cytoscape",
      "model_module_version": "^1.3.3",
      "model_name": "EdgeModel",
      "state": {
       "_model_module": "jupyter-cytoscape",
       "_model_module_version": "^1.3.3",
       "_model_name": "EdgeModel",
       "_view_count": null,
       "_view_module": "jupyter-cytoscape",
       "_view_module_version": "^1.3.3",
       "_view_name": "EdgeView",
       "classes": " directed ",
       "data": {
        "source": "387459977430529310",
        "target": "-5891022166414500963"
       },
       "pannable": true,
       "removed": false,
       "selectable": false,
       "selected": false
      }
     },
     "8a05f2cfb8754bbbac511ce2f21b516a": {
      "model_module": "jupyter-cytoscape",
      "model_module_version": "^1.3.3",
      "model_name": "EdgeModel",
      "state": {
       "_model_module": "jupyter-cytoscape",
       "_model_module_version": "^1.3.3",
       "_model_name": "EdgeModel",
       "_view_count": null,
       "_view_module": "jupyter-cytoscape",
       "_view_module_version": "^1.3.3",
       "_view_name": "EdgeView",
       "classes": " directed ",
       "data": {
        "source": "-3836338472216221856",
        "target": "184982761892287133"
       },
       "pannable": true,
       "removed": false,
       "selectable": false,
       "selected": false
      }
     },
     "8b075ad46d4a42ad9d0e8acbcdcc4c65": {
      "model_module": "jupyter-cytoscape",
      "model_module_version": "^1.3.3",
      "model_name": "EdgeModel",
      "state": {
       "_model_module": "jupyter-cytoscape",
       "_model_module_version": "^1.3.3",
       "_model_name": "EdgeModel",
       "_view_count": null,
       "_view_module": "jupyter-cytoscape",
       "_view_module_version": "^1.3.3",
       "_view_name": "EdgeView",
       "classes": " directed ",
       "data": {
        "source": "585440491428929027",
        "target": "3605683863925811982"
       },
       "pannable": true,
       "removed": false,
       "selectable": false,
       "selected": false
      }
     },
     "8b0edd4eb846430e8dc5f865577a7641": {
      "model_module": "jupyter-cytoscape",
      "model_module_version": "^1.3.3",
      "model_name": "NodeModel",
      "state": {
       "_model_module": "jupyter-cytoscape",
       "_model_module_version": "^1.3.3",
       "_model_name": "NodeModel",
       "_view_count": null,
       "_view_module": "jupyter-cytoscape",
       "_view_module_version": "^1.3.3",
       "_view_name": "NodeView",
       "classes": "",
       "data": {
        "color": "gray",
        "id": "4874920237189417090",
        "label": "getitem",
        "shape": "ellipse"
       },
       "grabbable": true,
       "grabbed": false,
       "locked": false,
       "pannable": false,
       "position": {},
       "removed": false,
       "selectable": false,
       "selected": false
      }
     },
     "8b112c2217994cc5b0d871c73c257238": {
      "model_module": "jupyter-cytoscape",
      "model_module_version": "^1.3.3",
      "model_name": "EdgeModel",
      "state": {
       "_model_module": "jupyter-cytoscape",
       "_model_module_version": "^1.3.3",
       "_model_name": "EdgeModel",
       "_view_count": null,
       "_view_module": "jupyter-cytoscape",
       "_view_module_version": "^1.3.3",
       "_view_name": "EdgeView",
       "classes": " directed ",
       "data": {
        "source": "5400438941616111090",
        "target": "-6526509152487130414"
       },
       "pannable": true,
       "removed": false,
       "selectable": false,
       "selected": false
      }
     },
     "8b1268c102b3452fbcade205d5f41e59": {
      "model_module": "jupyter-cytoscape",
      "model_module_version": "^1.3.3",
      "model_name": "EdgeModel",
      "state": {
       "_model_module": "jupyter-cytoscape",
       "_model_module_version": "^1.3.3",
       "_model_name": "EdgeModel",
       "_view_count": null,
       "_view_module": "jupyter-cytoscape",
       "_view_module_version": "^1.3.3",
       "_view_name": "EdgeView",
       "classes": " directed ",
       "data": {
        "source": "2170496124601861621",
        "target": "-4441795599372842548"
       },
       "pannable": true,
       "removed": false,
       "selectable": false,
       "selected": false
      }
     },
     "8b27233adb1f4bbfb3295caef3973832": {
      "model_module": "jupyter-cytoscape",
      "model_module_version": "^1.3.3",
      "model_name": "EdgeModel",
      "state": {
       "_model_module": "jupyter-cytoscape",
       "_model_module_version": "^1.3.3",
       "_model_name": "EdgeModel",
       "_view_count": null,
       "_view_module": "jupyter-cytoscape",
       "_view_module_version": "^1.3.3",
       "_view_name": "EdgeView",
       "classes": " directed ",
       "data": {
        "source": "7871402482909308723",
        "target": "3863947793272323334"
       },
       "pannable": true,
       "removed": false,
       "selectable": false,
       "selected": false
      }
     },
     "8c489200eff34da0b51640957e81a174": {
      "model_module": "jupyter-cytoscape",
      "model_module_version": "^1.3.3",
      "model_name": "NodeModel",
      "state": {
       "_model_module": "jupyter-cytoscape",
       "_model_module_version": "^1.3.3",
       "_model_name": "NodeModel",
       "_view_count": null,
       "_view_module": "jupyter-cytoscape",
       "_view_module_version": "^1.3.3",
       "_view_name": "NodeView",
       "classes": "",
       "data": {
        "color": "gray",
        "id": "3195865210526650060",
        "label": "series-sum-chunk",
        "shape": "ellipse"
       },
       "grabbable": true,
       "grabbed": false,
       "locked": false,
       "pannable": false,
       "position": {},
       "removed": false,
       "selectable": false,
       "selected": false
      }
     },
     "8c839de2b18849cbbddc57214ae842aa": {
      "model_module": "jupyter-cytoscape",
      "model_module_version": "^1.3.3",
      "model_name": "EdgeModel",
      "state": {
       "_model_module": "jupyter-cytoscape",
       "_model_module_version": "^1.3.3",
       "_model_name": "EdgeModel",
       "_view_count": null,
       "_view_module": "jupyter-cytoscape",
       "_view_module_version": "^1.3.3",
       "_view_name": "EdgeView",
       "classes": " directed ",
       "data": {
        "source": "4395144565555050114",
        "target": "-1338044094704372978"
       },
       "pannable": true,
       "removed": false,
       "selectable": false,
       "selected": false
      }
     },
     "8cb52ba072a54832a0fadb77fe43120f": {
      "model_module": "jupyter-cytoscape",
      "model_module_version": "^1.3.3",
      "model_name": "EdgeModel",
      "state": {
       "_model_module": "jupyter-cytoscape",
       "_model_module_version": "^1.3.3",
       "_model_name": "EdgeModel",
       "_view_count": null,
       "_view_module": "jupyter-cytoscape",
       "_view_module_version": "^1.3.3",
       "_view_name": "EdgeView",
       "classes": " directed ",
       "data": {
        "source": "6569662870341875100",
        "target": "-4057999312786658848"
       },
       "pannable": true,
       "removed": false,
       "selectable": false,
       "selected": false
      }
     },
     "8cf1234f39104495af9bcb2f9c4dc049": {
      "model_module": "jupyter-cytoscape",
      "model_module_version": "^1.3.3",
      "model_name": "NodeModel",
      "state": {
       "_model_module": "jupyter-cytoscape",
       "_model_module_version": "^1.3.3",
       "_model_name": "NodeModel",
       "_view_count": null,
       "_view_module": "jupyter-cytoscape",
       "_view_module_version": "^1.3.3",
       "_view_name": "NodeView",
       "classes": "",
       "data": {
        "color": "gray",
        "id": "3942504579639152708",
        "label": "values",
        "shape": "ellipse"
       },
       "grabbable": true,
       "grabbed": false,
       "locked": false,
       "pannable": false,
       "position": {},
       "removed": false,
       "selectable": false,
       "selected": false
      }
     },
     "8d1de893e9ee49739bcd5d751d32c6a2": {
      "model_module": "jupyter-cytoscape",
      "model_module_version": "^1.3.3",
      "model_name": "NodeModel",
      "state": {
       "_model_module": "jupyter-cytoscape",
       "_model_module_version": "^1.3.3",
       "_model_name": "NodeModel",
       "_view_count": null,
       "_view_module": "jupyter-cytoscape",
       "_view_module_version": "^1.3.3",
       "_view_name": "NodeView",
       "classes": "",
       "data": {
        "color": "gray",
        "id": "-5891022166414500963",
        "label": "getitem",
        "shape": "ellipse"
       },
       "grabbable": true,
       "grabbed": false,
       "locked": false,
       "pannable": false,
       "position": {},
       "removed": false,
       "selectable": false,
       "selected": false
      }
     },
     "8de7aaeca6fc41aebce0b6bcb1e4bc19": {
      "model_module": "jupyter-cytoscape",
      "model_module_version": "^1.3.3",
      "model_name": "NodeModel",
      "state": {
       "_model_module": "jupyter-cytoscape",
       "_model_module_version": "^1.3.3",
       "_model_name": "NodeModel",
       "_view_count": null,
       "_view_module": "jupyter-cytoscape",
       "_view_module_version": "^1.3.3",
       "_view_name": "NodeView",
       "classes": "",
       "data": {
        "color": "gray",
        "id": "-8842527888293595721",
        "label": "getitem",
        "shape": "ellipse"
       },
       "grabbable": true,
       "grabbed": false,
       "locked": false,
       "pannable": false,
       "position": {},
       "removed": false,
       "selectable": false,
       "selected": false
      }
     },
     "8e3ec847c7d24e358cc5523873a29a9f": {
      "model_module": "jupyter-cytoscape",
      "model_module_version": "^1.3.3",
      "model_name": "EdgeModel",
      "state": {
       "_model_module": "jupyter-cytoscape",
       "_model_module_version": "^1.3.3",
       "_model_name": "EdgeModel",
       "_view_count": null,
       "_view_module": "jupyter-cytoscape",
       "_view_module_version": "^1.3.3",
       "_view_name": "EdgeView",
       "classes": " directed ",
       "data": {
        "source": "-552599466961336977",
        "target": "361932498741382297"
       },
       "pannable": true,
       "removed": false,
       "selectable": false,
       "selected": false
      }
     },
     "8e9d3505398c4232a976c68dc1b57f5c": {
      "model_module": "jupyter-cytoscape",
      "model_module_version": "^1.3.3",
      "model_name": "NodeModel",
      "state": {
       "_model_module": "jupyter-cytoscape",
       "_model_module_version": "^1.3.3",
       "_model_name": "NodeModel",
       "_view_count": null,
       "_view_module": "jupyter-cytoscape",
       "_view_module_version": "^1.3.3",
       "_view_name": "NodeView",
       "classes": "",
       "data": {
        "color": "gray",
        "id": "6320236779472689472",
        "label": "inv",
        "shape": "ellipse"
       },
       "grabbable": true,
       "grabbed": false,
       "locked": false,
       "pannable": false,
       "position": {},
       "removed": false,
       "selectable": false,
       "selected": false
      }
     },
     "902c498075c54526988f05f32c75b20b": {
      "model_module": "jupyter-cytoscape",
      "model_module_version": "^1.3.3",
      "model_name": "EdgeModel",
      "state": {
       "_model_module": "jupyter-cytoscape",
       "_model_module_version": "^1.3.3",
       "_model_name": "EdgeModel",
       "_view_count": null,
       "_view_module": "jupyter-cytoscape",
       "_view_module_version": "^1.3.3",
       "_view_name": "EdgeView",
       "classes": " directed ",
       "data": {
        "source": "7942650516638248692",
        "target": "4138459781648944073"
       },
       "pannable": true,
       "removed": false,
       "selectable": false,
       "selected": false
      }
     },
     "90c5a4fbeb454a63970a88f62892305d": {
      "model_module": "jupyter-cytoscape",
      "model_module_version": "^1.3.3",
      "model_name": "NodeModel",
      "state": {
       "_model_module": "jupyter-cytoscape",
       "_model_module_version": "^1.3.3",
       "_model_name": "NodeModel",
       "_view_count": null,
       "_view_module": "jupyter-cytoscape",
       "_view_module_version": "^1.3.3",
       "_view_name": "NodeView",
       "classes": "",
       "data": {
        "color": "gray",
        "id": "677589680642129306",
        "label": "1",
        "shape": "rectangle"
       },
       "grabbable": true,
       "grabbed": false,
       "locked": false,
       "pannable": false,
       "position": {},
       "removed": false,
       "selectable": false,
       "selected": false
      }
     },
     "90d3ea1ddf7b4648a5e9364e11f3e871": {
      "model_module": "jupyter-cytoscape",
      "model_module_version": "^1.3.3",
      "model_name": "EdgeModel",
      "state": {
       "_model_module": "jupyter-cytoscape",
       "_model_module_version": "^1.3.3",
       "_model_name": "EdgeModel",
       "_view_count": null,
       "_view_module": "jupyter-cytoscape",
       "_view_module_version": "^1.3.3",
       "_view_name": "EdgeView",
       "classes": " directed ",
       "data": {
        "source": "-8713182680778267087",
        "target": "2513584305555282181"
       },
       "pannable": true,
       "removed": false,
       "selectable": false,
       "selected": false
      }
     },
     "9105f0f6c89f4d32ae9e9f9769ab46cf": {
      "model_module": "jupyter-cytoscape",
      "model_module_version": "^1.3.3",
      "model_name": "EdgeModel",
      "state": {
       "_model_module": "jupyter-cytoscape",
       "_model_module_version": "^1.3.3",
       "_model_name": "EdgeModel",
       "_view_count": null,
       "_view_module": "jupyter-cytoscape",
       "_view_module_version": "^1.3.3",
       "_view_name": "EdgeView",
       "classes": " directed ",
       "data": {
        "source": "-5021164428480707410",
        "target": "-8713182680778267087"
       },
       "pannable": true,
       "removed": false,
       "selectable": false,
       "selected": false
      }
     },
     "92ce7ff5512a4941a381ef686b455d6a": {
      "model_module": "jupyter-cytoscape",
      "model_module_version": "^1.3.3",
      "model_name": "EdgeModel",
      "state": {
       "_model_module": "jupyter-cytoscape",
       "_model_module_version": "^1.3.3",
       "_model_name": "EdgeModel",
       "_view_count": null,
       "_view_module": "jupyter-cytoscape",
       "_view_module_version": "^1.3.3",
       "_view_name": "EdgeView",
       "classes": " directed ",
       "data": {
        "source": "-6287209855063041438",
        "target": "2671302283885776569"
       },
       "pannable": true,
       "removed": false,
       "selectable": false,
       "selected": false
      }
     },
     "93358b5a481f4a56b6b5540df9495480": {
      "model_module": "jupyter-cytoscape",
      "model_module_version": "^1.3.3",
      "model_name": "NodeModel",
      "state": {
       "_model_module": "jupyter-cytoscape",
       "_model_module_version": "^1.3.3",
       "_model_name": "NodeModel",
       "_view_count": null,
       "_view_module": "jupyter-cytoscape",
       "_view_module_version": "^1.3.3",
       "_view_name": "NodeView",
       "classes": "",
       "data": {
        "color": "gray",
        "id": "3605683863925811982",
        "label": "getitem",
        "shape": "ellipse"
       },
       "grabbable": true,
       "grabbed": false,
       "locked": false,
       "pannable": false,
       "position": {},
       "removed": false,
       "selectable": false,
       "selected": false
      }
     },
     "938113055ec24f5491c6af7436d55148": {
      "model_module": "jupyter-cytoscape",
      "model_module_version": "^1.3.3",
      "model_name": "NodeModel",
      "state": {
       "_model_module": "jupyter-cytoscape",
       "_model_module_version": "^1.3.3",
       "_model_name": "NodeModel",
       "_view_count": null,
       "_view_module": "jupyter-cytoscape",
       "_view_module_version": "^1.3.3",
       "_view_name": "NodeView",
       "classes": "",
       "data": {
        "color": "gray",
        "id": "7262439829520183701",
        "label": "read-csv",
        "shape": "ellipse"
       },
       "grabbable": true,
       "grabbed": false,
       "locked": false,
       "pannable": false,
       "position": {},
       "removed": false,
       "selectable": false,
       "selected": false
      }
     },
     "958c02c9eafe4a9d87c31d4199da41a0": {
      "model_module": "jupyter-cytoscape",
      "model_module_version": "^1.3.3",
      "model_name": "NodeModel",
      "state": {
       "_model_module": "jupyter-cytoscape",
       "_model_module_version": "^1.3.3",
       "_model_name": "NodeModel",
       "_view_count": null,
       "_view_module": "jupyter-cytoscape",
       "_view_module_version": "^1.3.3",
       "_view_name": "NodeView",
       "classes": "",
       "data": {
        "color": "gray",
        "id": "-6932101877895291273",
        "label": "inv",
        "shape": "ellipse"
       },
       "grabbable": true,
       "grabbed": false,
       "locked": false,
       "pannable": false,
       "position": {},
       "removed": false,
       "selectable": false,
       "selected": false
      }
     },
     "95b55659be59462bb76d160080d3cf5b": {
      "model_module": "jupyter-cytoscape",
      "model_module_version": "^1.3.3",
      "model_name": "EdgeModel",
      "state": {
       "_model_module": "jupyter-cytoscape",
       "_model_module_version": "^1.3.3",
       "_model_name": "EdgeModel",
       "_view_count": null,
       "_view_module": "jupyter-cytoscape",
       "_view_module_version": "^1.3.3",
       "_view_name": "EdgeView",
       "classes": " directed ",
       "data": {
        "source": "-319485179152153781",
        "target": "-1660858176809398714"
       },
       "pannable": true,
       "removed": false,
       "selectable": false,
       "selected": false
      }
     },
     "95d94b56e88240dfbad5b659a830dff3": {
      "model_module": "jupyter-cytoscape",
      "model_module_version": "^1.3.3",
      "model_name": "NodeModel",
      "state": {
       "_model_module": "jupyter-cytoscape",
       "_model_module_version": "^1.3.3",
       "_model_name": "NodeModel",
       "_view_count": null,
       "_view_module": "jupyter-cytoscape",
       "_view_module_version": "^1.3.3",
       "_view_name": "NodeView",
       "classes": "",
       "data": {
        "color": "gray",
        "id": "-37228599785387356",
        "label": "series-sum-chunk",
        "shape": "ellipse"
       },
       "grabbable": true,
       "grabbed": false,
       "locked": false,
       "pannable": false,
       "position": {},
       "removed": false,
       "selectable": false,
       "selected": false
      }
     },
     "977096324aa043ddbfe3acf9da0b1035": {
      "model_module": "jupyter-cytoscape",
      "model_module_version": "^1.3.3",
      "model_name": "EdgeModel",
      "state": {
       "_model_module": "jupyter-cytoscape",
       "_model_module_version": "^1.3.3",
       "_model_name": "EdgeModel",
       "_view_count": null,
       "_view_module": "jupyter-cytoscape",
       "_view_module_version": "^1.3.3",
       "_view_name": "EdgeView",
       "classes": " directed ",
       "data": {
        "source": "8212088692524812164",
        "target": "5388024345117080346"
       },
       "pannable": true,
       "removed": false,
       "selectable": false,
       "selected": false
      }
     },
     "9815fc459f8342cd99f233ddd585aed6": {
      "model_module": "jupyter-cytoscape",
      "model_module_version": "^1.3.3",
      "model_name": "EdgeModel",
      "state": {
       "_model_module": "jupyter-cytoscape",
       "_model_module_version": "^1.3.3",
       "_model_name": "EdgeModel",
       "_view_count": null,
       "_view_module": "jupyter-cytoscape",
       "_view_module_version": "^1.3.3",
       "_view_name": "EdgeView",
       "classes": " directed ",
       "data": {
        "source": "6569662870341875100",
        "target": "-8128176172483935123"
       },
       "pannable": true,
       "removed": false,
       "selectable": false,
       "selected": false
      }
     },
     "982a3ed6f79b43b080641044548cdb88": {
      "model_module": "jupyter-cytoscape",
      "model_module_version": "^1.3.3",
      "model_name": "EdgeModel",
      "state": {
       "_model_module": "jupyter-cytoscape",
       "_model_module_version": "^1.3.3",
       "_model_name": "EdgeModel",
       "_view_count": null,
       "_view_module": "jupyter-cytoscape",
       "_view_module_version": "^1.3.3",
       "_view_name": "EdgeView",
       "classes": " directed ",
       "data": {
        "source": "-9222992638159834460",
        "target": "4340474562011359389"
       },
       "pannable": true,
       "removed": false,
       "selectable": false,
       "selected": false
      }
     },
     "983bb694680e416baf6b7b4c07fc1c7f": {
      "model_module": "jupyter-cytoscape",
      "model_module_version": "^1.3.3",
      "model_name": "NodeModel",
      "state": {
       "_model_module": "jupyter-cytoscape",
       "_model_module_version": "^1.3.3",
       "_model_name": "NodeModel",
       "_view_count": null,
       "_view_module": "jupyter-cytoscape",
       "_view_module_version": "^1.3.3",
       "_view_name": "NodeView",
       "classes": "",
       "data": {
        "color": "gray",
        "id": "-2040265680436002067",
        "label": "8",
        "shape": "rectangle"
       },
       "grabbable": true,
       "grabbed": false,
       "locked": false,
       "pannable": false,
       "position": {},
       "removed": false,
       "selectable": false,
       "selected": false
      }
     },
     "9883bdc6acd74dd1a1512130942b9b89": {
      "model_module": "jupyter-cytoscape",
      "model_module_version": "^1.3.3",
      "model_name": "EdgeModel",
      "state": {
       "_model_module": "jupyter-cytoscape",
       "_model_module_version": "^1.3.3",
       "_model_name": "EdgeModel",
       "_view_count": null,
       "_view_module": "jupyter-cytoscape",
       "_view_module_version": "^1.3.3",
       "_view_name": "EdgeView",
       "classes": " directed ",
       "data": {
        "source": "-1701375571035795805",
        "target": "2845812770094942744"
       },
       "pannable": true,
       "removed": false,
       "selectable": false,
       "selected": false
      }
     },
     "989431102a2842929b4b2dc8dc501087": {
      "model_module": "jupyter-cytoscape",
      "model_module_version": "^1.3.3",
      "model_name": "NodeModel",
      "state": {
       "_model_module": "jupyter-cytoscape",
       "_model_module_version": "^1.3.3",
       "_model_name": "NodeModel",
       "_view_count": null,
       "_view_module": "jupyter-cytoscape",
       "_view_module_version": "^1.3.3",
       "_view_name": "NodeView",
       "classes": "",
       "data": {
        "color": "gray",
        "id": "-871041751710238057",
        "label": "4",
        "shape": "rectangle"
       },
       "grabbable": true,
       "grabbed": false,
       "locked": false,
       "pannable": false,
       "position": {},
       "removed": false,
       "selectable": false,
       "selected": false
      }
     },
     "9ab238bed96541d5b63012f6843225f9": {
      "model_module": "jupyter-cytoscape",
      "model_module_version": "^1.3.3",
      "model_name": "EdgeModel",
      "state": {
       "_model_module": "jupyter-cytoscape",
       "_model_module_version": "^1.3.3",
       "_model_name": "EdgeModel",
       "_view_count": null,
       "_view_module": "jupyter-cytoscape",
       "_view_module_version": "^1.3.3",
       "_view_name": "EdgeView",
       "classes": " directed ",
       "data": {
        "source": "4467375075665996358",
        "target": "6152432435034735939"
       },
       "pannable": true,
       "removed": false,
       "selectable": false,
       "selected": false
      }
     },
     "9adc80f6c2904cbc8fcc47e697a1e102": {
      "model_module": "jupyter-cytoscape",
      "model_module_version": "^1.3.3",
      "model_name": "NodeModel",
      "state": {
       "_model_module": "jupyter-cytoscape",
       "_model_module_version": "^1.3.3",
       "_model_name": "NodeModel",
       "_view_count": null,
       "_view_module": "jupyter-cytoscape",
       "_view_module_version": "^1.3.3",
       "_view_name": "NodeView",
       "classes": "",
       "data": {
        "color": "gray",
        "id": "-3162838286117002026",
        "label": "inv",
        "shape": "ellipse"
       },
       "grabbable": true,
       "grabbed": false,
       "locked": false,
       "pannable": false,
       "position": {},
       "removed": false,
       "selectable": false,
       "selected": false
      }
     },
     "9b8dc22d5f894e38be36beb335314c92": {
      "model_module": "jupyter-cytoscape",
      "model_module_version": "^1.3.3",
      "model_name": "EdgeModel",
      "state": {
       "_model_module": "jupyter-cytoscape",
       "_model_module_version": "^1.3.3",
       "_model_name": "EdgeModel",
       "_view_count": null,
       "_view_module": "jupyter-cytoscape",
       "_view_module_version": "^1.3.3",
       "_view_name": "EdgeView",
       "classes": " directed ",
       "data": {
        "source": "-6938889150115154788",
        "target": "2176970040795204722"
       },
       "pannable": true,
       "removed": false,
       "selectable": false,
       "selected": false
      }
     },
     "9befd123ca0c456d8c2d9c30d92a58e7": {
      "model_module": "jupyter-cytoscape",
      "model_module_version": "^1.3.3",
      "model_name": "NodeModel",
      "state": {
       "_model_module": "jupyter-cytoscape",
       "_model_module_version": "^1.3.3",
       "_model_name": "NodeModel",
       "_view_count": null,
       "_view_module": "jupyter-cytoscape",
       "_view_module_version": "^1.3.3",
       "_view_name": "NodeView",
       "classes": "",
       "data": {
        "color": "gray",
        "id": "3062049578282062649",
        "label": "4",
        "shape": "rectangle"
       },
       "grabbable": true,
       "grabbed": false,
       "locked": false,
       "pannable": false,
       "position": {},
       "removed": false,
       "selectable": false,
       "selected": false
      }
     },
     "9c7912be360d4cbcb9f1b4bf9b23e4a3": {
      "model_module": "jupyter-cytoscape",
      "model_module_version": "^1.3.3",
      "model_name": "EdgeModel",
      "state": {
       "_model_module": "jupyter-cytoscape",
       "_model_module_version": "^1.3.3",
       "_model_name": "EdgeModel",
       "_view_count": null,
       "_view_module": "jupyter-cytoscape",
       "_view_module_version": "^1.3.3",
       "_view_name": "EdgeView",
       "classes": " directed ",
       "data": {
        "source": "-6565448973417248672",
        "target": "3714080999129977942"
       },
       "pannable": true,
       "removed": false,
       "selectable": false,
       "selected": false
      }
     },
     "9d05bb2dc98b45bd86157045b4df1c2c": {
      "model_module": "jupyter-cytoscape",
      "model_module_version": "^1.3.3",
      "model_name": "NodeModel",
      "state": {
       "_model_module": "jupyter-cytoscape",
       "_model_module_version": "^1.3.3",
       "_model_name": "NodeModel",
       "_view_count": null,
       "_view_module": "jupyter-cytoscape",
       "_view_module_version": "^1.3.3",
       "_view_name": "NodeView",
       "classes": "",
       "data": {
        "color": "gray",
        "id": "2905665167366832065",
        "label": "values",
        "shape": "ellipse"
       },
       "grabbable": true,
       "grabbed": false,
       "locked": false,
       "pannable": false,
       "position": {},
       "removed": false,
       "selectable": false,
       "selected": false
      }
     },
     "9dbc1b98d5c94c87819bd6008c92bd72": {
      "model_module": "jupyter-cytoscape",
      "model_module_version": "^1.3.3",
      "model_name": "EdgeModel",
      "state": {
       "_model_module": "jupyter-cytoscape",
       "_model_module_version": "^1.3.3",
       "_model_name": "EdgeModel",
       "_view_count": null,
       "_view_module": "jupyter-cytoscape",
       "_view_module_version": "^1.3.3",
       "_view_name": "EdgeView",
       "classes": " directed ",
       "data": {
        "source": "1701414004694109400",
        "target": "3785872214486809031"
       },
       "pannable": true,
       "removed": false,
       "selectable": false,
       "selected": false
      }
     },
     "9de56c88f37147b09eae1fc877d9e113": {
      "model_module": "jupyter-cytoscape",
      "model_module_version": "^1.3.3",
      "model_name": "EdgeModel",
      "state": {
       "_model_module": "jupyter-cytoscape",
       "_model_module_version": "^1.3.3",
       "_model_name": "EdgeModel",
       "_view_count": null,
       "_view_module": "jupyter-cytoscape",
       "_view_module_version": "^1.3.3",
       "_view_name": "EdgeView",
       "classes": " directed ",
       "data": {
        "source": "-6019310918816192303",
        "target": "6949770737076218460"
       },
       "pannable": true,
       "removed": false,
       "selectable": false,
       "selected": false
      }
     },
     "9e8d4870512e4d9eb45839f38756838d": {
      "model_module": "jupyter-cytoscape",
      "model_module_version": "^1.3.3",
      "model_name": "NodeModel",
      "state": {
       "_model_module": "jupyter-cytoscape",
       "_model_module_version": "^1.3.3",
       "_model_name": "NodeModel",
       "_view_count": null,
       "_view_module": "jupyter-cytoscape",
       "_view_module_version": "^1.3.3",
       "_view_name": "NodeView",
       "classes": "",
       "data": {
        "color": "gray",
        "id": "8564337464205520519",
        "label": "9",
        "shape": "rectangle"
       },
       "grabbable": true,
       "grabbed": false,
       "locked": false,
       "pannable": false,
       "position": {},
       "removed": false,
       "selectable": false,
       "selected": false
      }
     },
     "a00834fb44b447ac9e2dda38adfba834": {
      "model_module": "jupyter-cytoscape",
      "model_module_version": "^1.3.3",
      "model_name": "EdgeModel",
      "state": {
       "_model_module": "jupyter-cytoscape",
       "_model_module_version": "^1.3.3",
       "_model_name": "EdgeModel",
       "_view_count": null,
       "_view_module": "jupyter-cytoscape",
       "_view_module_version": "^1.3.3",
       "_view_name": "EdgeView",
       "classes": " directed ",
       "data": {
        "source": "-51528055469832570",
        "target": "-5830051075459869119"
       },
       "pannable": true,
       "removed": false,
       "selectable": false,
       "selected": false
      }
     },
     "a07666b684b74e04976b88637f7f47d0": {
      "model_module": "jupyter-cytoscape",
      "model_module_version": "^1.3.3",
      "model_name": "EdgeModel",
      "state": {
       "_model_module": "jupyter-cytoscape",
       "_model_module_version": "^1.3.3",
       "_model_name": "EdgeModel",
       "_view_count": null,
       "_view_module": "jupyter-cytoscape",
       "_view_module_version": "^1.3.3",
       "_view_name": "EdgeView",
       "classes": " directed ",
       "data": {
        "source": "-2106200975212936763",
        "target": "-8773068195316184958"
       },
       "pannable": true,
       "removed": false,
       "selectable": false,
       "selected": false
      }
     },
     "a14e34ac281d4c57944bc9a1c1fad79a": {
      "model_module": "jupyter-cytoscape",
      "model_module_version": "^1.3.3",
      "model_name": "NodeModel",
      "state": {
       "_model_module": "jupyter-cytoscape",
       "_model_module_version": "^1.3.3",
       "_model_name": "NodeModel",
       "_view_count": null,
       "_view_module": "jupyter-cytoscape",
       "_view_module_version": "^1.3.3",
       "_view_name": "NodeView",
       "classes": "",
       "data": {
        "color": "gray",
        "id": "897287099545536358",
        "label": "getitem",
        "shape": "ellipse"
       },
       "grabbable": true,
       "grabbed": false,
       "locked": false,
       "pannable": false,
       "position": {},
       "removed": false,
       "selectable": false,
       "selected": false
      }
     },
     "a15cdb2917ef435b91b2c46b64c1c69c": {
      "model_module": "jupyter-cytoscape",
      "model_module_version": "^1.3.3",
      "model_name": "EdgeModel",
      "state": {
       "_model_module": "jupyter-cytoscape",
       "_model_module_version": "^1.3.3",
       "_model_name": "EdgeModel",
       "_view_count": null,
       "_view_module": "jupyter-cytoscape",
       "_view_module_version": "^1.3.3",
       "_view_name": "EdgeView",
       "classes": " directed ",
       "data": {
        "source": "5388024345117080346",
        "target": "-3542341888456689490"
       },
       "pannable": true,
       "removed": false,
       "selectable": false,
       "selected": false
      }
     },
     "a1c444c3c09540d38d4c73a172419b7e": {
      "model_module": "jupyter-cytoscape",
      "model_module_version": "^1.3.3",
      "model_name": "NodeModel",
      "state": {
       "_model_module": "jupyter-cytoscape",
       "_model_module_version": "^1.3.3",
       "_model_name": "NodeModel",
       "_view_count": null,
       "_view_module": "jupyter-cytoscape",
       "_view_module_version": "^1.3.3",
       "_view_name": "NodeView",
       "classes": "",
       "data": {
        "color": "gray",
        "id": "2616648285761045021",
        "label": "9",
        "shape": "rectangle"
       },
       "grabbable": true,
       "grabbed": false,
       "locked": false,
       "pannable": false,
       "position": {},
       "removed": false,
       "selectable": false,
       "selected": false
      }
     },
     "a3059d63bf1b4ec099372eb873201670": {
      "model_module": "jupyter-cytoscape",
      "model_module_version": "^1.3.3",
      "model_name": "NodeModel",
      "state": {
       "_model_module": "jupyter-cytoscape",
       "_model_module_version": "^1.3.3",
       "_model_name": "NodeModel",
       "_view_count": null,
       "_view_module": "jupyter-cytoscape",
       "_view_module_version": "^1.3.3",
       "_view_name": "NodeView",
       "classes": "",
       "data": {
        "color": "gray",
        "id": "6647738449127389403",
        "label": "4",
        "shape": "rectangle"
       },
       "grabbable": true,
       "grabbed": false,
       "locked": false,
       "pannable": false,
       "position": {},
       "removed": false,
       "selectable": false,
       "selected": false
      }
     },
     "a39505f0ea5a445aa3a312a1acb4bd15": {
      "model_module": "jupyter-cytoscape",
      "model_module_version": "^1.3.3",
      "model_name": "NodeModel",
      "state": {
       "_model_module": "jupyter-cytoscape",
       "_model_module_version": "^1.3.3",
       "_model_name": "NodeModel",
       "_view_count": null,
       "_view_module": "jupyter-cytoscape",
       "_view_module_version": "^1.3.3",
       "_view_name": "NodeView",
       "classes": "",
       "data": {
        "color": "gray",
        "id": "184982761892287133",
        "label": "series-sum-agg",
        "shape": "ellipse"
       },
       "grabbable": true,
       "grabbed": false,
       "locked": false,
       "pannable": false,
       "position": {},
       "removed": false,
       "selectable": false,
       "selected": false
      }
     },
     "a436583eea164bdd9423a0be45f63370": {
      "model_module": "jupyter-cytoscape",
      "model_module_version": "^1.3.3",
      "model_name": "EdgeModel",
      "state": {
       "_model_module": "jupyter-cytoscape",
       "_model_module_version": "^1.3.3",
       "_model_name": "EdgeModel",
       "_view_count": null,
       "_view_module": "jupyter-cytoscape",
       "_view_module_version": "^1.3.3",
       "_view_name": "EdgeView",
       "classes": " directed ",
       "data": {
        "source": "3785872214486809031",
        "target": "-4685542835066236729"
       },
       "pannable": true,
       "removed": false,
       "selectable": false,
       "selected": false
      }
     },
     "a45a99f198504e6f95998d0add091fd6": {
      "model_module": "jupyter-cytoscape",
      "model_module_version": "^1.3.3",
      "model_name": "EdgeModel",
      "state": {
       "_model_module": "jupyter-cytoscape",
       "_model_module_version": "^1.3.3",
       "_model_name": "EdgeModel",
       "_view_count": null,
       "_view_module": "jupyter-cytoscape",
       "_view_module_version": "^1.3.3",
       "_view_name": "EdgeView",
       "classes": " directed ",
       "data": {
        "source": "-4215484348330567060",
        "target": "-7968941290167611916"
       },
       "pannable": true,
       "removed": false,
       "selectable": false,
       "selected": false
      }
     },
     "a480d13bf532438e8e3d4bef9e175954": {
      "model_module": "jupyter-cytoscape",
      "model_module_version": "^1.3.3",
      "model_name": "EdgeModel",
      "state": {
       "_model_module": "jupyter-cytoscape",
       "_model_module_version": "^1.3.3",
       "_model_name": "EdgeModel",
       "_view_count": null,
       "_view_module": "jupyter-cytoscape",
       "_view_module_version": "^1.3.3",
       "_view_name": "EdgeView",
       "classes": " directed ",
       "data": {
        "source": "3062049578282062649",
        "target": "-6565448973417248672"
       },
       "pannable": true,
       "removed": false,
       "selectable": false,
       "selected": false
      }
     },
     "a4f19ca541d9425383c101f368ad92ae": {
      "model_module": "jupyter-cytoscape",
      "model_module_version": "^1.3.3",
      "model_name": "EdgeModel",
      "state": {
       "_model_module": "jupyter-cytoscape",
       "_model_module_version": "^1.3.3",
       "_model_name": "EdgeModel",
       "_view_count": null,
       "_view_module": "jupyter-cytoscape",
       "_view_module_version": "^1.3.3",
       "_view_name": "EdgeView",
       "classes": " directed ",
       "data": {
        "source": "-5764115780682934423",
        "target": "6152432435034735939"
       },
       "pannable": true,
       "removed": false,
       "selectable": false,
       "selected": false
      }
     },
     "a595bc87f1274852be0c1bf41ffe1fd5": {
      "model_module": "jupyter-cytoscape",
      "model_module_version": "^1.3.3",
      "model_name": "EdgeModel",
      "state": {
       "_model_module": "jupyter-cytoscape",
       "_model_module_version": "^1.3.3",
       "_model_name": "EdgeModel",
       "_view_count": null,
       "_view_module": "jupyter-cytoscape",
       "_view_module_version": "^1.3.3",
       "_view_name": "EdgeView",
       "classes": " directed ",
       "data": {
        "source": "62022114239876675",
        "target": "2905665167366832065"
       },
       "pannable": true,
       "removed": false,
       "selectable": false,
       "selected": false
      }
     },
     "a6c31baad73e47e59cea94fc2642ae37": {
      "model_module": "jupyter-cytoscape",
      "model_module_version": "^1.3.3",
      "model_name": "NodeModel",
      "state": {
       "_model_module": "jupyter-cytoscape",
       "_model_module_version": "^1.3.3",
       "_model_name": "NodeModel",
       "_view_count": null,
       "_view_module": "jupyter-cytoscape",
       "_view_module_version": "^1.3.3",
       "_view_name": "NodeView",
       "classes": "",
       "data": {
        "color": "gray",
        "id": "-5830051075459869119",
        "label": "0",
        "shape": "rectangle"
       },
       "grabbable": true,
       "grabbed": false,
       "locked": false,
       "pannable": false,
       "position": {},
       "removed": false,
       "selectable": false,
       "selected": false
      }
     },
     "a743dc3963914ce18a98bb610627eb7a": {
      "model_module": "jupyter-cytoscape",
      "model_module_version": "^1.3.3",
      "model_name": "NodeModel",
      "state": {
       "_model_module": "jupyter-cytoscape",
       "_model_module_version": "^1.3.3",
       "_model_name": "NodeModel",
       "_view_count": null,
       "_view_module": "jupyter-cytoscape",
       "_view_module_version": "^1.3.3",
       "_view_name": "NodeView",
       "classes": "",
       "data": {
        "color": "gray",
        "id": "-6287209855063041438",
        "label": "series-sum-chunk",
        "shape": "ellipse"
       },
       "grabbable": true,
       "grabbed": false,
       "locked": false,
       "pannable": false,
       "position": {},
       "removed": false,
       "selectable": false,
       "selected": false
      }
     },
     "a789ec87cc61450f8e6ed8c1e99a7cd1": {
      "model_module": "jupyter-cytoscape",
      "model_module_version": "^1.3.3",
      "model_name": "EdgeModel",
      "state": {
       "_model_module": "jupyter-cytoscape",
       "_model_module_version": "^1.3.3",
       "_model_name": "EdgeModel",
       "_view_count": null,
       "_view_module": "jupyter-cytoscape",
       "_view_module_version": "^1.3.3",
       "_view_name": "EdgeView",
       "classes": " directed ",
       "data": {
        "source": "4297303142890467496",
        "target": "-2167166194090639036"
       },
       "pannable": true,
       "removed": false,
       "selectable": false,
       "selected": false
      }
     },
     "a7ef5a1fb1eb4f409f2d17b77d1ea83d": {
      "model_module": "jupyter-cytoscape",
      "model_module_version": "^1.3.3",
      "model_name": "NodeModel",
      "state": {
       "_model_module": "jupyter-cytoscape",
       "_model_module_version": "^1.3.3",
       "_model_name": "NodeModel",
       "_view_count": null,
       "_view_module": "jupyter-cytoscape",
       "_view_module_version": "^1.3.3",
       "_view_name": "NodeView",
       "classes": "",
       "data": {
        "color": "gray",
        "id": "-7543958752052503077",
        "label": "1",
        "shape": "rectangle"
       },
       "grabbable": true,
       "grabbed": false,
       "locked": false,
       "pannable": false,
       "position": {},
       "removed": false,
       "selectable": false,
       "selected": false
      }
     },
     "a7f774db197c4c01b9e51f4a096bc390": {
      "model_module": "jupyter-cytoscape",
      "model_module_version": "^1.3.3",
      "model_name": "EdgeModel",
      "state": {
       "_model_module": "jupyter-cytoscape",
       "_model_module_version": "^1.3.3",
       "_model_name": "EdgeModel",
       "_view_count": null,
       "_view_module": "jupyter-cytoscape",
       "_view_module_version": "^1.3.3",
       "_view_name": "EdgeView",
       "classes": " directed ",
       "data": {
        "source": "332854426434248549",
        "target": "184982761892287133"
       },
       "pannable": true,
       "removed": false,
       "selectable": false,
       "selected": false
      }
     },
     "a821e77a93c84d5b87b5c55e769f90e9": {
      "model_module": "jupyter-cytoscape",
      "model_module_version": "^1.3.3",
      "model_name": "EdgeModel",
      "state": {
       "_model_module": "jupyter-cytoscape",
       "_model_module_version": "^1.3.3",
       "_model_name": "EdgeModel",
       "_view_count": null,
       "_view_module": "jupyter-cytoscape",
       "_view_module_version": "^1.3.3",
       "_view_name": "EdgeView",
       "classes": " directed ",
       "data": {
        "source": "6949770737076218460",
        "target": "-3725739394849979632"
       },
       "pannable": true,
       "removed": false,
       "selectable": false,
       "selected": false
      }
     },
     "a8344dffdf83468bad0b74ac429a27b2": {
      "model_module": "jupyter-cytoscape",
      "model_module_version": "^1.3.3",
      "model_name": "NodeModel",
      "state": {
       "_model_module": "jupyter-cytoscape",
       "_model_module_version": "^1.3.3",
       "_model_name": "NodeModel",
       "_view_count": null,
       "_view_module": "jupyter-cytoscape",
       "_view_module_version": "^1.3.3",
       "_view_name": "NodeView",
       "classes": "",
       "data": {
        "color": "gray",
        "id": "-5086895261265927921",
        "label": "getitem",
        "shape": "ellipse"
       },
       "grabbable": true,
       "grabbed": false,
       "locked": false,
       "pannable": false,
       "position": {},
       "removed": false,
       "selectable": false,
       "selected": false
      }
     },
     "a9b1e7e614464f8089e786b18fc999c5": {
      "model_module": "jupyter-cytoscape",
      "model_module_version": "^1.3.3",
      "model_name": "EdgeModel",
      "state": {
       "_model_module": "jupyter-cytoscape",
       "_model_module_version": "^1.3.3",
       "_model_name": "EdgeModel",
       "_view_count": null,
       "_view_module": "jupyter-cytoscape",
       "_view_module_version": "^1.3.3",
       "_view_name": "EdgeView",
       "classes": " directed ",
       "data": {
        "source": "-5940548351038569025",
        "target": "6895100733532527735"
       },
       "pannable": true,
       "removed": false,
       "selectable": false,
       "selected": false
      }
     },
     "a9ff3744a94646b48a8402efcf55ddc6": {
      "model_module": "jupyter-cytoscape",
      "model_module_version": "^1.3.3",
      "model_name": "EdgeModel",
      "state": {
       "_model_module": "jupyter-cytoscape",
       "_model_module_version": "^1.3.3",
       "_model_name": "EdgeModel",
       "_view_count": null,
       "_view_module": "jupyter-cytoscape",
       "_view_module_version": "^1.3.3",
       "_view_name": "EdgeView",
       "classes": " directed ",
       "data": {
        "source": "-5761322068268675630",
        "target": "-2793559756972020483"
       },
       "pannable": true,
       "removed": false,
       "selectable": false,
       "selected": false
      }
     },
     "ab1a259a863c44bfa2c0289430ac7963": {
      "model_module": "jupyter-cytoscape",
      "model_module_version": "^1.3.3",
      "model_name": "NodeModel",
      "state": {
       "_model_module": "jupyter-cytoscape",
       "_model_module_version": "^1.3.3",
       "_model_name": "NodeModel",
       "_view_count": null,
       "_view_module": "jupyter-cytoscape",
       "_view_module_version": "^1.3.3",
       "_view_name": "NodeView",
       "classes": "",
       "data": {
        "color": "gray",
        "id": "-7579562603917299948",
        "label": "getitem",
        "shape": "ellipse"
       },
       "grabbable": true,
       "grabbed": false,
       "locked": false,
       "pannable": false,
       "position": {},
       "removed": false,
       "selectable": false,
       "selected": false
      }
     },
     "ab47138fff484984939f20df325d9a40": {
      "model_module": "jupyter-cytoscape",
      "model_module_version": "^1.3.3",
      "model_name": "EdgeModel",
      "state": {
       "_model_module": "jupyter-cytoscape",
       "_model_module_version": "^1.3.3",
       "_model_name": "EdgeModel",
       "_view_count": null,
       "_view_module": "jupyter-cytoscape",
       "_view_module_version": "^1.3.3",
       "_view_name": "EdgeView",
       "classes": " directed ",
       "data": {
        "source": "1611353909699984045",
        "target": "4709838703594998954"
       },
       "pannable": true,
       "removed": false,
       "selectable": false,
       "selected": false
      }
     },
     "ac62c211730e4152851185b32a56fc98": {
      "model_module": "jupyter-cytoscape",
      "model_module_version": "^1.3.3",
      "model_name": "EdgeModel",
      "state": {
       "_model_module": "jupyter-cytoscape",
       "_model_module_version": "^1.3.3",
       "_model_name": "EdgeModel",
       "_view_count": null,
       "_view_module": "jupyter-cytoscape",
       "_view_module_version": "^1.3.3",
       "_view_name": "EdgeView",
       "classes": " directed ",
       "data": {
        "source": "-2047890682624148830",
        "target": "-2221771745086919797"
       },
       "pannable": true,
       "removed": false,
       "selectable": false,
       "selected": false
      }
     },
     "acca9b709fbf43d2b1ce42902b806015": {
      "model_module": "jupyter-cytoscape",
      "model_module_version": "^1.3.3",
      "model_name": "NodeModel",
      "state": {
       "_model_module": "jupyter-cytoscape",
       "_model_module_version": "^1.3.3",
       "_model_name": "NodeModel",
       "_view_count": null,
       "_view_module": "jupyter-cytoscape",
       "_view_module_version": "^1.3.3",
       "_view_name": "NodeView",
       "classes": "",
       "data": {
        "color": "gray",
        "id": "5421473512099290016",
        "label": "read-csv",
        "shape": "ellipse"
       },
       "grabbable": true,
       "grabbed": false,
       "locked": false,
       "pannable": false,
       "position": {},
       "removed": false,
       "selectable": false,
       "selected": false
      }
     },
     "ad28cf5e96774cbc8385f08ac6f7c5c6": {
      "model_module": "jupyter-cytoscape",
      "model_module_version": "^1.3.3",
      "model_name": "NodeModel",
      "state": {
       "_model_module": "jupyter-cytoscape",
       "_model_module_version": "^1.3.3",
       "_model_name": "NodeModel",
       "_view_count": null,
       "_view_module": "jupyter-cytoscape",
       "_view_module_version": "^1.3.3",
       "_view_name": "NodeView",
       "classes": "",
       "data": {
        "color": "gray",
        "id": "-3566701184304504112",
        "label": "moment_chunk",
        "shape": "ellipse"
       },
       "grabbable": true,
       "grabbed": false,
       "locked": false,
       "pannable": false,
       "position": {},
       "removed": false,
       "selectable": false,
       "selected": false
      }
     },
     "adb6be7283cb4c05b77bbc59094c8b63": {
      "model_module": "jupyter-cytoscape",
      "model_module_version": "^1.3.3",
      "model_name": "EdgeModel",
      "state": {
       "_model_module": "jupyter-cytoscape",
       "_model_module_version": "^1.3.3",
       "_model_name": "EdgeModel",
       "_view_count": null,
       "_view_module": "jupyter-cytoscape",
       "_view_module_version": "^1.3.3",
       "_view_name": "EdgeView",
       "classes": " directed ",
       "data": {
        "source": "-5153203639078558186",
        "target": "-2326129800978356064"
       },
       "pannable": true,
       "removed": false,
       "selectable": false,
       "selected": false
      }
     },
     "aed6119526144c7593c6c7f0fac68dc7": {
      "model_module": "jupyter-cytoscape",
      "model_module_version": "^1.3.3",
      "model_name": "NodeModel",
      "state": {
       "_model_module": "jupyter-cytoscape",
       "_model_module_version": "^1.3.3",
       "_model_name": "NodeModel",
       "_view_count": null,
       "_view_module": "jupyter-cytoscape",
       "_view_module_version": "^1.3.3",
       "_view_name": "NodeView",
       "classes": "",
       "data": {
        "color": "gray",
        "id": "1556683906156293320",
        "label": "4",
        "shape": "rectangle"
       },
       "grabbable": true,
       "grabbed": false,
       "locked": false,
       "pannable": false,
       "position": {},
       "removed": false,
       "selectable": false,
       "selected": false
      }
     },
     "aee6b216929c4803a3504621d8d5c860": {
      "model_module": "jupyter-cytoscape",
      "model_module_version": "^1.3.3",
      "model_name": "EdgeModel",
      "state": {
       "_model_module": "jupyter-cytoscape",
       "_model_module_version": "^1.3.3",
       "_model_name": "EdgeModel",
       "_view_count": null,
       "_view_module": "jupyter-cytoscape",
       "_view_module_version": "^1.3.3",
       "_view_name": "EdgeView",
       "classes": " directed ",
       "data": {
        "source": "2845812770094942744",
        "target": "-655763189733005099"
       },
       "pannable": true,
       "removed": false,
       "selectable": false,
       "selected": false
      }
     },
     "af0285a131db4af59ad852be0f628dcc": {
      "model_module": "jupyter-cytoscape",
      "model_module_version": "^1.3.3",
      "model_name": "EdgeModel",
      "state": {
       "_model_module": "jupyter-cytoscape",
       "_model_module_version": "^1.3.3",
       "_model_name": "EdgeModel",
       "_view_count": null,
       "_view_module": "jupyter-cytoscape",
       "_view_module_version": "^1.3.3",
       "_view_name": "EdgeView",
       "classes": " directed ",
       "data": {
        "source": "2923888348880457047",
        "target": "3972769520085919556"
       },
       "pannable": true,
       "removed": false,
       "selectable": false,
       "selected": false
      }
     },
     "b01f09869bf34a7abcfba1aa81faf466": {
      "model_module": "jupyter-cytoscape",
      "model_module_version": "^1.3.3",
      "model_name": "EdgeModel",
      "state": {
       "_model_module": "jupyter-cytoscape",
       "_model_module_version": "^1.3.3",
       "_model_name": "EdgeModel",
       "_view_count": null,
       "_view_module": "jupyter-cytoscape",
       "_view_module_version": "^1.3.3",
       "_view_name": "EdgeView",
       "classes": " directed ",
       "data": {
        "source": "-4470595765935890453",
        "target": "-1881083558898401690"
       },
       "pannable": true,
       "removed": false,
       "selectable": false,
       "selected": false
      }
     },
     "b07fc48706fa4ba087f593da487e5bec": {
      "model_module": "jupyter-cytoscape",
      "model_module_version": "^1.3.3",
      "model_name": "NodeModel",
      "state": {
       "_model_module": "jupyter-cytoscape",
       "_model_module_version": "^1.3.3",
       "_model_name": "NodeModel",
       "_view_count": null,
       "_view_module": "jupyter-cytoscape",
       "_view_module_version": "^1.3.3",
       "_view_name": "NodeView",
       "classes": "",
       "data": {
        "color": "gray",
        "id": "5225928455406944915",
        "label": "8",
        "shape": "rectangle"
       },
       "grabbable": true,
       "grabbed": false,
       "locked": false,
       "pannable": false,
       "position": {},
       "removed": false,
       "selectable": false,
       "selected": false
      }
     },
     "b157b1b9eddb4ebfbcbc0a403fcb8cf1": {
      "model_module": "jupyter-cytoscape",
      "model_module_version": "^1.3.3",
      "model_name": "EdgeModel",
      "state": {
       "_model_module": "jupyter-cytoscape",
       "_model_module_version": "^1.3.3",
       "_model_name": "EdgeModel",
       "_view_count": null,
       "_view_module": "jupyter-cytoscape",
       "_view_module_version": "^1.3.3",
       "_view_name": "EdgeView",
       "classes": " directed ",
       "data": {
        "source": "2738253416966430043",
        "target": "-5369440447265678091"
       },
       "pannable": true,
       "removed": false,
       "selectable": false,
       "selected": false
      }
     },
     "b16d1c0124354b3da5e75668407035ac": {
      "model_module": "jupyter-cytoscape",
      "model_module_version": "^1.3.3",
      "model_name": "NodeModel",
      "state": {
       "_model_module": "jupyter-cytoscape",
       "_model_module_version": "^1.3.3",
       "_model_name": "NodeModel",
       "_view_count": null,
       "_view_module": "jupyter-cytoscape",
       "_view_module_version": "^1.3.3",
       "_view_name": "NodeView",
       "classes": "",
       "data": {
        "color": "gray",
        "id": "7871402482909308723",
        "label": "inv",
        "shape": "ellipse"
       },
       "grabbable": true,
       "grabbed": false,
       "locked": false,
       "pannable": false,
       "position": {},
       "removed": false,
       "selectable": false,
       "selected": false
      }
     },
     "b19dce63f2a74f858fc0604525aac5a1": {
      "model_module": "jupyter-cytoscape",
      "model_module_version": "^1.3.3",
      "model_name": "EdgeModel",
      "state": {
       "_model_module": "jupyter-cytoscape",
       "_model_module_version": "^1.3.3",
       "_model_name": "EdgeModel",
       "_view_count": null,
       "_view_module": "jupyter-cytoscape",
       "_view_module_version": "^1.3.3",
       "_view_name": "EdgeView",
       "classes": " directed ",
       "data": {
        "source": "-4526504624520761209",
        "target": "-871041751710238057"
       },
       "pannable": true,
       "removed": false,
       "selectable": false,
       "selected": false
      }
     },
     "b1f231036b304e2a9c7df48a46e1e8ef": {
      "model_module": "jupyter-cytoscape",
      "model_module_version": "^1.3.3",
      "model_name": "EdgeModel",
      "state": {
       "_model_module": "jupyter-cytoscape",
       "_model_module_version": "^1.3.3",
       "_model_name": "EdgeModel",
       "_view_count": null,
       "_view_module": "jupyter-cytoscape",
       "_view_module_version": "^1.3.3",
       "_view_name": "EdgeView",
       "classes": " directed ",
       "data": {
        "source": "-5369440447265678091",
        "target": "-3888857000045042515"
       },
       "pannable": true,
       "removed": false,
       "selectable": false,
       "selected": false
      }
     },
     "b1f91c19e2ab4cffbf0d137f6397dd67": {
      "model_module": "jupyter-cytoscape",
      "model_module_version": "^1.3.3",
      "model_name": "EdgeModel",
      "state": {
       "_model_module": "jupyter-cytoscape",
       "_model_module_version": "^1.3.3",
       "_model_name": "EdgeModel",
       "_view_count": null,
       "_view_module": "jupyter-cytoscape",
       "_view_module_version": "^1.3.3",
       "_view_name": "EdgeView",
       "classes": " directed ",
       "data": {
        "source": "6647738449127389403",
        "target": "2170496124601861621"
       },
       "pannable": true,
       "removed": false,
       "selectable": false,
       "selected": false
      }
     },
     "b28fa9dc672843d89d9b3518566fa0c3": {
      "model_module": "jupyter-cytoscape",
      "model_module_version": "^1.3.3",
      "model_name": "NodeModel",
      "state": {
       "_model_module": "jupyter-cytoscape",
       "_model_module_version": "^1.3.3",
       "_model_name": "NodeModel",
       "_view_count": null,
       "_view_module": "jupyter-cytoscape",
       "_view_module_version": "^1.3.3",
       "_view_name": "NodeView",
       "classes": "",
       "data": {
        "color": "gray",
        "id": "-2515710812898797486",
        "label": "0",
        "shape": "rectangle"
       },
       "grabbable": true,
       "grabbed": false,
       "locked": false,
       "pannable": false,
       "position": {},
       "removed": false,
       "selectable": false,
       "selected": false
      }
     },
     "b360432706614796a16fb278c26a8abe": {
      "model_module": "jupyter-cytoscape",
      "model_module_version": "^1.3.3",
      "model_name": "NodeModel",
      "state": {
       "_model_module": "jupyter-cytoscape",
       "_model_module_version": "^1.3.3",
       "_model_name": "NodeModel",
       "_view_count": null,
       "_view_module": "jupyter-cytoscape",
       "_view_module_version": "^1.3.3",
       "_view_name": "NodeView",
       "classes": "",
       "data": {
        "color": "gray",
        "id": "-4217037523332134368",
        "label": "values",
        "shape": "ellipse"
       },
       "grabbable": true,
       "grabbed": false,
       "locked": false,
       "pannable": false,
       "position": {},
       "removed": false,
       "selectable": false,
       "selected": false
      }
     },
     "b387e1c661bc427ba22910af073b1a35": {
      "model_module": "jupyter-cytoscape",
      "model_module_version": "^1.3.3",
      "model_name": "NodeModel",
      "state": {
       "_model_module": "jupyter-cytoscape",
       "_model_module_version": "^1.3.3",
       "_model_name": "NodeModel",
       "_view_count": null,
       "_view_module": "jupyter-cytoscape",
       "_view_module_version": "^1.3.3",
       "_view_name": "NodeView",
       "classes": "",
       "data": {
        "color": "gray",
        "id": "-491634248083634704",
        "label": "5",
        "shape": "rectangle"
       },
       "grabbable": true,
       "grabbed": false,
       "locked": false,
       "pannable": false,
       "position": {},
       "removed": false,
       "selectable": false,
       "selected": false
      }
     },
     "b3cf8d0e8bf7456793e86d1f22c5a9aa": {
      "model_module": "jupyter-cytoscape",
      "model_module_version": "^1.3.3",
      "model_name": "EdgeModel",
      "state": {
       "_model_module": "jupyter-cytoscape",
       "_model_module_version": "^1.3.3",
       "_model_name": "EdgeModel",
       "_view_count": null,
       "_view_module": "jupyter-cytoscape",
       "_view_module_version": "^1.3.3",
       "_view_name": "EdgeView",
       "classes": " directed ",
       "data": {
        "source": "-6538664375991442101",
        "target": "6288788255892384863"
       },
       "pannable": true,
       "removed": false,
       "selectable": false,
       "selected": false
      }
     },
     "b411f6b3636f4ef39c3aad9d96416b9d": {
      "model_module": "jupyter-cytoscape",
      "model_module_version": "^1.3.3",
      "model_name": "NodeModel",
      "state": {
       "_model_module": "jupyter-cytoscape",
       "_model_module_version": "^1.3.3",
       "_model_name": "NodeModel",
       "_view_count": null,
       "_view_module": "jupyter-cytoscape",
       "_view_module_version": "^1.3.3",
       "_view_name": "NodeView",
       "classes": "",
       "data": {
        "color": "gray",
        "id": "4297303142890467496",
        "label": "read-csv",
        "shape": "ellipse"
       },
       "grabbable": true,
       "grabbed": false,
       "locked": false,
       "pannable": false,
       "position": {},
       "removed": false,
       "selectable": false,
       "selected": false
      }
     },
     "b4a2bc29b27f4074b63e348bb46546a9": {
      "model_module": "jupyter-cytoscape",
      "model_module_version": "^1.3.3",
      "model_name": "EdgeModel",
      "state": {
       "_model_module": "jupyter-cytoscape",
       "_model_module_version": "^1.3.3",
       "_model_name": "EdgeModel",
       "_view_count": null,
       "_view_module": "jupyter-cytoscape",
       "_view_module_version": "^1.3.3",
       "_view_name": "EdgeView",
       "classes": " directed ",
       "data": {
        "source": "1354898893105756375",
        "target": "-1281712300695053510"
       },
       "pannable": true,
       "removed": false,
       "selectable": false,
       "selected": false
      }
     },
     "b561c1d744d349fca470ac97f748531d": {
      "model_module": "jupyter-cytoscape",
      "model_module_version": "^1.3.3",
      "model_name": "NodeModel",
      "state": {
       "_model_module": "jupyter-cytoscape",
       "_model_module_version": "^1.3.3",
       "_model_name": "NodeModel",
       "_view_count": null,
       "_view_module": "jupyter-cytoscape",
       "_view_module_version": "^1.3.3",
       "_view_name": "NodeView",
       "classes": "",
       "data": {
        "color": "gray",
        "id": "3764722074471287502",
        "label": "getitem",
        "shape": "ellipse"
       },
       "grabbable": true,
       "grabbed": false,
       "locked": false,
       "pannable": false,
       "position": {},
       "removed": false,
       "selectable": false,
       "selected": false
      }
     },
     "b58c2e2df95f422db49a4b4d581e3e09": {
      "model_module": "jupyter-cytoscape",
      "model_module_version": "^1.3.3",
      "model_name": "EdgeModel",
      "state": {
       "_model_module": "jupyter-cytoscape",
       "_model_module_version": "^1.3.3",
       "_model_name": "EdgeModel",
       "_view_count": null,
       "_view_module": "jupyter-cytoscape",
       "_view_module_version": "^1.3.3",
       "_view_name": "EdgeView",
       "classes": " directed ",
       "data": {
        "source": "1502078355160012559",
        "target": "184982761892287133"
       },
       "pannable": true,
       "removed": false,
       "selectable": false,
       "selected": false
      }
     },
     "b64f2616292b4909a367c85410a05711": {
      "model_module": "jupyter-cytoscape",
      "model_module_version": "^1.3.3",
      "model_name": "EdgeModel",
      "state": {
       "_model_module": "jupyter-cytoscape",
       "_model_module_version": "^1.3.3",
       "_model_name": "EdgeModel",
       "_view_count": null,
       "_view_module": "jupyter-cytoscape",
       "_view_module_version": "^1.3.3",
       "_view_name": "EdgeView",
       "classes": " directed ",
       "data": {
        "source": "7940737705099371213",
        "target": "6569662870341875100"
       },
       "pannable": true,
       "removed": false,
       "selectable": false,
       "selected": false
      }
     },
     "b6891d37a143422aa75a40af4de106ea": {
      "model_module": "jupyter-cytoscape",
      "model_module_version": "^1.3.3",
      "model_name": "NodeModel",
      "state": {
       "_model_module": "jupyter-cytoscape",
       "_model_module_version": "^1.3.3",
       "_model_name": "NodeModel",
       "_view_count": null,
       "_view_module": "jupyter-cytoscape",
       "_view_module_version": "^1.3.3",
       "_view_name": "NodeView",
       "classes": "",
       "data": {
        "color": "gray",
        "id": "-5021164428480707410",
        "label": "values",
        "shape": "ellipse"
       },
       "grabbable": true,
       "grabbed": false,
       "locked": false,
       "pannable": false,
       "position": {},
       "removed": false,
       "selectable": false,
       "selected": false
      }
     },
     "b6edb4019ade416380876253f0e1a614": {
      "model_module": "jupyter-cytoscape",
      "model_module_version": "^1.3.3",
      "model_name": "EdgeModel",
      "state": {
       "_model_module": "jupyter-cytoscape",
       "_model_module_version": "^1.3.3",
       "_model_name": "EdgeModel",
       "_view_count": null,
       "_view_module": "jupyter-cytoscape",
       "_view_module_version": "^1.3.3",
       "_view_name": "EdgeView",
       "classes": " directed ",
       "data": {
        "source": "3942504579639152708",
        "target": "-7543958752052503077"
       },
       "pannable": true,
       "removed": false,
       "selectable": false,
       "selected": false
      }
     },
     "b792ac649567432480ec8d7d57b33536": {
      "model_module": "jupyter-cytoscape",
      "model_module_version": "^1.3.3",
      "model_name": "EdgeModel",
      "state": {
       "_model_module": "jupyter-cytoscape",
       "_model_module_version": "^1.3.3",
       "_model_name": "EdgeModel",
       "_view_count": null,
       "_view_module": "jupyter-cytoscape",
       "_view_module_version": "^1.3.3",
       "_view_name": "EdgeView",
       "classes": " directed ",
       "data": {
        "source": "6016006508018363721",
        "target": "7871402482909308723"
       },
       "pannable": true,
       "removed": false,
       "selectable": false,
       "selected": false
      }
     },
     "b847b2f4082043beb4d2f9a54b8af2de": {
      "model_module": "jupyter-cytoscape",
      "model_module_version": "^1.3.3",
      "model_name": "NodeModel",
      "state": {
       "_model_module": "jupyter-cytoscape",
       "_model_module_version": "^1.3.3",
       "_model_name": "NodeModel",
       "_view_count": null,
       "_view_module": "jupyter-cytoscape",
       "_view_module_version": "^1.3.3",
       "_view_name": "NodeView",
       "classes": "",
       "data": {
        "color": "gray",
        "id": "-8969495288000778522",
        "label": "moment_chunk",
        "shape": "ellipse"
       },
       "grabbable": true,
       "grabbed": false,
       "locked": false,
       "pannable": false,
       "position": {},
       "removed": false,
       "selectable": false,
       "selected": false
      }
     },
     "b86b564d0eb3409bbfceaec316902bb1": {
      "model_module": "jupyter-cytoscape",
      "model_module_version": "^1.3.3",
      "model_name": "EdgeModel",
      "state": {
       "_model_module": "jupyter-cytoscape",
       "_model_module_version": "^1.3.3",
       "_model_name": "EdgeModel",
       "_view_count": null,
       "_view_module": "jupyter-cytoscape",
       "_view_module_version": "^1.3.3",
       "_view_name": "EdgeView",
       "classes": " directed ",
       "data": {
        "source": "3764722074471287502",
        "target": "-5611019528098606558"
       },
       "pannable": true,
       "removed": false,
       "selectable": false,
       "selected": false
      }
     },
     "b87a4bf5dde5419dba2e8706b4dca54c": {
      "model_module": "jupyter-cytoscape",
      "model_module_version": "^1.3.3",
      "model_name": "NodeModel",
      "state": {
       "_model_module": "jupyter-cytoscape",
       "_model_module_version": "^1.3.3",
       "_model_name": "NodeModel",
       "_view_count": null,
       "_view_module": "jupyter-cytoscape",
       "_view_module_version": "^1.3.3",
       "_view_name": "NodeView",
       "classes": "",
       "data": {
        "color": "gray",
        "id": "-4526504624520761209",
        "label": "series-count-chunk",
        "shape": "ellipse"
       },
       "grabbable": true,
       "grabbed": false,
       "locked": false,
       "pannable": false,
       "position": {},
       "removed": false,
       "selectable": false,
       "selected": false
      }
     },
     "b98ca6eff3854715929d1cb44df28012": {
      "model_module": "jupyter-cytoscape",
      "model_module_version": "^1.3.3",
      "model_name": "EdgeModel",
      "state": {
       "_model_module": "jupyter-cytoscape",
       "_model_module_version": "^1.3.3",
       "_model_name": "EdgeModel",
       "_view_count": null,
       "_view_module": "jupyter-cytoscape",
       "_view_module_version": "^1.3.3",
       "_view_name": "EdgeView",
       "classes": " directed ",
       "data": {
        "source": "4231273507007826659",
        "target": "-5761322068268675630"
       },
       "pannable": true,
       "removed": false,
       "selectable": false,
       "selected": false
      }
     },
     "bb2337a4220a401eadce626ee19d21dc": {
      "model_module": "jupyter-cytoscape",
      "model_module_version": "^1.3.3",
      "model_name": "CytoscapeModel",
      "state": {
       "_dom_classes": [],
       "_interaction_handlers": {},
       "_model_module": "jupyter-cytoscape",
       "_model_module_version": "^1.3.3",
       "_model_name": "CytoscapeModel",
       "_view_count": null,
       "_view_module": "jupyter-cytoscape",
       "_view_module_version": "^1.3.3",
       "_view_name": "CytoscapeView",
       "auto_ungrabify": false,
       "auto_unselectify": true,
       "autolock": false,
       "box_selection_enabled": false,
       "cytoscape_layout": {
        "edgeSep": 10,
        "name": "dagre",
        "nodeDimensionsIncludeLabels": true,
        "nodeSep": 10,
        "rankDir": "BT",
        "spacingFactor": 1
       },
       "cytoscape_style": [
        {
         "selector": "node",
         "style": {
          "background-color": "#eee",
          "border-color": "data(color)",
          "border-width": 4,
          "color": "black",
          "font-family": "helvetica",
          "font-size": "24px",
          "font-weight": "bold",
          "height": 64,
          "label": "data(label)",
          "opacity": "1.0",
          "shape": "data(shape)",
          "text-halign": "center",
          "text-valign": "center",
          "width": 64
         }
        },
        {
         "selector": "edge",
         "style": {
          "curve-style": "bezier",
          "line-color": "gray",
          "target-arrow-color": "gray",
          "target-arrow-shape": "triangle",
          "width": 8
         }
        }
       ],
       "desktop_tap_threshold": 4,
       "graph": "IPY_MODEL_d037a91a27ba4c6095e722eb57b4e76c",
       "headless": false,
       "hide_edges_on_viewport": false,
       "layout": "IPY_MODEL_e725cec6a23b4732bfb59db671428768",
       "max_zoom": 4.0,
       "min_zoom": 0.2,
       "motion_blur": false,
       "motion_blur_opacity": 0.2,
       "panning_enabled": true,
       "pixel_ratio": "auto",
       "rendered_position": {
        "renderedPosition": {
         "x": 100,
         "y": 100
        }
       },
       "selection_type": "single",
       "style_enabled": true,
       "tabbable": null,
       "texture_on_viewport": false,
       "tooltip": null,
       "tooltip_source": "tooltip",
       "touch_tap_threshold": 8,
       "user_panning_enabled": true,
       "user_zooming_enabled": true,
       "wheel_sensitivity": 0.1,
       "zoom": 2.0,
       "zooming_enabled": true
      }
     },
     "bb2a08be0f654fdf96045f233573004c": {
      "model_module": "jupyter-cytoscape",
      "model_module_version": "^1.3.3",
      "model_name": "EdgeModel",
      "state": {
       "_model_module": "jupyter-cytoscape",
       "_model_module_version": "^1.3.3",
       "_model_name": "EdgeModel",
       "_view_count": null,
       "_view_module": "jupyter-cytoscape",
       "_view_module_version": "^1.3.3",
       "_view_name": "EdgeView",
       "classes": " directed ",
       "data": {
        "source": "-871041751710238057",
        "target": "6152432435034735939"
       },
       "pannable": true,
       "removed": false,
       "selectable": false,
       "selected": false
      }
     },
     "bb53e1f5b9354c848c72fd035dfc99ca": {
      "model_module": "jupyter-cytoscape",
      "model_module_version": "^1.3.3",
      "model_name": "EdgeModel",
      "state": {
       "_model_module": "jupyter-cytoscape",
       "_model_module_version": "^1.3.3",
       "_model_name": "EdgeModel",
       "_view_count": null,
       "_view_module": "jupyter-cytoscape",
       "_view_module_version": "^1.3.3",
       "_view_name": "EdgeView",
       "classes": " directed ",
       "data": {
        "source": "-8547906436538000492",
        "target": "6152432435034735939"
       },
       "pannable": true,
       "removed": false,
       "selectable": false,
       "selected": false
      }
     },
     "bb59731ea7a94236932e164985f1ec1f": {
      "model_module": "jupyter-cytoscape",
      "model_module_version": "^1.3.3",
      "model_name": "NodeModel",
      "state": {
       "_model_module": "jupyter-cytoscape",
       "_model_module_version": "^1.3.3",
       "_model_name": "NodeModel",
       "_view_count": null,
       "_view_module": "jupyter-cytoscape",
       "_view_module_version": "^1.3.3",
       "_view_name": "NodeView",
       "classes": "",
       "data": {
        "color": "gray",
        "id": "-2793559756972020483",
        "label": "0",
        "shape": "rectangle"
       },
       "grabbable": true,
       "grabbed": false,
       "locked": false,
       "pannable": false,
       "position": {},
       "removed": false,
       "selectable": false,
       "selected": false
      }
     },
     "bd7c838499844c99a19285123404e771": {
      "model_module": "jupyter-cytoscape",
      "model_module_version": "^1.3.3",
      "model_name": "NodeModel",
      "state": {
       "_model_module": "jupyter-cytoscape",
       "_model_module_version": "^1.3.3",
       "_model_name": "NodeModel",
       "_view_count": null,
       "_view_module": "jupyter-cytoscape",
       "_view_module_version": "^1.3.3",
       "_view_name": "NodeView",
       "classes": "",
       "data": {
        "color": "gray",
        "id": "-6526509152487130414",
        "label": "series-count-chunk",
        "shape": "ellipse"
       },
       "grabbable": true,
       "grabbed": false,
       "locked": false,
       "pannable": false,
       "position": {},
       "removed": false,
       "selectable": false,
       "selected": false
      }
     },
     "bdbd3e6bb5c640b2bad29e5caf5be7e4": {
      "model_module": "jupyter-cytoscape",
      "model_module_version": "^1.3.3",
      "model_name": "NodeModel",
      "state": {
       "_model_module": "jupyter-cytoscape",
       "_model_module_version": "^1.3.3",
       "_model_name": "NodeModel",
       "_view_count": null,
       "_view_module": "jupyter-cytoscape",
       "_view_module_version": "^1.3.3",
       "_view_name": "NodeView",
       "classes": "",
       "data": {
        "color": "gray",
        "id": "3225920636829286104",
        "label": "4",
        "shape": "rectangle"
       },
       "grabbable": true,
       "grabbed": false,
       "locked": false,
       "pannable": false,
       "position": {},
       "removed": false,
       "selectable": false,
       "selected": false
      }
     },
     "bdd5aa37a8b24e1288082a1d3016e39c": {
      "model_module": "jupyter-cytoscape",
      "model_module_version": "^1.3.3",
      "model_name": "EdgeModel",
      "state": {
       "_model_module": "jupyter-cytoscape",
       "_model_module_version": "^1.3.3",
       "_model_name": "EdgeModel",
       "_view_count": null,
       "_view_module": "jupyter-cytoscape",
       "_view_module_version": "^1.3.3",
       "_view_name": "EdgeView",
       "classes": " directed ",
       "data": {
        "source": "69607321029797140",
        "target": "-4470595765935890453"
       },
       "pannable": true,
       "removed": false,
       "selectable": false,
       "selected": false
      }
     },
     "be112ab5f3e048c487aff273cae9232d": {
      "model_module": "jupyter-cytoscape",
      "model_module_version": "^1.3.3",
      "model_name": "EdgeModel",
      "state": {
       "_model_module": "jupyter-cytoscape",
       "_model_module_version": "^1.3.3",
       "_model_name": "EdgeModel",
       "_view_count": null,
       "_view_module": "jupyter-cytoscape",
       "_view_module_version": "^1.3.3",
       "_view_name": "EdgeView",
       "classes": " directed ",
       "data": {
        "source": "-6551078972490472845",
        "target": "7940737705099371213"
       },
       "pannable": true,
       "removed": false,
       "selectable": false,
       "selected": false
      }
     },
     "be79ce83d54446f0945781fe34c56f25": {
      "model_module": "jupyter-cytoscape",
      "model_module_version": "^1.3.3",
      "model_name": "NodeModel",
      "state": {
       "_model_module": "jupyter-cytoscape",
       "_model_module_version": "^1.3.3",
       "_model_name": "NodeModel",
       "_view_count": null,
       "_view_module": "jupyter-cytoscape",
       "_view_module_version": "^1.3.3",
       "_view_name": "NodeView",
       "classes": "",
       "data": {
        "color": "gray",
        "id": "-8128176172483935123",
        "label": "series-sum-chunk",
        "shape": "ellipse"
       },
       "grabbable": true,
       "grabbed": false,
       "locked": false,
       "pannable": false,
       "position": {},
       "removed": false,
       "selectable": false,
       "selected": false
      }
     },
     "beb5e77f39c240a3ad6e2cc15cc6693f": {
      "model_module": "jupyter-cytoscape",
      "model_module_version": "^1.3.3",
      "model_name": "EdgeModel",
      "state": {
       "_model_module": "jupyter-cytoscape",
       "_model_module_version": "^1.3.3",
       "_model_name": "EdgeModel",
       "_view_count": null,
       "_view_module": "jupyter-cytoscape",
       "_view_module_version": "^1.3.3",
       "_view_name": "EdgeView",
       "classes": " directed ",
       "data": {
        "source": "-6767770366207860245",
        "target": "-6565448973417248672"
       },
       "pannable": true,
       "removed": false,
       "selectable": false,
       "selected": false
      }
     },
     "becdb44a15e6452cacbd16b4de47b1c1": {
      "model_module": "jupyter-cytoscape",
      "model_module_version": "^1.3.3",
      "model_name": "EdgeModel",
      "state": {
       "_model_module": "jupyter-cytoscape",
       "_model_module_version": "^1.3.3",
       "_model_name": "EdgeModel",
       "_view_count": null,
       "_view_module": "jupyter-cytoscape",
       "_view_module_version": "^1.3.3",
       "_view_name": "EdgeView",
       "classes": " directed ",
       "data": {
        "source": "3171250633285595379",
        "target": "5605688391892181187"
       },
       "pannable": true,
       "removed": false,
       "selectable": false,
       "selected": false
      }
     },
     "befba965d63344d3b03a867ef174f5d0": {
      "model_module": "jupyter-cytoscape",
      "model_module_version": "^1.3.3",
      "model_name": "NodeModel",
      "state": {
       "_model_module": "jupyter-cytoscape",
       "_model_module_version": "^1.3.3",
       "_model_name": "NodeModel",
       "_view_count": null,
       "_view_module": "jupyter-cytoscape",
       "_view_module_version": "^1.3.3",
       "_view_name": "NodeView",
       "classes": "",
       "data": {
        "color": "gray",
        "id": "140097693025390978",
        "label": "3",
        "shape": "rectangle"
       },
       "grabbable": true,
       "grabbed": false,
       "locked": false,
       "pannable": false,
       "position": {},
       "removed": false,
       "selectable": false,
       "selected": false
      }
     },
     "bf6f49775e404eac80d9750519bb0607": {
      "model_module": "jupyter-cytoscape",
      "model_module_version": "^1.3.3",
      "model_name": "EdgeModel",
      "state": {
       "_model_module": "jupyter-cytoscape",
       "_model_module_version": "^1.3.3",
       "_model_name": "EdgeModel",
       "_view_count": null,
       "_view_module": "jupyter-cytoscape",
       "_view_module_version": "^1.3.3",
       "_view_name": "EdgeView",
       "classes": " directed ",
       "data": {
        "source": "7421478040065659221",
        "target": "8064324662258291745"
       },
       "pannable": true,
       "removed": false,
       "selectable": false,
       "selected": false
      }
     },
     "bfba06f521d64a0fa4acdb9ed6b1aa23": {
      "model_module": "jupyter-cytoscape",
      "model_module_version": "^1.3.3",
      "model_name": "EdgeModel",
      "state": {
       "_model_module": "jupyter-cytoscape",
       "_model_module_version": "^1.3.3",
       "_model_name": "EdgeModel",
       "_view_count": null,
       "_view_module": "jupyter-cytoscape",
       "_view_module_version": "^1.3.3",
       "_view_name": "EdgeView",
       "classes": " directed ",
       "data": {
        "source": "-6367470941941654894",
        "target": "-3654832407565304126"
       },
       "pannable": true,
       "removed": false,
       "selectable": false,
       "selected": false
      }
     },
     "bfcfa9a7c21348389edeb383a751fb30": {
      "model_module": "jupyter-cytoscape",
      "model_module_version": "^1.3.3",
      "model_name": "NodeModel",
      "state": {
       "_model_module": "jupyter-cytoscape",
       "_model_module_version": "^1.3.3",
       "_model_name": "NodeModel",
       "_view_count": null,
       "_view_module": "jupyter-cytoscape",
       "_view_module_version": "^1.3.3",
       "_view_name": "NodeView",
       "classes": "",
       "data": {
        "color": "gray",
        "id": "-8767852684321957812",
        "label": "7",
        "shape": "rectangle"
       },
       "grabbable": true,
       "grabbed": false,
       "locked": false,
       "pannable": false,
       "position": {},
       "removed": false,
       "selectable": false,
       "selected": false
      }
     },
     "c0643e9a32f24f5584d54f282da5f5f7": {
      "model_module": "jupyter-cytoscape",
      "model_module_version": "^1.3.3",
      "model_name": "EdgeModel",
      "state": {
       "_model_module": "jupyter-cytoscape",
       "_model_module_version": "^1.3.3",
       "_model_name": "EdgeModel",
       "_view_count": null,
       "_view_module": "jupyter-cytoscape",
       "_view_module_version": "^1.3.3",
       "_view_name": "EdgeView",
       "classes": " directed ",
       "data": {
        "source": "7955123607254759015",
        "target": "-5761322068268675630"
       },
       "pannable": true,
       "removed": false,
       "selectable": false,
       "selected": false
      }
     },
     "c0da44ff5db8470993df7849dc1aec8c": {
      "model_module": "jupyter-cytoscape",
      "model_module_version": "^1.3.3",
      "model_name": "NodeModel",
      "state": {
       "_model_module": "jupyter-cytoscape",
       "_model_module_version": "^1.3.3",
       "_model_name": "NodeModel",
       "_view_count": null,
       "_view_module": "jupyter-cytoscape",
       "_view_module_version": "^1.3.3",
       "_view_name": "NodeView",
       "classes": "",
       "data": {
        "color": "gray",
        "id": "-6938889150115154788",
        "label": "0",
        "shape": "rectangle"
       },
       "grabbable": true,
       "grabbed": false,
       "locked": false,
       "pannable": false,
       "position": {},
       "removed": false,
       "selectable": false,
       "selected": false
      }
     },
     "c112d20663004a0eb32cace6e42b9af9": {
      "model_module": "jupyter-cytoscape",
      "model_module_version": "^1.3.3",
      "model_name": "NodeModel",
      "state": {
       "_model_module": "jupyter-cytoscape",
       "_model_module_version": "^1.3.3",
       "_model_name": "NodeModel",
       "_view_count": null,
       "_view_module": "jupyter-cytoscape",
       "_view_module_version": "^1.3.3",
       "_view_name": "NodeView",
       "classes": "",
       "data": {
        "color": "gray",
        "id": "-6603899307660636790",
        "label": "6",
        "shape": "rectangle"
       },
       "grabbable": true,
       "grabbed": false,
       "locked": false,
       "pannable": false,
       "position": {},
       "removed": false,
       "selectable": false,
       "selected": false
      }
     },
     "c1b8f244ebd846f59d263583b66cd0f6": {
      "model_module": "jupyter-cytoscape",
      "model_module_version": "^1.3.3",
      "model_name": "NodeModel",
      "state": {
       "_model_module": "jupyter-cytoscape",
       "_model_module_version": "^1.3.3",
       "_model_name": "NodeModel",
       "_view_count": null,
       "_view_module": "jupyter-cytoscape",
       "_view_module_version": "^1.3.3",
       "_view_name": "NodeView",
       "classes": "",
       "data": {
        "color": "gray",
        "id": "6464479394430704800",
        "label": "series-mean",
        "shape": "ellipse"
       },
       "grabbable": true,
       "grabbed": false,
       "locked": false,
       "pannable": false,
       "position": {},
       "removed": false,
       "selectable": false,
       "selected": false
      }
     },
     "c33ad3fb8a3146ab8dca93834368d9c8": {
      "model_module": "jupyter-cytoscape",
      "model_module_version": "^1.3.3",
      "model_name": "NodeModel",
      "state": {
       "_model_module": "jupyter-cytoscape",
       "_model_module_version": "^1.3.3",
       "_model_name": "NodeModel",
       "_view_count": null,
       "_view_module": "jupyter-cytoscape",
       "_view_module_version": "^1.3.3",
       "_view_name": "NodeView",
       "classes": "",
       "data": {
        "color": "gray",
        "id": "-6565448973417248672",
        "label": "moment_combine-partial",
        "shape": "ellipse"
       },
       "grabbable": true,
       "grabbed": false,
       "locked": false,
       "pannable": false,
       "position": {},
       "removed": false,
       "selectable": false,
       "selected": false
      }
     },
     "c33c62c9d211407fa948053c12660838": {
      "model_module": "jupyter-cytoscape",
      "model_module_version": "^1.3.3",
      "model_name": "EdgeModel",
      "state": {
       "_model_module": "jupyter-cytoscape",
       "_model_module_version": "^1.3.3",
       "_model_name": "EdgeModel",
       "_view_count": null,
       "_view_module": "jupyter-cytoscape",
       "_view_module_version": "^1.3.3",
       "_view_name": "EdgeView",
       "classes": " directed ",
       "data": {
        "source": "7435184382965542668",
        "target": "-3390995673812683807"
       },
       "pannable": true,
       "removed": false,
       "selectable": false,
       "selected": false
      }
     },
     "c5c57ccf285649be811bc922a841a248": {
      "model_module": "jupyter-cytoscape",
      "model_module_version": "^1.3.3",
      "model_name": "EdgeModel",
      "state": {
       "_model_module": "jupyter-cytoscape",
       "_model_module_version": "^1.3.3",
       "_model_name": "EdgeModel",
       "_view_count": null,
       "_view_module": "jupyter-cytoscape",
       "_view_module_version": "^1.3.3",
       "_view_name": "EdgeView",
       "classes": " directed ",
       "data": {
        "source": "-8969495288000778522",
        "target": "3062049578282062649"
       },
       "pannable": true,
       "removed": false,
       "selectable": false,
       "selected": false
      }
     },
     "c5e30350ce474f998cb0418c523e87e4": {
      "model_module": "jupyter-cytoscape",
      "model_module_version": "^1.3.3",
      "model_name": "NodeModel",
      "state": {
       "_model_module": "jupyter-cytoscape",
       "_model_module_version": "^1.3.3",
       "_model_name": "NodeModel",
       "_view_count": null,
       "_view_module": "jupyter-cytoscape",
       "_view_module_version": "^1.3.3",
       "_view_name": "NodeView",
       "classes": "",
       "data": {
        "color": "gray",
        "id": "-655763189733005099",
        "label": "series-sum-chunk",
        "shape": "ellipse"
       },
       "grabbable": true,
       "grabbed": false,
       "locked": false,
       "pannable": false,
       "position": {},
       "removed": false,
       "selectable": false,
       "selected": false
      }
     },
     "c63467a93338430d90b788d3030c806c": {
      "model_module": "jupyter-cytoscape",
      "model_module_version": "^1.3.3",
      "model_name": "NodeModel",
      "state": {
       "_model_module": "jupyter-cytoscape",
       "_model_module_version": "^1.3.3",
       "_model_name": "NodeModel",
       "_view_count": null,
       "_view_module": "jupyter-cytoscape",
       "_view_module_version": "^1.3.3",
       "_view_name": "NodeView",
       "classes": "",
       "data": {
        "color": "gray",
        "id": "-1178993029842718424",
        "label": "2",
        "shape": "rectangle"
       },
       "grabbable": true,
       "grabbed": false,
       "locked": false,
       "pannable": false,
       "position": {},
       "removed": false,
       "selectable": false,
       "selected": false
      }
     },
     "c6dc4e6acb65469ab9ae3bb6c6393733": {
      "model_module": "jupyter-cytoscape",
      "model_module_version": "^1.3.3",
      "model_name": "NodeModel",
      "state": {
       "_model_module": "jupyter-cytoscape",
       "_model_module_version": "^1.3.3",
       "_model_name": "NodeModel",
       "_view_count": null,
       "_view_module": "jupyter-cytoscape",
       "_view_module_version": "^1.3.3",
       "_view_name": "NodeView",
       "classes": "",
       "data": {
        "color": "gray",
        "id": "-3175109839860462528",
        "label": "read-csv",
        "shape": "ellipse"
       },
       "grabbable": true,
       "grabbed": false,
       "locked": false,
       "pannable": false,
       "position": {},
       "removed": false,
       "selectable": false,
       "selected": false
      }
     },
     "c6dea7b5319e44388eccd2623b936368": {
      "model_module": "jupyter-cytoscape",
      "model_module_version": "^1.3.3",
      "model_name": "EdgeModel",
      "state": {
       "_model_module": "jupyter-cytoscape",
       "_model_module_version": "^1.3.3",
       "_model_name": "EdgeModel",
       "_view_count": null,
       "_view_module": "jupyter-cytoscape",
       "_view_module_version": "^1.3.3",
       "_view_name": "EdgeView",
       "classes": " directed ",
       "data": {
        "source": "-2827228872243540489",
        "target": "897287099545536358"
       },
       "pannable": true,
       "removed": false,
       "selectable": false,
       "selected": false
      }
     },
     "c877d0c3c079422f9721a74d63d8e8d1": {
      "model_module": "jupyter-cytoscape",
      "model_module_version": "^1.3.3",
      "model_name": "EdgeModel",
      "state": {
       "_model_module": "jupyter-cytoscape",
       "_model_module_version": "^1.3.3",
       "_model_name": "EdgeModel",
       "_view_count": null,
       "_view_module": "jupyter-cytoscape",
       "_view_module_version": "^1.3.3",
       "_view_name": "EdgeView",
       "classes": " directed ",
       "data": {
        "source": "-4441795599372842548",
        "target": "2738253416966430043"
       },
       "pannable": true,
       "removed": false,
       "selectable": false,
       "selected": false
      }
     },
     "c87ed307b9a44618b30c70913670ae25": {
      "model_module": "jupyter-cytoscape",
      "model_module_version": "^1.3.3",
      "model_name": "EdgeModel",
      "state": {
       "_model_module": "jupyter-cytoscape",
       "_model_module_version": "^1.3.3",
       "_model_name": "EdgeModel",
       "_view_count": null,
       "_view_module": "jupyter-cytoscape",
       "_view_module_version": "^1.3.3",
       "_view_name": "EdgeView",
       "classes": " directed ",
       "data": {
        "source": "-8842527888293595721",
        "target": "3773457617987778287"
       },
       "pannable": true,
       "removed": false,
       "selectable": false,
       "selected": false
      }
     },
     "c8a63b449b3a4980a28b56c903b777f5": {
      "model_module": "jupyter-cytoscape",
      "model_module_version": "^1.3.3",
      "model_name": "EdgeModel",
      "state": {
       "_model_module": "jupyter-cytoscape",
       "_model_module_version": "^1.3.3",
       "_model_name": "EdgeModel",
       "_view_count": null,
       "_view_module": "jupyter-cytoscape",
       "_view_module_version": "^1.3.3",
       "_view_name": "EdgeView",
       "classes": " directed ",
       "data": {
        "source": "-3175109839860462528",
        "target": "1556683906156293320"
       },
       "pannable": true,
       "removed": false,
       "selectable": false,
       "selected": false
      }
     },
     "c8f7dca11cc942fab93694e40ab9776e": {
      "model_module": "jupyter-cytoscape",
      "model_module_version": "^1.3.3",
      "model_name": "EdgeModel",
      "state": {
       "_model_module": "jupyter-cytoscape",
       "_model_module_version": "^1.3.3",
       "_model_name": "EdgeModel",
       "_view_count": null,
       "_view_module": "jupyter-cytoscape",
       "_view_module_version": "^1.3.3",
       "_view_name": "EdgeView",
       "classes": " directed ",
       "data": {
        "source": "-2485608478839540116",
        "target": "6152432435034735939"
       },
       "pannable": true,
       "removed": false,
       "selectable": false,
       "selected": false
      }
     },
     "ca47c4a025ba4bfaa38d1bae003321f3": {
      "model_module": "jupyter-cytoscape",
      "model_module_version": "^1.3.3",
      "model_name": "EdgeModel",
      "state": {
       "_model_module": "jupyter-cytoscape",
       "_model_module_version": "^1.3.3",
       "_model_name": "EdgeModel",
       "_view_count": null,
       "_view_module": "jupyter-cytoscape",
       "_view_module_version": "^1.3.3",
       "_view_name": "EdgeView",
       "classes": " directed ",
       "data": {
        "source": "3972769520085919556",
        "target": "-8165645699619774904"
       },
       "pannable": true,
       "removed": false,
       "selectable": false,
       "selected": false
      }
     },
     "ca564e6a51f04fcc810140b822c3cf61": {
      "model_module": "jupyter-cytoscape",
      "model_module_version": "^1.3.3",
      "model_name": "EdgeModel",
      "state": {
       "_model_module": "jupyter-cytoscape",
       "_model_module_version": "^1.3.3",
       "_model_name": "EdgeModel",
       "_view_count": null,
       "_view_module": "jupyter-cytoscape",
       "_view_module_version": "^1.3.3",
       "_view_name": "EdgeView",
       "classes": " directed ",
       "data": {
        "source": "1447482851152760590",
        "target": "-5761322068268675630"
       },
       "pannable": true,
       "removed": false,
       "selectable": false,
       "selected": false
      }
     },
     "ca698730efab4a1091e33aa5463e93d3": {
      "model_module": "jupyter-cytoscape",
      "model_module_version": "^1.3.3",
      "model_name": "NodeModel",
      "state": {
       "_model_module": "jupyter-cytoscape",
       "_model_module_version": "^1.3.3",
       "_model_name": "NodeModel",
       "_view_count": null,
       "_view_module": "jupyter-cytoscape",
       "_view_module_version": "^1.3.3",
       "_view_name": "NodeView",
       "classes": "",
       "data": {
        "color": "gray",
        "id": "3171250633285595379",
        "label": "6",
        "shape": "rectangle"
       },
       "grabbable": true,
       "grabbed": false,
       "locked": false,
       "pannable": false,
       "position": {},
       "removed": false,
       "selectable": false,
       "selected": false
      }
     },
     "cadb2fabd8654de6b451a95b57d0ccac": {
      "model_module": "jupyter-cytoscape",
      "model_module_version": "^1.3.3",
      "model_name": "EdgeModel",
      "state": {
       "_model_module": "jupyter-cytoscape",
       "_model_module_version": "^1.3.3",
       "_model_name": "EdgeModel",
       "_view_count": null,
       "_view_module": "jupyter-cytoscape",
       "_view_module_version": "^1.3.3",
       "_view_name": "EdgeView",
       "classes": " directed ",
       "data": {
        "source": "-8734375273379349208",
        "target": "6647738449127389403"
       },
       "pannable": true,
       "removed": false,
       "selectable": false,
       "selected": false
      }
     },
     "cb1ae95d2ac143cb9e0a25e4032cdba1": {
      "model_module": "jupyter-cytoscape",
      "model_module_version": "^1.3.3",
      "model_name": "EdgeModel",
      "state": {
       "_model_module": "jupyter-cytoscape",
       "_model_module_version": "^1.3.3",
       "_model_name": "EdgeModel",
       "_view_count": null,
       "_view_module": "jupyter-cytoscape",
       "_view_module_version": "^1.3.3",
       "_view_name": "EdgeView",
       "classes": " directed ",
       "data": {
        "source": "-5891022166414500963",
        "target": "3232215852163297652"
       },
       "pannable": true,
       "removed": false,
       "selectable": false,
       "selected": false
      }
     },
     "cb2864601cc64c0aa9b1a930663378b9": {
      "model_module": "jupyter-cytoscape",
      "model_module_version": "^1.3.3",
      "model_name": "EdgeModel",
      "state": {
       "_model_module": "jupyter-cytoscape",
       "_model_module_version": "^1.3.3",
       "_model_name": "EdgeModel",
       "_view_count": null,
       "_view_module": "jupyter-cytoscape",
       "_view_module_version": "^1.3.3",
       "_view_name": "EdgeView",
       "classes": " directed ",
       "data": {
        "source": "3785872214486809031",
        "target": "3195865210526650060"
       },
       "pannable": true,
       "removed": false,
       "selectable": false,
       "selected": false
      }
     },
     "cb433ed9fbd84cf2ba4828de89e4504a": {
      "model_module": "jupyter-cytoscape",
      "model_module_version": "^1.3.3",
      "model_name": "NodeModel",
      "state": {
       "_model_module": "jupyter-cytoscape",
       "_model_module_version": "^1.3.3",
       "_model_name": "NodeModel",
       "_view_count": null,
       "_view_module": "jupyter-cytoscape",
       "_view_module_version": "^1.3.3",
       "_view_name": "NodeView",
       "classes": "",
       "data": {
        "color": "gray",
        "id": "332854426434248549",
        "label": "9",
        "shape": "rectangle"
       },
       "grabbable": true,
       "grabbed": false,
       "locked": false,
       "pannable": false,
       "position": {},
       "removed": false,
       "selectable": false,
       "selected": false
      }
     },
     "cc516c5652e345e2a90b7e2952f454b8": {
      "model_module": "jupyter-cytoscape",
      "model_module_version": "^1.3.3",
      "model_name": "EdgeModel",
      "state": {
       "_model_module": "jupyter-cytoscape",
       "_model_module_version": "^1.3.3",
       "_model_name": "EdgeModel",
       "_view_count": null,
       "_view_module": "jupyter-cytoscape",
       "_view_module_version": "^1.3.3",
       "_view_name": "EdgeView",
       "classes": " directed ",
       "data": {
        "source": "62022114239876675",
        "target": "-2047890682624148830"
       },
       "pannable": true,
       "removed": false,
       "selectable": false,
       "selected": false
      }
     },
     "ccf13c4258d147418cae83b2901144e0": {
      "model_module": "jupyter-cytoscape",
      "model_module_version": "^1.3.3",
      "model_name": "NodeModel",
      "state": {
       "_model_module": "jupyter-cytoscape",
       "_model_module_version": "^1.3.3",
       "_model_name": "NodeModel",
       "_view_count": null,
       "_view_module": "jupyter-cytoscape",
       "_view_module_version": "^1.3.3",
       "_view_name": "NodeView",
       "classes": "",
       "data": {
        "color": "gray",
        "id": "6569662870341875100",
        "label": "3",
        "shape": "rectangle"
       },
       "grabbable": true,
       "grabbed": false,
       "locked": false,
       "pannable": false,
       "position": {},
       "removed": false,
       "selectable": false,
       "selected": false
      }
     },
     "cd2914a580534b3593c0da283579f145": {
      "model_module": "jupyter-cytoscape",
      "model_module_version": "^1.3.3",
      "model_name": "EdgeModel",
      "state": {
       "_model_module": "jupyter-cytoscape",
       "_model_module_version": "^1.3.3",
       "_model_name": "EdgeModel",
       "_view_count": null,
       "_view_module": "jupyter-cytoscape",
       "_view_module_version": "^1.3.3",
       "_view_name": "EdgeView",
       "classes": " directed ",
       "data": {
        "source": "1556683906156293320",
        "target": "3072646841705359155"
       },
       "pannable": true,
       "removed": false,
       "selectable": false,
       "selected": false
      }
     },
     "cd7348979dd04c1ea260a8d6b84be2d8": {
      "model_module": "jupyter-cytoscape",
      "model_module_version": "^1.3.3",
      "model_name": "NodeModel",
      "state": {
       "_model_module": "jupyter-cytoscape",
       "_model_module_version": "^1.3.3",
       "_model_name": "NodeModel",
       "_view_count": null,
       "_view_module": "jupyter-cytoscape",
       "_view_module_version": "^1.3.3",
       "_view_name": "NodeView",
       "classes": "",
       "data": {
        "color": "gray",
        "id": "-2221771745086919797",
        "label": "2",
        "shape": "rectangle"
       },
       "grabbable": true,
       "grabbed": false,
       "locked": false,
       "pannable": false,
       "position": {},
       "removed": false,
       "selectable": false,
       "selected": false
      }
     },
     "ce30a75d3c6c43998d99302a56687105": {
      "model_module": "jupyter-cytoscape",
      "model_module_version": "^1.3.3",
      "model_name": "EdgeModel",
      "state": {
       "_model_module": "jupyter-cytoscape",
       "_model_module_version": "^1.3.3",
       "_model_name": "EdgeModel",
       "_view_count": null,
       "_view_module": "jupyter-cytoscape",
       "_view_module_version": "^1.3.3",
       "_view_name": "EdgeView",
       "classes": " directed ",
       "data": {
        "source": "1807335509999612026",
        "target": "6464479394430704800"
       },
       "pannable": true,
       "removed": false,
       "selectable": false,
       "selected": false
      }
     },
     "cfd2981f0ca54faaa9b39723e063a417": {
      "model_module": "jupyter-cytoscape",
      "model_module_version": "^1.3.3",
      "model_name": "EdgeModel",
      "state": {
       "_model_module": "jupyter-cytoscape",
       "_model_module_version": "^1.3.3",
       "_model_name": "EdgeModel",
       "_view_count": null,
       "_view_module": "jupyter-cytoscape",
       "_view_module_version": "^1.3.3",
       "_view_name": "EdgeView",
       "classes": " directed ",
       "data": {
        "source": "1754664420154693037",
        "target": "6409815297040754229"
       },
       "pannable": true,
       "removed": false,
       "selectable": false,
       "selected": false
      }
     },
     "d01222e15d6e4fec80503df62d7db126": {
      "model_module": "jupyter-cytoscape",
      "model_module_version": "^1.3.3",
      "model_name": "EdgeModel",
      "state": {
       "_model_module": "jupyter-cytoscape",
       "_model_module_version": "^1.3.3",
       "_model_name": "EdgeModel",
       "_view_count": null,
       "_view_module": "jupyter-cytoscape",
       "_view_module_version": "^1.3.3",
       "_view_name": "EdgeView",
       "classes": " directed ",
       "data": {
        "source": "-7269518694555023247",
        "target": "-7720302901216236855"
       },
       "pannable": true,
       "removed": false,
       "selectable": false,
       "selected": false
      }
     },
     "d028146a9bb946d8a94886088a6820bb": {
      "model_module": "jupyter-cytoscape",
      "model_module_version": "^1.3.3",
      "model_name": "NodeModel",
      "state": {
       "_model_module": "jupyter-cytoscape",
       "_model_module_version": "^1.3.3",
       "_model_name": "NodeModel",
       "_view_count": null,
       "_view_module": "jupyter-cytoscape",
       "_view_module_version": "^1.3.3",
       "_view_name": "NodeView",
       "classes": "",
       "data": {
        "color": "gray",
        "id": "6895100733532527735",
        "label": "9",
        "shape": "rectangle"
       },
       "grabbable": true,
       "grabbed": false,
       "locked": false,
       "pannable": false,
       "position": {},
       "removed": false,
       "selectable": false,
       "selected": false
      }
     },
     "d037a91a27ba4c6095e722eb57b4e76c": {
      "model_module": "jupyter-cytoscape",
      "model_module_version": "^1.3.3",
      "model_name": "GraphModel",
      "state": {
       "_adj": {
        "-1029126235700373032": {},
        "-112488371969289500": {},
        "-1178993029842718424": {},
        "-1281712300695053510": {},
        "-1338044094704372978": {},
        "-1561367937891045004": {},
        "-1660858176809398714": {},
        "-1701375571035795805": {},
        "-1881083558898401690": {},
        "-2040265680436002067": {},
        "-2047890682624148830": {},
        "-2106200975212936763": {},
        "-2167166194090639036": {},
        "-2221771745086919797": {},
        "-2326129800978356064": {},
        "-2485608478839540116": {},
        "-2515710812898797486": {},
        "-2793559756972020483": {},
        "-2827228872243540489": {},
        "-3162838286117002026": {},
        "-3175109839860462528": {},
        "-319485179152153781": {},
        "-3275424903938700773": {},
        "-3383303677911213970": {},
        "-3390995673812683807": {},
        "-3542341888456689490": {},
        "-3566701184304504112": {},
        "-3583752407221541378": {},
        "-3654832407565304126": {},
        "-37228599785387356": {},
        "-3725739394849979632": {},
        "-3836338472216221856": {},
        "-3888857000045042515": {},
        "-4057999312786658848": {},
        "-4215484348330567060": {},
        "-4217037523332134368": {},
        "-4441795599372842548": {},
        "-4470595765935890453": {},
        "-4526504624520761209": {},
        "-4594891851957170413": {},
        "-4685542835066236729": {},
        "-491634248083634704": {},
        "-4989332580531334731": {},
        "-5003804603537895711": {},
        "-5005562400941985866": {},
        "-5021164428480707410": {},
        "-5086895261265927921": {},
        "-5117866887741123363": {},
        "-51528055469832570": {},
        "-5153203639078558186": {},
        "-5369440447265678091": {},
        "-552599466961336977": {},
        "-5611019528098606558": {},
        "-5761322068268675630": {},
        "-5764115780682934423": {},
        "-5830051075459869119": {},
        "-5860272708270716783": {},
        "-5891022166414500963": {},
        "-5940548351038569025": {},
        "-6019310918816192303": {},
        "-6287209855063041438": {},
        "-6367470941941654894": {},
        "-6367543063076607447": {},
        "-6526509152487130414": {},
        "-6538664375991442101": {},
        "-6551078972490472845": {},
        "-655763189733005099": {},
        "-6565448973417248672": {},
        "-6603899307660636790": {},
        "-6767770366207860245": {},
        "-6932101877895291273": {},
        "-6938889150115154788": {},
        "-6969490760034409317": {},
        "-7269518694555023247": {},
        "-7378682507812236482": {},
        "-7540869681980464198": {},
        "-7543958752052503077": {},
        "-7579562603917299948": {},
        "-7707829810599726532": {},
        "-7720302901216236855": {},
        "-7968941290167611916": {},
        "-8128176172483935123": {},
        "-8153231103120744160": {},
        "-8165645699619774904": {},
        "-8547906436538000492": {},
        "-871041751710238057": {},
        "-8713182680778267087": {},
        "-8734375273379349208": {},
        "-8767852684321957812": {},
        "-8773068195316184958": {},
        "-8810457077455303002": {},
        "-8842527888293595721": {},
        "-8877053739325490542": {},
        "-8966133612522987057": {},
        "-8969495288000778522": {},
        "-9222992638159834460": {},
        "1037914120085441318": {},
        "1354898893105756375": {},
        "1393591815042592125": {},
        "140097693025390978": {},
        "1443086363873903966": {},
        "1447482851152760590": {},
        "1502078355160012559": {},
        "1556683906156293320": {},
        "1611353909699984045": {},
        "1680519348814215424": {},
        "1701414004694109400": {},
        "1754664420154693037": {},
        "1807335509999612026": {},
        "184982761892287133": {},
        "2080917607033796864": {},
        "2170496124601861621": {},
        "2176970040795204722": {},
        "2513584305555282181": {},
        "2596198066178205224": {},
        "2616648285761045021": {},
        "2671302283885776569": {},
        "2725907834882057330": {},
        "2738253416966430043": {},
        "2845812770094942744": {},
        "2905665167366832065": {},
        "2923888348880457047": {},
        "298775349366692788": {},
        "3062049578282062649": {},
        "3072646841705359155": {},
        "3146456546281949965": {},
        "31562602258199640": {},
        "3171250633285595379": {},
        "3195865210526650060": {},
        "3225920636829286104": {},
        "3232215852163297652": {},
        "332854426434248549": {},
        "3605683863925811982": {},
        "361932498741382297": {},
        "3714080999129977942": {},
        "3764722074471287502": {},
        "3773457617987778287": {},
        "3785872214486809031": {},
        "3863947793272323334": {},
        "387459977430529310": {},
        "3876773746853932197": {},
        "3942504579639152708": {},
        "3972769520085919556": {},
        "4138459781648944073": {},
        "4231273507007826659": {},
        "4297303142890467496": {},
        "4340474562011359389": {},
        "4395144565555050114": {},
        "4401439780889061662": {},
        "4467375075665996358": {},
        "4709838703594998954": {},
        "4715882026643941570": {},
        "4746631484787725750": {},
        "4874920237189417090": {},
        "4955096143212573041": {},
        "5225928455406944915": {},
        "5388024345117080346": {},
        "5400438941616111090": {},
        "5421473512099290016": {},
        "5478514520401625393": {},
        "5605688391892181187": {},
        "57983970451574888": {},
        "585440491428929027": {},
        "5953166662477914182": {},
        "6016006508018363721": {},
        "6152432435034735939": {},
        "62022114239876675": {},
        "6288788255892384863": {},
        "6320236779472689472": {},
        "6409815297040754229": {},
        "6464479394430704800": {},
        "6569662870341875100": {},
        "6647738449127389403": {},
        "677589680642129306": {},
        "6785899678528995005": {},
        "6835517238617097832": {},
        "6895100733532527735": {},
        "6949770737076218460": {},
        "69607321029797140": {},
        "711310910071224246": {},
        "7262439829520183701": {},
        "7311966014144251763": {},
        "7344211465650382778": {},
        "7421478040065659221": {},
        "7435184382965542668": {},
        "7871402482909308723": {},
        "7940737705099371213": {},
        "7942650516638248692": {},
        "7955123607254759015": {},
        "8064324662258291745": {},
        "8118994665801982470": {},
        "8212088692524812164": {},
        "8400466405658297064": {},
        "8564337464205520519": {},
        "8676483556037991517": {},
        "897287099545536358": {},
        "9064713225004241636": {},
        "9111874445364012702": {}
       },
       "_model_module": "jupyter-cytoscape",
       "_model_module_version": "^1.3.3",
       "_model_name": "GraphModel",
       "_view_count": null,
       "_view_module": "jupyter-cytoscape",
       "_view_module_version": "^1.3.3",
       "_view_name": null,
       "edges": [
        "IPY_MODEL_d608d925b279446a9a1fc5341c3f9c08",
        "IPY_MODEL_28f703a6f38f47a78f9905bb12e7accf",
        "IPY_MODEL_ce30a75d3c6c43998d99302a56687105",
        "IPY_MODEL_c87ed307b9a44618b30c70913670ae25",
        "IPY_MODEL_3fa5038fe9594f049aec6dd340674995",
        "IPY_MODEL_27e2a89de8794af8bb54b31e9eabe415",
        "IPY_MODEL_ca47c4a025ba4bfaa38d1bae003321f3",
        "IPY_MODEL_11267b177bec4e4397e98ed45ca41b31",
        "IPY_MODEL_af0285a131db4af59ad852be0f628dcc",
        "IPY_MODEL_977096324aa043ddbfe3acf9da0b1035",
        "IPY_MODEL_f67d761de035469ca2f08562b3e42eca",
        "IPY_MODEL_5242d092cad049abb7815f258946cd76",
        "IPY_MODEL_5d3ae9e85ce2441baa6dd5c9602e6acc",
        "IPY_MODEL_4cc5fd5617d5442d83fc7c1a82382fd9",
        "IPY_MODEL_8e3ec847c7d24e358cc5523873a29a9f",
        "IPY_MODEL_8b1268c102b3452fbcade205d5f41e59",
        "IPY_MODEL_02b6b2ea21cd4075b01f484910fd0d11",
        "IPY_MODEL_b1f91c19e2ab4cffbf0d137f6397dd67",
        "IPY_MODEL_d641f3181b354631add477720d2d23d1",
        "IPY_MODEL_e10608fa4d4c4e8cbffb51a1e3b905e3",
        "IPY_MODEL_cfd2981f0ca54faaa9b39723e063a417",
        "IPY_MODEL_e78111971a0b4b59803d566a4016088e",
        "IPY_MODEL_becdb44a15e6452cacbd16b4de47b1c1",
        "IPY_MODEL_560ab4d86f5347db9978365a1fe0b70d",
        "IPY_MODEL_d01222e15d6e4fec80503df62d7db126",
        "IPY_MODEL_1195714d868b4f0390eb1833b275360f",
        "IPY_MODEL_dc6c29af25244414bb3443edaa2ade90",
        "IPY_MODEL_b86b564d0eb3409bbfceaec316902bb1",
        "IPY_MODEL_e078c29920454d3aa9ffdc195452016b",
        "IPY_MODEL_f1a15a183cb44d9ca14e5098d12f319d",
        "IPY_MODEL_6bc241b2e9744fdfb8cf36284ba1e55e",
        "IPY_MODEL_8b075ad46d4a42ad9d0e8acbcdcc4c65",
        "IPY_MODEL_5e94d37386ec4d08890429fe461ebc94",
        "IPY_MODEL_4169a3b752b948b19024730d12df0291",
        "IPY_MODEL_a789ec87cc61450f8e6ed8c1e99a7cd1",
        "IPY_MODEL_982a3ed6f79b43b080641044548cdb88",
        "IPY_MODEL_6d2f1596df9a4fc6a3300220dc883f2e",
        "IPY_MODEL_c8a63b449b3a4980a28b56c903b777f5",
        "IPY_MODEL_bf6f49775e404eac80d9750519bb0607",
        "IPY_MODEL_09810434d62e4d20850d1ca9d24a7a8f",
        "IPY_MODEL_0233f3c77e92400f99bb4ee199512ace",
        "IPY_MODEL_fcc850559b724cf9b97ce390e2ccc80c",
        "IPY_MODEL_a9b1e7e614464f8089e786b18fc999c5",
        "IPY_MODEL_a00834fb44b447ac9e2dda38adfba834",
        "IPY_MODEL_51388c7f843e4235b4220588a33f5422",
        "IPY_MODEL_06b105e253af46d29aeda8644df8e26a",
        "IPY_MODEL_2b4e83c008b5459e899767c35f641a0f",
        "IPY_MODEL_5a15b382a6244476a00b01c96ebead22",
        "IPY_MODEL_2ac435df75644fdd9a75905002b475a1",
        "IPY_MODEL_14355836fbe245baa091578dcc175e29",
        "IPY_MODEL_f3f21202a01d40c8b9ca6e9d4b3a486f",
        "IPY_MODEL_066fd2b0bccb4745adda791ea8e3a3f8",
        "IPY_MODEL_cd2914a580534b3593c0da283579f145",
        "IPY_MODEL_2cdf2a307ce04d76b75994bd5a22c14e",
        "IPY_MODEL_d8ad8c44551b4fc188bc8eac42ae3973",
        "IPY_MODEL_627d4fce9c9441d99ead97fdfc51aff8",
        "IPY_MODEL_08c7658136a949e194e26907b8b2c3e9",
        "IPY_MODEL_42ea84a9d9264f00b8b06aae149ea809",
        "IPY_MODEL_7c3f4702462f4ee489a8ce345af92c53",
        "IPY_MODEL_cb1ae95d2ac143cb9e0a25e4032cdba1",
        "IPY_MODEL_88814f724a714f6898f6ad3c87bb00ef",
        "IPY_MODEL_95b55659be59462bb76d160080d3cf5b",
        "IPY_MODEL_283c2c8c1f01425db30d06f81903edbb",
        "IPY_MODEL_5d07f7eb602d464abebc9f7527bd9bd2",
        "IPY_MODEL_5541fd6e00b84c778e0c36aaec9da989",
        "IPY_MODEL_35638a968aca4d2799f7fef121a5cc6e",
        "IPY_MODEL_2676b41892164b5583e192149e1f4b0c",
        "IPY_MODEL_1771e319f0f049e38cb8d45932b4248c",
        "IPY_MODEL_a45a99f198504e6f95998d0add091fd6",
        "IPY_MODEL_e32f50104a8941d2b98bbafc4f2eb46b",
        "IPY_MODEL_a07666b684b74e04976b88637f7f47d0",
        "IPY_MODEL_cadb2fabd8654de6b451a95b57d0ccac",
        "IPY_MODEL_252372410a3645449f02804888346545",
        "IPY_MODEL_eaf0e4a92e344836ab897b45deb20e4f",
        "IPY_MODEL_7b6201ac5b63413ab7762859d88302b9",
        "IPY_MODEL_8b27233adb1f4bbfb3295caef3973832",
        "IPY_MODEL_b792ac649567432480ec8d7d57b33536",
        "IPY_MODEL_291fbb6ecca4490091927939efaac6ba",
        "IPY_MODEL_29aca003f4c64ddf8440f26ef1be3e57",
        "IPY_MODEL_ed7b59bd15cb4e5fbfdc17af9b87371a",
        "IPY_MODEL_fc28556222024f4ebdac8d8c46f0337d",
        "IPY_MODEL_0485c1972d9a44ab8d770495ab1be95f",
        "IPY_MODEL_6e330e06935d4321a2296d710d3faca6",
        "IPY_MODEL_9883bdc6acd74dd1a1512130942b9b89",
        "IPY_MODEL_f0504527cf584ee9be9fa36af9befa68",
        "IPY_MODEL_fbe3cbca6a2a492cb55334e3b5821102",
        "IPY_MODEL_d56f1d68d7dd460bacbd5f821b4e1279",
        "IPY_MODEL_6af429705847477380869a0bcd4ec531",
        "IPY_MODEL_a15cdb2917ef435b91b2c46b64c1c69c",
        "IPY_MODEL_b64f2616292b4909a367c85410a05711",
        "IPY_MODEL_be112ab5f3e048c487aff273cae9232d",
        "IPY_MODEL_b157b1b9eddb4ebfbcbc0a403fcb8cf1",
        "IPY_MODEL_c877d0c3c079422f9721a74d63d8e8d1",
        "IPY_MODEL_9dbc1b98d5c94c87819bd6008c92bd72",
        "IPY_MODEL_2009a4184ce14a8dbe6f5239951a69bf",
        "IPY_MODEL_e744a5cdc4c44ee7bcb5f2cf6b8e0b61",
        "IPY_MODEL_c6dea7b5319e44388eccd2623b936368",
        "IPY_MODEL_6329d51eea3c4743ba297d459899a604",
        "IPY_MODEL_29ae55109f03438fa0e4acf7230792bc",
        "IPY_MODEL_e22706379a124b9a89fc165baa2ebe3b",
        "IPY_MODEL_7861d5c77cb64ba0aff97ec219a36576",
        "IPY_MODEL_5868a24ff8384492b98536ec2c60e8a7",
        "IPY_MODEL_902c498075c54526988f05f32c75b20b",
        "IPY_MODEL_7af4dba69a3e4f85ba1cecb72e6c3561",
        "IPY_MODEL_aee6b216929c4803a3504621d8d5c860",
        "IPY_MODEL_92ce7ff5512a4941a381ef686b455d6a",
        "IPY_MODEL_16a47feebae84fdcac2e631ac6c66b66",
        "IPY_MODEL_ac62c211730e4152851185b32a56fc98",
        "IPY_MODEL_cc516c5652e345e2a90b7e2952f454b8",
        "IPY_MODEL_5fb8920b43e14420850a9a313947e267",
        "IPY_MODEL_9815fc459f8342cd99f233ddd585aed6",
        "IPY_MODEL_7b943670e48a44719b1b7166e6d295a7",
        "IPY_MODEL_b1f231036b304e2a9c7df48a46e1e8ef",
        "IPY_MODEL_0e09f164485e46f887e43b1b7fbd67e3",
        "IPY_MODEL_cb2864601cc64c0aa9b1a930663378b9",
        "IPY_MODEL_c33c62c9d211407fa948053c12660838",
        "IPY_MODEL_5c731f53b2bb4641a54d62a7334a381f",
        "IPY_MODEL_b4a2bc29b27f4074b63e348bb46546a9",
        "IPY_MODEL_f1690400c12a4d0f8ffaf6f2db895ddf",
        "IPY_MODEL_78a9e85376a141d29352e45389c3a14b",
        "IPY_MODEL_6a6a7b6921d84868958f28a67b81c504",
        "IPY_MODEL_db160012a33347ea87c01c266c15de1f",
        "IPY_MODEL_0d0e544d9cda4248be9ae77474813570",
        "IPY_MODEL_d45ac284bec64dd7a2abd6455404aba5",
        "IPY_MODEL_8a05f2cfb8754bbbac511ce2f21b516a",
        "IPY_MODEL_73a12c5665654125a8084de52cc484ac",
        "IPY_MODEL_0dab5490aed04b5c86a1e65cd98d2a78",
        "IPY_MODEL_a7f774db197c4c01b9e51f4a096bc390",
        "IPY_MODEL_1ba6220c227c4c4c806a4ea4460fd492",
        "IPY_MODEL_b58c2e2df95f422db49a4b4d581e3e09",
        "IPY_MODEL_725dc975d6ed41b2b1730280f1c8fe7d",
        "IPY_MODEL_1455814afc55455e979d3a949b15f4a2",
        "IPY_MODEL_0abf4640e4af4d92b0cc04098db1a532",
        "IPY_MODEL_6444d867405249a4856f9e007cbaacb6",
        "IPY_MODEL_ea5faa807dca41e3b7de2ed492f1d688",
        "IPY_MODEL_da4ba8e128a44aecba481294bff400bd",
        "IPY_MODEL_575cbe5c632b4c438e17990e11c936ec",
        "IPY_MODEL_240ac5f52c414f57a4f73e5c82b7d263",
        "IPY_MODEL_f110812e944948f8a6e8d243a31ff92b",
        "IPY_MODEL_75cfaa32fb12454781dd282240f1d77a",
        "IPY_MODEL_09deb57f00ce427babcd1a36e6d3acee",
        "IPY_MODEL_5a7ddc193a86427ab9a3dc0d8a3ffa42",
        "IPY_MODEL_b19dce63f2a74f858fc0604525aac5a1",
        "IPY_MODEL_2596b1f7e65248d8bea0c5f3ccd8834e",
        "IPY_MODEL_f6b19d3097e0473683c94c33c21b2356",
        "IPY_MODEL_a436583eea164bdd9423a0be45f63370",
        "IPY_MODEL_bfba06f521d64a0fa4acdb9ed6b1aa23",
        "IPY_MODEL_729b7d1198834fffab47aaf1df6419d3",
        "IPY_MODEL_3f547609c40f4ba5b43e5552ee1612d7",
        "IPY_MODEL_8b112c2217994cc5b0d871c73c257238",
        "IPY_MODEL_4a4e60dd6a8048849cd5c9eb6c7ed130",
        "IPY_MODEL_b3cf8d0e8bf7456793e86d1f22c5a9aa",
        "IPY_MODEL_f3ff9b43a69847109e6c61ff6967c290",
        "IPY_MODEL_79d56ddd89b448c584f1ddf8c2dae1ef",
        "IPY_MODEL_e3c304e1249041d2925f940e53c69cfc",
        "IPY_MODEL_75c53debe9b14c53920875999f95621f",
        "IPY_MODEL_9ab238bed96541d5b63012f6843225f9",
        "IPY_MODEL_a4f19ca541d9425383c101f368ad92ae",
        "IPY_MODEL_c8f7dca11cc942fab93694e40ab9776e",
        "IPY_MODEL_eb10ef26315144e0b055f706731a9987",
        "IPY_MODEL_60a7e841b738467cbdfa6937933e93e6",
        "IPY_MODEL_bb53e1f5b9354c848c72fd035dfc99ca",
        "IPY_MODEL_bb2a08be0f654fdf96045f233573004c",
        "IPY_MODEL_40720beb8fbd47b997f0d26f1bd84b54",
        "IPY_MODEL_21b559de010b4abb9ea3974655c4b165",
        "IPY_MODEL_fe7bde54f680491cbb812109beb1ad1f",
        "IPY_MODEL_7c75f9b8c21149edb52daa57e3290bac",
        "IPY_MODEL_b6edb4019ade416380876253f0e1a614",
        "IPY_MODEL_7513d92067d24f00923dbda769a18fd5",
        "IPY_MODEL_3f94924aee3e4035b77215440d8ec9db",
        "IPY_MODEL_a595bc87f1274852be0c1bf41ffe1fd5",
        "IPY_MODEL_7ce152fbc5e948aa80448a476dbf8af2",
        "IPY_MODEL_8cb52ba072a54832a0fadb77fe43120f",
        "IPY_MODEL_13ee6973f3d1405cabde858bf2d0175d",
        "IPY_MODEL_db6291d86f424a0a9b05726dd411f067",
        "IPY_MODEL_9105f0f6c89f4d32ae9e9f9769ab46cf",
        "IPY_MODEL_7268e1f09b854b9cb13bef14a932b348",
        "IPY_MODEL_f9755f49dd214805b740e929d7830dbe",
        "IPY_MODEL_deedf89cc9464ca7b9a0dbf0ae33584d",
        "IPY_MODEL_9de56c88f37147b09eae1fc877d9e113",
        "IPY_MODEL_5b082481b2b64d3bb8d4096ea3f31e76",
        "IPY_MODEL_e8576ada5f5b4590bc7f9ba9c02b4f28",
        "IPY_MODEL_ecf30cf355dd4987910bad5d466e654d",
        "IPY_MODEL_2fc2b2a090094b3a89a2a97977d3876a",
        "IPY_MODEL_421e0af9f86c4c358008314074e58482",
        "IPY_MODEL_27382a9a0d7e4d9388bc7dcadf803525",
        "IPY_MODEL_8c839de2b18849cbbddc57214ae842aa",
        "IPY_MODEL_760732281562426097901b634deb364a",
        "IPY_MODEL_2e86d8d30dc04cb8afd5ec5301515fe7",
        "IPY_MODEL_3d02551628d54b548316cf4153664f3f",
        "IPY_MODEL_ab47138fff484984939f20df325d9a40",
        "IPY_MODEL_3b007e822da24bd38cfea8ce2a9a4473",
        "IPY_MODEL_f36fd6065dee4698bd89901b03160ddf",
        "IPY_MODEL_c5c57ccf285649be811bc922a841a248",
        "IPY_MODEL_d758be02d52b4a8688322233063a2831",
        "IPY_MODEL_320d211f5ab1470db4522d120b0667d8",
        "IPY_MODEL_90d3ea1ddf7b4648a5e9364e11f3e871",
        "IPY_MODEL_2f64ce9321f649b1b4e1d2a01a17451c",
        "IPY_MODEL_3121e3c3c9dd49aeb3c8dd9405511ff7",
        "IPY_MODEL_29c93ab94643463f99e40ac270968469",
        "IPY_MODEL_a821e77a93c84d5b87b5c55e769f90e9",
        "IPY_MODEL_feaa209e406c43d1acf5ab5c66fd5dd5",
        "IPY_MODEL_0b99eed5871d4b12aa5ae0d9902f6d4d",
        "IPY_MODEL_63c19791e8ea4102a87753ecf1103d0e",
        "IPY_MODEL_1fc1cc44e07f41aaacb58107108def04",
        "IPY_MODEL_a9ff3744a94646b48a8402efcf55ddc6",
        "IPY_MODEL_b98ca6eff3854715929d1cb44df28012",
        "IPY_MODEL_3f1eb30a35144918b78d99c27447dbcb",
        "IPY_MODEL_ca564e6a51f04fcc810140b822c3cf61",
        "IPY_MODEL_c0643e9a32f24f5584d54f282da5f5f7",
        "IPY_MODEL_9c7912be360d4cbcb9f1b4bf9b23e4a3",
        "IPY_MODEL_a480d13bf532438e8e3d4bef9e175954",
        "IPY_MODEL_fffc3215655143598fd4e46075d31115",
        "IPY_MODEL_beb5e77f39c240a3ad6e2cc15cc6693f",
        "IPY_MODEL_e82a2f7956a2457d991bf114122101f6",
        "IPY_MODEL_d9177cb0f277417280165d0fe941f3e3",
        "IPY_MODEL_755f67308d8d46eaa0214f2c853b9ea7",
        "IPY_MODEL_adb6be7283cb4c05b77bbc59094c8b63",
        "IPY_MODEL_bdd5aa37a8b24e1288082a1d3016e39c",
        "IPY_MODEL_e55498e469084cae9cee3fb74713632a",
        "IPY_MODEL_2d4394dcb41d442b8fa0b9c9f5f44e8e",
        "IPY_MODEL_d531ea7b151c4b4ebbbe0531c027a2c8",
        "IPY_MODEL_ddda2c9ebd2147f8a75d4620efcf52aa",
        "IPY_MODEL_b01f09869bf34a7abcfba1aa81faf466",
        "IPY_MODEL_e1f4278a0f5b43859d3b1c5358c496b6",
        "IPY_MODEL_9b8dc22d5f894e38be36beb335314c92"
       ],
       "nodes": [
        "IPY_MODEL_c1b8f244ebd846f59d263583b66cd0f6",
        "IPY_MODEL_b28fa9dc672843d89d9b3518566fa0c3",
        "IPY_MODEL_171a3de0252e4457a7417c51fd16ae09",
        "IPY_MODEL_18494875585948d0b941fd135d388171",
        "IPY_MODEL_8de7aaeca6fc41aebce0b6bcb1e4bc19",
        "IPY_MODEL_400e29474a184961b2b3a4c05cb1a2fc",
        "IPY_MODEL_5f5b37acf0994deeb53fd32969daa4b0",
        "IPY_MODEL_65b0ddcc46744cb787ddd3bb3b54de0c",
        "IPY_MODEL_15904a1fa4b9483e8a299f53a420f365",
        "IPY_MODEL_057d47daceb1494287fb46bd9acef7c1",
        "IPY_MODEL_19f72c54a8264c29a73ae56d2ade8438",
        "IPY_MODEL_d47c60fc6114473cad531672a131e1c4",
        "IPY_MODEL_83e2d531bb0044c19cab56d734363341",
        "IPY_MODEL_fb12880dc59e48d591dfdc0b0d44b552",
        "IPY_MODEL_10155049b278482385503c9b0805b1fe",
        "IPY_MODEL_38c7099e6f7049b68b338ff671fc1a9e",
        "IPY_MODEL_e682cc5fc6604af98e167b5dcd347d59",
        "IPY_MODEL_befba965d63344d3b03a867ef174f5d0",
        "IPY_MODEL_2066e7d04b8b4e78b2a6fc9dd8f199e0",
        "IPY_MODEL_3869df191ca84e36a7b6c858b1057263",
        "IPY_MODEL_d1124289bf7542668a0516b7484e69e9",
        "IPY_MODEL_aed6119526144c7593c6c7f0fac68dc7",
        "IPY_MODEL_a3059d63bf1b4ec099372eb873201670",
        "IPY_MODEL_2e77183e92b84bb983741b0442a5dcab",
        "IPY_MODEL_1feeeae27f4a4280aae49134426ce933",
        "IPY_MODEL_3441e860265e41beb9283414b7f5159c",
        "IPY_MODEL_4a527edc71d547078c31349b9edecb2b",
        "IPY_MODEL_82903be71c6d4ab3bb6c500e006871df",
        "IPY_MODEL_305edfb97cb142d5bb76ea052343a170",
        "IPY_MODEL_ca698730efab4a1091e33aa5463e93d3",
        "IPY_MODEL_0385e997720542ad86e062d33b51a22d",
        "IPY_MODEL_da77f12b8841401b9d019a1251f56c37",
        "IPY_MODEL_e76faa8d781e4ad29e4bdbbbe4f0738a",
        "IPY_MODEL_43d3831e755149249516559a875c96a8",
        "IPY_MODEL_bfcfa9a7c21348389edeb383a751fb30",
        "IPY_MODEL_4a3ab472ed094ec6b72588b93c845390",
        "IPY_MODEL_b561c1d744d349fca470ac97f748531d",
        "IPY_MODEL_48b6d5b220c14677b99b7a5bef945321",
        "IPY_MODEL_e1ee24c8e54049b8abc92c8e1b6dfbe5",
        "IPY_MODEL_116da7bae6084c5781a79267f10ef8c4",
        "IPY_MODEL_93358b5a481f4a56b6b5540df9495480",
        "IPY_MODEL_80dfaf9e902a47ce9e88e7984f13ee2f",
        "IPY_MODEL_d028146a9bb946d8a94886088a6820bb",
        "IPY_MODEL_fae9884ab3594b5086093ac7cb85dd53",
        "IPY_MODEL_2df5ed53869f40d9a48a2bf8da653aa8",
        "IPY_MODEL_b411f6b3636f4ef39c3aad9d96416b9d",
        "IPY_MODEL_e7d31de0ae8f4528bf121dbf546092d3",
        "IPY_MODEL_032d41ae1c4b4fb18526cbab9044a463",
        "IPY_MODEL_c6dc4e6acb65469ab9ae3bb6c6393733",
        "IPY_MODEL_5ba8b46631c041adb4875cd08dd4869a",
        "IPY_MODEL_938113055ec24f5491c6af7436d55148",
        "IPY_MODEL_4bec7f4a61d24b5c9066ad1fa037cce2",
        "IPY_MODEL_acca9b709fbf43d2b1ce42902b806015",
        "IPY_MODEL_41024dcc895b4456951932dd070d1f2a",
        "IPY_MODEL_09e6712f2530418698736073deb1ea24",
        "IPY_MODEL_a6c31baad73e47e59cea94fc2642ae37",
        "IPY_MODEL_8b0edd4eb846430e8dc5f865577a7641",
        "IPY_MODEL_90c5a4fbeb454a63970a88f62892305d",
        "IPY_MODEL_e443329f1881423bbfcb88090f4e324b",
        "IPY_MODEL_2ae973bd5f37486190de77c3f5c75459",
        "IPY_MODEL_4030013fdc6948f59a5f5643fdaf38e0",
        "IPY_MODEL_f88109b40a574eacafab517b4364374a",
        "IPY_MODEL_8568fc2e6d35494abe795cf27a371c37",
        "IPY_MODEL_f51e28a93232408087e276b0a30c6b79",
        "IPY_MODEL_d36a1ff339d94ad49299b8e25adf8d20",
        "IPY_MODEL_b387e1c661bc427ba22910af073b1a35",
        "IPY_MODEL_7f52468329a247a49f56304037ca3750",
        "IPY_MODEL_3fc5789c4d75427d80a1b35ef3296291",
        "IPY_MODEL_a8344dffdf83468bad0b74ac429a27b2",
        "IPY_MODEL_853303016252421ab5d6b65332960f2c",
        "IPY_MODEL_8d1de893e9ee49739bcd5d751d32c6a2",
        "IPY_MODEL_dde0911460fc4067b364128acb289755",
        "IPY_MODEL_f4c4482b92524221aade964014bdc432",
        "IPY_MODEL_d470250e603e46d0aca4f2553578366c",
        "IPY_MODEL_561969f2cd5f45d6af3913fb11d158e8",
        "IPY_MODEL_958c02c9eafe4a9d87c31d4199da41a0",
        "IPY_MODEL_5237be2fa23e451c9261b47b55976837",
        "IPY_MODEL_f34de46f3cf34592bae4a0652ee74393",
        "IPY_MODEL_2e2e88f558f844f9bab3f3e67875e4e0",
        "IPY_MODEL_9adc80f6c2904cbc8fcc47e697a1e102",
        "IPY_MODEL_b16d1c0124354b3da5e75668407035ac",
        "IPY_MODEL_29751ed638414ae9abcfe87d84ab63e2",
        "IPY_MODEL_eb45e6b68e714748b66b279234b2eaf4",
        "IPY_MODEL_8e9d3505398c4232a976c68dc1b57f5c",
        "IPY_MODEL_8300af85c9cc4675ba1fc3c8ff460301",
        "IPY_MODEL_5462280cfb16451d90fce21785df3d08",
        "IPY_MODEL_fa2bb00e3eae49149cbef4475148e977",
        "IPY_MODEL_83e55f2d1a2b4e09b203865b2be5e696",
        "IPY_MODEL_3157cf84863448a5b467d3df0f25ab8c",
        "IPY_MODEL_2c68e011dc814466bae4b679ca1ad35f",
        "IPY_MODEL_ee6e57306cc9490aaeafe68a52ac9de5",
        "IPY_MODEL_ccf13c4258d147418cae83b2901144e0",
        "IPY_MODEL_5a9930c2bc7e4c6bacf8b915a9f6b211",
        "IPY_MODEL_636b92ffff3444c6a42970d113320df4",
        "IPY_MODEL_3f14fa1de1194bb4b064bf8fee9fa3de",
        "IPY_MODEL_7af9ffe6644540c8ad7ae4e86da5e535",
        "IPY_MODEL_a14e34ac281d4c57944bc9a1c1fad79a",
        "IPY_MODEL_d17dd6295e2d4d18b8cd6157c646a0a6",
        "IPY_MODEL_ab1a259a863c44bfa2c0289430ac7963",
        "IPY_MODEL_848e2c87b4774624bb3f397b067fd00c",
        "IPY_MODEL_3c2f9051d8d842559f1318b1e5534b73",
        "IPY_MODEL_f02a3ad4f5454a1c9108e71a3de36c71",
        "IPY_MODEL_4c7d1b6b98bc412794eb34687a18f34b",
        "IPY_MODEL_a1c444c3c09540d38d4c73a172419b7e",
        "IPY_MODEL_c5e30350ce474f998cb0418c523e87e4",
        "IPY_MODEL_716e71a9bb984dbc976b1999ff3f9433",
        "IPY_MODEL_a743dc3963914ce18a98bb610627eb7a",
        "IPY_MODEL_e6e1acb69d394481b9fb9fff9184d970",
        "IPY_MODEL_611237d3771e48b18d9d2ee7387943a6",
        "IPY_MODEL_cd7348979dd04c1ea260a8d6b84be2d8",
        "IPY_MODEL_be79ce83d54446f0945781fe34c56f25",
        "IPY_MODEL_5ca5afe0f5ef4d86ad326ec964b60247",
        "IPY_MODEL_f0398eb095364da7a1f753c47f3f77e8",
        "IPY_MODEL_81c54a1926ee4195bd006a9d36f91117",
        "IPY_MODEL_8c489200eff34da0b51640957e81a174",
        "IPY_MODEL_80e425fa86564666a82e8ba8e253ef52",
        "IPY_MODEL_65feca3b51704a42bd1eb80a399fb9f7",
        "IPY_MODEL_5fef0391c6864331bbda1bd014fac8c8",
        "IPY_MODEL_da8ed857c1b64f58996c87c4345fbb8b",
        "IPY_MODEL_0d9d122bdb25485dbcf8cb7ddc9b410f",
        "IPY_MODEL_46bdf7bbbd78466c94b1057f4e661eb8",
        "IPY_MODEL_b07fc48706fa4ba087f593da487e5bec",
        "IPY_MODEL_95d94b56e88240dfbad5b659a830dff3",
        "IPY_MODEL_cb433ed9fbd84cf2ba4828de89e4504a",
        "IPY_MODEL_a39505f0ea5a445aa3a312a1acb4bd15",
        "IPY_MODEL_797d6cfaf0774ac0a65a4bf29272b163",
        "IPY_MODEL_fdb09c087f214fc3ad8f4f7650b33a4f",
        "IPY_MODEL_55588bab99f2493fa1c578424d5fd2cc",
        "IPY_MODEL_f917a9bf9e034fc2ac815aae2e648917",
        "IPY_MODEL_2b9924dcf00e467199d7b86650d5ff52",
        "IPY_MODEL_3102058868d14aa4b82affdff7579513",
        "IPY_MODEL_7fddd3eed9a543a38b2fc27df28bb9e7",
        "IPY_MODEL_f8de1db93faf4816808181997792ac4e",
        "IPY_MODEL_b87a4bf5dde5419dba2e8706b4dca54c",
        "IPY_MODEL_989431102a2842929b4b2dc8dc501087",
        "IPY_MODEL_41b54c44b0f143aa862dadcfeef3caa4",
        "IPY_MODEL_8110fdab6b4743e2803f66fc5be48756",
        "IPY_MODEL_39ae372be5ee45f798be3bc3ce6b9620",
        "IPY_MODEL_0788feffed17415492ef051de2bdd6d5",
        "IPY_MODEL_bd7c838499844c99a19285123404e771",
        "IPY_MODEL_19d1ab61948842c1a8b0199b8bde7b83",
        "IPY_MODEL_88454af835ff45faad790be56a09af58",
        "IPY_MODEL_983bb694680e416baf6b7b4c07fc1c7f",
        "IPY_MODEL_df0154fbe0f9483d87652c208345e391",
        "IPY_MODEL_d37dcdb1d18b4be8968e2765e6ef7a3a",
        "IPY_MODEL_2282b3d8a7aa42e9b7255f0255e23941",
        "IPY_MODEL_3de04bb989e44e559023f066d6a66fd0",
        "IPY_MODEL_393842acbe294ae9a033124b154a90bc",
        "IPY_MODEL_8cf1234f39104495af9bcb2f9c4dc049",
        "IPY_MODEL_a7ef5a1fb1eb4f409f2d17b77d1ea83d",
        "IPY_MODEL_9d05bb2dc98b45bd86157045b4df1c2c",
        "IPY_MODEL_51ab0871bc1d4e4d86cdddd35c6d06ac",
        "IPY_MODEL_298d6d7ce4ee4188af79c14e4b8bf7e1",
        "IPY_MODEL_580570b94f8e48e290291969f4983623",
        "IPY_MODEL_b360432706614796a16fb278c26a8abe",
        "IPY_MODEL_bdbd3e6bb5c640b2bad29e5caf5be7e4",
        "IPY_MODEL_b6891d37a143422aa75a40af4de106ea",
        "IPY_MODEL_6e0a2445fe174dc99892ff1b451c0351",
        "IPY_MODEL_e714bba1940044a29787a0939862d22e",
        "IPY_MODEL_c112d20663004a0eb32cace6e42b9af9",
        "IPY_MODEL_05b1efd6c4fd4394add43ca4b493e189",
        "IPY_MODEL_1aad81b125a244698e953094a8b3bb0a",
        "IPY_MODEL_6153c3fc1b3c45599784f7cbd0e8169d",
        "IPY_MODEL_f82d77bc36754842a80269f70ce8216e",
        "IPY_MODEL_0282ee4b1717406c8991dee4d16717e7",
        "IPY_MODEL_9e8d4870512e4d9eb45839f38756838d",
        "IPY_MODEL_3ab33e631cc746b39d1028ec5eaf038f",
        "IPY_MODEL_54b76c2678914a3db4163c2b981af488",
        "IPY_MODEL_6843e0c64a854f01903e419ffb85efa6",
        "IPY_MODEL_382626b1b0824713833a4181739a3d27",
        "IPY_MODEL_df01457cabc9461ea9ca69e6dd4430c3",
        "IPY_MODEL_0edfd4b883a3439eb8e1e3f99456609c",
        "IPY_MODEL_58720694c0874e94b10089b8de620270",
        "IPY_MODEL_5b3ab44f9d6b443f947fee58012706a1",
        "IPY_MODEL_b847b2f4082043beb4d2f9a54b8af2de",
        "IPY_MODEL_9befd123ca0c456d8c2d9c30d92a58e7",
        "IPY_MODEL_3025f4dc764d41e2b592821ebd4fe7df",
        "IPY_MODEL_074b30d4aeed4c5588ce9a5e1d797492",
        "IPY_MODEL_ad28cf5e96774cbc8385f08ac6f7c5c6",
        "IPY_MODEL_f4fbae9b36744db68fe80535fa68b11b",
        "IPY_MODEL_22959cbb4a9c4fd7b2e56d2bc504c860",
        "IPY_MODEL_0b56af8e639649efb16bb476aaec1749",
        "IPY_MODEL_72b4775d6f5a4c5ba1c13814300a9c94",
        "IPY_MODEL_132bb33ed9844895985b1d782f9d871f",
        "IPY_MODEL_0d73f41ed7824313a399d2e8efabf5c3",
        "IPY_MODEL_11565f3cad114bc3b4909666a1c32563",
        "IPY_MODEL_ff2bf941d0da4d0683e0f3480ad46a25",
        "IPY_MODEL_bb59731ea7a94236932e164985f1ec1f",
        "IPY_MODEL_c33ad3fb8a3146ab8dca93834368d9c8",
        "IPY_MODEL_eab168f9e65b41d491803709fb8b09a2",
        "IPY_MODEL_75d21b822b9b49c1ac7a028874cf29bc",
        "IPY_MODEL_c63467a93338430d90b788d3030c806c",
        "IPY_MODEL_defe3000ad4d404e868225e31af20dd8",
        "IPY_MODEL_6029ce911acf42f9b56ad55c3e971fdd",
        "IPY_MODEL_83014e47e0e44e0d92d763950e6112b0",
        "IPY_MODEL_c0da44ff5db8470993df7849dc1aec8c",
        "IPY_MODEL_e68952243cd345de88e9da5c3c7b922f",
        "IPY_MODEL_21561e77956743f2a10f67c781437f23"
       ]
      }
     },
     "d1124289bf7542668a0516b7484e69e9": {
      "model_module": "jupyter-cytoscape",
      "model_module_version": "^1.3.3",
      "model_name": "NodeModel",
      "state": {
       "_model_module": "jupyter-cytoscape",
       "_model_module_version": "^1.3.3",
       "_model_name": "NodeModel",
       "_view_count": null,
       "_view_module": "jupyter-cytoscape",
       "_view_module_version": "^1.3.3",
       "_view_name": "NodeView",
       "classes": "",
       "data": {
        "color": "gray",
        "id": "2170496124601861621",
        "label": "getitem",
        "shape": "ellipse"
       },
       "grabbable": true,
       "grabbed": false,
       "locked": false,
       "pannable": false,
       "position": {},
       "removed": false,
       "selectable": false,
       "selected": false
      }
     },
     "d17dd6295e2d4d18b8cd6157c646a0a6": {
      "model_module": "jupyter-cytoscape",
      "model_module_version": "^1.3.3",
      "model_name": "NodeModel",
      "state": {
       "_model_module": "jupyter-cytoscape",
       "_model_module_version": "^1.3.3",
       "_model_name": "NodeModel",
       "_view_count": null,
       "_view_module": "jupyter-cytoscape",
       "_view_module_version": "^1.3.3",
       "_view_name": "NodeView",
       "classes": "",
       "data": {
        "color": "gray",
        "id": "-8153231103120744160",
        "label": "6",
        "shape": "rectangle"
       },
       "grabbable": true,
       "grabbed": false,
       "locked": false,
       "pannable": false,
       "position": {},
       "removed": false,
       "selectable": false,
       "selected": false
      }
     },
     "d36a1ff339d94ad49299b8e25adf8d20": {
      "model_module": "jupyter-cytoscape",
      "model_module_version": "^1.3.3",
      "model_name": "NodeModel",
      "state": {
       "_model_module": "jupyter-cytoscape",
       "_model_module_version": "^1.3.3",
       "_model_name": "NodeModel",
       "_view_count": null,
       "_view_module": "jupyter-cytoscape",
       "_view_module_version": "^1.3.3",
       "_view_name": "NodeView",
       "classes": "",
       "data": {
        "color": "gray",
        "id": "7311966014144251763",
        "label": "getitem",
        "shape": "ellipse"
       },
       "grabbable": true,
       "grabbed": false,
       "locked": false,
       "pannable": false,
       "position": {},
       "removed": false,
       "selectable": false,
       "selected": false
      }
     },
     "d37dcdb1d18b4be8968e2765e6ef7a3a": {
      "model_module": "jupyter-cytoscape",
      "model_module_version": "^1.3.3",
      "model_name": "NodeModel",
      "state": {
       "_model_module": "jupyter-cytoscape",
       "_model_module_version": "^1.3.3",
       "_model_name": "NodeModel",
       "_view_count": null,
       "_view_module": "jupyter-cytoscape",
       "_view_module_version": "^1.3.3",
       "_view_name": "NodeView",
       "classes": "",
       "data": {
        "color": "gray",
        "id": "4467375075665996358",
        "label": "9",
        "shape": "rectangle"
       },
       "grabbable": true,
       "grabbed": false,
       "locked": false,
       "pannable": false,
       "position": {},
       "removed": false,
       "selectable": false,
       "selected": false
      }
     },
     "d45ac284bec64dd7a2abd6455404aba5": {
      "model_module": "jupyter-cytoscape",
      "model_module_version": "^1.3.3",
      "model_name": "EdgeModel",
      "state": {
       "_model_module": "jupyter-cytoscape",
       "_model_module_version": "^1.3.3",
       "_model_name": "EdgeModel",
       "_view_count": null,
       "_view_module": "jupyter-cytoscape",
       "_view_module_version": "^1.3.3",
       "_view_name": "EdgeView",
       "classes": " directed ",
       "data": {
        "source": "184982761892287133",
        "target": "-2515710812898797486"
       },
       "pannable": true,
       "removed": false,
       "selectable": false,
       "selected": false
      }
     },
     "d470250e603e46d0aca4f2553578366c": {
      "model_module": "jupyter-cytoscape",
      "model_module_version": "^1.3.3",
      "model_name": "NodeModel",
      "state": {
       "_model_module": "jupyter-cytoscape",
       "_model_module_version": "^1.3.3",
       "_model_name": "NodeModel",
       "_view_count": null,
       "_view_module": "jupyter-cytoscape",
       "_view_module_version": "^1.3.3",
       "_view_name": "NodeView",
       "classes": "",
       "data": {
        "color": "gray",
        "id": "-1660858176809398714",
        "label": "9",
        "shape": "rectangle"
       },
       "grabbable": true,
       "grabbed": false,
       "locked": false,
       "pannable": false,
       "position": {},
       "removed": false,
       "selectable": false,
       "selected": false
      }
     },
     "d47c60fc6114473cad531672a131e1c4": {
      "model_module": "jupyter-cytoscape",
      "model_module_version": "^1.3.3",
      "model_name": "NodeModel",
      "state": {
       "_model_module": "jupyter-cytoscape",
       "_model_module_version": "^1.3.3",
       "_model_name": "NodeModel",
       "_view_count": null,
       "_view_module": "jupyter-cytoscape",
       "_view_module_version": "^1.3.3",
       "_view_name": "NodeView",
       "classes": "",
       "data": {
        "color": "gray",
        "id": "-8165645699619774904",
        "label": "1",
        "shape": "rectangle"
       },
       "grabbable": true,
       "grabbed": false,
       "locked": false,
       "pannable": false,
       "position": {},
       "removed": false,
       "selectable": false,
       "selected": false
      }
     },
     "d531ea7b151c4b4ebbbe0531c027a2c8": {
      "model_module": "jupyter-cytoscape",
      "model_module_version": "^1.3.3",
      "model_name": "EdgeModel",
      "state": {
       "_model_module": "jupyter-cytoscape",
       "_model_module_version": "^1.3.3",
       "_model_name": "EdgeModel",
       "_view_count": null,
       "_view_module": "jupyter-cytoscape",
       "_view_module_version": "^1.3.3",
       "_view_name": "EdgeView",
       "classes": " directed ",
       "data": {
        "source": "3714080999129977942",
        "target": "69607321029797140"
       },
       "pannable": true,
       "removed": false,
       "selectable": false,
       "selected": false
      }
     },
     "d56f1d68d7dd460bacbd5f821b4e1279": {
      "model_module": "jupyter-cytoscape",
      "model_module_version": "^1.3.3",
      "model_name": "EdgeModel",
      "state": {
       "_model_module": "jupyter-cytoscape",
       "_model_module_version": "^1.3.3",
       "_model_name": "EdgeModel",
       "_view_count": null,
       "_view_module": "jupyter-cytoscape",
       "_view_module_version": "^1.3.3",
       "_view_name": "EdgeView",
       "classes": " directed ",
       "data": {
        "source": "-8165645699619774904",
        "target": "-3383303677911213970"
       },
       "pannable": true,
       "removed": false,
       "selectable": false,
       "selected": false
      }
     },
     "d608d925b279446a9a1fc5341c3f9c08": {
      "model_module": "jupyter-cytoscape",
      "model_module_version": "^1.3.3",
      "model_name": "EdgeModel",
      "state": {
       "_model_module": "jupyter-cytoscape",
       "_model_module_version": "^1.3.3",
       "_model_name": "EdgeModel",
       "_view_count": null,
       "_view_module": "jupyter-cytoscape",
       "_view_module_version": "^1.3.3",
       "_view_name": "EdgeView",
       "classes": " directed ",
       "data": {
        "source": "6464479394430704800",
        "target": "1037914120085441318"
       },
       "pannable": true,
       "removed": false,
       "selectable": false,
       "selected": false
      }
     },
     "d641f3181b354631add477720d2d23d1": {
      "model_module": "jupyter-cytoscape",
      "model_module_version": "^1.3.3",
      "model_name": "EdgeModel",
      "state": {
       "_model_module": "jupyter-cytoscape",
       "_model_module_version": "^1.3.3",
       "_model_name": "EdgeModel",
       "_view_count": null,
       "_view_module": "jupyter-cytoscape",
       "_view_module_version": "^1.3.3",
       "_view_name": "EdgeView",
       "classes": " directed ",
       "data": {
        "source": "6409815297040754229",
        "target": "9111874445364012702"
       },
       "pannable": true,
       "removed": false,
       "selectable": false,
       "selected": false
      }
     },
     "d758be02d52b4a8688322233063a2831": {
      "model_module": "jupyter-cytoscape",
      "model_module_version": "^1.3.3",
      "model_name": "EdgeModel",
      "state": {
       "_model_module": "jupyter-cytoscape",
       "_model_module_version": "^1.3.3",
       "_model_name": "EdgeModel",
       "_view_count": null,
       "_view_module": "jupyter-cytoscape",
       "_view_module_version": "^1.3.3",
       "_view_name": "EdgeView",
       "classes": " directed ",
       "data": {
        "source": "3225920636829286104",
        "target": "-8969495288000778522"
       },
       "pannable": true,
       "removed": false,
       "selectable": false,
       "selected": false
      }
     },
     "d8ad8c44551b4fc188bc8eac42ae3973": {
      "model_module": "jupyter-cytoscape",
      "model_module_version": "^1.3.3",
      "model_name": "EdgeModel",
      "state": {
       "_model_module": "jupyter-cytoscape",
       "_model_module_version": "^1.3.3",
       "_model_name": "EdgeModel",
       "_view_count": null,
       "_view_module": "jupyter-cytoscape",
       "_view_module_version": "^1.3.3",
       "_view_name": "EdgeView",
       "classes": " directed ",
       "data": {
        "source": "8064324662258291745",
        "target": "7311966014144251763"
       },
       "pannable": true,
       "removed": false,
       "selectable": false,
       "selected": false
      }
     },
     "d9177cb0f277417280165d0fe941f3e3": {
      "model_module": "jupyter-cytoscape",
      "model_module_version": "^1.3.3",
      "model_name": "EdgeModel",
      "state": {
       "_model_module": "jupyter-cytoscape",
       "_model_module_version": "^1.3.3",
       "_model_name": "EdgeModel",
       "_view_count": null,
       "_view_module": "jupyter-cytoscape",
       "_view_module_version": "^1.3.3",
       "_view_name": "EdgeView",
       "classes": " directed ",
       "data": {
        "source": "-2326129800978356064",
        "target": "-1178993029842718424"
       },
       "pannable": true,
       "removed": false,
       "selectable": false,
       "selected": false
      }
     },
     "da4ba8e128a44aecba481294bff400bd": {
      "model_module": "jupyter-cytoscape",
      "model_module_version": "^1.3.3",
      "model_name": "EdgeModel",
      "state": {
       "_model_module": "jupyter-cytoscape",
       "_model_module_version": "^1.3.3",
       "_model_name": "EdgeModel",
       "_view_count": null,
       "_view_module": "jupyter-cytoscape",
       "_view_module_version": "^1.3.3",
       "_view_name": "EdgeView",
       "classes": " directed ",
       "data": {
        "source": "2845812770094942744",
        "target": "-8966133612522987057"
       },
       "pannable": true,
       "removed": false,
       "selectable": false,
       "selected": false
      }
     },
     "da77f12b8841401b9d019a1251f56c37": {
      "model_module": "jupyter-cytoscape",
      "model_module_version": "^1.3.3",
      "model_name": "NodeModel",
      "state": {
       "_model_module": "jupyter-cytoscape",
       "_model_module_version": "^1.3.3",
       "_model_name": "NodeModel",
       "_view_count": null,
       "_view_module": "jupyter-cytoscape",
       "_view_module_version": "^1.3.3",
       "_view_name": "NodeView",
       "classes": "",
       "data": {
        "color": "gray",
        "id": "-2827228872243540489",
        "label": "6",
        "shape": "rectangle"
       },
       "grabbable": true,
       "grabbed": false,
       "locked": false,
       "pannable": false,
       "position": {},
       "removed": false,
       "selectable": false,
       "selected": false
      }
     },
     "da8ed857c1b64f58996c87c4345fbb8b": {
      "model_module": "jupyter-cytoscape",
      "model_module_version": "^1.3.3",
      "model_name": "NodeModel",
      "state": {
       "_model_module": "jupyter-cytoscape",
       "_model_module_version": "^1.3.3",
       "_model_name": "NodeModel",
       "_view_count": null,
       "_view_module": "jupyter-cytoscape",
       "_view_module_version": "^1.3.3",
       "_view_name": "NodeView",
       "classes": "",
       "data": {
        "color": "gray",
        "id": "1354898893105756375",
        "label": "series-sum-chunk",
        "shape": "ellipse"
       },
       "grabbable": true,
       "grabbed": false,
       "locked": false,
       "pannable": false,
       "position": {},
       "removed": false,
       "selectable": false,
       "selected": false
      }
     },
     "db160012a33347ea87c01c266c15de1f": {
      "model_module": "jupyter-cytoscape",
      "model_module_version": "^1.3.3",
      "model_name": "EdgeModel",
      "state": {
       "_model_module": "jupyter-cytoscape",
       "_model_module_version": "^1.3.3",
       "_model_name": "EdgeModel",
       "_view_count": null,
       "_view_module": "jupyter-cytoscape",
       "_view_module_version": "^1.3.3",
       "_view_name": "EdgeView",
       "classes": " directed ",
       "data": {
        "source": "-37228599785387356",
        "target": "332854426434248549"
       },
       "pannable": true,
       "removed": false,
       "selectable": false,
       "selected": false
      }
     },
     "db6291d86f424a0a9b05726dd411f067": {
      "model_module": "jupyter-cytoscape",
      "model_module_version": "^1.3.3",
      "model_name": "EdgeModel",
      "state": {
       "_model_module": "jupyter-cytoscape",
       "_model_module_version": "^1.3.3",
       "_model_name": "EdgeModel",
       "_view_count": null,
       "_view_module": "jupyter-cytoscape",
       "_view_module_version": "^1.3.3",
       "_view_name": "EdgeView",
       "classes": " directed ",
       "data": {
        "source": "-5369440447265678091",
        "target": "-4217037523332134368"
       },
       "pannable": true,
       "removed": false,
       "selectable": false,
       "selected": false
      }
     },
     "dc6c29af25244414bb3443edaa2ade90": {
      "model_module": "jupyter-cytoscape",
      "model_module_version": "^1.3.3",
      "model_name": "EdgeModel",
      "state": {
       "_model_module": "jupyter-cytoscape",
       "_model_module_version": "^1.3.3",
       "_model_name": "EdgeModel",
       "_view_count": null,
       "_view_module": "jupyter-cytoscape",
       "_view_module_version": "^1.3.3",
       "_view_name": "EdgeView",
       "classes": " directed ",
       "data": {
        "source": "-8767852684321957812",
        "target": "-7269518694555023247"
       },
       "pannable": true,
       "removed": false,
       "selectable": false,
       "selected": false
      }
     },
     "ddda2c9ebd2147f8a75d4620efcf52aa": {
      "model_module": "jupyter-cytoscape",
      "model_module_version": "^1.3.3",
      "model_name": "EdgeModel",
      "state": {
       "_model_module": "jupyter-cytoscape",
       "_model_module_version": "^1.3.3",
       "_model_name": "EdgeModel",
       "_view_count": null,
       "_view_module": "jupyter-cytoscape",
       "_view_module_version": "^1.3.3",
       "_view_name": "EdgeView",
       "classes": " directed ",
       "data": {
        "source": "-1881083558898401690",
        "target": "-6938889150115154788"
       },
       "pannable": true,
       "removed": false,
       "selectable": false,
       "selected": false
      }
     },
     "dde0911460fc4067b364128acb289755": {
      "model_module": "jupyter-cytoscape",
      "model_module_version": "^1.3.3",
      "model_name": "NodeModel",
      "state": {
       "_model_module": "jupyter-cytoscape",
       "_model_module_version": "^1.3.3",
       "_model_name": "NodeModel",
       "_view_count": null,
       "_view_module": "jupyter-cytoscape",
       "_view_module_version": "^1.3.3",
       "_view_name": "NodeView",
       "classes": "",
       "data": {
        "color": "gray",
        "id": "3232215852163297652",
        "label": "8",
        "shape": "rectangle"
       },
       "grabbable": true,
       "grabbed": false,
       "locked": false,
       "pannable": false,
       "position": {},
       "removed": false,
       "selectable": false,
       "selected": false
      }
     },
     "deedf89cc9464ca7b9a0dbf0ae33584d": {
      "model_module": "jupyter-cytoscape",
      "model_module_version": "^1.3.3",
      "model_name": "EdgeModel",
      "state": {
       "_model_module": "jupyter-cytoscape",
       "_model_module_version": "^1.3.3",
       "_model_name": "EdgeModel",
       "_view_count": null,
       "_view_module": "jupyter-cytoscape",
       "_view_module_version": "^1.3.3",
       "_view_name": "EdgeView",
       "classes": " directed ",
       "data": {
        "source": "-8153231103120744160",
        "target": "-5860272708270716783"
       },
       "pannable": true,
       "removed": false,
       "selectable": false,
       "selected": false
      }
     },
     "defe3000ad4d404e868225e31af20dd8": {
      "model_module": "jupyter-cytoscape",
      "model_module_version": "^1.3.3",
      "model_name": "NodeModel",
      "state": {
       "_model_module": "jupyter-cytoscape",
       "_model_module_version": "^1.3.3",
       "_model_name": "NodeModel",
       "_view_count": null,
       "_view_module": "jupyter-cytoscape",
       "_view_module_version": "^1.3.3",
       "_view_name": "NodeView",
       "classes": "",
       "data": {
        "color": "gray",
        "id": "69607321029797140",
        "label": "moment_agg-aggregate",
        "shape": "ellipse"
       },
       "grabbable": true,
       "grabbed": false,
       "locked": false,
       "pannable": false,
       "position": {},
       "removed": false,
       "selectable": false,
       "selected": false
      }
     },
     "df01457cabc9461ea9ca69e6dd4430c3": {
      "model_module": "jupyter-cytoscape",
      "model_module_version": "^1.3.3",
      "model_name": "NodeModel",
      "state": {
       "_model_module": "jupyter-cytoscape",
       "_model_module_version": "^1.3.3",
       "_model_name": "NodeModel",
       "_view_count": null,
       "_view_module": "jupyter-cytoscape",
       "_view_module_version": "^1.3.3",
       "_view_name": "NodeView",
       "classes": "",
       "data": {
        "color": "gray",
        "id": "4709838703594998954",
        "label": "moment_chunk",
        "shape": "ellipse"
       },
       "grabbable": true,
       "grabbed": false,
       "locked": false,
       "pannable": false,
       "position": {},
       "removed": false,
       "selectable": false,
       "selected": false
      }
     },
     "df0154fbe0f9483d87652c208345e391": {
      "model_module": "jupyter-cytoscape",
      "model_module_version": "^1.3.3",
      "model_name": "NodeModel",
      "state": {
       "_model_module": "jupyter-cytoscape",
       "_model_module_version": "^1.3.3",
       "_model_name": "NodeModel",
       "_view_count": null,
       "_view_module": "jupyter-cytoscape",
       "_view_module_version": "^1.3.3",
       "_view_name": "NodeView",
       "classes": "",
       "data": {
        "color": "gray",
        "id": "-1561367937891045004",
        "label": "series-count-chunk",
        "shape": "ellipse"
       },
       "grabbable": true,
       "grabbed": false,
       "locked": false,
       "pannable": false,
       "position": {},
       "removed": false,
       "selectable": false,
       "selected": false
      }
     },
     "e078c29920454d3aa9ffdc195452016b": {
      "model_module": "jupyter-cytoscape",
      "model_module_version": "^1.3.3",
      "model_name": "EdgeModel",
      "state": {
       "_model_module": "jupyter-cytoscape",
       "_model_module_version": "^1.3.3",
       "_model_name": "EdgeModel",
       "_view_count": null,
       "_view_module": "jupyter-cytoscape",
       "_view_module_version": "^1.3.3",
       "_view_name": "EdgeView",
       "classes": " directed ",
       "data": {
        "source": "5478514520401625393",
        "target": "3764722074471287502"
       },
       "pannable": true,
       "removed": false,
       "selectable": false,
       "selected": false
      }
     },
     "e10608fa4d4c4e8cbffb51a1e3b905e3": {
      "model_module": "jupyter-cytoscape",
      "model_module_version": "^1.3.3",
      "model_name": "EdgeModel",
      "state": {
       "_model_module": "jupyter-cytoscape",
       "_model_module_version": "^1.3.3",
       "_model_name": "EdgeModel",
       "_view_count": null,
       "_view_module": "jupyter-cytoscape",
       "_view_module_version": "^1.3.3",
       "_view_name": "EdgeView",
       "classes": " directed ",
       "data": {
        "source": "8064324662258291745",
        "target": "6409815297040754229"
       },
       "pannable": true,
       "removed": false,
       "selectable": false,
       "selected": false
      }
     },
     "e1ee24c8e54049b8abc92c8e1b6dfbe5": {
      "model_module": "jupyter-cytoscape",
      "model_module_version": "^1.3.3",
      "model_name": "NodeModel",
      "state": {
       "_model_module": "jupyter-cytoscape",
       "_model_module_version": "^1.3.3",
       "_model_name": "NodeModel",
       "_view_count": null,
       "_view_module": "jupyter-cytoscape",
       "_view_module_version": "^1.3.3",
       "_view_name": "NodeView",
       "classes": "",
       "data": {
        "color": "gray",
        "id": "387459977430529310",
        "label": "8",
        "shape": "rectangle"
       },
       "grabbable": true,
       "grabbed": false,
       "locked": false,
       "pannable": false,
       "position": {},
       "removed": false,
       "selectable": false,
       "selected": false
      }
     },
     "e1f4278a0f5b43859d3b1c5358c496b6": {
      "model_module": "jupyter-cytoscape",
      "model_module_version": "^1.3.3",
      "model_name": "EdgeModel",
      "state": {
       "_model_module": "jupyter-cytoscape",
       "_model_module_version": "^1.3.3",
       "_model_name": "EdgeModel",
       "_view_count": null,
       "_view_module": "jupyter-cytoscape",
       "_view_module_version": "^1.3.3",
       "_view_name": "EdgeView",
       "classes": " directed ",
       "data": {
        "source": "2176970040795204722",
        "target": "1443086363873903966"
       },
       "pannable": true,
       "removed": false,
       "selectable": false,
       "selected": false
      }
     },
     "e22706379a124b9a89fc165baa2ebe3b": {
      "model_module": "jupyter-cytoscape",
      "model_module_version": "^1.3.3",
      "model_name": "EdgeModel",
      "state": {
       "_model_module": "jupyter-cytoscape",
       "_model_module_version": "^1.3.3",
       "_model_name": "EdgeModel",
       "_view_count": null,
       "_view_module": "jupyter-cytoscape",
       "_view_module_version": "^1.3.3",
       "_view_name": "EdgeView",
       "classes": " directed ",
       "data": {
        "source": "-7540869681980464198",
        "target": "-6538664375991442101"
       },
       "pannable": true,
       "removed": false,
       "selectable": false,
       "selected": false
      }
     },
     "e32f50104a8941d2b98bbafc4f2eb46b": {
      "model_module": "jupyter-cytoscape",
      "model_module_version": "^1.3.3",
      "model_name": "EdgeModel",
      "state": {
       "_model_module": "jupyter-cytoscape",
       "_model_module_version": "^1.3.3",
       "_model_name": "EdgeModel",
       "_view_count": null,
       "_view_module": "jupyter-cytoscape",
       "_view_module_version": "^1.3.3",
       "_view_name": "EdgeView",
       "classes": " directed ",
       "data": {
        "source": "-8773068195316184958",
        "target": "140097693025390978"
       },
       "pannable": true,
       "removed": false,
       "selectable": false,
       "selected": false
      }
     },
     "e3c304e1249041d2925f940e53c69cfc": {
      "model_module": "jupyter-cytoscape",
      "model_module_version": "^1.3.3",
      "model_name": "EdgeModel",
      "state": {
       "_model_module": "jupyter-cytoscape",
       "_model_module_version": "^1.3.3",
       "_model_name": "EdgeModel",
       "_view_count": null,
       "_view_module": "jupyter-cytoscape",
       "_view_module_version": "^1.3.3",
       "_view_name": "EdgeView",
       "classes": " directed ",
       "data": {
        "source": "6152432435034735939",
        "target": "1807335509999612026"
       },
       "pannable": true,
       "removed": false,
       "selectable": false,
       "selected": false
      }
     },
     "e443329f1881423bbfcb88090f4e324b": {
      "model_module": "jupyter-cytoscape",
      "model_module_version": "^1.3.3",
      "model_name": "NodeModel",
      "state": {
       "_model_module": "jupyter-cytoscape",
       "_model_module_version": "^1.3.3",
       "_model_name": "NodeModel",
       "_view_count": null,
       "_view_module": "jupyter-cytoscape",
       "_view_module_version": "^1.3.3",
       "_view_name": "NodeView",
       "classes": "",
       "data": {
        "color": "gray",
        "id": "4715882026643941570",
        "label": "getitem",
        "shape": "ellipse"
       },
       "grabbable": true,
       "grabbed": false,
       "locked": false,
       "pannable": false,
       "position": {},
       "removed": false,
       "selectable": false,
       "selected": false
      }
     },
     "e55498e469084cae9cee3fb74713632a": {
      "model_module": "jupyter-cytoscape",
      "model_module_version": "^1.3.3",
      "model_name": "EdgeModel",
      "state": {
       "_model_module": "jupyter-cytoscape",
       "_model_module_version": "^1.3.3",
       "_model_name": "EdgeModel",
       "_view_count": null,
       "_view_module": "jupyter-cytoscape",
       "_view_module_version": "^1.3.3",
       "_view_name": "EdgeView",
       "classes": " directed ",
       "data": {
        "source": "-1178993029842718424",
        "target": "69607321029797140"
       },
       "pannable": true,
       "removed": false,
       "selectable": false,
       "selected": false
      }
     },
     "e682cc5fc6604af98e167b5dcd347d59": {
      "model_module": "jupyter-cytoscape",
      "model_module_version": "^1.3.3",
      "model_name": "NodeModel",
      "state": {
       "_model_module": "jupyter-cytoscape",
       "_model_module_version": "^1.3.3",
       "_model_name": "NodeModel",
       "_view_count": null,
       "_view_module": "jupyter-cytoscape",
       "_view_module_version": "^1.3.3",
       "_view_name": "NodeView",
       "classes": "",
       "data": {
        "color": "gray",
        "id": "361932498741382297",
        "label": "getitem",
        "shape": "ellipse"
       },
       "grabbable": true,
       "grabbed": false,
       "locked": false,
       "pannable": false,
       "position": {},
       "removed": false,
       "selectable": false,
       "selected": false
      }
     },
     "e68952243cd345de88e9da5c3c7b922f": {
      "model_module": "jupyter-cytoscape",
      "model_module_version": "^1.3.3",
      "model_name": "NodeModel",
      "state": {
       "_model_module": "jupyter-cytoscape",
       "_model_module_version": "^1.3.3",
       "_model_name": "NodeModel",
       "_view_count": null,
       "_view_module": "jupyter-cytoscape",
       "_view_module_version": "^1.3.3",
       "_view_name": "NodeView",
       "classes": "",
       "data": {
        "color": "gray",
        "id": "2176970040795204722",
        "label": "series-std",
        "shape": "ellipse"
       },
       "grabbable": true,
       "grabbed": false,
       "locked": false,
       "pannable": false,
       "position": {},
       "removed": false,
       "selectable": false,
       "selected": false
      }
     },
     "e6e1acb69d394481b9fb9fff9184d970": {
      "model_module": "jupyter-cytoscape",
      "model_module_version": "^1.3.3",
      "model_name": "NodeModel",
      "state": {
       "_model_module": "jupyter-cytoscape",
       "_model_module_version": "^1.3.3",
       "_model_name": "NodeModel",
       "_view_count": null,
       "_view_module": "jupyter-cytoscape",
       "_view_module_version": "^1.3.3",
       "_view_name": "NodeView",
       "classes": "",
       "data": {
        "color": "gray",
        "id": "2671302283885776569",
        "label": "1",
        "shape": "rectangle"
       },
       "grabbable": true,
       "grabbed": false,
       "locked": false,
       "pannable": false,
       "position": {},
       "removed": false,
       "selectable": false,
       "selected": false
      }
     },
     "e714bba1940044a29787a0939862d22e": {
      "model_module": "jupyter-cytoscape",
      "model_module_version": "^1.3.3",
      "model_name": "NodeModel",
      "state": {
       "_model_module": "jupyter-cytoscape",
       "_model_module_version": "^1.3.3",
       "_model_name": "NodeModel",
       "_view_count": null,
       "_view_module": "jupyter-cytoscape",
       "_view_module_version": "^1.3.3",
       "_view_name": "NodeView",
       "classes": "",
       "data": {
        "color": "gray",
        "id": "-5860272708270716783",
        "label": "values",
        "shape": "ellipse"
       },
       "grabbable": true,
       "grabbed": false,
       "locked": false,
       "pannable": false,
       "position": {},
       "removed": false,
       "selectable": false,
       "selected": false
      }
     },
     "e725cec6a23b4732bfb59db671428768": {
      "model_module": "@jupyter-widgets/base",
      "model_module_version": "2.0.0",
      "model_name": "LayoutModel",
      "state": {
       "_model_module": "@jupyter-widgets/base",
       "_model_module_version": "2.0.0",
       "_model_name": "LayoutModel",
       "_view_count": null,
       "_view_module": "@jupyter-widgets/base",
       "_view_module_version": "2.0.0",
       "_view_name": "LayoutView",
       "align_content": null,
       "align_items": null,
       "align_self": null,
       "border_bottom": null,
       "border_left": null,
       "border_right": null,
       "border_top": null,
       "bottom": null,
       "display": null,
       "flex": null,
       "flex_flow": null,
       "grid_area": null,
       "grid_auto_columns": null,
       "grid_auto_flow": null,
       "grid_auto_rows": null,
       "grid_column": null,
       "grid_gap": null,
       "grid_row": null,
       "grid_template_areas": null,
       "grid_template_columns": null,
       "grid_template_rows": null,
       "height": "400px",
       "justify_content": null,
       "justify_items": null,
       "left": null,
       "margin": null,
       "max_height": null,
       "max_width": null,
       "min_height": null,
       "min_width": null,
       "object_fit": null,
       "object_position": null,
       "order": null,
       "overflow": null,
       "padding": null,
       "right": null,
       "top": null,
       "visibility": null,
       "width": null
      }
     },
     "e744a5cdc4c44ee7bcb5f2cf6b8e0b61": {
      "model_module": "jupyter-cytoscape",
      "model_module_version": "^1.3.3",
      "model_name": "EdgeModel",
      "state": {
       "_model_module": "jupyter-cytoscape",
       "_model_module_version": "^1.3.3",
       "_model_name": "EdgeModel",
       "_view_count": null,
       "_view_module": "jupyter-cytoscape",
       "_view_module_version": "^1.3.3",
       "_view_name": "EdgeView",
       "classes": " directed ",
       "data": {
        "source": "897287099545536358",
        "target": "-8153231103120744160"
       },
       "pannable": true,
       "removed": false,
       "selectable": false,
       "selected": false
      }
     },
     "e76faa8d781e4ad29e4bdbbbe4f0738a": {
      "model_module": "jupyter-cytoscape",
      "model_module_version": "^1.3.3",
      "model_name": "NodeModel",
      "state": {
       "_model_module": "jupyter-cytoscape",
       "_model_module_version": "^1.3.3",
       "_model_name": "NodeModel",
       "_view_count": null,
       "_view_module": "jupyter-cytoscape",
       "_view_module_version": "^1.3.3",
       "_view_name": "NodeView",
       "classes": "",
       "data": {
        "color": "gray",
        "id": "-7269518694555023247",
        "label": "getitem",
        "shape": "ellipse"
       },
       "grabbable": true,
       "grabbed": false,
       "locked": false,
       "pannable": false,
       "position": {},
       "removed": false,
       "selectable": false,
       "selected": false
      }
     },
     "e78111971a0b4b59803d566a4016088e": {
      "model_module": "jupyter-cytoscape",
      "model_module_version": "^1.3.3",
      "model_name": "EdgeModel",
      "state": {
       "_model_module": "jupyter-cytoscape",
       "_model_module_version": "^1.3.3",
       "_model_name": "EdgeModel",
       "_view_count": null,
       "_view_module": "jupyter-cytoscape",
       "_view_module_version": "^1.3.3",
       "_view_name": "EdgeView",
       "classes": " directed ",
       "data": {
        "source": "5605688391892181187",
        "target": "-2827228872243540489"
       },
       "pannable": true,
       "removed": false,
       "selectable": false,
       "selected": false
      }
     },
     "e7d31de0ae8f4528bf121dbf546092d3": {
      "model_module": "jupyter-cytoscape",
      "model_module_version": "^1.3.3",
      "model_name": "NodeModel",
      "state": {
       "_model_module": "jupyter-cytoscape",
       "_model_module_version": "^1.3.3",
       "_model_name": "NodeModel",
       "_view_count": null,
       "_view_module": "jupyter-cytoscape",
       "_view_module_version": "^1.3.3",
       "_view_name": "NodeView",
       "classes": "",
       "data": {
        "color": "gray",
        "id": "-9222992638159834460",
        "label": "read-csv",
        "shape": "ellipse"
       },
       "grabbable": true,
       "grabbed": false,
       "locked": false,
       "pannable": false,
       "position": {},
       "removed": false,
       "selectable": false,
       "selected": false
      }
     },
     "e82a2f7956a2457d991bf114122101f6": {
      "model_module": "jupyter-cytoscape",
      "model_module_version": "^1.3.3",
      "model_name": "EdgeModel",
      "state": {
       "_model_module": "jupyter-cytoscape",
       "_model_module_version": "^1.3.3",
       "_model_name": "EdgeModel",
       "_view_count": null,
       "_view_module": "jupyter-cytoscape",
       "_view_module_version": "^1.3.3",
       "_view_name": "EdgeView",
       "classes": " directed ",
       "data": {
        "source": "6785899678528995005",
        "target": "-6565448973417248672"
       },
       "pannable": true,
       "removed": false,
       "selectable": false,
       "selected": false
      }
     },
     "e8576ada5f5b4590bc7f9ba9c02b4f28": {
      "model_module": "jupyter-cytoscape",
      "model_module_version": "^1.3.3",
      "model_name": "EdgeModel",
      "state": {
       "_model_module": "jupyter-cytoscape",
       "_model_module_version": "^1.3.3",
       "_model_name": "EdgeModel",
       "_view_count": null,
       "_view_module": "jupyter-cytoscape",
       "_view_module_version": "^1.3.3",
       "_view_name": "EdgeView",
       "classes": " directed ",
       "data": {
        "source": "5953166662477914182",
        "target": "-4989332580531334731"
       },
       "pannable": true,
       "removed": false,
       "selectable": false,
       "selected": false
      }
     },
     "ea5faa807dca41e3b7de2ed492f1d688": {
      "model_module": "jupyter-cytoscape",
      "model_module_version": "^1.3.3",
      "model_name": "EdgeModel",
      "state": {
       "_model_module": "jupyter-cytoscape",
       "_model_module_version": "^1.3.3",
       "_model_name": "EdgeModel",
       "_view_count": null,
       "_view_module": "jupyter-cytoscape",
       "_view_module_version": "^1.3.3",
       "_view_name": "EdgeView",
       "classes": " directed ",
       "data": {
        "source": "-8966133612522987057",
        "target": "7344211465650382778"
       },
       "pannable": true,
       "removed": false,
       "selectable": false,
       "selected": false
      }
     },
     "eab168f9e65b41d491803709fb8b09a2": {
      "model_module": "jupyter-cytoscape",
      "model_module_version": "^1.3.3",
      "model_name": "NodeModel",
      "state": {
       "_model_module": "jupyter-cytoscape",
       "_model_module_version": "^1.3.3",
       "_model_name": "NodeModel",
       "_view_count": null,
       "_view_module": "jupyter-cytoscape",
       "_view_module_version": "^1.3.3",
       "_view_name": "NodeView",
       "classes": "",
       "data": {
        "color": "gray",
        "id": "3714080999129977942",
        "label": "1",
        "shape": "rectangle"
       },
       "grabbable": true,
       "grabbed": false,
       "locked": false,
       "pannable": false,
       "position": {},
       "removed": false,
       "selectable": false,
       "selected": false
      }
     },
     "eaf0e4a92e344836ab897b45deb20e4f": {
      "model_module": "jupyter-cytoscape",
      "model_module_version": "^1.3.3",
      "model_name": "EdgeModel",
      "state": {
       "_model_module": "jupyter-cytoscape",
       "_model_module_version": "^1.3.3",
       "_model_name": "EdgeModel",
       "_view_count": null,
       "_view_module": "jupyter-cytoscape",
       "_view_module_version": "^1.3.3",
       "_view_name": "EdgeView",
       "classes": " directed ",
       "data": {
        "source": "-3162838286117002026",
        "target": "1754664420154693037"
       },
       "pannable": true,
       "removed": false,
       "selectable": false,
       "selected": false
      }
     },
     "eb10ef26315144e0b055f706731a9987": {
      "model_module": "jupyter-cytoscape",
      "model_module_version": "^1.3.3",
      "model_name": "EdgeModel",
      "state": {
       "_model_module": "jupyter-cytoscape",
       "_model_module_version": "^1.3.3",
       "_model_name": "EdgeModel",
       "_view_count": null,
       "_view_module": "jupyter-cytoscape",
       "_view_module_version": "^1.3.3",
       "_view_name": "EdgeView",
       "classes": " directed ",
       "data": {
        "source": "-2040265680436002067",
        "target": "6152432435034735939"
       },
       "pannable": true,
       "removed": false,
       "selectable": false,
       "selected": false
      }
     },
     "eb45e6b68e714748b66b279234b2eaf4": {
      "model_module": "jupyter-cytoscape",
      "model_module_version": "^1.3.3",
      "model_name": "NodeModel",
      "state": {
       "_model_module": "jupyter-cytoscape",
       "_model_module_version": "^1.3.3",
       "_model_name": "NodeModel",
       "_view_count": null,
       "_view_module": "jupyter-cytoscape",
       "_view_module_version": "^1.3.3",
       "_view_name": "NodeView",
       "classes": "",
       "data": {
        "color": "gray",
        "id": "2080917607033796864",
        "label": "inv",
        "shape": "ellipse"
       },
       "grabbable": true,
       "grabbed": false,
       "locked": false,
       "pannable": false,
       "position": {},
       "removed": false,
       "selectable": false,
       "selected": false
      }
     },
     "ecf30cf355dd4987910bad5d466e654d": {
      "model_module": "jupyter-cytoscape",
      "model_module_version": "^1.3.3",
      "model_name": "EdgeModel",
      "state": {
       "_model_module": "jupyter-cytoscape",
       "_model_module_version": "^1.3.3",
       "_model_name": "EdgeModel",
       "_view_count": null,
       "_view_module": "jupyter-cytoscape",
       "_view_module_version": "^1.3.3",
       "_view_name": "EdgeView",
       "classes": " directed ",
       "data": {
        "source": "-6538664375991442101",
        "target": "5953166662477914182"
       },
       "pannable": true,
       "removed": false,
       "selectable": false,
       "selected": false
      }
     },
     "ed7b59bd15cb4e5fbfdc17af9b87371a": {
      "model_module": "jupyter-cytoscape",
      "model_module_version": "^1.3.3",
      "model_name": "EdgeModel",
      "state": {
       "_model_module": "jupyter-cytoscape",
       "_model_module_version": "^1.3.3",
       "_model_name": "EdgeModel",
       "_view_count": null,
       "_view_module": "jupyter-cytoscape",
       "_view_module_version": "^1.3.3",
       "_view_name": "EdgeView",
       "classes": " directed ",
       "data": {
        "source": "2080917607033796864",
        "target": "5478514520401625393"
       },
       "pannable": true,
       "removed": false,
       "selectable": false,
       "selected": false
      }
     },
     "ee6e57306cc9490aaeafe68a52ac9de5": {
      "model_module": "jupyter-cytoscape",
      "model_module_version": "^1.3.3",
      "model_name": "NodeModel",
      "state": {
       "_model_module": "jupyter-cytoscape",
       "_model_module_version": "^1.3.3",
       "_model_name": "NodeModel",
       "_view_count": null,
       "_view_module": "jupyter-cytoscape",
       "_view_module_version": "^1.3.3",
       "_view_name": "NodeView",
       "classes": "",
       "data": {
        "color": "gray",
        "id": "7940737705099371213",
        "label": "getitem",
        "shape": "ellipse"
       },
       "grabbable": true,
       "grabbed": false,
       "locked": false,
       "pannable": false,
       "position": {},
       "removed": false,
       "selectable": false,
       "selected": false
      }
     },
     "f02a3ad4f5454a1c9108e71a3de36c71": {
      "model_module": "jupyter-cytoscape",
      "model_module_version": "^1.3.3",
      "model_name": "NodeModel",
      "state": {
       "_model_module": "jupyter-cytoscape",
       "_model_module_version": "^1.3.3",
       "_model_name": "NodeModel",
       "_view_count": null,
       "_view_module": "jupyter-cytoscape",
       "_view_module_version": "^1.3.3",
       "_view_name": "NodeView",
       "classes": "",
       "data": {
        "color": "gray",
        "id": "-6538664375991442101",
        "label": "8",
        "shape": "rectangle"
       },
       "grabbable": true,
       "grabbed": false,
       "locked": false,
       "pannable": false,
       "position": {},
       "removed": false,
       "selectable": false,
       "selected": false
      }
     },
     "f0398eb095364da7a1f753c47f3f77e8": {
      "model_module": "jupyter-cytoscape",
      "model_module_version": "^1.3.3",
      "model_name": "NodeModel",
      "state": {
       "_model_module": "jupyter-cytoscape",
       "_model_module_version": "^1.3.3",
       "_model_name": "NodeModel",
       "_view_count": null,
       "_view_module": "jupyter-cytoscape",
       "_view_module_version": "^1.3.3",
       "_view_name": "NodeView",
       "classes": "",
       "data": {
        "color": "gray",
        "id": "-3888857000045042515",
        "label": "series-sum-chunk",
        "shape": "ellipse"
       },
       "grabbable": true,
       "grabbed": false,
       "locked": false,
       "pannable": false,
       "position": {},
       "removed": false,
       "selectable": false,
       "selected": false
      }
     },
     "f0504527cf584ee9be9fa36af9befa68": {
      "model_module": "jupyter-cytoscape",
      "model_module_version": "^1.3.3",
      "model_name": "EdgeModel",
      "state": {
       "_model_module": "jupyter-cytoscape",
       "_model_module_version": "^1.3.3",
       "_model_name": "EdgeModel",
       "_view_count": null,
       "_view_module": "jupyter-cytoscape",
       "_view_module_version": "^1.3.3",
       "_view_name": "EdgeView",
       "classes": " directed ",
       "data": {
        "source": "3773457617987778287",
        "target": "-1701375571035795805"
       },
       "pannable": true,
       "removed": false,
       "selectable": false,
       "selected": false
      }
     },
     "f110812e944948f8a6e8d243a31ff92b": {
      "model_module": "jupyter-cytoscape",
      "model_module_version": "^1.3.3",
      "model_name": "EdgeModel",
      "state": {
       "_model_module": "jupyter-cytoscape",
       "_model_module_version": "^1.3.3",
       "_model_name": "EdgeModel",
       "_view_count": null,
       "_view_module": "jupyter-cytoscape",
       "_view_module_version": "^1.3.3",
       "_view_name": "EdgeView",
       "classes": " directed ",
       "data": {
        "source": "2596198066178205224",
        "target": "-2485608478839540116"
       },
       "pannable": true,
       "removed": false,
       "selectable": false,
       "selected": false
      }
     },
     "f1690400c12a4d0f8ffaf6f2db895ddf": {
      "model_module": "jupyter-cytoscape",
      "model_module_version": "^1.3.3",
      "model_name": "EdgeModel",
      "state": {
       "_model_module": "jupyter-cytoscape",
       "_model_module_version": "^1.3.3",
       "_model_name": "EdgeModel",
       "_view_count": null,
       "_view_module": "jupyter-cytoscape",
       "_view_module_version": "^1.3.3",
       "_view_name": "EdgeView",
       "classes": " directed ",
       "data": {
        "source": "5400438941616111090",
        "target": "1354898893105756375"
       },
       "pannable": true,
       "removed": false,
       "selectable": false,
       "selected": false
      }
     },
     "f1a15a183cb44d9ca14e5098d12f319d": {
      "model_module": "jupyter-cytoscape",
      "model_module_version": "^1.3.3",
      "model_name": "EdgeModel",
      "state": {
       "_model_module": "jupyter-cytoscape",
       "_model_module_version": "^1.3.3",
       "_model_name": "EdgeModel",
       "_view_count": null,
       "_view_module": "jupyter-cytoscape",
       "_view_module_version": "^1.3.3",
       "_view_name": "EdgeView",
       "classes": " directed ",
       "data": {
        "source": "387459977430529310",
        "target": "3764722074471287502"
       },
       "pannable": true,
       "removed": false,
       "selectable": false,
       "selected": false
      }
     },
     "f34de46f3cf34592bae4a0652ee74393": {
      "model_module": "jupyter-cytoscape",
      "model_module_version": "^1.3.3",
      "model_name": "NodeModel",
      "state": {
       "_model_module": "jupyter-cytoscape",
       "_model_module_version": "^1.3.3",
       "_model_name": "NodeModel",
       "_view_count": null,
       "_view_module": "jupyter-cytoscape",
       "_view_module_version": "^1.3.3",
       "_view_name": "NodeView",
       "classes": "",
       "data": {
        "color": "gray",
        "id": "-8773068195316184958",
        "label": "inv",
        "shape": "ellipse"
       },
       "grabbable": true,
       "grabbed": false,
       "locked": false,
       "pannable": false,
       "position": {},
       "removed": false,
       "selectable": false,
       "selected": false
      }
     },
     "f36fd6065dee4698bd89901b03160ddf": {
      "model_module": "jupyter-cytoscape",
      "model_module_version": "^1.3.3",
      "model_name": "EdgeModel",
      "state": {
       "_model_module": "jupyter-cytoscape",
       "_model_module_version": "^1.3.3",
       "_model_name": "EdgeModel",
       "_view_count": null,
       "_view_module": "jupyter-cytoscape",
       "_view_module_version": "^1.3.3",
       "_view_name": "EdgeView",
       "classes": " directed ",
       "data": {
        "source": "8118994665801982470",
        "target": "-8810457077455303002"
       },
       "pannable": true,
       "removed": false,
       "selectable": false,
       "selected": false
      }
     },
     "f3f21202a01d40c8b9ca6e9d4b3a486f": {
      "model_module": "jupyter-cytoscape",
      "model_module_version": "^1.3.3",
      "model_name": "EdgeModel",
      "state": {
       "_model_module": "jupyter-cytoscape",
       "_model_module_version": "^1.3.3",
       "_model_name": "EdgeModel",
       "_view_count": null,
       "_view_module": "jupyter-cytoscape",
       "_view_module_version": "^1.3.3",
       "_view_name": "EdgeView",
       "classes": " directed ",
       "data": {
        "source": "-552599466961336977",
        "target": "3876773746853932197"
       },
       "pannable": true,
       "removed": false,
       "selectable": false,
       "selected": false
      }
     },
     "f3ff9b43a69847109e6c61ff6967c290": {
      "model_module": "jupyter-cytoscape",
      "model_module_version": "^1.3.3",
      "model_name": "EdgeModel",
      "state": {
       "_model_module": "jupyter-cytoscape",
       "_model_module_version": "^1.3.3",
       "_model_name": "EdgeModel",
       "_view_count": null,
       "_view_module": "jupyter-cytoscape",
       "_view_module_version": "^1.3.3",
       "_view_name": "EdgeView",
       "classes": " directed ",
       "data": {
        "source": "-1561367937891045004",
        "target": "4467375075665996358"
       },
       "pannable": true,
       "removed": false,
       "selectable": false,
       "selected": false
      }
     },
     "f4c4482b92524221aade964014bdc432": {
      "model_module": "jupyter-cytoscape",
      "model_module_version": "^1.3.3",
      "model_name": "NodeModel",
      "state": {
       "_model_module": "jupyter-cytoscape",
       "_model_module_version": "^1.3.3",
       "_model_name": "NodeModel",
       "_view_count": null,
       "_view_module": "jupyter-cytoscape",
       "_view_module_version": "^1.3.3",
       "_view_name": "NodeView",
       "classes": "",
       "data": {
        "color": "gray",
        "id": "-319485179152153781",
        "label": "getitem",
        "shape": "ellipse"
       },
       "grabbable": true,
       "grabbed": false,
       "locked": false,
       "pannable": false,
       "position": {},
       "removed": false,
       "selectable": false,
       "selected": false
      }
     },
     "f4fbae9b36744db68fe80535fa68b11b": {
      "model_module": "jupyter-cytoscape",
      "model_module_version": "^1.3.3",
      "model_name": "NodeModel",
      "state": {
       "_model_module": "jupyter-cytoscape",
       "_model_module_version": "^1.3.3",
       "_model_name": "NodeModel",
       "_view_count": null,
       "_view_module": "jupyter-cytoscape",
       "_view_module_version": "^1.3.3",
       "_view_name": "NodeView",
       "classes": "",
       "data": {
        "color": "gray",
        "id": "-6767770366207860245",
        "label": "6",
        "shape": "rectangle"
       },
       "grabbable": true,
       "grabbed": false,
       "locked": false,
       "pannable": false,
       "position": {},
       "removed": false,
       "selectable": false,
       "selected": false
      }
     },
     "f51e28a93232408087e276b0a30c6b79": {
      "model_module": "jupyter-cytoscape",
      "model_module_version": "^1.3.3",
      "model_name": "NodeModel",
      "state": {
       "_model_module": "jupyter-cytoscape",
       "_model_module_version": "^1.3.3",
       "_model_name": "NodeModel",
       "_view_count": null,
       "_view_module": "jupyter-cytoscape",
       "_view_module_version": "^1.3.3",
       "_view_name": "NodeView",
       "classes": "",
       "data": {
        "color": "gray",
        "id": "4401439780889061662",
        "label": "4",
        "shape": "rectangle"
       },
       "grabbable": true,
       "grabbed": false,
       "locked": false,
       "pannable": false,
       "position": {},
       "removed": false,
       "selectable": false,
       "selected": false
      }
     },
     "f67d761de035469ca2f08562b3e42eca": {
      "model_module": "jupyter-cytoscape",
      "model_module_version": "^1.3.3",
      "model_name": "EdgeModel",
      "state": {
       "_model_module": "jupyter-cytoscape",
       "_model_module_version": "^1.3.3",
       "_model_name": "EdgeModel",
       "_view_count": null,
       "_view_module": "jupyter-cytoscape",
       "_view_module_version": "^1.3.3",
       "_view_name": "EdgeView",
       "classes": " directed ",
       "data": {
        "source": "-6367543063076607447",
        "target": "8212088692524812164"
       },
       "pannable": true,
       "removed": false,
       "selectable": false,
       "selected": false
      }
     },
     "f6b19d3097e0473683c94c33c21b2356": {
      "model_module": "jupyter-cytoscape",
      "model_module_version": "^1.3.3",
      "model_name": "EdgeModel",
      "state": {
       "_model_module": "jupyter-cytoscape",
       "_model_module_version": "^1.3.3",
       "_model_name": "EdgeModel",
       "_view_count": null,
       "_view_module": "jupyter-cytoscape",
       "_view_module_version": "^1.3.3",
       "_view_name": "EdgeView",
       "classes": " directed ",
       "data": {
        "source": "-4685542835066236729",
        "target": "-5764115780682934423"
       },
       "pannable": true,
       "removed": false,
       "selectable": false,
       "selected": false
      }
     },
     "f82d77bc36754842a80269f70ce8216e": {
      "model_module": "jupyter-cytoscape",
      "model_module_version": "^1.3.3",
      "model_name": "NodeModel",
      "state": {
       "_model_module": "jupyter-cytoscape",
       "_model_module_version": "^1.3.3",
       "_model_name": "NodeModel",
       "_view_count": null,
       "_view_module": "jupyter-cytoscape",
       "_view_module_version": "^1.3.3",
       "_view_name": "NodeView",
       "classes": "",
       "data": {
        "color": "gray",
        "id": "-4989332580531334731",
        "label": "8",
        "shape": "rectangle"
       },
       "grabbable": true,
       "grabbed": false,
       "locked": false,
       "pannable": false,
       "position": {},
       "removed": false,
       "selectable": false,
       "selected": false
      }
     },
     "f88109b40a574eacafab517b4364374a": {
      "model_module": "jupyter-cytoscape",
      "model_module_version": "^1.3.3",
      "model_name": "NodeModel",
      "state": {
       "_model_module": "jupyter-cytoscape",
       "_model_module_version": "^1.3.3",
       "_model_name": "NodeModel",
       "_view_count": null,
       "_view_module": "jupyter-cytoscape",
       "_view_module_version": "^1.3.3",
       "_view_name": "NodeView",
       "classes": "",
       "data": {
        "color": "gray",
        "id": "-2106200975212936763",
        "label": "3",
        "shape": "rectangle"
       },
       "grabbable": true,
       "grabbed": false,
       "locked": false,
       "pannable": false,
       "position": {},
       "removed": false,
       "selectable": false,
       "selected": false
      }
     },
     "f8de1db93faf4816808181997792ac4e": {
      "model_module": "jupyter-cytoscape",
      "model_module_version": "^1.3.3",
      "model_name": "NodeModel",
      "state": {
       "_model_module": "jupyter-cytoscape",
       "_model_module_version": "^1.3.3",
       "_model_name": "NodeModel",
       "_view_count": null,
       "_view_module": "jupyter-cytoscape",
       "_view_module_version": "^1.3.3",
       "_view_name": "NodeView",
       "classes": "",
       "data": {
        "color": "gray",
        "id": "-7378682507812236482",
        "label": "3",
        "shape": "rectangle"
       },
       "grabbable": true,
       "grabbed": false,
       "locked": false,
       "pannable": false,
       "position": {},
       "removed": false,
       "selectable": false,
       "selected": false
      }
     },
     "f917a9bf9e034fc2ac815aae2e648917": {
      "model_module": "jupyter-cytoscape",
      "model_module_version": "^1.3.3",
      "model_name": "NodeModel",
      "state": {
       "_model_module": "jupyter-cytoscape",
       "_model_module_version": "^1.3.3",
       "_model_name": "NodeModel",
       "_view_count": null,
       "_view_module": "jupyter-cytoscape",
       "_view_module_version": "^1.3.3",
       "_view_name": "NodeView",
       "classes": "",
       "data": {
        "color": "gray",
        "id": "-4594891851957170413",
        "label": "1",
        "shape": "rectangle"
       },
       "grabbable": true,
       "grabbed": false,
       "locked": false,
       "pannable": false,
       "position": {},
       "removed": false,
       "selectable": false,
       "selected": false
      }
     },
     "f9755f49dd214805b740e929d7830dbe": {
      "model_module": "jupyter-cytoscape",
      "model_module_version": "^1.3.3",
      "model_name": "EdgeModel",
      "state": {
       "_model_module": "jupyter-cytoscape",
       "_model_module_version": "^1.3.3",
       "_model_name": "EdgeModel",
       "_view_count": null,
       "_view_module": "jupyter-cytoscape",
       "_view_module_version": "^1.3.3",
       "_view_name": "EdgeView",
       "classes": " directed ",
       "data": {
        "source": "-5860272708270716783",
        "target": "-6603899307660636790"
       },
       "pannable": true,
       "removed": false,
       "selectable": false,
       "selected": false
      }
     },
     "fa2bb00e3eae49149cbef4475148e977": {
      "model_module": "jupyter-cytoscape",
      "model_module_version": "^1.3.3",
      "model_name": "NodeModel",
      "state": {
       "_model_module": "jupyter-cytoscape",
       "_model_module_version": "^1.3.3",
       "_model_name": "NodeModel",
       "_view_count": null,
       "_view_module": "jupyter-cytoscape",
       "_view_module_version": "^1.3.3",
       "_view_name": "NodeView",
       "classes": "",
       "data": {
        "color": "gray",
        "id": "-3383303677911213970",
        "label": "getitem",
        "shape": "ellipse"
       },
       "grabbable": true,
       "grabbed": false,
       "locked": false,
       "pannable": false,
       "position": {},
       "removed": false,
       "selectable": false,
       "selected": false
      }
     },
     "fae9884ab3594b5086093ac7cb85dd53": {
      "model_module": "jupyter-cytoscape",
      "model_module_version": "^1.3.3",
      "model_name": "NodeModel",
      "state": {
       "_model_module": "jupyter-cytoscape",
       "_model_module_version": "^1.3.3",
       "_model_name": "NodeModel",
       "_view_count": null,
       "_view_module": "jupyter-cytoscape",
       "_view_module_version": "^1.3.3",
       "_view_name": "NodeView",
       "classes": "",
       "data": {
        "color": "gray",
        "id": "7942650516638248692",
        "label": "9",
        "shape": "rectangle"
       },
       "grabbable": true,
       "grabbed": false,
       "locked": false,
       "pannable": false,
       "position": {},
       "removed": false,
       "selectable": false,
       "selected": false
      }
     },
     "fb12880dc59e48d591dfdc0b0d44b552": {
      "model_module": "jupyter-cytoscape",
      "model_module_version": "^1.3.3",
      "model_name": "NodeModel",
      "state": {
       "_model_module": "jupyter-cytoscape",
       "_model_module_version": "^1.3.3",
       "_model_name": "NodeModel",
       "_view_count": null,
       "_view_module": "jupyter-cytoscape",
       "_view_module_version": "^1.3.3",
       "_view_name": "NodeView",
       "classes": "",
       "data": {
        "color": "gray",
        "id": "-6367543063076607447",
        "label": "2",
        "shape": "rectangle"
       },
       "grabbable": true,
       "grabbed": false,
       "locked": false,
       "pannable": false,
       "position": {},
       "removed": false,
       "selectable": false,
       "selected": false
      }
     },
     "fbe3cbca6a2a492cb55334e3b5821102": {
      "model_module": "jupyter-cytoscape",
      "model_module_version": "^1.3.3",
      "model_name": "EdgeModel",
      "state": {
       "_model_module": "jupyter-cytoscape",
       "_model_module_version": "^1.3.3",
       "_model_name": "EdgeModel",
       "_view_count": null,
       "_view_module": "jupyter-cytoscape",
       "_view_module_version": "^1.3.3",
       "_view_name": "EdgeView",
       "classes": " directed ",
       "data": {
        "source": "-3383303677911213970",
        "target": "4955096143212573041"
       },
       "pannable": true,
       "removed": false,
       "selectable": false,
       "selected": false
      }
     },
     "fc28556222024f4ebdac8d8c46f0337d": {
      "model_module": "jupyter-cytoscape",
      "model_module_version": "^1.3.3",
      "model_name": "EdgeModel",
      "state": {
       "_model_module": "jupyter-cytoscape",
       "_model_module_version": "^1.3.3",
       "_model_name": "EdgeModel",
       "_view_count": null,
       "_view_module": "jupyter-cytoscape",
       "_view_module_version": "^1.3.3",
       "_view_name": "EdgeView",
       "classes": " directed ",
       "data": {
        "source": "3232215852163297652",
        "target": "2080917607033796864"
       },
       "pannable": true,
       "removed": false,
       "selectable": false,
       "selected": false
      }
     },
     "fcc850559b724cf9b97ce390e2ccc80c": {
      "model_module": "jupyter-cytoscape",
      "model_module_version": "^1.3.3",
      "model_name": "EdgeModel",
      "state": {
       "_model_module": "jupyter-cytoscape",
       "_model_module_version": "^1.3.3",
       "_model_name": "EdgeModel",
       "_view_count": null,
       "_view_module": "jupyter-cytoscape",
       "_view_module_version": "^1.3.3",
       "_view_name": "EdgeView",
       "classes": " directed ",
       "data": {
        "source": "5421473512099290016",
        "target": "387459977430529310"
       },
       "pannable": true,
       "removed": false,
       "selectable": false,
       "selected": false
      }
     },
     "fdb09c087f214fc3ad8f4f7650b33a4f": {
      "model_module": "jupyter-cytoscape",
      "model_module_version": "^1.3.3",
      "model_name": "NodeModel",
      "state": {
       "_model_module": "jupyter-cytoscape",
       "_model_module_version": "^1.3.3",
       "_model_name": "NodeModel",
       "_view_count": null,
       "_view_module": "jupyter-cytoscape",
       "_view_module_version": "^1.3.3",
       "_view_name": "NodeView",
       "classes": "",
       "data": {
        "color": "gray",
        "id": "7344211465650382778",
        "label": "0",
        "shape": "rectangle"
       },
       "grabbable": true,
       "grabbed": false,
       "locked": false,
       "pannable": false,
       "position": {},
       "removed": false,
       "selectable": false,
       "selected": false
      }
     },
     "fe7bde54f680491cbb812109beb1ad1f": {
      "model_module": "jupyter-cytoscape",
      "model_module_version": "^1.3.3",
      "model_name": "EdgeModel",
      "state": {
       "_model_module": "jupyter-cytoscape",
       "_model_module_version": "^1.3.3",
       "_model_name": "EdgeModel",
       "_view_count": null,
       "_view_module": "jupyter-cytoscape",
       "_view_module_version": "^1.3.3",
       "_view_name": "EdgeView",
       "classes": " directed ",
       "data": {
        "source": "4746631484787725750",
        "target": "4395144565555050114"
       },
       "pannable": true,
       "removed": false,
       "selectable": false,
       "selected": false
      }
     },
     "feaa209e406c43d1acf5ab5c66fd5dd5": {
      "model_module": "jupyter-cytoscape",
      "model_module_version": "^1.3.3",
      "model_name": "EdgeModel",
      "state": {
       "_model_module": "jupyter-cytoscape",
       "_model_module_version": "^1.3.3",
       "_model_name": "EdgeModel",
       "_view_count": null,
       "_view_module": "jupyter-cytoscape",
       "_view_module_version": "^1.3.3",
       "_view_name": "EdgeView",
       "classes": " directed ",
       "data": {
        "source": "711310910071224246",
        "target": "-5153203639078558186"
       },
       "pannable": true,
       "removed": false,
       "selectable": false,
       "selected": false
      }
     },
     "ff2bf941d0da4d0683e0f3480ad46a25": {
      "model_module": "jupyter-cytoscape",
      "model_module_version": "^1.3.3",
      "model_name": "NodeModel",
      "state": {
       "_model_module": "jupyter-cytoscape",
       "_model_module_version": "^1.3.3",
       "_model_name": "NodeModel",
       "_view_count": null,
       "_view_module": "jupyter-cytoscape",
       "_view_module_version": "^1.3.3",
       "_view_name": "NodeView",
       "classes": "",
       "data": {
        "color": "gray",
        "id": "-5761322068268675630",
        "label": "moment_combine-partial",
        "shape": "ellipse"
       },
       "grabbable": true,
       "grabbed": false,
       "locked": false,
       "pannable": false,
       "position": {},
       "removed": false,
       "selectable": false,
       "selected": false
      }
     },
     "fffc3215655143598fd4e46075d31115": {
      "model_module": "jupyter-cytoscape",
      "model_module_version": "^1.3.3",
      "model_name": "EdgeModel",
      "state": {
       "_model_module": "jupyter-cytoscape",
       "_model_module_version": "^1.3.3",
       "_model_name": "EdgeModel",
       "_view_count": null,
       "_view_module": "jupyter-cytoscape",
       "_view_module_version": "^1.3.3",
       "_view_name": "EdgeView",
       "classes": " directed ",
       "data": {
        "source": "-8877053739325490542",
        "target": "-6565448973417248672"
       },
       "pannable": true,
       "removed": false,
       "selectable": false,
       "selected": false
      }
     }
    },
    "version_major": 2,
    "version_minor": 0
   }
  }
 },
 "nbformat": 4,
 "nbformat_minor": 4
}
